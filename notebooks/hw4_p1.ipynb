{
 "cells": [
  {
   "cell_type": "markdown",
   "metadata": {},
   "source": [
    "# Homework 4 - Problem 1\n",
    "\n",
    "**Part A [20 points]** *Note this is not Collaborative Problem*\n",
    "\n",
    "Using the Gaussian kernel develop psuedo code to create a Parzen windowing system to\n",
    "accomplish the following steps:\n",
    "\n",
    "+ Develop the ability to read in data xn with n observations and D dimensions (number of features).\n",
    "+ Develop the ability to randomly remove 20% of the observations per class and assign the observations as test data with the remaining 80% of the observations as training data.\n",
    "+ Using the Gaussian kernel in Eq. 30 of the Machine Learning I document to develop an algorithm to process an input observations and compare it with the training observations.\n",
    "+ Expand the development to handle multiple classes.\n",
    "\n",
    "**Part B [10 points]** *Note this is not a Collaborative Problem*\n",
    "+ Calculate the running time of the system above in O-notation.\n",
    "+ Calculate the total running time of the above system as T(n) with each line of pseudocode or code accounted for.\n",
    "+ How does the total running time T(n) compare to the running time in O-notation?\n",
    "\n",
    "**Part C [20 points]** *Note this is not a Collaborative Problem*\n",
    "+ Using all observations and the petal length from the Iris data replicate the subfigures in Figure 1.\n",
    "+ Using all observations, the petal length and the petal width from the Iris data replicate the subfigures in Figure 2."
   ]
  },
  {
   "cell_type": "markdown",
   "metadata": {},
   "source": [
    "## Data Load"
   ]
  },
  {
   "cell_type": "markdown",
   "metadata": {},
   "source": [
    "In all operations in which I read in Iris data for this course, I have leveraged the `load(0)` function of my [`Reader`](https://github.com/choct155/en685_621/blob/master/algorithms/iris/Reader.py) class. The function just leverages the fact that scikit-learn already has the Iris dataset, so the load occurs in constant time. The remaining work simply involves splitting the data for downstream use.\n",
    "\n",
    "```python\n",
    "class IrisReader:\n",
    "\n",
    "    def __init__(self):\n",
    "        super().__init__()\n",
    "\n",
    "    def load(self):\n",
    "        iris_in: np.array = datasets.load_iris()\n",
    "        self.data = dict(\n",
    "            setosa = iris_in[\"data\"][:50],\n",
    "            versicolor = iris_in[\"data\"][50:100],\n",
    "            virginica = iris_in[\"data\"][100:]\n",
    "        )\n",
    "```\n",
    "\n",
    "In effect, this function consists of two constant time operations for our purposes, yielding a recurrence of $2T(1)$ and $O(1)$ asymptotics."
   ]
  },
  {
   "cell_type": "code",
   "execution_count": 8,
   "metadata": {},
   "outputs": [
    {
     "data": {
      "text/plain": [
       "{'setosa': array([[5.1, 3.5, 1.4, 0.2],\n",
       "        [4.9, 3. , 1.4, 0.2],\n",
       "        [4.7, 3.2, 1.3, 0.2],\n",
       "        [4.6, 3.1, 1.5, 0.2],\n",
       "        [5. , 3.6, 1.4, 0.2],\n",
       "        [5.4, 3.9, 1.7, 0.4],\n",
       "        [4.6, 3.4, 1.4, 0.3],\n",
       "        [5. , 3.4, 1.5, 0.2],\n",
       "        [4.4, 2.9, 1.4, 0.2],\n",
       "        [4.9, 3.1, 1.5, 0.1],\n",
       "        [5.4, 3.7, 1.5, 0.2],\n",
       "        [4.8, 3.4, 1.6, 0.2],\n",
       "        [4.8, 3. , 1.4, 0.1],\n",
       "        [4.3, 3. , 1.1, 0.1],\n",
       "        [5.8, 4. , 1.2, 0.2],\n",
       "        [5.7, 4.4, 1.5, 0.4],\n",
       "        [5.4, 3.9, 1.3, 0.4],\n",
       "        [5.1, 3.5, 1.4, 0.3],\n",
       "        [5.7, 3.8, 1.7, 0.3],\n",
       "        [5.1, 3.8, 1.5, 0.3],\n",
       "        [5.4, 3.4, 1.7, 0.2],\n",
       "        [5.1, 3.7, 1.5, 0.4],\n",
       "        [4.6, 3.6, 1. , 0.2],\n",
       "        [5.1, 3.3, 1.7, 0.5],\n",
       "        [4.8, 3.4, 1.9, 0.2],\n",
       "        [5. , 3. , 1.6, 0.2],\n",
       "        [5. , 3.4, 1.6, 0.4],\n",
       "        [5.2, 3.5, 1.5, 0.2],\n",
       "        [5.2, 3.4, 1.4, 0.2],\n",
       "        [4.7, 3.2, 1.6, 0.2],\n",
       "        [4.8, 3.1, 1.6, 0.2],\n",
       "        [5.4, 3.4, 1.5, 0.4],\n",
       "        [5.2, 4.1, 1.5, 0.1],\n",
       "        [5.5, 4.2, 1.4, 0.2],\n",
       "        [4.9, 3.1, 1.5, 0.2],\n",
       "        [5. , 3.2, 1.2, 0.2],\n",
       "        [5.5, 3.5, 1.3, 0.2],\n",
       "        [4.9, 3.6, 1.4, 0.1],\n",
       "        [4.4, 3. , 1.3, 0.2],\n",
       "        [5.1, 3.4, 1.5, 0.2],\n",
       "        [5. , 3.5, 1.3, 0.3],\n",
       "        [4.5, 2.3, 1.3, 0.3],\n",
       "        [4.4, 3.2, 1.3, 0.2],\n",
       "        [5. , 3.5, 1.6, 0.6],\n",
       "        [5.1, 3.8, 1.9, 0.4],\n",
       "        [4.8, 3. , 1.4, 0.3],\n",
       "        [5.1, 3.8, 1.6, 0.2],\n",
       "        [4.6, 3.2, 1.4, 0.2],\n",
       "        [5.3, 3.7, 1.5, 0.2],\n",
       "        [5. , 3.3, 1.4, 0.2]]), 'versicolor': array([[7. , 3.2, 4.7, 1.4],\n",
       "        [6.4, 3.2, 4.5, 1.5],\n",
       "        [6.9, 3.1, 4.9, 1.5],\n",
       "        [5.5, 2.3, 4. , 1.3],\n",
       "        [6.5, 2.8, 4.6, 1.5],\n",
       "        [5.7, 2.8, 4.5, 1.3],\n",
       "        [6.3, 3.3, 4.7, 1.6],\n",
       "        [4.9, 2.4, 3.3, 1. ],\n",
       "        [6.6, 2.9, 4.6, 1.3],\n",
       "        [5.2, 2.7, 3.9, 1.4],\n",
       "        [5. , 2. , 3.5, 1. ],\n",
       "        [5.9, 3. , 4.2, 1.5],\n",
       "        [6. , 2.2, 4. , 1. ],\n",
       "        [6.1, 2.9, 4.7, 1.4],\n",
       "        [5.6, 2.9, 3.6, 1.3],\n",
       "        [6.7, 3.1, 4.4, 1.4],\n",
       "        [5.6, 3. , 4.5, 1.5],\n",
       "        [5.8, 2.7, 4.1, 1. ],\n",
       "        [6.2, 2.2, 4.5, 1.5],\n",
       "        [5.6, 2.5, 3.9, 1.1],\n",
       "        [5.9, 3.2, 4.8, 1.8],\n",
       "        [6.1, 2.8, 4. , 1.3],\n",
       "        [6.3, 2.5, 4.9, 1.5],\n",
       "        [6.1, 2.8, 4.7, 1.2],\n",
       "        [6.4, 2.9, 4.3, 1.3],\n",
       "        [6.6, 3. , 4.4, 1.4],\n",
       "        [6.8, 2.8, 4.8, 1.4],\n",
       "        [6.7, 3. , 5. , 1.7],\n",
       "        [6. , 2.9, 4.5, 1.5],\n",
       "        [5.7, 2.6, 3.5, 1. ],\n",
       "        [5.5, 2.4, 3.8, 1.1],\n",
       "        [5.5, 2.4, 3.7, 1. ],\n",
       "        [5.8, 2.7, 3.9, 1.2],\n",
       "        [6. , 2.7, 5.1, 1.6],\n",
       "        [5.4, 3. , 4.5, 1.5],\n",
       "        [6. , 3.4, 4.5, 1.6],\n",
       "        [6.7, 3.1, 4.7, 1.5],\n",
       "        [6.3, 2.3, 4.4, 1.3],\n",
       "        [5.6, 3. , 4.1, 1.3],\n",
       "        [5.5, 2.5, 4. , 1.3],\n",
       "        [5.5, 2.6, 4.4, 1.2],\n",
       "        [6.1, 3. , 4.6, 1.4],\n",
       "        [5.8, 2.6, 4. , 1.2],\n",
       "        [5. , 2.3, 3.3, 1. ],\n",
       "        [5.6, 2.7, 4.2, 1.3],\n",
       "        [5.7, 3. , 4.2, 1.2],\n",
       "        [5.7, 2.9, 4.2, 1.3],\n",
       "        [6.2, 2.9, 4.3, 1.3],\n",
       "        [5.1, 2.5, 3. , 1.1],\n",
       "        [5.7, 2.8, 4.1, 1.3]]), 'virginica': array([[6.3, 3.3, 6. , 2.5],\n",
       "        [5.8, 2.7, 5.1, 1.9],\n",
       "        [7.1, 3. , 5.9, 2.1],\n",
       "        [6.3, 2.9, 5.6, 1.8],\n",
       "        [6.5, 3. , 5.8, 2.2],\n",
       "        [7.6, 3. , 6.6, 2.1],\n",
       "        [4.9, 2.5, 4.5, 1.7],\n",
       "        [7.3, 2.9, 6.3, 1.8],\n",
       "        [6.7, 2.5, 5.8, 1.8],\n",
       "        [7.2, 3.6, 6.1, 2.5],\n",
       "        [6.5, 3.2, 5.1, 2. ],\n",
       "        [6.4, 2.7, 5.3, 1.9],\n",
       "        [6.8, 3. , 5.5, 2.1],\n",
       "        [5.7, 2.5, 5. , 2. ],\n",
       "        [5.8, 2.8, 5.1, 2.4],\n",
       "        [6.4, 3.2, 5.3, 2.3],\n",
       "        [6.5, 3. , 5.5, 1.8],\n",
       "        [7.7, 3.8, 6.7, 2.2],\n",
       "        [7.7, 2.6, 6.9, 2.3],\n",
       "        [6. , 2.2, 5. , 1.5],\n",
       "        [6.9, 3.2, 5.7, 2.3],\n",
       "        [5.6, 2.8, 4.9, 2. ],\n",
       "        [7.7, 2.8, 6.7, 2. ],\n",
       "        [6.3, 2.7, 4.9, 1.8],\n",
       "        [6.7, 3.3, 5.7, 2.1],\n",
       "        [7.2, 3.2, 6. , 1.8],\n",
       "        [6.2, 2.8, 4.8, 1.8],\n",
       "        [6.1, 3. , 4.9, 1.8],\n",
       "        [6.4, 2.8, 5.6, 2.1],\n",
       "        [7.2, 3. , 5.8, 1.6],\n",
       "        [7.4, 2.8, 6.1, 1.9],\n",
       "        [7.9, 3.8, 6.4, 2. ],\n",
       "        [6.4, 2.8, 5.6, 2.2],\n",
       "        [6.3, 2.8, 5.1, 1.5],\n",
       "        [6.1, 2.6, 5.6, 1.4],\n",
       "        [7.7, 3. , 6.1, 2.3],\n",
       "        [6.3, 3.4, 5.6, 2.4],\n",
       "        [6.4, 3.1, 5.5, 1.8],\n",
       "        [6. , 3. , 4.8, 1.8],\n",
       "        [6.9, 3.1, 5.4, 2.1],\n",
       "        [6.7, 3.1, 5.6, 2.4],\n",
       "        [6.9, 3.1, 5.1, 2.3],\n",
       "        [5.8, 2.7, 5.1, 1.9],\n",
       "        [6.8, 3.2, 5.9, 2.3],\n",
       "        [6.7, 3.3, 5.7, 2.5],\n",
       "        [6.7, 3. , 5.2, 2.3],\n",
       "        [6.3, 2.5, 5. , 1.9],\n",
       "        [6.5, 3. , 5.2, 2. ],\n",
       "        [6.2, 3.4, 5.4, 2.3],\n",
       "        [5.9, 3. , 5.1, 1.8]])}"
      ]
     },
     "execution_count": 8,
     "metadata": {},
     "output_type": "execute_result"
    }
   ],
   "source": [
    "import sklearn as skl\n",
    "from algorithms.iris.Reader import IrisReader\n",
    "from algorithms.iris.IrisOps import IrisOps\n",
    "from algorithms.classifiers.neighbors import Parzen\n",
    "from typing import Dict, Tuple, Callable, List\n",
    "import numpy as np\n",
    "from functools import reduce\n",
    "import plotly.figure_factory as ff\n",
    "import plotly.graph_objects as go\n",
    "\n",
    "iris_reader: IrisReader = IrisReader()\n",
    "iris_reader.load()\n",
    "raw_data: Dict[str, np.array] = iris_reader.data\n",
    "\n",
    "raw_data"
   ]
  },
  {
   "cell_type": "markdown",
   "metadata": {},
   "source": [
    "## Split into Test (20%) - Train (80%)"
   ]
  },
  {
   "cell_type": "markdown",
   "metadata": {},
   "source": [
    "While **`scikit-learn`** does have it's own train-test-split function, the shape of my data after the load does not precisely play nice with it. For this reason, I have another `test_train_split()` function defined within my [`IrisOps`](https://github.com/choct155/en685_621/blob/master/algorithms/iris/IrisOps.py) class. It combines the output of `Reader.load()` across classes, randomly permutes the data, and then yields a tuple containing the train and test sets, respectively. It also labels the data with an index value corresponding to each class.\n",
    "\n",
    "```python\n",
    "def test_train_split(raw_data: Dict[str, np.array], labels: List[str], train_prop: float) -> Tuple[np.array, np.array]:\n",
    "    \n",
    "    def process_label_group(data: np.array, idx: int) -> np.array:\n",
    "        n: int = len(data)\n",
    "        lab_idx: np.array = np.repeat(idx, n).reshape(n, 1)\n",
    "        return np.concatenate([lab_idx, data], axis=1)\n",
    "\n",
    "    print(\"Label Mapping: \", list(enumerate(labels)))\n",
    "    data: np.array = np.concatenate(list(\n",
    "        map(lambda lab: process_label_group(raw_data[lab[1]], lab[0]), enumerate(labels))\n",
    "    ))\n",
    "    permuted: np.array = np.random.permutation(data)\n",
    "\n",
    "    train_n: int = int(len(permuted) * 0.8)\n",
    "    return (permuted[:train_n], permuted[train_n:])\n",
    "```\n",
    "\n",
    "Assigning a label (see the helper `process_label_group()`) involves an assignment ($T(1)$), the instantiation of an array (\\~ $T(n)$), and the columnwise concatenation of two equivalently long arrays (\\~$T(n)$). We can ignore the reshaping of the array, which is effectively a metadata exercise. The helper function has a total cost of $2T(n) + 1$ if $n$ denotes the size of the array that is labeled. \n",
    "\n",
    "However, we should note that the `process_label_group()` only operates on a third of the data at a time in the Iris case, but since it still must do all three, the recurrence should hold. Once all three species have been labeled, they must be concatenated. When I have written concatenation operations in the past, I tend to use a fold with the first array as the starting value and appending additional value with each subsequent recursive call. So, a recurrence of $T(\\frac{2n}{3})$ seems fitting here.\n",
    "\n",
    "The next step is a permutation which likely involves sampling (indices) without replacement and then a sort. Let us assume we can deplete a collection in linear time and assume a sort reminiscient of merge-sort ($2T(\\frac{n}{2}) + O(n)$) for a total run time of $2T(\\frac{n}{2}) + 2T(n)$. \n",
    "\n",
    "Since we are dealing with arrays (which we will assume aren't Lists, or Vectors, or something under the hood), we should have constant time indexing which I suspect supports constant time splits. So, our last operation, splitting the data into the test and train sets adds $T(1)$.\n",
    "\n",
    "Altogether, the helper function, concatenation, permutation, and split have th following cost:\n",
    "\n",
    "\\begin{align}\n",
    "    T(n) &= 2T(n) + 1 + T(\\frac{2n}{3}) + 2T(\\frac{n}{2}) + 2T(n) + 1 \\\\\n",
    "    &= 4T(n) + T(\\frac{2n}{3}) + 2T(\\frac{n}{2}) + 2\n",
    "\\end{align}\n",
    "\n",
    "Since none of these terms are interacting with each other in a nested loop, the asymptotic growth is capped at $O(n)$."
   ]
  },
  {
   "cell_type": "code",
   "execution_count": 9,
   "metadata": {},
   "outputs": [
    {
     "name": "stdout",
     "output_type": "stream",
     "text": [
      "Label Mapping:  [(0, 'setosa'), (1, 'versicolor'), (2, 'virginica')]\n",
      "[[1.  5.4 3.  4.5 1.5]\n",
      " [2.  6.2 2.8 4.8 1.8]\n",
      " [0.  5.1 3.8 1.6 0.2]\n",
      " [1.  6.2 2.9 4.3 1.3]\n",
      " [1.  5.  2.  3.5 1. ]]\n",
      "[[2.  6.4 3.1 5.5 1.8]\n",
      " [2.  7.9 3.8 6.4 2. ]\n",
      " [0.  5.  3.4 1.6 0.4]\n",
      " [0.  4.8 3.  1.4 0.3]\n",
      " [1.  6.1 3.  4.6 1.4]]\n"
     ]
    }
   ],
   "source": [
    "train, test = IrisOps.test_train_split(raw_data, [\"setosa\", \"versicolor\", \"virginica\"], train_prop = .8)\n",
    "\n",
    "print(train[:5])\n",
    "print(test[:5])"
   ]
  },
  {
   "cell_type": "markdown",
   "metadata": {},
   "source": [
    "##  Develop a Parzen Window Classifier with a Gaussian Kernel\n",
    "\n",
    "As opposed to a $k$-Nearest Neighbor (KNN) algorithm, which relies on fixed density for assignment, Parzen Window (PZ) classifiers rely on fixed volume. The most straightforward implementation leverages a fixed radius around each test observation and assigns the label that corresponds with the highest proportion of labels in the captured training observations. In this case, we will leverage a Gaussian kernel, which in effect provides a version of a likelihood for each label. The procedure will be as follows:\n",
    "\n",
    "1. Split the train data into groups by class.\n",
    "2. For each class of train observations:\n",
    "    + Compare the test observation to each train observation in the class, using the gaussian kernel.\n",
    "    + Sum over the output of comparisons within the class to determine the score.\n",
    "3. Assign the label of the class with the highest score for the test observation.\n",
    "\n",
    "The estimator used in this notebook is provided by the `Parzen` class in my [`neighbors`](https://github.com/choct155/en685_621/blob/master/algorithms/classifiers/neighbors.py) module. The heart of this approach is the kernel:\n",
    "\n",
    "```python\n",
    "def gaussian_kernel(obs: np.array, data: np.array, spread: float) -> np.array:\n",
    "    obs_rows, obs_cols = obs.shape\n",
    "    data_rows, data_cols = data.shape\n",
    "    out: np.array = np.zeros((obs_cols, data_rows))\n",
    "\n",
    "    def g(x_0: np.array, x_n: np.array) -> float:\n",
    "        normalization: float = 1 / ((np.sqrt(2*np.pi)*spread)**data_cols)\n",
    "        distance: float = (x_0-x_n).dot((x_0-x_n).T)\n",
    "        exponential: float = np.exp((-0.5/spread**2) * distance)\n",
    "        return normalization * exponential\n",
    "\n",
    "    for i, o in enumerate(obs):\n",
    "        for j, d in enumerate(data):\n",
    "            out[i, j] = g(o, d)\n",
    "\n",
    "    return out\n",
    "```\n",
    "\n",
    "While this implementation is generally deployed in a way that takes one observation and compares it to an entire array of training data, the function is capable of ingesting an array of test data as well. Assuming a test size of $m$ and a train size of $n$, the population of `out` will take $mn$ assignments. Assuming constant time for the assignments at the beginning of the function, the running time will be $T(mn) + 3$ with an asymptotic cost of $O(mn)$.\n",
    "\n",
    "The nice thing about this approach is that it already accommodates multiple classes, since we are just taking the maximum score. The following three functions leverage the kernel to execute labeling of test data:\n",
    "\n",
    "```python\n",
    "@staticmethod\n",
    "def score_class(test_obs: np.array, train: np.array, class_idx: int, spread: float) -> float:\n",
    "    tobs_2d: np.array = test_obs.reshape(1,-1)[:, 1:]\n",
    "    class_train: np.array = train[train[:, 0] == class_idx]\n",
    "    kernel_mat: np.array = Parzen.gaussian_kernel(tobs_2d, class_train[:, 1:], spread)\n",
    "    return kernel_mat.sum()\n",
    "```\n",
    "\n",
    "`score_class()` assigns a kernel-based score for a given observation to one of the classes in the train data. It involves a filter, which requires a scan of the train array $T(n)$ and then applies the kernel function on a single test observation and the filtered train array. Since we have constrained the inputs to the kernel, our cost is reduced to $T(1 \\cdot \\frac{n}{3}) + 3$. The total cost of `score_class()` is $T(n) + T(\\frac{n}{3}) + 3$.\n",
    "\n",
    "```python\n",
    "@staticmethod\n",
    "def label_obs(test_obs: np.array, train: np.array, spread: float) -> int:\n",
    "    labels: np.array = np.unique(train[:, 0])\n",
    "    scores: List[Tuple[int, np.array]] = list(map(\n",
    "        lambda class_idx: (class_idx, Parzen.score_class(test_obs, train, class_idx, spread)),\n",
    "        labels\n",
    "    ))\n",
    "    max_score: Tuple[int, np.array] = reduce(lambda f, s: f if f[1] >= s[1] else s, scores)\n",
    "    return max_score[0]\n",
    "```\n",
    "\n",
    "`label_ops()` identifies all class labels, which effectively means building a set from an array. I have previously developed a [`BinaryTree`](https://github.com/choct155/en685_621/blob/master/algorithms/data_structures/BinaryTree.py) data structure which I think I convinced myself could do insertion in $T(n\\text{log}n)$, so I'll lean on that here for the call to `np.unique()`. The method also scores all classes, so in the Iris case we should triple the cost of `score_class()` to get $3T(n) + 3T(\\frac{n}{3}) + 9$. Finally, the method returns the maximum score by way of reduction, which relies on $p-1$ comparisons given $p$ classes. The total running cost is $T(n\\text{log}n) + 3T(n) + 3T(\\frac{n}{3}) + 9 + T(p-1)$.\n",
    "\n",
    "```python\n",
    "def fit(self) -> np.array:\n",
    "    truth: np.array = self.test[:, 0].reshape(len(self.test), 1)\n",
    "    pred: np.array = np.array(list(\n",
    "        map(lambda obs: Parzen.label_obs(obs, self.train, self.spread), self.test)\n",
    "    )).reshape(len(self.test), 1)\n",
    "    return np.concatenate([truth, pred], axis=1)\n",
    "```\n",
    "\n",
    "`fit()` is where the real cost shows up, insofar as it calls `label_obs()` on all $m$ observations in the test data. Consequently, all costs in `label_ops()` are scaled by $m$: $T(mn\\text{log}n) + 3T(mn) + 3T(m\\frac{n}{3}) + T(m(p-1)) + 9T(m)$. **The total asymptotic cost associated with this recurrence is $O(mn\\text{log}n)$.**\n",
    "\n",
    "The total running time $T(n)$ is larger than the asymptotic running time $O(n)$."
   ]
  },
  {
   "cell_type": "code",
   "execution_count": 10,
   "metadata": {},
   "outputs": [
    {
     "name": "stdout",
     "output_type": "stream",
     "text": [
      "Label Mapping:  [(0, 'setosa'), (1, 'versicolor'), (2, 'virginica')]\n",
      "Results:\n",
      " [[0. 0.]\n",
      " [2. 2.]\n",
      " [0. 0.]\n",
      " [2. 2.]\n",
      " [1. 1.]\n",
      " [1. 1.]\n",
      " [2. 2.]\n",
      " [1. 1.]\n",
      " [1. 1.]\n",
      " [1. 1.]\n",
      " [1. 1.]\n",
      " [0. 0.]\n",
      " [1. 1.]\n",
      " [0. 0.]\n",
      " [0. 0.]\n",
      " [2. 2.]\n",
      " [0. 0.]\n",
      " [0. 0.]\n",
      " [2. 2.]\n",
      " [1. 1.]\n",
      " [0. 0.]\n",
      " [0. 0.]\n",
      " [2. 2.]\n",
      " [2. 2.]\n",
      " [0. 0.]\n",
      " [0. 0.]\n",
      " [0. 0.]\n",
      " [1. 1.]\n",
      " [2. 2.]\n",
      " [0. 0.]]\n",
      "Predictive Accuracy:  1.0\n"
     ]
    }
   ],
   "source": [
    "p = Parzen(raw_data, 0.3)\n",
    "out = p.fit()\n",
    "print(\"Results:\\n\", out)\n",
    "print(\"Predictive Accuracy: \", Parzen.accuracy(out))"
   ]
  },
  {
   "cell_type": "markdown",
   "metadata": {},
   "source": [
    "## Plot Univariate Distributions at Different Bandwiths"
   ]
  },
  {
   "cell_type": "code",
   "execution_count": 11,
   "metadata": {
    "scrolled": false
   },
   "outputs": [
    {
     "data": {
      "application/vnd.plotly.v1+json": {
       "config": {
        "plotlyServerURL": "https://plot.ly"
       },
       "data": [
        {
         "line": {
          "color": "#e41a1c"
         },
         "name": "setosa density",
         "type": "scatter",
         "x": [
          -1,
          -0.9595959595959596,
          -0.9191919191919192,
          -0.8787878787878788,
          -0.8383838383838383,
          -0.797979797979798,
          -0.7575757575757576,
          -0.7171717171717171,
          -0.6767676767676767,
          -0.6363636363636364,
          -0.5959595959595959,
          -0.5555555555555556,
          -0.5151515151515151,
          -0.4747474747474747,
          -0.43434343434343425,
          -0.3939393939393939,
          -0.3535353535353535,
          -0.31313131313131304,
          -0.2727272727272727,
          -0.23232323232323226,
          -0.19191919191919182,
          -0.1515151515151515,
          -0.11111111111111105,
          -0.07070707070707061,
          -0.030303030303030276,
          0.010101010101010166,
          0.05050505050505061,
          0.09090909090909105,
          0.1313131313131315,
          0.1717171717171717,
          0.21212121212121215,
          0.2525252525252526,
          0.29292929292929304,
          0.3333333333333335,
          0.3737373737373739,
          0.41414141414141437,
          0.4545454545454546,
          0.49494949494949503,
          0.5353535353535355,
          0.5757575757575759,
          0.6161616161616164,
          0.6565656565656568,
          0.696969696969697,
          0.7373737373737375,
          0.7777777777777779,
          0.8181818181818183,
          0.8585858585858588,
          0.8989898989898992,
          0.9393939393939394,
          0.9797979797979799,
          1.0202020202020203,
          1.060606060606061,
          1.1010101010101012,
          1.1414141414141414,
          1.181818181818182,
          1.2222222222222223,
          1.262626262626263,
          1.3030303030303032,
          1.3434343434343434,
          1.383838383838384,
          1.4242424242424243,
          1.464646464646465,
          1.5050505050505052,
          1.5454545454545459,
          1.585858585858586,
          1.6262626262626263,
          1.666666666666667,
          1.7070707070707072,
          1.7474747474747478,
          1.787878787878788,
          1.8282828282828287,
          1.868686868686869,
          1.9090909090909092,
          1.9494949494949498,
          1.98989898989899,
          2.0303030303030307,
          2.070707070707071,
          2.111111111111111,
          2.151515151515152,
          2.191919191919192,
          2.2323232323232327,
          2.272727272727273,
          2.3131313131313136,
          2.353535353535354,
          2.393939393939394,
          2.4343434343434347,
          2.474747474747475,
          2.5151515151515156,
          2.555555555555556,
          2.5959595959595965,
          2.6363636363636367,
          2.676767676767677,
          2.7171717171717176,
          2.757575757575758,
          2.7979797979797985,
          2.8383838383838387,
          2.878787878787879,
          2.9191919191919196,
          2.95959595959596,
          3
         ],
         "y": [
          2.118943743878006e-27,
          1.662956287654551e-25,
          1.1085379794451404e-23,
          6.276706256957949e-22,
          3.0187644703544636e-20,
          1.2332465540497719e-18,
          4.27961216457333e-17,
          1.261561867316516e-15,
          3.159264544218766e-14,
          6.721591560922085e-13,
          1.2151217635971815e-11,
          1.8668435860073497e-10,
          2.4381141533456913e-09,
          2.7079003184286346e-08,
          2.559187302350313e-07,
          2.0598797795140567e-06,
          1.4138558441655199e-05,
          8.2906128988671e-05,
          0.00041639539671490443,
          0.0017976046937978859,
          0.006701282885315269,
          0.021695454486133435,
          0.06139201635032349,
          0.15280798966617343,
          0.3362899028916147,
          0.6562674384088335,
          1.1359538724629197,
          1.7409699545472426,
          2.357329297645184,
          2.8185419366325446,
          2.9862508066402027,
          2.8315626243811307,
          2.4465677980431355,
          1.975218673679262,
          1.5282424957684986,
          1.1500254093576308,
          0.8415704318777759,
          0.5950422936239559,
          0.406568358579464,
          0.27101728893268723,
          0.1775650414331731,
          0.11323359285956643,
          0.0683411846024117,
          0.03775096172721981,
          0.018565613307742507,
          0.00797843682180066,
          0.0029620574196013534,
          0.000943660304222775,
          0.0002569627689378042,
          5.966727021139446e-05,
          1.1797571361167001e-05,
          1.984511224268454e-06,
          2.838406145038775e-07,
          3.4506297528786215e-08,
          3.564698621577845e-09,
          3.1288222541486364e-10,
          2.333073362843853e-11,
          1.4778694564283811e-12,
          7.952148945096923e-14,
          3.634634761133296e-15,
          1.4110950941448626e-16,
          4.653345422129194e-18,
          1.3034188049966223e-19,
          3.1010573905870647e-21,
          6.266731012314165e-23,
          1.0756639085632694e-24,
          1.5682513697447394e-26,
          1.942038266261714e-28,
          2.042690560343921e-30,
          1.8249452789982723e-32,
          1.384839449582751e-34,
          8.925883651051638e-37,
          4.8865816977642286e-39,
          2.2722766700591033e-41,
          8.974687348464994e-44,
          3.0107833072896233e-46,
          8.579099618014395e-49,
          2.0763757725848495e-51,
          4.268469866034107e-54,
          7.453161084102839e-57,
          1.1053779926874783e-59,
          1.3924613083581863e-62,
          1.4899012155088394e-65,
          1.3540472733648055e-68,
          1.0452307875581532e-71,
          6.853186862750658e-75,
          3.8165852478731574e-78,
          1.8053415358845098e-81,
          7.25346958322371e-85,
          2.475336395056298e-88,
          7.175045732377273e-92,
          1.7665141995515606e-95,
          3.694125154064818e-99,
          6.561574891565027e-103,
          9.899347922241572e-107,
          1.2685485678193286e-110,
          1.3807327413296674e-114,
          1.2764804285402113e-118,
          1.002353036645852e-122,
          6.685428883742374e-127
         ]
        },
        {
         "marker": {
          "color": "#ffffff",
          "line": {
           "color": "#e41a1c",
           "width": 1
          }
         },
         "mode": "markers",
         "name": "setosa data",
         "opacity": 0.7,
         "type": "scatter",
         "x": [
          0.2,
          0.2,
          0.2,
          0.2,
          0.2,
          0.4,
          0.3,
          0.2,
          0.2,
          0.1,
          0.2,
          0.2,
          0.1,
          0.1,
          0.2,
          0.4,
          0.4,
          0.3,
          0.3,
          0.3,
          0.2,
          0.4,
          0.2,
          0.5,
          0.2,
          0.2,
          0.4,
          0.2,
          0.2,
          0.2,
          0.2,
          0.4,
          0.1,
          0.2,
          0.2,
          0.2,
          0.2,
          0.1,
          0.2,
          0.2,
          0.3,
          0.3,
          0.2,
          0.6,
          0.4,
          0.3,
          0.2,
          0.2,
          0.2,
          0.2
         ],
         "y": [
          -0.0457598126242474,
          -0.04275722543807368,
          -0.042023496602368454,
          0.019509441025448174,
          0.028847597380290316,
          0.02032630322216243,
          0.028070363919443453,
          -0.030083545441994763,
          0.019244020616042384,
          -0.029087390043734687,
          -0.020362399868165237,
          0.009375466185905179,
          0.03714131644118303,
          0.028256099771066634,
          0.03660055147042017,
          0.023677733393123207,
          0.014393404353792633,
          -0.0026093725275992616,
          -0.0037768965534675583,
          -0.0496646913708822,
          -0.021870806424335056,
          0.03190318995406542,
          -0.017051228643566528,
          -0.01655094880845919,
          -0.034817065601542733,
          0.024085270419558158,
          0.019429709603859868,
          -0.0005553337718371271,
          -0.020555190589090524,
          -0.021834478990904585,
          -0.016392790047840035,
          0.02217160364827092,
          0.03783211404006091,
          0.01450093208500211,
          0.025051587677388035,
          9.810738398934038e-05,
          0.03598156530443483,
          -0.024693704451979173,
          -0.007856181859716281,
          0.045835218907433,
          -0.026843685002778662,
          0.03134361165211405,
          0.03715106979538714,
          -0.038257762698352564,
          -0.014017205493310737,
          -0.013598854167005514,
          0.001989055535382686,
          -0.04595384953471379,
          -0.013294159924007065,
          0.0002460035074536293
         ]
        },
        {
         "line": {
          "color": "#377eb8"
         },
         "name": "versicolor density",
         "type": "scatter",
         "x": [
          -1,
          -0.9595959595959596,
          -0.9191919191919192,
          -0.8787878787878788,
          -0.8383838383838383,
          -0.797979797979798,
          -0.7575757575757576,
          -0.7171717171717171,
          -0.6767676767676767,
          -0.6363636363636364,
          -0.5959595959595959,
          -0.5555555555555556,
          -0.5151515151515151,
          -0.4747474747474747,
          -0.43434343434343425,
          -0.3939393939393939,
          -0.3535353535353535,
          -0.31313131313131304,
          -0.2727272727272727,
          -0.23232323232323226,
          -0.19191919191919182,
          -0.1515151515151515,
          -0.11111111111111105,
          -0.07070707070707061,
          -0.030303030303030276,
          0.010101010101010166,
          0.05050505050505061,
          0.09090909090909105,
          0.1313131313131315,
          0.1717171717171717,
          0.21212121212121215,
          0.2525252525252526,
          0.29292929292929304,
          0.3333333333333335,
          0.3737373737373739,
          0.41414141414141437,
          0.4545454545454546,
          0.49494949494949503,
          0.5353535353535355,
          0.5757575757575759,
          0.6161616161616164,
          0.6565656565656568,
          0.696969696969697,
          0.7373737373737375,
          0.7777777777777779,
          0.8181818181818183,
          0.8585858585858588,
          0.8989898989898992,
          0.9393939393939394,
          0.9797979797979799,
          1.0202020202020203,
          1.060606060606061,
          1.1010101010101012,
          1.1414141414141414,
          1.181818181818182,
          1.2222222222222223,
          1.262626262626263,
          1.3030303030303032,
          1.3434343434343434,
          1.383838383838384,
          1.4242424242424243,
          1.464646464646465,
          1.5050505050505052,
          1.5454545454545459,
          1.585858585858586,
          1.6262626262626263,
          1.666666666666667,
          1.7070707070707072,
          1.7474747474747478,
          1.787878787878788,
          1.8282828282828287,
          1.868686868686869,
          1.9090909090909092,
          1.9494949494949498,
          1.98989898989899,
          2.0303030303030307,
          2.070707070707071,
          2.111111111111111,
          2.151515151515152,
          2.191919191919192,
          2.2323232323232327,
          2.272727272727273,
          2.3131313131313136,
          2.353535353535354,
          2.393939393939394,
          2.4343434343434347,
          2.474747474747475,
          2.5151515151515156,
          2.555555555555556,
          2.5959595959595965,
          2.6363636363636367,
          2.676767676767677,
          2.7171717171717176,
          2.757575757575758,
          2.7979797979797985,
          2.8383838383838387,
          2.878787878787879,
          2.9191919191919196,
          2.95959595959596,
          3
         ],
         "y": [
          7.729327711165107e-88,
          2.302200195640108e-84,
          5.824336588376162e-81,
          1.251560523823327e-77,
          2.2843321961756455e-74,
          3.5413485922412036e-71,
          4.663157772180195e-68,
          5.215471227396356e-65,
          4.954604716757234e-62,
          3.997849892553401e-59,
          2.7399710229161135e-56,
          1.5950249148913434e-53,
          7.886621328489765e-51,
          3.3121997834302925e-48,
          1.1815281692085214e-45,
          3.579922789525386e-43,
          9.213089058196053e-41,
          2.013904703494862e-38,
          3.739164855375409e-36,
          5.896745420417242e-34,
          7.898638536903875e-32,
          8.9865757315607e-30,
          8.68437236432397e-28,
          7.128282895247404e-26,
          4.9697420579634874e-24,
          2.9429671142613256e-22,
          1.4802665360130087e-20,
          6.32408723291256e-19,
          2.2948795755936156e-17,
          7.073382055839442e-16,
          1.8518298024539866e-14,
          4.1179788533775676e-13,
          7.778211906461132e-12,
          1.2479389164425988e-10,
          1.7007195490517821e-09,
          1.9688370428515083e-08,
          1.9361649193439644e-07,
          1.617547998781311e-06,
          1.1481389942126244e-05,
          6.924920015669114e-05,
          0.0003549845592944835,
          0.0015470953874281445,
          0.005735202356082315,
          0.018097923186476322,
          0.048669967910040385,
          0.11174841100389284,
          0.2197111622733703,
          0.3717179109203947,
          0.5456624972108944,
          0.705025553943391,
          0.821687592202004,
          0.8981975578458765,
          0.9690139822007976,
          1.0771976549262796,
          1.2433419909280454,
          1.4484791132166195,
          1.642623374556726,
          1.7741913728069747,
          1.8196246324684062,
          1.789471473948263,
          1.707117634173826,
          1.583596773587802,
          1.4146002447063921,
          1.1991073874940439,
          0.9555111000931622,
          0.7175317927592454,
          0.5161122971521912,
          0.36511027810178576,
          0.2601874448823601,
          0.18738105472957894,
          0.1330852285806084,
          0.0896338402177413,
          0.05517505931209777,
          0.030216127563471508,
          0.014466946010499788,
          0.005990564255280282,
          0.002131248919463826,
          0.0006487743784331691,
          0.00016854858994957826,
          3.730892240238189e-05,
          7.029003117003287e-06,
          1.1263315004609952e-06,
          1.534375697042696e-07,
          1.776474922402222e-08,
          1.7476781250333847e-09,
          1.4607674822079057e-10,
          1.0372408090427725e-11,
          6.256498864656617e-13,
          3.2056740316941464e-14,
          1.3951862431648912e-15,
          5.157773404273693e-17,
          1.6195878609287494e-18,
          4.3197197141374985e-20,
          9.786179292765956e-22,
          1.8831105045257276e-23,
          3.077814747351092e-25,
          4.27279943633604e-27,
          5.03831657361886e-29,
          5.046159927603437e-31,
          4.292783469047493e-33
         ]
        },
        {
         "marker": {
          "color": "#ffffff",
          "line": {
           "color": "#377eb8",
           "width": 1
          }
         },
         "mode": "markers",
         "name": "versicolor data",
         "opacity": 0.7,
         "type": "scatter",
         "x": [
          1.4,
          1.5,
          1.5,
          1.3,
          1.5,
          1.3,
          1.6,
          1,
          1.3,
          1.4,
          1,
          1.5,
          1,
          1.4,
          1.3,
          1.4,
          1.5,
          1,
          1.5,
          1.1,
          1.8,
          1.3,
          1.5,
          1.2,
          1.3,
          1.4,
          1.4,
          1.7,
          1.5,
          1,
          1.1,
          1,
          1.2,
          1.6,
          1.5,
          1.6,
          1.5,
          1.3,
          1.3,
          1.3,
          1.2,
          1.4,
          1.2,
          1,
          1.3,
          1.2,
          1.3,
          1.3,
          1.1,
          1.3
         ],
         "y": [
          0.005868383696857785,
          -0.041480832491151566,
          0.003608060191325882,
          0.017936386449068115,
          0.04385197276708974,
          -0.0065477642657853705,
          0.0423962292482694,
          0.0285277546520184,
          0.03542012296342731,
          0.005842102712894516,
          -0.04622359064605796,
          -0.029045953321166385,
          -0.0015403174426939503,
          0.014892156767570053,
          0.013930058695832553,
          0.022602452226231806,
          -0.019013533795384376,
          0.04563877604249883,
          0.03984129973390664,
          0.007380110454305741,
          -0.0012748499213596012,
          0.004648229608226764,
          -0.04810639483492211,
          -0.018211523592821223,
          -0.0439671531969731,
          0.047971970594334876,
          0.030912019926456674,
          -0.033950382748512545,
          0.021871322694005366,
          -0.025732561619872276,
          -0.03523705972047386,
          0.008253963013654789,
          0.048783995242555805,
          -0.00442752149035093,
          0.007943945874956004,
          -0.02760679779513492,
          0.011877676539562752,
          0.03379167720003509,
          -0.04409036936401998,
          -0.03578681624305206,
          -0.03479483540059073,
          -0.008756346026310723,
          0.038215257681900705,
          0.01575540505180427,
          0.04214306031932229,
          0.023296327721433863,
          0.004133881398107386,
          -0.02902764353623525,
          -0.01223432963583606,
          -0.02958931152984161
         ]
        },
        {
         "line": {
          "color": "#4daf4a"
         },
         "name": "virginica density",
         "type": "scatter",
         "x": [
          -1,
          -0.9595959595959596,
          -0.9191919191919192,
          -0.8787878787878788,
          -0.8383838383838383,
          -0.797979797979798,
          -0.7575757575757576,
          -0.7171717171717171,
          -0.6767676767676767,
          -0.6363636363636364,
          -0.5959595959595959,
          -0.5555555555555556,
          -0.5151515151515151,
          -0.4747474747474747,
          -0.43434343434343425,
          -0.3939393939393939,
          -0.3535353535353535,
          -0.31313131313131304,
          -0.2727272727272727,
          -0.23232323232323226,
          -0.19191919191919182,
          -0.1515151515151515,
          -0.11111111111111105,
          -0.07070707070707061,
          -0.030303030303030276,
          0.010101010101010166,
          0.05050505050505061,
          0.09090909090909105,
          0.1313131313131315,
          0.1717171717171717,
          0.21212121212121215,
          0.2525252525252526,
          0.29292929292929304,
          0.3333333333333335,
          0.3737373737373739,
          0.41414141414141437,
          0.4545454545454546,
          0.49494949494949503,
          0.5353535353535355,
          0.5757575757575759,
          0.6161616161616164,
          0.6565656565656568,
          0.696969696969697,
          0.7373737373737375,
          0.7777777777777779,
          0.8181818181818183,
          0.8585858585858588,
          0.8989898989898992,
          0.9393939393939394,
          0.9797979797979799,
          1.0202020202020203,
          1.060606060606061,
          1.1010101010101012,
          1.1414141414141414,
          1.181818181818182,
          1.2222222222222223,
          1.262626262626263,
          1.3030303030303032,
          1.3434343434343434,
          1.383838383838384,
          1.4242424242424243,
          1.464646464646465,
          1.5050505050505052,
          1.5454545454545459,
          1.585858585858586,
          1.6262626262626263,
          1.666666666666667,
          1.7070707070707072,
          1.7474747474747478,
          1.787878787878788,
          1.8282828282828287,
          1.868686868686869,
          1.9090909090909092,
          1.9494949494949498,
          1.98989898989899,
          2.0303030303030307,
          2.070707070707071,
          2.111111111111111,
          2.151515151515152,
          2.191919191919192,
          2.2323232323232327,
          2.272727272727273,
          2.3131313131313136,
          2.353535353535354,
          2.393939393939394,
          2.4343434343434347,
          2.474747474747475,
          2.5151515151515156,
          2.555555555555556,
          2.5959595959595965,
          2.6363636363636367,
          2.676767676767677,
          2.7171717171717176,
          2.757575757575758,
          2.7979797979797985,
          2.8383838383838387,
          2.878787878787879,
          2.9191919191919196,
          2.95959595959596,
          3
         ],
         "y": [
          6.685428883895453e-127,
          1.0023530366802297e-122,
          1.2764804286058598e-118,
          1.3807327414359133e-114,
          1.2685485679656486e-110,
          9.899347923951464e-107,
          6.561574893262378e-103,
          3.694125155496122e-99,
          1.766514200576463e-95,
          7.175045738613258e-92,
          2.4753363982786508e-88,
          7.253469597366498e-85,
          1.805341541157142e-81,
          3.816585264569007e-78,
          6.853186907656262e-75,
          1.0452307978166835e-71,
          1.3540472932707051e-68,
          1.4899012483166405e-65,
          1.39246135428585e-62,
          1.1053780472977428e-59,
          7.453161635641601e-57,
          4.268470339164028e-54,
          2.076376117320589e-51,
          8.579101751523962e-49,
          3.0107844288035494e-46,
          8.974692355916199e-44,
          2.2722785690843335e-41,
          4.886587814878705e-39,
          8.925900387539182e-37,
          1.384843338992845e-34,
          1.8249529562312457e-32,
          2.0427034317815967e-30,
          1.9420565957527e-28,
          1.5682735401825498e-26,
          1.0756866856357292e-24,
          6.266929768288546e-23,
          3.101204703039722e-21,
          1.3035115420308586e-19,
          4.653841280518708e-18,
          1.4113202831707128e-16,
          3.635503348368836e-15,
          7.954994347482627e-14,
          1.4786610805538858e-12,
          2.3349436617073447e-11,
          3.1325743764493194e-10,
          3.571089386046737e-09,
          3.4598691135882516e-08,
          2.849740545440083e-07,
          1.9963036135354135e-06,
          1.1901543029934484e-05,
          6.044319657701124e-05,
          0.00026185505429916436,
          0.0009696443612883103,
          0.0030777500339669033,
          0.008406689775925272,
          0.019863440751000837,
          0.04086904654562559,
          0.07379967615567731,
          0.1179724582780311,
          0.1684351603113128,
          0.2168148037781811,
          0.2547801459675182,
          0.27958900536615533,
          0.29969199277021225,
          0.3367455606761001,
          0.4198584191511845,
          0.570371293199418,
          0.7827050452070549,
          1.015789686154806,
          1.2086837186918853,
          1.3151935503770409,
          1.3308403454204665,
          1.2889053326829474,
          1.2312070457626614,
          1.1812195516869308,
          1.1394679502787743,
          1.097885138627708,
          1.0562196982628402,
          1.0261137708942156,
          1.0197874370187283,
          1.0335423798264138,
          1.0430433097468461,
          1.0179811527694655,
          0.94368465803498,
          0.8289833483820501,
          0.6946975296159351,
          0.5574601955184122,
          0.42481024488338387,
          0.3013385824984967,
          0.19423220624381127,
          0.11136565433319687,
          0.055908835858713805,
          0.024314019939665595,
          0.00909613031356904,
          0.0029143481203370695,
          0.0007973832288957164,
          0.00018596467959152436,
          3.692401666253832e-05,
          6.236776201070705e-06,
          8.956918571357238e-07
         ]
        },
        {
         "marker": {
          "color": "#ffffff",
          "line": {
           "color": "#4daf4a",
           "width": 1
          }
         },
         "mode": "markers",
         "name": "virginica data",
         "opacity": 0.7,
         "type": "scatter",
         "x": [
          2.5,
          1.9,
          2.1,
          1.8,
          2.2,
          2.1,
          1.7,
          1.8,
          1.8,
          2.5,
          2,
          1.9,
          2.1,
          2,
          2.4,
          2.3,
          1.8,
          2.2,
          2.3,
          1.5,
          2.3,
          2,
          2,
          1.8,
          2.1,
          1.8,
          1.8,
          1.8,
          2.1,
          1.6,
          1.9,
          2,
          2.2,
          1.5,
          1.4,
          2.3,
          2.4,
          1.8,
          1.8,
          2.1,
          2.4,
          2.3,
          1.9,
          2.3,
          2.5,
          2.3,
          1.9,
          2,
          2.3,
          1.8
         ],
         "y": [
          -0.010409630912044554,
          0.00996672130421302,
          -0.019819070270985763,
          -0.0014735003668570473,
          0.01796275165088687,
          -0.04040890124360962,
          -0.0020276035721427457,
          -0.03450570449768257,
          0.011117830948230198,
          -0.04181028674893157,
          -0.03220286067622666,
          0.02801609463057257,
          0.04231016335081482,
          0.012095364448483338,
          0.0408082237732232,
          -0.024681754189184557,
          0.0411195775151255,
          0.04678486432608206,
          0.0381530511013274,
          0.04571341797975409,
          -0.015760176926193206,
          0.04437137985505722,
          0.019120105221179698,
          -0.041022521234642964,
          0.04781118722261339,
          0.005815094473768302,
          -0.004510071863388768,
          -0.014082087114906272,
          0.027494268016781565,
          -0.018158105520985825,
          0.008566843521344382,
          0.04083730441913777,
          0.014637919486122142,
          -0.022932609435537835,
          0.028787920340901815,
          0.0008590090324242933,
          0.042340399520036445,
          0.01701738405919903,
          -0.015057673941568976,
          0.03282267895572526,
          0.03140436041462094,
          -0.026693462612969832,
          -0.03312187086478788,
          -0.027155809810256407,
          0.010959504097927841,
          0.03246708771045351,
          -0.03753136951569839,
          -0.023365962214743952,
          0.0003793127868405577,
          -0.011412197947749989
         ]
        }
       ],
       "layout": {
        "template": {
         "data": {
          "bar": [
           {
            "error_x": {
             "color": "#2a3f5f"
            },
            "error_y": {
             "color": "#2a3f5f"
            },
            "marker": {
             "line": {
              "color": "white",
              "width": 0.5
             }
            },
            "type": "bar"
           }
          ],
          "barpolar": [
           {
            "marker": {
             "line": {
              "color": "white",
              "width": 0.5
             }
            },
            "type": "barpolar"
           }
          ],
          "carpet": [
           {
            "aaxis": {
             "endlinecolor": "#2a3f5f",
             "gridcolor": "#C8D4E3",
             "linecolor": "#C8D4E3",
             "minorgridcolor": "#C8D4E3",
             "startlinecolor": "#2a3f5f"
            },
            "baxis": {
             "endlinecolor": "#2a3f5f",
             "gridcolor": "#C8D4E3",
             "linecolor": "#C8D4E3",
             "minorgridcolor": "#C8D4E3",
             "startlinecolor": "#2a3f5f"
            },
            "type": "carpet"
           }
          ],
          "choropleth": [
           {
            "colorbar": {
             "outlinewidth": 0,
             "ticks": ""
            },
            "type": "choropleth"
           }
          ],
          "contour": [
           {
            "colorbar": {
             "outlinewidth": 0,
             "ticks": ""
            },
            "colorscale": [
             [
              0,
              "#0d0887"
             ],
             [
              0.1111111111111111,
              "#46039f"
             ],
             [
              0.2222222222222222,
              "#7201a8"
             ],
             [
              0.3333333333333333,
              "#9c179e"
             ],
             [
              0.4444444444444444,
              "#bd3786"
             ],
             [
              0.5555555555555556,
              "#d8576b"
             ],
             [
              0.6666666666666666,
              "#ed7953"
             ],
             [
              0.7777777777777778,
              "#fb9f3a"
             ],
             [
              0.8888888888888888,
              "#fdca26"
             ],
             [
              1,
              "#f0f921"
             ]
            ],
            "type": "contour"
           }
          ],
          "contourcarpet": [
           {
            "colorbar": {
             "outlinewidth": 0,
             "ticks": ""
            },
            "type": "contourcarpet"
           }
          ],
          "heatmap": [
           {
            "colorbar": {
             "outlinewidth": 0,
             "ticks": ""
            },
            "colorscale": [
             [
              0,
              "#0d0887"
             ],
             [
              0.1111111111111111,
              "#46039f"
             ],
             [
              0.2222222222222222,
              "#7201a8"
             ],
             [
              0.3333333333333333,
              "#9c179e"
             ],
             [
              0.4444444444444444,
              "#bd3786"
             ],
             [
              0.5555555555555556,
              "#d8576b"
             ],
             [
              0.6666666666666666,
              "#ed7953"
             ],
             [
              0.7777777777777778,
              "#fb9f3a"
             ],
             [
              0.8888888888888888,
              "#fdca26"
             ],
             [
              1,
              "#f0f921"
             ]
            ],
            "type": "heatmap"
           }
          ],
          "heatmapgl": [
           {
            "colorbar": {
             "outlinewidth": 0,
             "ticks": ""
            },
            "colorscale": [
             [
              0,
              "#0d0887"
             ],
             [
              0.1111111111111111,
              "#46039f"
             ],
             [
              0.2222222222222222,
              "#7201a8"
             ],
             [
              0.3333333333333333,
              "#9c179e"
             ],
             [
              0.4444444444444444,
              "#bd3786"
             ],
             [
              0.5555555555555556,
              "#d8576b"
             ],
             [
              0.6666666666666666,
              "#ed7953"
             ],
             [
              0.7777777777777778,
              "#fb9f3a"
             ],
             [
              0.8888888888888888,
              "#fdca26"
             ],
             [
              1,
              "#f0f921"
             ]
            ],
            "type": "heatmapgl"
           }
          ],
          "histogram": [
           {
            "marker": {
             "colorbar": {
              "outlinewidth": 0,
              "ticks": ""
             }
            },
            "type": "histogram"
           }
          ],
          "histogram2d": [
           {
            "colorbar": {
             "outlinewidth": 0,
             "ticks": ""
            },
            "colorscale": [
             [
              0,
              "#0d0887"
             ],
             [
              0.1111111111111111,
              "#46039f"
             ],
             [
              0.2222222222222222,
              "#7201a8"
             ],
             [
              0.3333333333333333,
              "#9c179e"
             ],
             [
              0.4444444444444444,
              "#bd3786"
             ],
             [
              0.5555555555555556,
              "#d8576b"
             ],
             [
              0.6666666666666666,
              "#ed7953"
             ],
             [
              0.7777777777777778,
              "#fb9f3a"
             ],
             [
              0.8888888888888888,
              "#fdca26"
             ],
             [
              1,
              "#f0f921"
             ]
            ],
            "type": "histogram2d"
           }
          ],
          "histogram2dcontour": [
           {
            "colorbar": {
             "outlinewidth": 0,
             "ticks": ""
            },
            "colorscale": [
             [
              0,
              "#0d0887"
             ],
             [
              0.1111111111111111,
              "#46039f"
             ],
             [
              0.2222222222222222,
              "#7201a8"
             ],
             [
              0.3333333333333333,
              "#9c179e"
             ],
             [
              0.4444444444444444,
              "#bd3786"
             ],
             [
              0.5555555555555556,
              "#d8576b"
             ],
             [
              0.6666666666666666,
              "#ed7953"
             ],
             [
              0.7777777777777778,
              "#fb9f3a"
             ],
             [
              0.8888888888888888,
              "#fdca26"
             ],
             [
              1,
              "#f0f921"
             ]
            ],
            "type": "histogram2dcontour"
           }
          ],
          "mesh3d": [
           {
            "colorbar": {
             "outlinewidth": 0,
             "ticks": ""
            },
            "type": "mesh3d"
           }
          ],
          "parcoords": [
           {
            "line": {
             "colorbar": {
              "outlinewidth": 0,
              "ticks": ""
             }
            },
            "type": "parcoords"
           }
          ],
          "pie": [
           {
            "automargin": true,
            "type": "pie"
           }
          ],
          "scatter": [
           {
            "marker": {
             "colorbar": {
              "outlinewidth": 0,
              "ticks": ""
             }
            },
            "type": "scatter"
           }
          ],
          "scatter3d": [
           {
            "line": {
             "colorbar": {
              "outlinewidth": 0,
              "ticks": ""
             }
            },
            "marker": {
             "colorbar": {
              "outlinewidth": 0,
              "ticks": ""
             }
            },
            "type": "scatter3d"
           }
          ],
          "scattercarpet": [
           {
            "marker": {
             "colorbar": {
              "outlinewidth": 0,
              "ticks": ""
             }
            },
            "type": "scattercarpet"
           }
          ],
          "scattergeo": [
           {
            "marker": {
             "colorbar": {
              "outlinewidth": 0,
              "ticks": ""
             }
            },
            "type": "scattergeo"
           }
          ],
          "scattergl": [
           {
            "marker": {
             "colorbar": {
              "outlinewidth": 0,
              "ticks": ""
             }
            },
            "type": "scattergl"
           }
          ],
          "scattermapbox": [
           {
            "marker": {
             "colorbar": {
              "outlinewidth": 0,
              "ticks": ""
             }
            },
            "type": "scattermapbox"
           }
          ],
          "scatterpolar": [
           {
            "marker": {
             "colorbar": {
              "outlinewidth": 0,
              "ticks": ""
             }
            },
            "type": "scatterpolar"
           }
          ],
          "scatterpolargl": [
           {
            "marker": {
             "colorbar": {
              "outlinewidth": 0,
              "ticks": ""
             }
            },
            "type": "scatterpolargl"
           }
          ],
          "scatterternary": [
           {
            "marker": {
             "colorbar": {
              "outlinewidth": 0,
              "ticks": ""
             }
            },
            "type": "scatterternary"
           }
          ],
          "surface": [
           {
            "colorbar": {
             "outlinewidth": 0,
             "ticks": ""
            },
            "colorscale": [
             [
              0,
              "#0d0887"
             ],
             [
              0.1111111111111111,
              "#46039f"
             ],
             [
              0.2222222222222222,
              "#7201a8"
             ],
             [
              0.3333333333333333,
              "#9c179e"
             ],
             [
              0.4444444444444444,
              "#bd3786"
             ],
             [
              0.5555555555555556,
              "#d8576b"
             ],
             [
              0.6666666666666666,
              "#ed7953"
             ],
             [
              0.7777777777777778,
              "#fb9f3a"
             ],
             [
              0.8888888888888888,
              "#fdca26"
             ],
             [
              1,
              "#f0f921"
             ]
            ],
            "type": "surface"
           }
          ],
          "table": [
           {
            "cells": {
             "fill": {
              "color": "#EBF0F8"
             },
             "line": {
              "color": "white"
             }
            },
            "header": {
             "fill": {
              "color": "#C8D4E3"
             },
             "line": {
              "color": "white"
             }
            },
            "type": "table"
           }
          ]
         },
         "layout": {
          "annotationdefaults": {
           "arrowcolor": "#2a3f5f",
           "arrowhead": 0,
           "arrowwidth": 1
          },
          "coloraxis": {
           "colorbar": {
            "outlinewidth": 0,
            "ticks": ""
           }
          },
          "colorscale": {
           "diverging": [
            [
             0,
             "#8e0152"
            ],
            [
             0.1,
             "#c51b7d"
            ],
            [
             0.2,
             "#de77ae"
            ],
            [
             0.3,
             "#f1b6da"
            ],
            [
             0.4,
             "#fde0ef"
            ],
            [
             0.5,
             "#f7f7f7"
            ],
            [
             0.6,
             "#e6f5d0"
            ],
            [
             0.7,
             "#b8e186"
            ],
            [
             0.8,
             "#7fbc41"
            ],
            [
             0.9,
             "#4d9221"
            ],
            [
             1,
             "#276419"
            ]
           ],
           "sequential": [
            [
             0,
             "#0d0887"
            ],
            [
             0.1111111111111111,
             "#46039f"
            ],
            [
             0.2222222222222222,
             "#7201a8"
            ],
            [
             0.3333333333333333,
             "#9c179e"
            ],
            [
             0.4444444444444444,
             "#bd3786"
            ],
            [
             0.5555555555555556,
             "#d8576b"
            ],
            [
             0.6666666666666666,
             "#ed7953"
            ],
            [
             0.7777777777777778,
             "#fb9f3a"
            ],
            [
             0.8888888888888888,
             "#fdca26"
            ],
            [
             1,
             "#f0f921"
            ]
           ],
           "sequentialminus": [
            [
             0,
             "#0d0887"
            ],
            [
             0.1111111111111111,
             "#46039f"
            ],
            [
             0.2222222222222222,
             "#7201a8"
            ],
            [
             0.3333333333333333,
             "#9c179e"
            ],
            [
             0.4444444444444444,
             "#bd3786"
            ],
            [
             0.5555555555555556,
             "#d8576b"
            ],
            [
             0.6666666666666666,
             "#ed7953"
            ],
            [
             0.7777777777777778,
             "#fb9f3a"
            ],
            [
             0.8888888888888888,
             "#fdca26"
            ],
            [
             1,
             "#f0f921"
            ]
           ]
          },
          "colorway": [
           "#636efa",
           "#EF553B",
           "#00cc96",
           "#ab63fa",
           "#FFA15A",
           "#19d3f3",
           "#FF6692",
           "#B6E880",
           "#FF97FF",
           "#FECB52"
          ],
          "font": {
           "color": "#2a3f5f"
          },
          "geo": {
           "bgcolor": "white",
           "lakecolor": "white",
           "landcolor": "white",
           "showlakes": true,
           "showland": true,
           "subunitcolor": "#C8D4E3"
          },
          "hoverlabel": {
           "align": "left"
          },
          "hovermode": "closest",
          "mapbox": {
           "style": "light"
          },
          "paper_bgcolor": "white",
          "plot_bgcolor": "white",
          "polar": {
           "angularaxis": {
            "gridcolor": "#EBF0F8",
            "linecolor": "#EBF0F8",
            "ticks": ""
           },
           "bgcolor": "white",
           "radialaxis": {
            "gridcolor": "#EBF0F8",
            "linecolor": "#EBF0F8",
            "ticks": ""
           }
          },
          "scene": {
           "xaxis": {
            "backgroundcolor": "white",
            "gridcolor": "#DFE8F3",
            "gridwidth": 2,
            "linecolor": "#EBF0F8",
            "showbackground": true,
            "ticks": "",
            "zerolinecolor": "#EBF0F8"
           },
           "yaxis": {
            "backgroundcolor": "white",
            "gridcolor": "#DFE8F3",
            "gridwidth": 2,
            "linecolor": "#EBF0F8",
            "showbackground": true,
            "ticks": "",
            "zerolinecolor": "#EBF0F8"
           },
           "zaxis": {
            "backgroundcolor": "white",
            "gridcolor": "#DFE8F3",
            "gridwidth": 2,
            "linecolor": "#EBF0F8",
            "showbackground": true,
            "ticks": "",
            "zerolinecolor": "#EBF0F8"
           }
          },
          "shapedefaults": {
           "line": {
            "color": "#2a3f5f"
           }
          },
          "ternary": {
           "aaxis": {
            "gridcolor": "#DFE8F3",
            "linecolor": "#A2B1C6",
            "ticks": ""
           },
           "baxis": {
            "gridcolor": "#DFE8F3",
            "linecolor": "#A2B1C6",
            "ticks": ""
           },
           "bgcolor": "white",
           "caxis": {
            "gridcolor": "#DFE8F3",
            "linecolor": "#A2B1C6",
            "ticks": ""
           }
          },
          "title": {
           "x": 0.05
          },
          "xaxis": {
           "automargin": true,
           "gridcolor": "#EBF0F8",
           "linecolor": "#EBF0F8",
           "ticks": "",
           "title": {
            "standoff": 15
           },
           "zerolinecolor": "#EBF0F8",
           "zerolinewidth": 2
          },
          "yaxis": {
           "automargin": true,
           "gridcolor": "#EBF0F8",
           "linecolor": "#EBF0F8",
           "ticks": "",
           "title": {
            "standoff": 15
           },
           "zerolinecolor": "#EBF0F8",
           "zerolinewidth": 2
          }
         }
        },
        "title": {
         "text": "Petal Width Distribution By Class (h = 0.1)"
        }
       }
      },
      "text/html": [
       "<div>\n",
       "        \n",
       "        \n",
       "            <div id=\"2541d3eb-ae8f-4f86-ae79-9d8d0a12b202\" class=\"plotly-graph-div\" style=\"height:525px; width:100%;\"></div>\n",
       "            <script type=\"text/javascript\">\n",
       "                require([\"plotly\"], function(Plotly) {\n",
       "                    window.PLOTLYENV=window.PLOTLYENV || {};\n",
       "                    \n",
       "                if (document.getElementById(\"2541d3eb-ae8f-4f86-ae79-9d8d0a12b202\")) {\n",
       "                    Plotly.newPlot(\n",
       "                        '2541d3eb-ae8f-4f86-ae79-9d8d0a12b202',\n",
       "                        [{\"line\": {\"color\": \"#e41a1c\"}, \"name\": \"setosa density\", \"type\": \"scatter\", \"x\": [-1.0, -0.9595959595959596, -0.9191919191919192, -0.8787878787878788, -0.8383838383838383, -0.797979797979798, -0.7575757575757576, -0.7171717171717171, -0.6767676767676767, -0.6363636363636364, -0.5959595959595959, -0.5555555555555556, -0.5151515151515151, -0.4747474747474747, -0.43434343434343425, -0.3939393939393939, -0.3535353535353535, -0.31313131313131304, -0.2727272727272727, -0.23232323232323226, -0.19191919191919182, -0.1515151515151515, -0.11111111111111105, -0.07070707070707061, -0.030303030303030276, 0.010101010101010166, 0.05050505050505061, 0.09090909090909105, 0.1313131313131315, 0.1717171717171717, 0.21212121212121215, 0.2525252525252526, 0.29292929292929304, 0.3333333333333335, 0.3737373737373739, 0.41414141414141437, 0.4545454545454546, 0.49494949494949503, 0.5353535353535355, 0.5757575757575759, 0.6161616161616164, 0.6565656565656568, 0.696969696969697, 0.7373737373737375, 0.7777777777777779, 0.8181818181818183, 0.8585858585858588, 0.8989898989898992, 0.9393939393939394, 0.9797979797979799, 1.0202020202020203, 1.060606060606061, 1.1010101010101012, 1.1414141414141414, 1.181818181818182, 1.2222222222222223, 1.262626262626263, 1.3030303030303032, 1.3434343434343434, 1.383838383838384, 1.4242424242424243, 1.464646464646465, 1.5050505050505052, 1.5454545454545459, 1.585858585858586, 1.6262626262626263, 1.666666666666667, 1.7070707070707072, 1.7474747474747478, 1.787878787878788, 1.8282828282828287, 1.868686868686869, 1.9090909090909092, 1.9494949494949498, 1.98989898989899, 2.0303030303030307, 2.070707070707071, 2.111111111111111, 2.151515151515152, 2.191919191919192, 2.2323232323232327, 2.272727272727273, 2.3131313131313136, 2.353535353535354, 2.393939393939394, 2.4343434343434347, 2.474747474747475, 2.5151515151515156, 2.555555555555556, 2.5959595959595965, 2.6363636363636367, 2.676767676767677, 2.7171717171717176, 2.757575757575758, 2.7979797979797985, 2.8383838383838387, 2.878787878787879, 2.9191919191919196, 2.95959595959596, 3.0], \"y\": [2.118943743878006e-27, 1.662956287654551e-25, 1.1085379794451404e-23, 6.276706256957949e-22, 3.0187644703544636e-20, 1.2332465540497719e-18, 4.27961216457333e-17, 1.261561867316516e-15, 3.159264544218766e-14, 6.721591560922085e-13, 1.2151217635971815e-11, 1.8668435860073497e-10, 2.4381141533456913e-09, 2.7079003184286346e-08, 2.559187302350313e-07, 2.0598797795140567e-06, 1.4138558441655199e-05, 8.2906128988671e-05, 0.00041639539671490443, 0.0017976046937978859, 0.006701282885315269, 0.021695454486133435, 0.06139201635032349, 0.15280798966617343, 0.3362899028916147, 0.6562674384088335, 1.1359538724629197, 1.7409699545472426, 2.357329297645184, 2.8185419366325446, 2.9862508066402027, 2.8315626243811307, 2.4465677980431355, 1.975218673679262, 1.5282424957684986, 1.1500254093576308, 0.8415704318777759, 0.5950422936239559, 0.406568358579464, 0.27101728893268723, 0.1775650414331731, 0.11323359285956643, 0.0683411846024117, 0.03775096172721981, 0.018565613307742507, 0.00797843682180066, 0.0029620574196013534, 0.000943660304222775, 0.0002569627689378042, 5.966727021139446e-05, 1.1797571361167001e-05, 1.984511224268454e-06, 2.838406145038775e-07, 3.4506297528786215e-08, 3.564698621577845e-09, 3.1288222541486364e-10, 2.333073362843853e-11, 1.4778694564283811e-12, 7.952148945096923e-14, 3.634634761133296e-15, 1.4110950941448626e-16, 4.653345422129194e-18, 1.3034188049966223e-19, 3.1010573905870647e-21, 6.266731012314165e-23, 1.0756639085632694e-24, 1.5682513697447394e-26, 1.942038266261714e-28, 2.042690560343921e-30, 1.8249452789982723e-32, 1.384839449582751e-34, 8.925883651051638e-37, 4.8865816977642286e-39, 2.2722766700591033e-41, 8.974687348464994e-44, 3.0107833072896233e-46, 8.579099618014395e-49, 2.0763757725848495e-51, 4.268469866034107e-54, 7.453161084102839e-57, 1.1053779926874783e-59, 1.3924613083581863e-62, 1.4899012155088394e-65, 1.3540472733648055e-68, 1.0452307875581532e-71, 6.853186862750658e-75, 3.8165852478731574e-78, 1.8053415358845098e-81, 7.25346958322371e-85, 2.475336395056298e-88, 7.175045732377273e-92, 1.7665141995515606e-95, 3.694125154064818e-99, 6.561574891565027e-103, 9.899347922241572e-107, 1.2685485678193286e-110, 1.3807327413296674e-114, 1.2764804285402113e-118, 1.002353036645852e-122, 6.685428883742374e-127]}, {\"marker\": {\"color\": \"#ffffff\", \"line\": {\"color\": \"#e41a1c\", \"width\": 1}}, \"mode\": \"markers\", \"name\": \"setosa data\", \"opacity\": 0.7, \"type\": \"scatter\", \"x\": [0.2, 0.2, 0.2, 0.2, 0.2, 0.4, 0.3, 0.2, 0.2, 0.1, 0.2, 0.2, 0.1, 0.1, 0.2, 0.4, 0.4, 0.3, 0.3, 0.3, 0.2, 0.4, 0.2, 0.5, 0.2, 0.2, 0.4, 0.2, 0.2, 0.2, 0.2, 0.4, 0.1, 0.2, 0.2, 0.2, 0.2, 0.1, 0.2, 0.2, 0.3, 0.3, 0.2, 0.6, 0.4, 0.3, 0.2, 0.2, 0.2, 0.2], \"y\": [-0.0457598126242474, -0.04275722543807368, -0.042023496602368454, 0.019509441025448174, 0.028847597380290316, 0.02032630322216243, 0.028070363919443453, -0.030083545441994763, 0.019244020616042384, -0.029087390043734687, -0.020362399868165237, 0.009375466185905179, 0.03714131644118303, 0.028256099771066634, 0.03660055147042017, 0.023677733393123207, 0.014393404353792633, -0.0026093725275992616, -0.0037768965534675583, -0.0496646913708822, -0.021870806424335056, 0.03190318995406542, -0.017051228643566528, -0.01655094880845919, -0.034817065601542733, 0.024085270419558158, 0.019429709603859868, -0.0005553337718371271, -0.020555190589090524, -0.021834478990904585, -0.016392790047840035, 0.02217160364827092, 0.03783211404006091, 0.01450093208500211, 0.025051587677388035, 9.810738398934038e-05, 0.03598156530443483, -0.024693704451979173, -0.007856181859716281, 0.045835218907433, -0.026843685002778662, 0.03134361165211405, 0.03715106979538714, -0.038257762698352564, -0.014017205493310737, -0.013598854167005514, 0.001989055535382686, -0.04595384953471379, -0.013294159924007065, 0.0002460035074536293]}, {\"line\": {\"color\": \"#377eb8\"}, \"name\": \"versicolor density\", \"type\": \"scatter\", \"x\": [-1.0, -0.9595959595959596, -0.9191919191919192, -0.8787878787878788, -0.8383838383838383, -0.797979797979798, -0.7575757575757576, -0.7171717171717171, -0.6767676767676767, -0.6363636363636364, -0.5959595959595959, -0.5555555555555556, -0.5151515151515151, -0.4747474747474747, -0.43434343434343425, -0.3939393939393939, -0.3535353535353535, -0.31313131313131304, -0.2727272727272727, -0.23232323232323226, -0.19191919191919182, -0.1515151515151515, -0.11111111111111105, -0.07070707070707061, -0.030303030303030276, 0.010101010101010166, 0.05050505050505061, 0.09090909090909105, 0.1313131313131315, 0.1717171717171717, 0.21212121212121215, 0.2525252525252526, 0.29292929292929304, 0.3333333333333335, 0.3737373737373739, 0.41414141414141437, 0.4545454545454546, 0.49494949494949503, 0.5353535353535355, 0.5757575757575759, 0.6161616161616164, 0.6565656565656568, 0.696969696969697, 0.7373737373737375, 0.7777777777777779, 0.8181818181818183, 0.8585858585858588, 0.8989898989898992, 0.9393939393939394, 0.9797979797979799, 1.0202020202020203, 1.060606060606061, 1.1010101010101012, 1.1414141414141414, 1.181818181818182, 1.2222222222222223, 1.262626262626263, 1.3030303030303032, 1.3434343434343434, 1.383838383838384, 1.4242424242424243, 1.464646464646465, 1.5050505050505052, 1.5454545454545459, 1.585858585858586, 1.6262626262626263, 1.666666666666667, 1.7070707070707072, 1.7474747474747478, 1.787878787878788, 1.8282828282828287, 1.868686868686869, 1.9090909090909092, 1.9494949494949498, 1.98989898989899, 2.0303030303030307, 2.070707070707071, 2.111111111111111, 2.151515151515152, 2.191919191919192, 2.2323232323232327, 2.272727272727273, 2.3131313131313136, 2.353535353535354, 2.393939393939394, 2.4343434343434347, 2.474747474747475, 2.5151515151515156, 2.555555555555556, 2.5959595959595965, 2.6363636363636367, 2.676767676767677, 2.7171717171717176, 2.757575757575758, 2.7979797979797985, 2.8383838383838387, 2.878787878787879, 2.9191919191919196, 2.95959595959596, 3.0], \"y\": [7.729327711165107e-88, 2.302200195640108e-84, 5.824336588376162e-81, 1.251560523823327e-77, 2.2843321961756455e-74, 3.5413485922412036e-71, 4.663157772180195e-68, 5.215471227396356e-65, 4.954604716757234e-62, 3.997849892553401e-59, 2.7399710229161135e-56, 1.5950249148913434e-53, 7.886621328489765e-51, 3.3121997834302925e-48, 1.1815281692085214e-45, 3.579922789525386e-43, 9.213089058196053e-41, 2.013904703494862e-38, 3.739164855375409e-36, 5.896745420417242e-34, 7.898638536903875e-32, 8.9865757315607e-30, 8.68437236432397e-28, 7.128282895247404e-26, 4.9697420579634874e-24, 2.9429671142613256e-22, 1.4802665360130087e-20, 6.32408723291256e-19, 2.2948795755936156e-17, 7.073382055839442e-16, 1.8518298024539866e-14, 4.1179788533775676e-13, 7.778211906461132e-12, 1.2479389164425988e-10, 1.7007195490517821e-09, 1.9688370428515083e-08, 1.9361649193439644e-07, 1.617547998781311e-06, 1.1481389942126244e-05, 6.924920015669114e-05, 0.0003549845592944835, 0.0015470953874281445, 0.005735202356082315, 0.018097923186476322, 0.048669967910040385, 0.11174841100389284, 0.2197111622733703, 0.3717179109203947, 0.5456624972108944, 0.705025553943391, 0.821687592202004, 0.8981975578458765, 0.9690139822007976, 1.0771976549262796, 1.2433419909280454, 1.4484791132166195, 1.642623374556726, 1.7741913728069747, 1.8196246324684062, 1.789471473948263, 1.707117634173826, 1.583596773587802, 1.4146002447063921, 1.1991073874940439, 0.9555111000931622, 0.7175317927592454, 0.5161122971521912, 0.36511027810178576, 0.2601874448823601, 0.18738105472957894, 0.1330852285806084, 0.0896338402177413, 0.05517505931209777, 0.030216127563471508, 0.014466946010499788, 0.005990564255280282, 0.002131248919463826, 0.0006487743784331691, 0.00016854858994957826, 3.730892240238189e-05, 7.029003117003287e-06, 1.1263315004609952e-06, 1.534375697042696e-07, 1.776474922402222e-08, 1.7476781250333847e-09, 1.4607674822079057e-10, 1.0372408090427725e-11, 6.256498864656617e-13, 3.2056740316941464e-14, 1.3951862431648912e-15, 5.157773404273693e-17, 1.6195878609287494e-18, 4.3197197141374985e-20, 9.786179292765956e-22, 1.8831105045257276e-23, 3.077814747351092e-25, 4.27279943633604e-27, 5.03831657361886e-29, 5.046159927603437e-31, 4.292783469047493e-33]}, {\"marker\": {\"color\": \"#ffffff\", \"line\": {\"color\": \"#377eb8\", \"width\": 1}}, \"mode\": \"markers\", \"name\": \"versicolor data\", \"opacity\": 0.7, \"type\": \"scatter\", \"x\": [1.4, 1.5, 1.5, 1.3, 1.5, 1.3, 1.6, 1.0, 1.3, 1.4, 1.0, 1.5, 1.0, 1.4, 1.3, 1.4, 1.5, 1.0, 1.5, 1.1, 1.8, 1.3, 1.5, 1.2, 1.3, 1.4, 1.4, 1.7, 1.5, 1.0, 1.1, 1.0, 1.2, 1.6, 1.5, 1.6, 1.5, 1.3, 1.3, 1.3, 1.2, 1.4, 1.2, 1.0, 1.3, 1.2, 1.3, 1.3, 1.1, 1.3], \"y\": [0.005868383696857785, -0.041480832491151566, 0.003608060191325882, 0.017936386449068115, 0.04385197276708974, -0.0065477642657853705, 0.0423962292482694, 0.0285277546520184, 0.03542012296342731, 0.005842102712894516, -0.04622359064605796, -0.029045953321166385, -0.0015403174426939503, 0.014892156767570053, 0.013930058695832553, 0.022602452226231806, -0.019013533795384376, 0.04563877604249883, 0.03984129973390664, 0.007380110454305741, -0.0012748499213596012, 0.004648229608226764, -0.04810639483492211, -0.018211523592821223, -0.0439671531969731, 0.047971970594334876, 0.030912019926456674, -0.033950382748512545, 0.021871322694005366, -0.025732561619872276, -0.03523705972047386, 0.008253963013654789, 0.048783995242555805, -0.00442752149035093, 0.007943945874956004, -0.02760679779513492, 0.011877676539562752, 0.03379167720003509, -0.04409036936401998, -0.03578681624305206, -0.03479483540059073, -0.008756346026310723, 0.038215257681900705, 0.01575540505180427, 0.04214306031932229, 0.023296327721433863, 0.004133881398107386, -0.02902764353623525, -0.01223432963583606, -0.02958931152984161]}, {\"line\": {\"color\": \"#4daf4a\"}, \"name\": \"virginica density\", \"type\": \"scatter\", \"x\": [-1.0, -0.9595959595959596, -0.9191919191919192, -0.8787878787878788, -0.8383838383838383, -0.797979797979798, -0.7575757575757576, -0.7171717171717171, -0.6767676767676767, -0.6363636363636364, -0.5959595959595959, -0.5555555555555556, -0.5151515151515151, -0.4747474747474747, -0.43434343434343425, -0.3939393939393939, -0.3535353535353535, -0.31313131313131304, -0.2727272727272727, -0.23232323232323226, -0.19191919191919182, -0.1515151515151515, -0.11111111111111105, -0.07070707070707061, -0.030303030303030276, 0.010101010101010166, 0.05050505050505061, 0.09090909090909105, 0.1313131313131315, 0.1717171717171717, 0.21212121212121215, 0.2525252525252526, 0.29292929292929304, 0.3333333333333335, 0.3737373737373739, 0.41414141414141437, 0.4545454545454546, 0.49494949494949503, 0.5353535353535355, 0.5757575757575759, 0.6161616161616164, 0.6565656565656568, 0.696969696969697, 0.7373737373737375, 0.7777777777777779, 0.8181818181818183, 0.8585858585858588, 0.8989898989898992, 0.9393939393939394, 0.9797979797979799, 1.0202020202020203, 1.060606060606061, 1.1010101010101012, 1.1414141414141414, 1.181818181818182, 1.2222222222222223, 1.262626262626263, 1.3030303030303032, 1.3434343434343434, 1.383838383838384, 1.4242424242424243, 1.464646464646465, 1.5050505050505052, 1.5454545454545459, 1.585858585858586, 1.6262626262626263, 1.666666666666667, 1.7070707070707072, 1.7474747474747478, 1.787878787878788, 1.8282828282828287, 1.868686868686869, 1.9090909090909092, 1.9494949494949498, 1.98989898989899, 2.0303030303030307, 2.070707070707071, 2.111111111111111, 2.151515151515152, 2.191919191919192, 2.2323232323232327, 2.272727272727273, 2.3131313131313136, 2.353535353535354, 2.393939393939394, 2.4343434343434347, 2.474747474747475, 2.5151515151515156, 2.555555555555556, 2.5959595959595965, 2.6363636363636367, 2.676767676767677, 2.7171717171717176, 2.757575757575758, 2.7979797979797985, 2.8383838383838387, 2.878787878787879, 2.9191919191919196, 2.95959595959596, 3.0], \"y\": [6.685428883895453e-127, 1.0023530366802297e-122, 1.2764804286058598e-118, 1.3807327414359133e-114, 1.2685485679656486e-110, 9.899347923951464e-107, 6.561574893262378e-103, 3.694125155496122e-99, 1.766514200576463e-95, 7.175045738613258e-92, 2.4753363982786508e-88, 7.253469597366498e-85, 1.805341541157142e-81, 3.816585264569007e-78, 6.853186907656262e-75, 1.0452307978166835e-71, 1.3540472932707051e-68, 1.4899012483166405e-65, 1.39246135428585e-62, 1.1053780472977428e-59, 7.453161635641601e-57, 4.268470339164028e-54, 2.076376117320589e-51, 8.579101751523962e-49, 3.0107844288035494e-46, 8.974692355916199e-44, 2.2722785690843335e-41, 4.886587814878705e-39, 8.925900387539182e-37, 1.384843338992845e-34, 1.8249529562312457e-32, 2.0427034317815967e-30, 1.9420565957527e-28, 1.5682735401825498e-26, 1.0756866856357292e-24, 6.266929768288546e-23, 3.101204703039722e-21, 1.3035115420308586e-19, 4.653841280518708e-18, 1.4113202831707128e-16, 3.635503348368836e-15, 7.954994347482627e-14, 1.4786610805538858e-12, 2.3349436617073447e-11, 3.1325743764493194e-10, 3.571089386046737e-09, 3.4598691135882516e-08, 2.849740545440083e-07, 1.9963036135354135e-06, 1.1901543029934484e-05, 6.044319657701124e-05, 0.00026185505429916436, 0.0009696443612883103, 0.0030777500339669033, 0.008406689775925272, 0.019863440751000837, 0.04086904654562559, 0.07379967615567731, 0.1179724582780311, 0.1684351603113128, 0.2168148037781811, 0.2547801459675182, 0.27958900536615533, 0.29969199277021225, 0.3367455606761001, 0.4198584191511845, 0.570371293199418, 0.7827050452070549, 1.015789686154806, 1.2086837186918853, 1.3151935503770409, 1.3308403454204665, 1.2889053326829474, 1.2312070457626614, 1.1812195516869308, 1.1394679502787743, 1.097885138627708, 1.0562196982628402, 1.0261137708942156, 1.0197874370187283, 1.0335423798264138, 1.0430433097468461, 1.0179811527694655, 0.94368465803498, 0.8289833483820501, 0.6946975296159351, 0.5574601955184122, 0.42481024488338387, 0.3013385824984967, 0.19423220624381127, 0.11136565433319687, 0.055908835858713805, 0.024314019939665595, 0.00909613031356904, 0.0029143481203370695, 0.0007973832288957164, 0.00018596467959152436, 3.692401666253832e-05, 6.236776201070705e-06, 8.956918571357238e-07]}, {\"marker\": {\"color\": \"#ffffff\", \"line\": {\"color\": \"#4daf4a\", \"width\": 1}}, \"mode\": \"markers\", \"name\": \"virginica data\", \"opacity\": 0.7, \"type\": \"scatter\", \"x\": [2.5, 1.9, 2.1, 1.8, 2.2, 2.1, 1.7, 1.8, 1.8, 2.5, 2.0, 1.9, 2.1, 2.0, 2.4, 2.3, 1.8, 2.2, 2.3, 1.5, 2.3, 2.0, 2.0, 1.8, 2.1, 1.8, 1.8, 1.8, 2.1, 1.6, 1.9, 2.0, 2.2, 1.5, 1.4, 2.3, 2.4, 1.8, 1.8, 2.1, 2.4, 2.3, 1.9, 2.3, 2.5, 2.3, 1.9, 2.0, 2.3, 1.8], \"y\": [-0.010409630912044554, 0.00996672130421302, -0.019819070270985763, -0.0014735003668570473, 0.01796275165088687, -0.04040890124360962, -0.0020276035721427457, -0.03450570449768257, 0.011117830948230198, -0.04181028674893157, -0.03220286067622666, 0.02801609463057257, 0.04231016335081482, 0.012095364448483338, 0.0408082237732232, -0.024681754189184557, 0.0411195775151255, 0.04678486432608206, 0.0381530511013274, 0.04571341797975409, -0.015760176926193206, 0.04437137985505722, 0.019120105221179698, -0.041022521234642964, 0.04781118722261339, 0.005815094473768302, -0.004510071863388768, -0.014082087114906272, 0.027494268016781565, -0.018158105520985825, 0.008566843521344382, 0.04083730441913777, 0.014637919486122142, -0.022932609435537835, 0.028787920340901815, 0.0008590090324242933, 0.042340399520036445, 0.01701738405919903, -0.015057673941568976, 0.03282267895572526, 0.03140436041462094, -0.026693462612969832, -0.03312187086478788, -0.027155809810256407, 0.010959504097927841, 0.03246708771045351, -0.03753136951569839, -0.023365962214743952, 0.0003793127868405577, -0.011412197947749989]}],\n",
       "                        {\"template\": {\"data\": {\"bar\": [{\"error_x\": {\"color\": \"#2a3f5f\"}, \"error_y\": {\"color\": \"#2a3f5f\"}, \"marker\": {\"line\": {\"color\": \"white\", \"width\": 0.5}}, \"type\": \"bar\"}], \"barpolar\": [{\"marker\": {\"line\": {\"color\": \"white\", \"width\": 0.5}}, \"type\": \"barpolar\"}], \"carpet\": [{\"aaxis\": {\"endlinecolor\": \"#2a3f5f\", \"gridcolor\": \"#C8D4E3\", \"linecolor\": \"#C8D4E3\", \"minorgridcolor\": \"#C8D4E3\", \"startlinecolor\": \"#2a3f5f\"}, \"baxis\": {\"endlinecolor\": \"#2a3f5f\", \"gridcolor\": \"#C8D4E3\", \"linecolor\": \"#C8D4E3\", \"minorgridcolor\": \"#C8D4E3\", \"startlinecolor\": \"#2a3f5f\"}, \"type\": \"carpet\"}], \"choropleth\": [{\"colorbar\": {\"outlinewidth\": 0, \"ticks\": \"\"}, \"type\": \"choropleth\"}], \"contour\": [{\"colorbar\": {\"outlinewidth\": 0, \"ticks\": \"\"}, \"colorscale\": [[0.0, \"#0d0887\"], [0.1111111111111111, \"#46039f\"], [0.2222222222222222, \"#7201a8\"], [0.3333333333333333, \"#9c179e\"], [0.4444444444444444, \"#bd3786\"], [0.5555555555555556, \"#d8576b\"], [0.6666666666666666, \"#ed7953\"], [0.7777777777777778, \"#fb9f3a\"], [0.8888888888888888, \"#fdca26\"], [1.0, \"#f0f921\"]], \"type\": \"contour\"}], \"contourcarpet\": [{\"colorbar\": {\"outlinewidth\": 0, \"ticks\": \"\"}, \"type\": \"contourcarpet\"}], \"heatmap\": [{\"colorbar\": {\"outlinewidth\": 0, \"ticks\": \"\"}, \"colorscale\": [[0.0, \"#0d0887\"], [0.1111111111111111, \"#46039f\"], [0.2222222222222222, \"#7201a8\"], [0.3333333333333333, \"#9c179e\"], [0.4444444444444444, \"#bd3786\"], [0.5555555555555556, \"#d8576b\"], [0.6666666666666666, \"#ed7953\"], [0.7777777777777778, \"#fb9f3a\"], [0.8888888888888888, \"#fdca26\"], [1.0, \"#f0f921\"]], \"type\": \"heatmap\"}], \"heatmapgl\": [{\"colorbar\": {\"outlinewidth\": 0, \"ticks\": \"\"}, \"colorscale\": [[0.0, \"#0d0887\"], [0.1111111111111111, \"#46039f\"], [0.2222222222222222, \"#7201a8\"], [0.3333333333333333, \"#9c179e\"], [0.4444444444444444, \"#bd3786\"], [0.5555555555555556, \"#d8576b\"], [0.6666666666666666, \"#ed7953\"], [0.7777777777777778, \"#fb9f3a\"], [0.8888888888888888, \"#fdca26\"], [1.0, \"#f0f921\"]], \"type\": \"heatmapgl\"}], \"histogram\": [{\"marker\": {\"colorbar\": {\"outlinewidth\": 0, \"ticks\": \"\"}}, \"type\": \"histogram\"}], \"histogram2d\": [{\"colorbar\": {\"outlinewidth\": 0, \"ticks\": \"\"}, \"colorscale\": [[0.0, \"#0d0887\"], [0.1111111111111111, \"#46039f\"], [0.2222222222222222, \"#7201a8\"], [0.3333333333333333, \"#9c179e\"], [0.4444444444444444, \"#bd3786\"], [0.5555555555555556, \"#d8576b\"], [0.6666666666666666, \"#ed7953\"], [0.7777777777777778, \"#fb9f3a\"], [0.8888888888888888, \"#fdca26\"], [1.0, \"#f0f921\"]], \"type\": \"histogram2d\"}], \"histogram2dcontour\": [{\"colorbar\": {\"outlinewidth\": 0, \"ticks\": \"\"}, \"colorscale\": [[0.0, \"#0d0887\"], [0.1111111111111111, \"#46039f\"], [0.2222222222222222, \"#7201a8\"], [0.3333333333333333, \"#9c179e\"], [0.4444444444444444, \"#bd3786\"], [0.5555555555555556, \"#d8576b\"], [0.6666666666666666, \"#ed7953\"], [0.7777777777777778, \"#fb9f3a\"], [0.8888888888888888, \"#fdca26\"], [1.0, \"#f0f921\"]], \"type\": \"histogram2dcontour\"}], \"mesh3d\": [{\"colorbar\": {\"outlinewidth\": 0, \"ticks\": \"\"}, \"type\": \"mesh3d\"}], \"parcoords\": [{\"line\": {\"colorbar\": {\"outlinewidth\": 0, \"ticks\": \"\"}}, \"type\": \"parcoords\"}], \"pie\": [{\"automargin\": true, \"type\": \"pie\"}], \"scatter\": [{\"marker\": {\"colorbar\": {\"outlinewidth\": 0, \"ticks\": \"\"}}, \"type\": \"scatter\"}], \"scatter3d\": [{\"line\": {\"colorbar\": {\"outlinewidth\": 0, \"ticks\": \"\"}}, \"marker\": {\"colorbar\": {\"outlinewidth\": 0, \"ticks\": \"\"}}, \"type\": \"scatter3d\"}], \"scattercarpet\": [{\"marker\": {\"colorbar\": {\"outlinewidth\": 0, \"ticks\": \"\"}}, \"type\": \"scattercarpet\"}], \"scattergeo\": [{\"marker\": {\"colorbar\": {\"outlinewidth\": 0, \"ticks\": \"\"}}, \"type\": \"scattergeo\"}], \"scattergl\": [{\"marker\": {\"colorbar\": {\"outlinewidth\": 0, \"ticks\": \"\"}}, \"type\": \"scattergl\"}], \"scattermapbox\": [{\"marker\": {\"colorbar\": {\"outlinewidth\": 0, \"ticks\": \"\"}}, \"type\": \"scattermapbox\"}], \"scatterpolar\": [{\"marker\": {\"colorbar\": {\"outlinewidth\": 0, \"ticks\": \"\"}}, \"type\": \"scatterpolar\"}], \"scatterpolargl\": [{\"marker\": {\"colorbar\": {\"outlinewidth\": 0, \"ticks\": \"\"}}, \"type\": \"scatterpolargl\"}], \"scatterternary\": [{\"marker\": {\"colorbar\": {\"outlinewidth\": 0, \"ticks\": \"\"}}, \"type\": \"scatterternary\"}], \"surface\": [{\"colorbar\": {\"outlinewidth\": 0, \"ticks\": \"\"}, \"colorscale\": [[0.0, \"#0d0887\"], [0.1111111111111111, \"#46039f\"], [0.2222222222222222, \"#7201a8\"], [0.3333333333333333, \"#9c179e\"], [0.4444444444444444, \"#bd3786\"], [0.5555555555555556, \"#d8576b\"], [0.6666666666666666, \"#ed7953\"], [0.7777777777777778, \"#fb9f3a\"], [0.8888888888888888, \"#fdca26\"], [1.0, \"#f0f921\"]], \"type\": \"surface\"}], \"table\": [{\"cells\": {\"fill\": {\"color\": \"#EBF0F8\"}, \"line\": {\"color\": \"white\"}}, \"header\": {\"fill\": {\"color\": \"#C8D4E3\"}, \"line\": {\"color\": \"white\"}}, \"type\": \"table\"}]}, \"layout\": {\"annotationdefaults\": {\"arrowcolor\": \"#2a3f5f\", \"arrowhead\": 0, \"arrowwidth\": 1}, \"coloraxis\": {\"colorbar\": {\"outlinewidth\": 0, \"ticks\": \"\"}}, \"colorscale\": {\"diverging\": [[0, \"#8e0152\"], [0.1, \"#c51b7d\"], [0.2, \"#de77ae\"], [0.3, \"#f1b6da\"], [0.4, \"#fde0ef\"], [0.5, \"#f7f7f7\"], [0.6, \"#e6f5d0\"], [0.7, \"#b8e186\"], [0.8, \"#7fbc41\"], [0.9, \"#4d9221\"], [1, \"#276419\"]], \"sequential\": [[0.0, \"#0d0887\"], [0.1111111111111111, \"#46039f\"], [0.2222222222222222, \"#7201a8\"], [0.3333333333333333, \"#9c179e\"], [0.4444444444444444, \"#bd3786\"], [0.5555555555555556, \"#d8576b\"], [0.6666666666666666, \"#ed7953\"], [0.7777777777777778, \"#fb9f3a\"], [0.8888888888888888, \"#fdca26\"], [1.0, \"#f0f921\"]], \"sequentialminus\": [[0.0, \"#0d0887\"], [0.1111111111111111, \"#46039f\"], [0.2222222222222222, \"#7201a8\"], [0.3333333333333333, \"#9c179e\"], [0.4444444444444444, \"#bd3786\"], [0.5555555555555556, \"#d8576b\"], [0.6666666666666666, \"#ed7953\"], [0.7777777777777778, \"#fb9f3a\"], [0.8888888888888888, \"#fdca26\"], [1.0, \"#f0f921\"]]}, \"colorway\": [\"#636efa\", \"#EF553B\", \"#00cc96\", \"#ab63fa\", \"#FFA15A\", \"#19d3f3\", \"#FF6692\", \"#B6E880\", \"#FF97FF\", \"#FECB52\"], \"font\": {\"color\": \"#2a3f5f\"}, \"geo\": {\"bgcolor\": \"white\", \"lakecolor\": \"white\", \"landcolor\": \"white\", \"showlakes\": true, \"showland\": true, \"subunitcolor\": \"#C8D4E3\"}, \"hoverlabel\": {\"align\": \"left\"}, \"hovermode\": \"closest\", \"mapbox\": {\"style\": \"light\"}, \"paper_bgcolor\": \"white\", \"plot_bgcolor\": \"white\", \"polar\": {\"angularaxis\": {\"gridcolor\": \"#EBF0F8\", \"linecolor\": \"#EBF0F8\", \"ticks\": \"\"}, \"bgcolor\": \"white\", \"radialaxis\": {\"gridcolor\": \"#EBF0F8\", \"linecolor\": \"#EBF0F8\", \"ticks\": \"\"}}, \"scene\": {\"xaxis\": {\"backgroundcolor\": \"white\", \"gridcolor\": \"#DFE8F3\", \"gridwidth\": 2, \"linecolor\": \"#EBF0F8\", \"showbackground\": true, \"ticks\": \"\", \"zerolinecolor\": \"#EBF0F8\"}, \"yaxis\": {\"backgroundcolor\": \"white\", \"gridcolor\": \"#DFE8F3\", \"gridwidth\": 2, \"linecolor\": \"#EBF0F8\", \"showbackground\": true, \"ticks\": \"\", \"zerolinecolor\": \"#EBF0F8\"}, \"zaxis\": {\"backgroundcolor\": \"white\", \"gridcolor\": \"#DFE8F3\", \"gridwidth\": 2, \"linecolor\": \"#EBF0F8\", \"showbackground\": true, \"ticks\": \"\", \"zerolinecolor\": \"#EBF0F8\"}}, \"shapedefaults\": {\"line\": {\"color\": \"#2a3f5f\"}}, \"ternary\": {\"aaxis\": {\"gridcolor\": \"#DFE8F3\", \"linecolor\": \"#A2B1C6\", \"ticks\": \"\"}, \"baxis\": {\"gridcolor\": \"#DFE8F3\", \"linecolor\": \"#A2B1C6\", \"ticks\": \"\"}, \"bgcolor\": \"white\", \"caxis\": {\"gridcolor\": \"#DFE8F3\", \"linecolor\": \"#A2B1C6\", \"ticks\": \"\"}}, \"title\": {\"x\": 0.05}, \"xaxis\": {\"automargin\": true, \"gridcolor\": \"#EBF0F8\", \"linecolor\": \"#EBF0F8\", \"ticks\": \"\", \"title\": {\"standoff\": 15}, \"zerolinecolor\": \"#EBF0F8\", \"zerolinewidth\": 2}, \"yaxis\": {\"automargin\": true, \"gridcolor\": \"#EBF0F8\", \"linecolor\": \"#EBF0F8\", \"ticks\": \"\", \"title\": {\"standoff\": 15}, \"zerolinecolor\": \"#EBF0F8\", \"zerolinewidth\": 2}}}, \"title\": {\"text\": \"Petal Width Distribution By Class (h = 0.1)\"}},\n",
       "                        {\"responsive\": true}\n",
       "                    ).then(function(){\n",
       "                            \n",
       "var gd = document.getElementById('2541d3eb-ae8f-4f86-ae79-9d8d0a12b202');\n",
       "var x = new MutationObserver(function (mutations, observer) {{\n",
       "        var display = window.getComputedStyle(gd).display;\n",
       "        if (!display || display === 'none') {{\n",
       "            console.log([gd, 'removed!']);\n",
       "            Plotly.purge(gd);\n",
       "            observer.disconnect();\n",
       "        }}\n",
       "}});\n",
       "\n",
       "// Listen for the removal of the full notebook cells\n",
       "var notebookContainer = gd.closest('#notebook-container');\n",
       "if (notebookContainer) {{\n",
       "    x.observe(notebookContainer, {childList: true});\n",
       "}}\n",
       "\n",
       "// Listen for the clearing of the current output cell\n",
       "var outputEl = gd.closest('.output');\n",
       "if (outputEl) {{\n",
       "    x.observe(outputEl, {childList: true});\n",
       "}}\n",
       "\n",
       "                        })\n",
       "                };\n",
       "                });\n",
       "            </script>\n",
       "        </div>"
      ]
     },
     "metadata": {},
     "output_type": "display_data"
    }
   ],
   "source": [
    "species = [\"setosa\", \"versicolor\", \"virginica\"]\n",
    "color_map: Dict[str, str] = dict(\n",
    "    setosa = \"#e41a1c\",\n",
    "    versicolor = \"#377eb8\",\n",
    "    virginica = \"#4daf4a\"\n",
    ") \n",
    "f10 = Parzen.plot1D(raw_data, np.linspace(-1, 3, 100), 3, 0.1, species, color_map)\n",
    "f10.update_layout(title = \"Petal Width Distribution By Class (h = 0.1)\")\n",
    "f10.show()"
   ]
  },
  {
   "cell_type": "code",
   "execution_count": 12,
   "metadata": {},
   "outputs": [
    {
     "data": {
      "application/vnd.plotly.v1+json": {
       "config": {
        "plotlyServerURL": "https://plot.ly"
       },
       "data": [
        {
         "line": {
          "color": "#e41a1c"
         },
         "name": "setosa density",
         "type": "scatter",
         "x": [
          -1,
          -0.9595959595959596,
          -0.9191919191919192,
          -0.8787878787878788,
          -0.8383838383838383,
          -0.797979797979798,
          -0.7575757575757576,
          -0.7171717171717171,
          -0.6767676767676767,
          -0.6363636363636364,
          -0.5959595959595959,
          -0.5555555555555556,
          -0.5151515151515151,
          -0.4747474747474747,
          -0.43434343434343425,
          -0.3939393939393939,
          -0.3535353535353535,
          -0.31313131313131304,
          -0.2727272727272727,
          -0.23232323232323226,
          -0.19191919191919182,
          -0.1515151515151515,
          -0.11111111111111105,
          -0.07070707070707061,
          -0.030303030303030276,
          0.010101010101010166,
          0.05050505050505061,
          0.09090909090909105,
          0.1313131313131315,
          0.1717171717171717,
          0.21212121212121215,
          0.2525252525252526,
          0.29292929292929304,
          0.3333333333333335,
          0.3737373737373739,
          0.41414141414141437,
          0.4545454545454546,
          0.49494949494949503,
          0.5353535353535355,
          0.5757575757575759,
          0.6161616161616164,
          0.6565656565656568,
          0.696969696969697,
          0.7373737373737375,
          0.7777777777777779,
          0.8181818181818183,
          0.8585858585858588,
          0.8989898989898992,
          0.9393939393939394,
          0.9797979797979799,
          1.0202020202020203,
          1.060606060606061,
          1.1010101010101012,
          1.1414141414141414,
          1.181818181818182,
          1.2222222222222223,
          1.262626262626263,
          1.3030303030303032,
          1.3434343434343434,
          1.383838383838384,
          1.4242424242424243,
          1.464646464646465,
          1.5050505050505052,
          1.5454545454545459,
          1.585858585858586,
          1.6262626262626263,
          1.666666666666667,
          1.7070707070707072,
          1.7474747474747478,
          1.787878787878788,
          1.8282828282828287,
          1.868686868686869,
          1.9090909090909092,
          1.9494949494949498,
          1.98989898989899,
          2.0303030303030307,
          2.070707070707071,
          2.111111111111111,
          2.151515151515152,
          2.191919191919192,
          2.2323232323232327,
          2.272727272727273,
          2.3131313131313136,
          2.353535353535354,
          2.393939393939394,
          2.4343434343434347,
          2.474747474747475,
          2.5151515151515156,
          2.555555555555556,
          2.5959595959595965,
          2.6363636363636367,
          2.676767676767677,
          2.7171717171717176,
          2.757575757575758,
          2.7979797979797985,
          2.8383838383838387,
          2.878787878787879,
          2.9191919191919196,
          2.95959595959596,
          3
         ],
         "y": [
          1.9502569837070068e-05,
          4.052889894336728e-05,
          8.215453203605157e-05,
          0.00016244251780345387,
          0.0003133118799269278,
          0.0005894817327857143,
          0.0010819010238870836,
          0.0019370277952866766,
          0.0033831635791032565,
          0.005764438847045009,
          0.009581789074623969,
          0.01553821407652594,
          0.024582773748857662,
          0.03794438595544113,
          0.05714313608190284,
          0.0839644189778091,
          0.12038101315186399,
          0.16841135638997745,
          0.22990971124333184,
          0.3062956212007161,
          0.3982449018742087,
          0.5053798709729206,
          0.6260089749695521,
          0.7569713977090201,
          0.893637288687386,
          1.0300974318725111,
          1.159548755923379,
          1.2748483440186615,
          1.369175200874186,
          1.436713552304885,
          1.473260412194878,
          1.4766671401101354,
          1.447049192191952,
          1.386735509840739,
          1.2999712074787901,
          1.192425572118693,
          1.0705842478800427,
          0.9411152777361805,
          0.8102927913381914,
          0.6835426495894866,
          0.5651468920982893,
          0.45811482959095456,
          0.3642037322459554,
          0.28405500210589324,
          0.21740382628505867,
          0.16332079764105906,
          0.1204506332795143,
          0.0872231101807033,
          0.06202203761955969,
          0.043307532156520605,
          0.02969394367752531,
          0.019990183987009014,
          0.013211194470721404,
          0.00856943472638108,
          0.005454245631772844,
          0.003405334210117443,
          0.00208489152859697,
          0.0012512719812707849,
          0.0007358743602992354,
          0.000423911448253101,
          0.00023911214394959967,
          0.0001320142677737054,
          7.131402720494106e-05,
          3.768010009222272e-05,
          1.946648522249539e-05,
          9.8302598307547e-06,
          4.8508360226291555e-06,
          2.338424759276767e-06,
          1.10096970215291e-06,
          5.061405828577102e-07,
          2.2715267735089657e-07,
          9.950171440009343e-08,
          4.2533579384980144e-08,
          1.7739921521703226e-08,
          7.218153933876445e-09,
          2.8648217687985424e-09,
          1.108955177449664e-09,
          4.1862798867018285e-10,
          1.540983538766603e-10,
          5.5307622287532225e-11,
          1.935328999281145e-11,
          6.602014204072574e-12,
          2.1954423604194945e-12,
          7.116499885493631e-13,
          2.2484698540810564e-13,
          6.924103531309947e-14,
          2.0781532304676297e-14,
          6.0787263767252324e-15,
          1.7328211939304318e-15,
          4.813795212975944e-16,
          1.3031729586621413e-16,
          3.437843952809955e-17,
          8.837512229911452e-18,
          2.213730390149776e-18,
          5.403338438931681e-19,
          1.2850944076089911e-19,
          2.9780821779195693e-20,
          6.72451674364913e-21,
          1.4794584394374765e-21,
          3.171442032822814e-22
         ]
        },
        {
         "marker": {
          "color": "#ffffff",
          "line": {
           "color": "#e41a1c",
           "width": 1
          }
         },
         "mode": "markers",
         "name": "setosa data",
         "opacity": 0.7,
         "type": "scatter",
         "x": [
          0.2,
          0.2,
          0.2,
          0.2,
          0.2,
          0.4,
          0.3,
          0.2,
          0.2,
          0.1,
          0.2,
          0.2,
          0.1,
          0.1,
          0.2,
          0.4,
          0.4,
          0.3,
          0.3,
          0.3,
          0.2,
          0.4,
          0.2,
          0.5,
          0.2,
          0.2,
          0.4,
          0.2,
          0.2,
          0.2,
          0.2,
          0.4,
          0.1,
          0.2,
          0.2,
          0.2,
          0.2,
          0.1,
          0.2,
          0.2,
          0.3,
          0.3,
          0.2,
          0.6,
          0.4,
          0.3,
          0.2,
          0.2,
          0.2,
          0.2
         ],
         "y": [
          -0.009432088542181291,
          0.04749907836318046,
          -0.04474312601426007,
          -0.015432211231619156,
          -0.0337657171733389,
          -0.027639970864129816,
          0.013596010118798837,
          -0.02307637374657684,
          0.0259351033974463,
          -0.04689234588364182,
          0.005220117825557591,
          -0.034247345351430675,
          0.04947425921278388,
          -0.03504101685910202,
          0.01352251635925976,
          0.046874740085222064,
          0.029461724472122572,
          -0.027468537968552212,
          0.032111991633543974,
          0.00037323326472214063,
          -0.009579587548724379,
          -0.0074822329806002105,
          -0.02790406407470716,
          -0.02666465522453352,
          0.04354814886515694,
          -0.035987941163485054,
          0.009929891976804585,
          0.03351157675818099,
          0.003622338083104068,
          0.04313202898306838,
          0.03159319941209769,
          0.036285020126641185,
          0.021690614056764937,
          0.014267607075529695,
          -0.01611503804225161,
          0.022536132211118623,
          0.010861241557849698,
          0.006587970760748851,
          -0.026138919254313477,
          0.04773022297963128,
          -0.04088430865942294,
          0.023555257314026717,
          0.018050454155746146,
          0.017149053414929796,
          -0.0048103222067408385,
          0.024452298747139972,
          0.009264981520972881,
          -0.0013476879214330134,
          -0.04545885932390434,
          0.015002342792338363
         ]
        },
        {
         "line": {
          "color": "#377eb8"
         },
         "name": "versicolor density",
         "type": "scatter",
         "x": [
          -1,
          -0.9595959595959596,
          -0.9191919191919192,
          -0.8787878787878788,
          -0.8383838383838383,
          -0.797979797979798,
          -0.7575757575757576,
          -0.7171717171717171,
          -0.6767676767676767,
          -0.6363636363636364,
          -0.5959595959595959,
          -0.5555555555555556,
          -0.5151515151515151,
          -0.4747474747474747,
          -0.43434343434343425,
          -0.3939393939393939,
          -0.3535353535353535,
          -0.31313131313131304,
          -0.2727272727272727,
          -0.23232323232323226,
          -0.19191919191919182,
          -0.1515151515151515,
          -0.11111111111111105,
          -0.07070707070707061,
          -0.030303030303030276,
          0.010101010101010166,
          0.05050505050505061,
          0.09090909090909105,
          0.1313131313131315,
          0.1717171717171717,
          0.21212121212121215,
          0.2525252525252526,
          0.29292929292929304,
          0.3333333333333335,
          0.3737373737373739,
          0.41414141414141437,
          0.4545454545454546,
          0.49494949494949503,
          0.5353535353535355,
          0.5757575757575759,
          0.6161616161616164,
          0.6565656565656568,
          0.696969696969697,
          0.7373737373737375,
          0.7777777777777779,
          0.8181818181818183,
          0.8585858585858588,
          0.8989898989898992,
          0.9393939393939394,
          0.9797979797979799,
          1.0202020202020203,
          1.060606060606061,
          1.1010101010101012,
          1.1414141414141414,
          1.181818181818182,
          1.2222222222222223,
          1.262626262626263,
          1.3030303030303032,
          1.3434343434343434,
          1.383838383838384,
          1.4242424242424243,
          1.464646464646465,
          1.5050505050505052,
          1.5454545454545459,
          1.585858585858586,
          1.6262626262626263,
          1.666666666666667,
          1.7070707070707072,
          1.7474747474747478,
          1.787878787878788,
          1.8282828282828287,
          1.868686868686869,
          1.9090909090909092,
          1.9494949494949498,
          1.98989898989899,
          2.0303030303030307,
          2.070707070707071,
          2.111111111111111,
          2.151515151515152,
          2.191919191919192,
          2.2323232323232327,
          2.272727272727273,
          2.3131313131313136,
          2.353535353535354,
          2.393939393939394,
          2.4343434343434347,
          2.474747474747475,
          2.5151515151515156,
          2.555555555555556,
          2.5959595959595965,
          2.6363636363636367,
          2.676767676767677,
          2.7171717171717176,
          2.757575757575758,
          2.7979797979797985,
          2.8383838383838387,
          2.878787878787879,
          2.9191919191919196,
          2.95959595959596,
          3
         ],
         "y": [
          2.877511521710862e-15,
          1.036032417142594e-14,
          3.634328523399645e-14,
          1.2421461841035408e-13,
          4.136398264247271e-13,
          1.3420751940865275e-12,
          4.2426806194538665e-12,
          1.3068247761886789e-11,
          3.92204808249129e-11,
          1.1469184304890428e-10,
          3.2680021563656297e-10,
          9.073380193252765e-10,
          2.454711164477534e-09,
          6.471196668849745e-09,
          1.6623829759806297e-08,
          4.161504106594208e-08,
          1.0152057624025932e-07,
          2.4135455902886635e-07,
          5.592029591546682e-07,
          1.2627362998629746e-06,
          2.7790990212843777e-06,
          5.9616287362065124e-06,
          1.2465785513467264e-05,
          2.540947926487263e-05,
          5.049224110537474e-05,
          9.782324234202861e-05,
          0.00018479438787442394,
          0.0003404171325207106,
          0.0006115939606801997,
          0.001071778342764488,
          0.0018323411932876612,
          0.0030566574594400263,
          0.00497641930506261,
          0.007908976219677394,
          0.012273661616012345,
          0.018604228932755883,
          0.02755389570172255,
          0.03988932426966213,
          0.05647036748074348,
          0.07821368185183011,
          0.10604028123156063,
          0.14080947436447752,
          0.1832439209061477,
          0.23385220397724363,
          0.2928559078137997,
          0.36012753932079733,
          0.43514396068377825,
          0.5169578868098005,
          0.6041882133231893,
          0.6950291471685466,
          0.7872785876549939,
          0.878387649013691,
          0.965534774328879,
          1.0457284240079625,
          1.1159408219258422,
          1.173271269804772,
          1.215131503600155,
          1.2394387203348227,
          1.2447960507272178,
          1.2306372225737714,
          1.197313252086536,
          1.146104563592089,
          1.0791512209267902,
          0.99930527078825,
          0.9099203476902105,
          0.8146024963565857,
          0.7169509910726878,
          0.6203180185845155,
          0.5276116858208146,
          0.4411590299397309,
          0.3626362138951058,
          0.2930636992822462,
          0.23285646385904726,
          0.1819142995274895,
          0.13973524610280838,
          0.10553601809570176,
          0.07836614317222981,
          0.05720651657075997,
          0.041047275504033205,
          0.02894360355012112,
          0.020050868052148365,
          0.01364224133628178,
          0.009112748794455849,
          0.005973742255300189,
          0.0038413744962490265,
          0.0024219850495004465,
          0.001496575973533562,
          0.0009058720001608068,
          0.0005368808049293336,
          0.0003114160555660626,
          0.000176715426074657,
          9.80634740557745e-05,
          5.319615046820201e-05,
          2.8199816070467792e-05,
          1.4603966628970008e-05,
          7.386374069728519e-06,
          3.647679599353642e-06,
          1.758437493285453e-06,
          8.273174314296796e-07,
          3.798148168608074e-07
         ]
        },
        {
         "marker": {
          "color": "#ffffff",
          "line": {
           "color": "#377eb8",
           "width": 1
          }
         },
         "mode": "markers",
         "name": "versicolor data",
         "opacity": 0.7,
         "type": "scatter",
         "x": [
          1.4,
          1.5,
          1.5,
          1.3,
          1.5,
          1.3,
          1.6,
          1,
          1.3,
          1.4,
          1,
          1.5,
          1,
          1.4,
          1.3,
          1.4,
          1.5,
          1,
          1.5,
          1.1,
          1.8,
          1.3,
          1.5,
          1.2,
          1.3,
          1.4,
          1.4,
          1.7,
          1.5,
          1,
          1.1,
          1,
          1.2,
          1.6,
          1.5,
          1.6,
          1.5,
          1.3,
          1.3,
          1.3,
          1.2,
          1.4,
          1.2,
          1,
          1.3,
          1.2,
          1.3,
          1.3,
          1.1,
          1.3
         ],
         "y": [
          0.037389297917861566,
          0.005627652113127012,
          -0.013843467529606045,
          -0.022484788860964278,
          0.00363248511298183,
          -0.015321576072731213,
          -0.044210445271340305,
          -0.02289066190964031,
          0.0009930035022210557,
          -0.02056410159192843,
          0.03604235471752294,
          -0.013793722668828279,
          0.016829683408306123,
          0.02850308323812399,
          0.0008430918632170575,
          0.017043507452228282,
          -0.0028734360300102096,
          -0.020259404840128982,
          -0.03002925929515148,
          0.014287330833775452,
          -0.03033278965790829,
          -0.04721134833003701,
          0.007877516173439479,
          -0.03144366992842562,
          -0.02914685838310367,
          0.011641842570994744,
          -0.02044083324735877,
          0.04374343291509608,
          0.016975115184209674,
          0.016685879066253004,
          0.012183973919655103,
          0.03278974524370831,
          0.03493718333930994,
          0.01048675221070964,
          -0.010698032113618673,
          0.0031699399214362017,
          -0.046388443118843985,
          0.01631644601424996,
          -0.03777466137164931,
          -0.007126109893400401,
          0.00015710953926262317,
          0.000761421671275811,
          -0.030306030967641596,
          -0.02789364664589196,
          -0.008023661485929423,
          -0.019846839664814465,
          0.03397213865481463,
          0.03198001249900559,
          -0.03939483580745915,
          0.03293394618147455
         ]
        },
        {
         "line": {
          "color": "#4daf4a"
         },
         "name": "virginica density",
         "type": "scatter",
         "x": [
          -1,
          -0.9595959595959596,
          -0.9191919191919192,
          -0.8787878787878788,
          -0.8383838383838383,
          -0.797979797979798,
          -0.7575757575757576,
          -0.7171717171717171,
          -0.6767676767676767,
          -0.6363636363636364,
          -0.5959595959595959,
          -0.5555555555555556,
          -0.5151515151515151,
          -0.4747474747474747,
          -0.43434343434343425,
          -0.3939393939393939,
          -0.3535353535353535,
          -0.31313131313131304,
          -0.2727272727272727,
          -0.23232323232323226,
          -0.19191919191919182,
          -0.1515151515151515,
          -0.11111111111111105,
          -0.07070707070707061,
          -0.030303030303030276,
          0.010101010101010166,
          0.05050505050505061,
          0.09090909090909105,
          0.1313131313131315,
          0.1717171717171717,
          0.21212121212121215,
          0.2525252525252526,
          0.29292929292929304,
          0.3333333333333335,
          0.3737373737373739,
          0.41414141414141437,
          0.4545454545454546,
          0.49494949494949503,
          0.5353535353535355,
          0.5757575757575759,
          0.6161616161616164,
          0.6565656565656568,
          0.696969696969697,
          0.7373737373737375,
          0.7777777777777779,
          0.8181818181818183,
          0.8585858585858588,
          0.8989898989898992,
          0.9393939393939394,
          0.9797979797979799,
          1.0202020202020203,
          1.060606060606061,
          1.1010101010101012,
          1.1414141414141414,
          1.181818181818182,
          1.2222222222222223,
          1.262626262626263,
          1.3030303030303032,
          1.3434343434343434,
          1.383838383838384,
          1.4242424242424243,
          1.464646464646465,
          1.5050505050505052,
          1.5454545454545459,
          1.585858585858586,
          1.6262626262626263,
          1.666666666666667,
          1.7070707070707072,
          1.7474747474747478,
          1.787878787878788,
          1.8282828282828287,
          1.868686868686869,
          1.9090909090909092,
          1.9494949494949498,
          1.98989898989899,
          2.0303030303030307,
          2.070707070707071,
          2.111111111111111,
          2.151515151515152,
          2.191919191919192,
          2.2323232323232327,
          2.272727272727273,
          2.3131313131313136,
          2.353535353535354,
          2.393939393939394,
          2.4343434343434347,
          2.474747474747475,
          2.5151515151515156,
          2.555555555555556,
          2.5959595959595965,
          2.6363636363636367,
          2.676767676767677,
          2.7171717171717176,
          2.757575757575758,
          2.7979797979797985,
          2.8383838383838387,
          2.878787878787879,
          2.9191919191919196,
          2.95959595959596,
          3
         ],
         "y": [
          3.2266609225171094e-22,
          1.506679780213886e-21,
          6.855170960377872e-21,
          3.0391350003500366e-20,
          1.3128678778875446e-19,
          5.526327735493612e-19,
          2.2667436460365774e-18,
          9.059917391025339e-18,
          3.528648389710877e-17,
          1.3392494508507905e-16,
          4.953253210174073e-16,
          1.7852661597056052e-15,
          6.2705649443104746e-15,
          2.146396461163734e-14,
          7.160141403015995e-14,
          2.3278283565203425e-13,
          7.375778538312696e-13,
          2.277732796428402e-12,
          6.855619722058469e-12,
          2.0111821131271127e-11,
          5.7508124535753994e-11,
          1.6028514860887228e-10,
          4.3546934983160526e-10,
          1.1532858660616736e-09,
          2.977468805046988e-09,
          7.49385382533655e-09,
          1.8387768321799302e-08,
          4.398838648042828e-08,
          1.0260136774297745e-07,
          2.3334420008788625e-07,
          5.174807965772338e-07,
          1.1191074117359762e-06,
          2.3602568415000282e-06,
          4.8550037405935055e-06,
          9.740905481843234e-06,
          1.906468855099495e-05,
          3.6402172321850706e-05,
          6.781802603029834e-05,
          0.000123294605508586,
          0.00021877326348700998,
          0.0003789456836585267,
          0.0006408949595400273,
          0.001058605986600152,
          0.0017082384457276182,
          0.0026938916114118377,
          0.004153413488098971,
          0.006263659500642401,
          0.00924454060959104,
          0.013361264630489578,
          0.018924387364232964,
          0.02628762042246854,
          0.03584369400437189,
          0.04801879226133563,
          0.06326599515219508,
          0.08205765258252093,
          0.10487569369085917,
          0.13219774014592914,
          0.16447595373806537,
          0.2021053392607182,
          0.24537924244143397,
          0.29443227811239087,
          0.3491746979809235,
          0.4092265262492099,
          0.4738634734058795,
          0.5419883390803951,
          0.6121402477263054,
          0.682549228930627,
          0.7512359288608197,
          0.816147158620227,
          0.875309724536702,
          0.9269797745581555,
          0.9697643542310641,
          1.0026964779635357,
          1.0252539223717871,
          1.037323116172446,
          1.0391202883472292,
          1.031089885298398,
          1.0138033866214267,
          0.9878794575441057,
          0.9539396059722667,
          0.9126039599503118,
          0.8645218048058999,
          0.810423430116558,
          0.7511753531201006,
          0.6878208729053665,
          0.6215918806295715,
          0.5538847198140817,
          0.48620092678062254,
          0.4200610533567217,
          0.35690497379930336,
          0.29799422351201926,
          0.24433087772136552,
          0.19660381129489723,
          0.15516792017631642,
          0.12005624993032436,
          0.09102008313492206,
          0.06758867587995371,
          0.04913885975733259,
          0.03496506381351133,
          0.02434205262914958
         ]
        },
        {
         "marker": {
          "color": "#ffffff",
          "line": {
           "color": "#4daf4a",
           "width": 1
          }
         },
         "mode": "markers",
         "name": "virginica data",
         "opacity": 0.7,
         "type": "scatter",
         "x": [
          2.5,
          1.9,
          2.1,
          1.8,
          2.2,
          2.1,
          1.7,
          1.8,
          1.8,
          2.5,
          2,
          1.9,
          2.1,
          2,
          2.4,
          2.3,
          1.8,
          2.2,
          2.3,
          1.5,
          2.3,
          2,
          2,
          1.8,
          2.1,
          1.8,
          1.8,
          1.8,
          2.1,
          1.6,
          1.9,
          2,
          2.2,
          1.5,
          1.4,
          2.3,
          2.4,
          1.8,
          1.8,
          2.1,
          2.4,
          2.3,
          1.9,
          2.3,
          2.5,
          2.3,
          1.9,
          2,
          2.3,
          1.8
         ],
         "y": [
          0.024881978997640566,
          -0.0219965961835932,
          0.03450601189029627,
          -0.0381179295819195,
          0.03390685287819763,
          -0.025701990102257523,
          0.012674723001366045,
          -0.008486720204469465,
          0.007750199499065559,
          0.03855588914295453,
          0.015526582720867516,
          -0.013304094031148288,
          0.03601981814684063,
          0.02823592306243715,
          0.016179627364447002,
          0.009921920074656053,
          0.005292283822827572,
          0.04544599607611656,
          -0.03272938968228331,
          0.013364956439940318,
          -0.033119739086486105,
          -0.020028195754199764,
          0.023337242386569368,
          -0.027624660242638644,
          -0.03569707990247665,
          0.004061915069796064,
          -0.0331597815355079,
          -0.004668031697034149,
          0.0023196143183883966,
          -0.029460702102751635,
          -0.017390551383764996,
          -0.0015121168060866497,
          0.03610653432191889,
          0.032053932478838004,
          -0.009573577555077352,
          -0.038338837944414096,
          -0.013201956840698782,
          -0.022267606672945795,
          0.025747752896796997,
          -0.03917407396350127,
          0.020907408098092856,
          0.007062087030742958,
          -0.021875955574949393,
          0.037452205142208025,
          0.0058970750445283895,
          0.002095623300573099,
          0.005954960794723005,
          -0.007986227912233634,
          -0.049037506607967254,
          0.024671664730017057
         ]
        }
       ],
       "layout": {
        "template": {
         "data": {
          "bar": [
           {
            "error_x": {
             "color": "#2a3f5f"
            },
            "error_y": {
             "color": "#2a3f5f"
            },
            "marker": {
             "line": {
              "color": "white",
              "width": 0.5
             }
            },
            "type": "bar"
           }
          ],
          "barpolar": [
           {
            "marker": {
             "line": {
              "color": "white",
              "width": 0.5
             }
            },
            "type": "barpolar"
           }
          ],
          "carpet": [
           {
            "aaxis": {
             "endlinecolor": "#2a3f5f",
             "gridcolor": "#C8D4E3",
             "linecolor": "#C8D4E3",
             "minorgridcolor": "#C8D4E3",
             "startlinecolor": "#2a3f5f"
            },
            "baxis": {
             "endlinecolor": "#2a3f5f",
             "gridcolor": "#C8D4E3",
             "linecolor": "#C8D4E3",
             "minorgridcolor": "#C8D4E3",
             "startlinecolor": "#2a3f5f"
            },
            "type": "carpet"
           }
          ],
          "choropleth": [
           {
            "colorbar": {
             "outlinewidth": 0,
             "ticks": ""
            },
            "type": "choropleth"
           }
          ],
          "contour": [
           {
            "colorbar": {
             "outlinewidth": 0,
             "ticks": ""
            },
            "colorscale": [
             [
              0,
              "#0d0887"
             ],
             [
              0.1111111111111111,
              "#46039f"
             ],
             [
              0.2222222222222222,
              "#7201a8"
             ],
             [
              0.3333333333333333,
              "#9c179e"
             ],
             [
              0.4444444444444444,
              "#bd3786"
             ],
             [
              0.5555555555555556,
              "#d8576b"
             ],
             [
              0.6666666666666666,
              "#ed7953"
             ],
             [
              0.7777777777777778,
              "#fb9f3a"
             ],
             [
              0.8888888888888888,
              "#fdca26"
             ],
             [
              1,
              "#f0f921"
             ]
            ],
            "type": "contour"
           }
          ],
          "contourcarpet": [
           {
            "colorbar": {
             "outlinewidth": 0,
             "ticks": ""
            },
            "type": "contourcarpet"
           }
          ],
          "heatmap": [
           {
            "colorbar": {
             "outlinewidth": 0,
             "ticks": ""
            },
            "colorscale": [
             [
              0,
              "#0d0887"
             ],
             [
              0.1111111111111111,
              "#46039f"
             ],
             [
              0.2222222222222222,
              "#7201a8"
             ],
             [
              0.3333333333333333,
              "#9c179e"
             ],
             [
              0.4444444444444444,
              "#bd3786"
             ],
             [
              0.5555555555555556,
              "#d8576b"
             ],
             [
              0.6666666666666666,
              "#ed7953"
             ],
             [
              0.7777777777777778,
              "#fb9f3a"
             ],
             [
              0.8888888888888888,
              "#fdca26"
             ],
             [
              1,
              "#f0f921"
             ]
            ],
            "type": "heatmap"
           }
          ],
          "heatmapgl": [
           {
            "colorbar": {
             "outlinewidth": 0,
             "ticks": ""
            },
            "colorscale": [
             [
              0,
              "#0d0887"
             ],
             [
              0.1111111111111111,
              "#46039f"
             ],
             [
              0.2222222222222222,
              "#7201a8"
             ],
             [
              0.3333333333333333,
              "#9c179e"
             ],
             [
              0.4444444444444444,
              "#bd3786"
             ],
             [
              0.5555555555555556,
              "#d8576b"
             ],
             [
              0.6666666666666666,
              "#ed7953"
             ],
             [
              0.7777777777777778,
              "#fb9f3a"
             ],
             [
              0.8888888888888888,
              "#fdca26"
             ],
             [
              1,
              "#f0f921"
             ]
            ],
            "type": "heatmapgl"
           }
          ],
          "histogram": [
           {
            "marker": {
             "colorbar": {
              "outlinewidth": 0,
              "ticks": ""
             }
            },
            "type": "histogram"
           }
          ],
          "histogram2d": [
           {
            "colorbar": {
             "outlinewidth": 0,
             "ticks": ""
            },
            "colorscale": [
             [
              0,
              "#0d0887"
             ],
             [
              0.1111111111111111,
              "#46039f"
             ],
             [
              0.2222222222222222,
              "#7201a8"
             ],
             [
              0.3333333333333333,
              "#9c179e"
             ],
             [
              0.4444444444444444,
              "#bd3786"
             ],
             [
              0.5555555555555556,
              "#d8576b"
             ],
             [
              0.6666666666666666,
              "#ed7953"
             ],
             [
              0.7777777777777778,
              "#fb9f3a"
             ],
             [
              0.8888888888888888,
              "#fdca26"
             ],
             [
              1,
              "#f0f921"
             ]
            ],
            "type": "histogram2d"
           }
          ],
          "histogram2dcontour": [
           {
            "colorbar": {
             "outlinewidth": 0,
             "ticks": ""
            },
            "colorscale": [
             [
              0,
              "#0d0887"
             ],
             [
              0.1111111111111111,
              "#46039f"
             ],
             [
              0.2222222222222222,
              "#7201a8"
             ],
             [
              0.3333333333333333,
              "#9c179e"
             ],
             [
              0.4444444444444444,
              "#bd3786"
             ],
             [
              0.5555555555555556,
              "#d8576b"
             ],
             [
              0.6666666666666666,
              "#ed7953"
             ],
             [
              0.7777777777777778,
              "#fb9f3a"
             ],
             [
              0.8888888888888888,
              "#fdca26"
             ],
             [
              1,
              "#f0f921"
             ]
            ],
            "type": "histogram2dcontour"
           }
          ],
          "mesh3d": [
           {
            "colorbar": {
             "outlinewidth": 0,
             "ticks": ""
            },
            "type": "mesh3d"
           }
          ],
          "parcoords": [
           {
            "line": {
             "colorbar": {
              "outlinewidth": 0,
              "ticks": ""
             }
            },
            "type": "parcoords"
           }
          ],
          "pie": [
           {
            "automargin": true,
            "type": "pie"
           }
          ],
          "scatter": [
           {
            "marker": {
             "colorbar": {
              "outlinewidth": 0,
              "ticks": ""
             }
            },
            "type": "scatter"
           }
          ],
          "scatter3d": [
           {
            "line": {
             "colorbar": {
              "outlinewidth": 0,
              "ticks": ""
             }
            },
            "marker": {
             "colorbar": {
              "outlinewidth": 0,
              "ticks": ""
             }
            },
            "type": "scatter3d"
           }
          ],
          "scattercarpet": [
           {
            "marker": {
             "colorbar": {
              "outlinewidth": 0,
              "ticks": ""
             }
            },
            "type": "scattercarpet"
           }
          ],
          "scattergeo": [
           {
            "marker": {
             "colorbar": {
              "outlinewidth": 0,
              "ticks": ""
             }
            },
            "type": "scattergeo"
           }
          ],
          "scattergl": [
           {
            "marker": {
             "colorbar": {
              "outlinewidth": 0,
              "ticks": ""
             }
            },
            "type": "scattergl"
           }
          ],
          "scattermapbox": [
           {
            "marker": {
             "colorbar": {
              "outlinewidth": 0,
              "ticks": ""
             }
            },
            "type": "scattermapbox"
           }
          ],
          "scatterpolar": [
           {
            "marker": {
             "colorbar": {
              "outlinewidth": 0,
              "ticks": ""
             }
            },
            "type": "scatterpolar"
           }
          ],
          "scatterpolargl": [
           {
            "marker": {
             "colorbar": {
              "outlinewidth": 0,
              "ticks": ""
             }
            },
            "type": "scatterpolargl"
           }
          ],
          "scatterternary": [
           {
            "marker": {
             "colorbar": {
              "outlinewidth": 0,
              "ticks": ""
             }
            },
            "type": "scatterternary"
           }
          ],
          "surface": [
           {
            "colorbar": {
             "outlinewidth": 0,
             "ticks": ""
            },
            "colorscale": [
             [
              0,
              "#0d0887"
             ],
             [
              0.1111111111111111,
              "#46039f"
             ],
             [
              0.2222222222222222,
              "#7201a8"
             ],
             [
              0.3333333333333333,
              "#9c179e"
             ],
             [
              0.4444444444444444,
              "#bd3786"
             ],
             [
              0.5555555555555556,
              "#d8576b"
             ],
             [
              0.6666666666666666,
              "#ed7953"
             ],
             [
              0.7777777777777778,
              "#fb9f3a"
             ],
             [
              0.8888888888888888,
              "#fdca26"
             ],
             [
              1,
              "#f0f921"
             ]
            ],
            "type": "surface"
           }
          ],
          "table": [
           {
            "cells": {
             "fill": {
              "color": "#EBF0F8"
             },
             "line": {
              "color": "white"
             }
            },
            "header": {
             "fill": {
              "color": "#C8D4E3"
             },
             "line": {
              "color": "white"
             }
            },
            "type": "table"
           }
          ]
         },
         "layout": {
          "annotationdefaults": {
           "arrowcolor": "#2a3f5f",
           "arrowhead": 0,
           "arrowwidth": 1
          },
          "coloraxis": {
           "colorbar": {
            "outlinewidth": 0,
            "ticks": ""
           }
          },
          "colorscale": {
           "diverging": [
            [
             0,
             "#8e0152"
            ],
            [
             0.1,
             "#c51b7d"
            ],
            [
             0.2,
             "#de77ae"
            ],
            [
             0.3,
             "#f1b6da"
            ],
            [
             0.4,
             "#fde0ef"
            ],
            [
             0.5,
             "#f7f7f7"
            ],
            [
             0.6,
             "#e6f5d0"
            ],
            [
             0.7,
             "#b8e186"
            ],
            [
             0.8,
             "#7fbc41"
            ],
            [
             0.9,
             "#4d9221"
            ],
            [
             1,
             "#276419"
            ]
           ],
           "sequential": [
            [
             0,
             "#0d0887"
            ],
            [
             0.1111111111111111,
             "#46039f"
            ],
            [
             0.2222222222222222,
             "#7201a8"
            ],
            [
             0.3333333333333333,
             "#9c179e"
            ],
            [
             0.4444444444444444,
             "#bd3786"
            ],
            [
             0.5555555555555556,
             "#d8576b"
            ],
            [
             0.6666666666666666,
             "#ed7953"
            ],
            [
             0.7777777777777778,
             "#fb9f3a"
            ],
            [
             0.8888888888888888,
             "#fdca26"
            ],
            [
             1,
             "#f0f921"
            ]
           ],
           "sequentialminus": [
            [
             0,
             "#0d0887"
            ],
            [
             0.1111111111111111,
             "#46039f"
            ],
            [
             0.2222222222222222,
             "#7201a8"
            ],
            [
             0.3333333333333333,
             "#9c179e"
            ],
            [
             0.4444444444444444,
             "#bd3786"
            ],
            [
             0.5555555555555556,
             "#d8576b"
            ],
            [
             0.6666666666666666,
             "#ed7953"
            ],
            [
             0.7777777777777778,
             "#fb9f3a"
            ],
            [
             0.8888888888888888,
             "#fdca26"
            ],
            [
             1,
             "#f0f921"
            ]
           ]
          },
          "colorway": [
           "#636efa",
           "#EF553B",
           "#00cc96",
           "#ab63fa",
           "#FFA15A",
           "#19d3f3",
           "#FF6692",
           "#B6E880",
           "#FF97FF",
           "#FECB52"
          ],
          "font": {
           "color": "#2a3f5f"
          },
          "geo": {
           "bgcolor": "white",
           "lakecolor": "white",
           "landcolor": "white",
           "showlakes": true,
           "showland": true,
           "subunitcolor": "#C8D4E3"
          },
          "hoverlabel": {
           "align": "left"
          },
          "hovermode": "closest",
          "mapbox": {
           "style": "light"
          },
          "paper_bgcolor": "white",
          "plot_bgcolor": "white",
          "polar": {
           "angularaxis": {
            "gridcolor": "#EBF0F8",
            "linecolor": "#EBF0F8",
            "ticks": ""
           },
           "bgcolor": "white",
           "radialaxis": {
            "gridcolor": "#EBF0F8",
            "linecolor": "#EBF0F8",
            "ticks": ""
           }
          },
          "scene": {
           "xaxis": {
            "backgroundcolor": "white",
            "gridcolor": "#DFE8F3",
            "gridwidth": 2,
            "linecolor": "#EBF0F8",
            "showbackground": true,
            "ticks": "",
            "zerolinecolor": "#EBF0F8"
           },
           "yaxis": {
            "backgroundcolor": "white",
            "gridcolor": "#DFE8F3",
            "gridwidth": 2,
            "linecolor": "#EBF0F8",
            "showbackground": true,
            "ticks": "",
            "zerolinecolor": "#EBF0F8"
           },
           "zaxis": {
            "backgroundcolor": "white",
            "gridcolor": "#DFE8F3",
            "gridwidth": 2,
            "linecolor": "#EBF0F8",
            "showbackground": true,
            "ticks": "",
            "zerolinecolor": "#EBF0F8"
           }
          },
          "shapedefaults": {
           "line": {
            "color": "#2a3f5f"
           }
          },
          "ternary": {
           "aaxis": {
            "gridcolor": "#DFE8F3",
            "linecolor": "#A2B1C6",
            "ticks": ""
           },
           "baxis": {
            "gridcolor": "#DFE8F3",
            "linecolor": "#A2B1C6",
            "ticks": ""
           },
           "bgcolor": "white",
           "caxis": {
            "gridcolor": "#DFE8F3",
            "linecolor": "#A2B1C6",
            "ticks": ""
           }
          },
          "title": {
           "x": 0.05
          },
          "xaxis": {
           "automargin": true,
           "gridcolor": "#EBF0F8",
           "linecolor": "#EBF0F8",
           "ticks": "",
           "title": {
            "standoff": 15
           },
           "zerolinecolor": "#EBF0F8",
           "zerolinewidth": 2
          },
          "yaxis": {
           "automargin": true,
           "gridcolor": "#EBF0F8",
           "linecolor": "#EBF0F8",
           "ticks": "",
           "title": {
            "standoff": 15
           },
           "zerolinecolor": "#EBF0F8",
           "zerolinewidth": 2
          }
         }
        },
        "title": {
         "text": "Petal Width Distribution By Class (h = 0.25)"
        }
       }
      },
      "text/html": [
       "<div>\n",
       "        \n",
       "        \n",
       "            <div id=\"e51746c3-f53b-4b62-a912-4ba78feff965\" class=\"plotly-graph-div\" style=\"height:525px; width:100%;\"></div>\n",
       "            <script type=\"text/javascript\">\n",
       "                require([\"plotly\"], function(Plotly) {\n",
       "                    window.PLOTLYENV=window.PLOTLYENV || {};\n",
       "                    \n",
       "                if (document.getElementById(\"e51746c3-f53b-4b62-a912-4ba78feff965\")) {\n",
       "                    Plotly.newPlot(\n",
       "                        'e51746c3-f53b-4b62-a912-4ba78feff965',\n",
       "                        [{\"line\": {\"color\": \"#e41a1c\"}, \"name\": \"setosa density\", \"type\": \"scatter\", \"x\": [-1.0, -0.9595959595959596, -0.9191919191919192, -0.8787878787878788, -0.8383838383838383, -0.797979797979798, -0.7575757575757576, -0.7171717171717171, -0.6767676767676767, -0.6363636363636364, -0.5959595959595959, -0.5555555555555556, -0.5151515151515151, -0.4747474747474747, -0.43434343434343425, -0.3939393939393939, -0.3535353535353535, -0.31313131313131304, -0.2727272727272727, -0.23232323232323226, -0.19191919191919182, -0.1515151515151515, -0.11111111111111105, -0.07070707070707061, -0.030303030303030276, 0.010101010101010166, 0.05050505050505061, 0.09090909090909105, 0.1313131313131315, 0.1717171717171717, 0.21212121212121215, 0.2525252525252526, 0.29292929292929304, 0.3333333333333335, 0.3737373737373739, 0.41414141414141437, 0.4545454545454546, 0.49494949494949503, 0.5353535353535355, 0.5757575757575759, 0.6161616161616164, 0.6565656565656568, 0.696969696969697, 0.7373737373737375, 0.7777777777777779, 0.8181818181818183, 0.8585858585858588, 0.8989898989898992, 0.9393939393939394, 0.9797979797979799, 1.0202020202020203, 1.060606060606061, 1.1010101010101012, 1.1414141414141414, 1.181818181818182, 1.2222222222222223, 1.262626262626263, 1.3030303030303032, 1.3434343434343434, 1.383838383838384, 1.4242424242424243, 1.464646464646465, 1.5050505050505052, 1.5454545454545459, 1.585858585858586, 1.6262626262626263, 1.666666666666667, 1.7070707070707072, 1.7474747474747478, 1.787878787878788, 1.8282828282828287, 1.868686868686869, 1.9090909090909092, 1.9494949494949498, 1.98989898989899, 2.0303030303030307, 2.070707070707071, 2.111111111111111, 2.151515151515152, 2.191919191919192, 2.2323232323232327, 2.272727272727273, 2.3131313131313136, 2.353535353535354, 2.393939393939394, 2.4343434343434347, 2.474747474747475, 2.5151515151515156, 2.555555555555556, 2.5959595959595965, 2.6363636363636367, 2.676767676767677, 2.7171717171717176, 2.757575757575758, 2.7979797979797985, 2.8383838383838387, 2.878787878787879, 2.9191919191919196, 2.95959595959596, 3.0], \"y\": [1.9502569837070068e-05, 4.052889894336728e-05, 8.215453203605157e-05, 0.00016244251780345387, 0.0003133118799269278, 0.0005894817327857143, 0.0010819010238870836, 0.0019370277952866766, 0.0033831635791032565, 0.005764438847045009, 0.009581789074623969, 0.01553821407652594, 0.024582773748857662, 0.03794438595544113, 0.05714313608190284, 0.0839644189778091, 0.12038101315186399, 0.16841135638997745, 0.22990971124333184, 0.3062956212007161, 0.3982449018742087, 0.5053798709729206, 0.6260089749695521, 0.7569713977090201, 0.893637288687386, 1.0300974318725111, 1.159548755923379, 1.2748483440186615, 1.369175200874186, 1.436713552304885, 1.473260412194878, 1.4766671401101354, 1.447049192191952, 1.386735509840739, 1.2999712074787901, 1.192425572118693, 1.0705842478800427, 0.9411152777361805, 0.8102927913381914, 0.6835426495894866, 0.5651468920982893, 0.45811482959095456, 0.3642037322459554, 0.28405500210589324, 0.21740382628505867, 0.16332079764105906, 0.1204506332795143, 0.0872231101807033, 0.06202203761955969, 0.043307532156520605, 0.02969394367752531, 0.019990183987009014, 0.013211194470721404, 0.00856943472638108, 0.005454245631772844, 0.003405334210117443, 0.00208489152859697, 0.0012512719812707849, 0.0007358743602992354, 0.000423911448253101, 0.00023911214394959967, 0.0001320142677737054, 7.131402720494106e-05, 3.768010009222272e-05, 1.946648522249539e-05, 9.8302598307547e-06, 4.8508360226291555e-06, 2.338424759276767e-06, 1.10096970215291e-06, 5.061405828577102e-07, 2.2715267735089657e-07, 9.950171440009343e-08, 4.2533579384980144e-08, 1.7739921521703226e-08, 7.218153933876445e-09, 2.8648217687985424e-09, 1.108955177449664e-09, 4.1862798867018285e-10, 1.540983538766603e-10, 5.5307622287532225e-11, 1.935328999281145e-11, 6.602014204072574e-12, 2.1954423604194945e-12, 7.116499885493631e-13, 2.2484698540810564e-13, 6.924103531309947e-14, 2.0781532304676297e-14, 6.0787263767252324e-15, 1.7328211939304318e-15, 4.813795212975944e-16, 1.3031729586621413e-16, 3.437843952809955e-17, 8.837512229911452e-18, 2.213730390149776e-18, 5.403338438931681e-19, 1.2850944076089911e-19, 2.9780821779195693e-20, 6.72451674364913e-21, 1.4794584394374765e-21, 3.171442032822814e-22]}, {\"marker\": {\"color\": \"#ffffff\", \"line\": {\"color\": \"#e41a1c\", \"width\": 1}}, \"mode\": \"markers\", \"name\": \"setosa data\", \"opacity\": 0.7, \"type\": \"scatter\", \"x\": [0.2, 0.2, 0.2, 0.2, 0.2, 0.4, 0.3, 0.2, 0.2, 0.1, 0.2, 0.2, 0.1, 0.1, 0.2, 0.4, 0.4, 0.3, 0.3, 0.3, 0.2, 0.4, 0.2, 0.5, 0.2, 0.2, 0.4, 0.2, 0.2, 0.2, 0.2, 0.4, 0.1, 0.2, 0.2, 0.2, 0.2, 0.1, 0.2, 0.2, 0.3, 0.3, 0.2, 0.6, 0.4, 0.3, 0.2, 0.2, 0.2, 0.2], \"y\": [-0.009432088542181291, 0.04749907836318046, -0.04474312601426007, -0.015432211231619156, -0.0337657171733389, -0.027639970864129816, 0.013596010118798837, -0.02307637374657684, 0.0259351033974463, -0.04689234588364182, 0.005220117825557591, -0.034247345351430675, 0.04947425921278388, -0.03504101685910202, 0.01352251635925976, 0.046874740085222064, 0.029461724472122572, -0.027468537968552212, 0.032111991633543974, 0.00037323326472214063, -0.009579587548724379, -0.0074822329806002105, -0.02790406407470716, -0.02666465522453352, 0.04354814886515694, -0.035987941163485054, 0.009929891976804585, 0.03351157675818099, 0.003622338083104068, 0.04313202898306838, 0.03159319941209769, 0.036285020126641185, 0.021690614056764937, 0.014267607075529695, -0.01611503804225161, 0.022536132211118623, 0.010861241557849698, 0.006587970760748851, -0.026138919254313477, 0.04773022297963128, -0.04088430865942294, 0.023555257314026717, 0.018050454155746146, 0.017149053414929796, -0.0048103222067408385, 0.024452298747139972, 0.009264981520972881, -0.0013476879214330134, -0.04545885932390434, 0.015002342792338363]}, {\"line\": {\"color\": \"#377eb8\"}, \"name\": \"versicolor density\", \"type\": \"scatter\", \"x\": [-1.0, -0.9595959595959596, -0.9191919191919192, -0.8787878787878788, -0.8383838383838383, -0.797979797979798, -0.7575757575757576, -0.7171717171717171, -0.6767676767676767, -0.6363636363636364, -0.5959595959595959, -0.5555555555555556, -0.5151515151515151, -0.4747474747474747, -0.43434343434343425, -0.3939393939393939, -0.3535353535353535, -0.31313131313131304, -0.2727272727272727, -0.23232323232323226, -0.19191919191919182, -0.1515151515151515, -0.11111111111111105, -0.07070707070707061, -0.030303030303030276, 0.010101010101010166, 0.05050505050505061, 0.09090909090909105, 0.1313131313131315, 0.1717171717171717, 0.21212121212121215, 0.2525252525252526, 0.29292929292929304, 0.3333333333333335, 0.3737373737373739, 0.41414141414141437, 0.4545454545454546, 0.49494949494949503, 0.5353535353535355, 0.5757575757575759, 0.6161616161616164, 0.6565656565656568, 0.696969696969697, 0.7373737373737375, 0.7777777777777779, 0.8181818181818183, 0.8585858585858588, 0.8989898989898992, 0.9393939393939394, 0.9797979797979799, 1.0202020202020203, 1.060606060606061, 1.1010101010101012, 1.1414141414141414, 1.181818181818182, 1.2222222222222223, 1.262626262626263, 1.3030303030303032, 1.3434343434343434, 1.383838383838384, 1.4242424242424243, 1.464646464646465, 1.5050505050505052, 1.5454545454545459, 1.585858585858586, 1.6262626262626263, 1.666666666666667, 1.7070707070707072, 1.7474747474747478, 1.787878787878788, 1.8282828282828287, 1.868686868686869, 1.9090909090909092, 1.9494949494949498, 1.98989898989899, 2.0303030303030307, 2.070707070707071, 2.111111111111111, 2.151515151515152, 2.191919191919192, 2.2323232323232327, 2.272727272727273, 2.3131313131313136, 2.353535353535354, 2.393939393939394, 2.4343434343434347, 2.474747474747475, 2.5151515151515156, 2.555555555555556, 2.5959595959595965, 2.6363636363636367, 2.676767676767677, 2.7171717171717176, 2.757575757575758, 2.7979797979797985, 2.8383838383838387, 2.878787878787879, 2.9191919191919196, 2.95959595959596, 3.0], \"y\": [2.877511521710862e-15, 1.036032417142594e-14, 3.634328523399645e-14, 1.2421461841035408e-13, 4.136398264247271e-13, 1.3420751940865275e-12, 4.2426806194538665e-12, 1.3068247761886789e-11, 3.92204808249129e-11, 1.1469184304890428e-10, 3.2680021563656297e-10, 9.073380193252765e-10, 2.454711164477534e-09, 6.471196668849745e-09, 1.6623829759806297e-08, 4.161504106594208e-08, 1.0152057624025932e-07, 2.4135455902886635e-07, 5.592029591546682e-07, 1.2627362998629746e-06, 2.7790990212843777e-06, 5.9616287362065124e-06, 1.2465785513467264e-05, 2.540947926487263e-05, 5.049224110537474e-05, 9.782324234202861e-05, 0.00018479438787442394, 0.0003404171325207106, 0.0006115939606801997, 0.001071778342764488, 0.0018323411932876612, 0.0030566574594400263, 0.00497641930506261, 0.007908976219677394, 0.012273661616012345, 0.018604228932755883, 0.02755389570172255, 0.03988932426966213, 0.05647036748074348, 0.07821368185183011, 0.10604028123156063, 0.14080947436447752, 0.1832439209061477, 0.23385220397724363, 0.2928559078137997, 0.36012753932079733, 0.43514396068377825, 0.5169578868098005, 0.6041882133231893, 0.6950291471685466, 0.7872785876549939, 0.878387649013691, 0.965534774328879, 1.0457284240079625, 1.1159408219258422, 1.173271269804772, 1.215131503600155, 1.2394387203348227, 1.2447960507272178, 1.2306372225737714, 1.197313252086536, 1.146104563592089, 1.0791512209267902, 0.99930527078825, 0.9099203476902105, 0.8146024963565857, 0.7169509910726878, 0.6203180185845155, 0.5276116858208146, 0.4411590299397309, 0.3626362138951058, 0.2930636992822462, 0.23285646385904726, 0.1819142995274895, 0.13973524610280838, 0.10553601809570176, 0.07836614317222981, 0.05720651657075997, 0.041047275504033205, 0.02894360355012112, 0.020050868052148365, 0.01364224133628178, 0.009112748794455849, 0.005973742255300189, 0.0038413744962490265, 0.0024219850495004465, 0.001496575973533562, 0.0009058720001608068, 0.0005368808049293336, 0.0003114160555660626, 0.000176715426074657, 9.80634740557745e-05, 5.319615046820201e-05, 2.8199816070467792e-05, 1.4603966628970008e-05, 7.386374069728519e-06, 3.647679599353642e-06, 1.758437493285453e-06, 8.273174314296796e-07, 3.798148168608074e-07]}, {\"marker\": {\"color\": \"#ffffff\", \"line\": {\"color\": \"#377eb8\", \"width\": 1}}, \"mode\": \"markers\", \"name\": \"versicolor data\", \"opacity\": 0.7, \"type\": \"scatter\", \"x\": [1.4, 1.5, 1.5, 1.3, 1.5, 1.3, 1.6, 1.0, 1.3, 1.4, 1.0, 1.5, 1.0, 1.4, 1.3, 1.4, 1.5, 1.0, 1.5, 1.1, 1.8, 1.3, 1.5, 1.2, 1.3, 1.4, 1.4, 1.7, 1.5, 1.0, 1.1, 1.0, 1.2, 1.6, 1.5, 1.6, 1.5, 1.3, 1.3, 1.3, 1.2, 1.4, 1.2, 1.0, 1.3, 1.2, 1.3, 1.3, 1.1, 1.3], \"y\": [0.037389297917861566, 0.005627652113127012, -0.013843467529606045, -0.022484788860964278, 0.00363248511298183, -0.015321576072731213, -0.044210445271340305, -0.02289066190964031, 0.0009930035022210557, -0.02056410159192843, 0.03604235471752294, -0.013793722668828279, 0.016829683408306123, 0.02850308323812399, 0.0008430918632170575, 0.017043507452228282, -0.0028734360300102096, -0.020259404840128982, -0.03002925929515148, 0.014287330833775452, -0.03033278965790829, -0.04721134833003701, 0.007877516173439479, -0.03144366992842562, -0.02914685838310367, 0.011641842570994744, -0.02044083324735877, 0.04374343291509608, 0.016975115184209674, 0.016685879066253004, 0.012183973919655103, 0.03278974524370831, 0.03493718333930994, 0.01048675221070964, -0.010698032113618673, 0.0031699399214362017, -0.046388443118843985, 0.01631644601424996, -0.03777466137164931, -0.007126109893400401, 0.00015710953926262317, 0.000761421671275811, -0.030306030967641596, -0.02789364664589196, -0.008023661485929423, -0.019846839664814465, 0.03397213865481463, 0.03198001249900559, -0.03939483580745915, 0.03293394618147455]}, {\"line\": {\"color\": \"#4daf4a\"}, \"name\": \"virginica density\", \"type\": \"scatter\", \"x\": [-1.0, -0.9595959595959596, -0.9191919191919192, -0.8787878787878788, -0.8383838383838383, -0.797979797979798, -0.7575757575757576, -0.7171717171717171, -0.6767676767676767, -0.6363636363636364, -0.5959595959595959, -0.5555555555555556, -0.5151515151515151, -0.4747474747474747, -0.43434343434343425, -0.3939393939393939, -0.3535353535353535, -0.31313131313131304, -0.2727272727272727, -0.23232323232323226, -0.19191919191919182, -0.1515151515151515, -0.11111111111111105, -0.07070707070707061, -0.030303030303030276, 0.010101010101010166, 0.05050505050505061, 0.09090909090909105, 0.1313131313131315, 0.1717171717171717, 0.21212121212121215, 0.2525252525252526, 0.29292929292929304, 0.3333333333333335, 0.3737373737373739, 0.41414141414141437, 0.4545454545454546, 0.49494949494949503, 0.5353535353535355, 0.5757575757575759, 0.6161616161616164, 0.6565656565656568, 0.696969696969697, 0.7373737373737375, 0.7777777777777779, 0.8181818181818183, 0.8585858585858588, 0.8989898989898992, 0.9393939393939394, 0.9797979797979799, 1.0202020202020203, 1.060606060606061, 1.1010101010101012, 1.1414141414141414, 1.181818181818182, 1.2222222222222223, 1.262626262626263, 1.3030303030303032, 1.3434343434343434, 1.383838383838384, 1.4242424242424243, 1.464646464646465, 1.5050505050505052, 1.5454545454545459, 1.585858585858586, 1.6262626262626263, 1.666666666666667, 1.7070707070707072, 1.7474747474747478, 1.787878787878788, 1.8282828282828287, 1.868686868686869, 1.9090909090909092, 1.9494949494949498, 1.98989898989899, 2.0303030303030307, 2.070707070707071, 2.111111111111111, 2.151515151515152, 2.191919191919192, 2.2323232323232327, 2.272727272727273, 2.3131313131313136, 2.353535353535354, 2.393939393939394, 2.4343434343434347, 2.474747474747475, 2.5151515151515156, 2.555555555555556, 2.5959595959595965, 2.6363636363636367, 2.676767676767677, 2.7171717171717176, 2.757575757575758, 2.7979797979797985, 2.8383838383838387, 2.878787878787879, 2.9191919191919196, 2.95959595959596, 3.0], \"y\": [3.2266609225171094e-22, 1.506679780213886e-21, 6.855170960377872e-21, 3.0391350003500366e-20, 1.3128678778875446e-19, 5.526327735493612e-19, 2.2667436460365774e-18, 9.059917391025339e-18, 3.528648389710877e-17, 1.3392494508507905e-16, 4.953253210174073e-16, 1.7852661597056052e-15, 6.2705649443104746e-15, 2.146396461163734e-14, 7.160141403015995e-14, 2.3278283565203425e-13, 7.375778538312696e-13, 2.277732796428402e-12, 6.855619722058469e-12, 2.0111821131271127e-11, 5.7508124535753994e-11, 1.6028514860887228e-10, 4.3546934983160526e-10, 1.1532858660616736e-09, 2.977468805046988e-09, 7.49385382533655e-09, 1.8387768321799302e-08, 4.398838648042828e-08, 1.0260136774297745e-07, 2.3334420008788625e-07, 5.174807965772338e-07, 1.1191074117359762e-06, 2.3602568415000282e-06, 4.8550037405935055e-06, 9.740905481843234e-06, 1.906468855099495e-05, 3.6402172321850706e-05, 6.781802603029834e-05, 0.000123294605508586, 0.00021877326348700998, 0.0003789456836585267, 0.0006408949595400273, 0.001058605986600152, 0.0017082384457276182, 0.0026938916114118377, 0.004153413488098971, 0.006263659500642401, 0.00924454060959104, 0.013361264630489578, 0.018924387364232964, 0.02628762042246854, 0.03584369400437189, 0.04801879226133563, 0.06326599515219508, 0.08205765258252093, 0.10487569369085917, 0.13219774014592914, 0.16447595373806537, 0.2021053392607182, 0.24537924244143397, 0.29443227811239087, 0.3491746979809235, 0.4092265262492099, 0.4738634734058795, 0.5419883390803951, 0.6121402477263054, 0.682549228930627, 0.7512359288608197, 0.816147158620227, 0.875309724536702, 0.9269797745581555, 0.9697643542310641, 1.0026964779635357, 1.0252539223717871, 1.037323116172446, 1.0391202883472292, 1.031089885298398, 1.0138033866214267, 0.9878794575441057, 0.9539396059722667, 0.9126039599503118, 0.8645218048058999, 0.810423430116558, 0.7511753531201006, 0.6878208729053665, 0.6215918806295715, 0.5538847198140817, 0.48620092678062254, 0.4200610533567217, 0.35690497379930336, 0.29799422351201926, 0.24433087772136552, 0.19660381129489723, 0.15516792017631642, 0.12005624993032436, 0.09102008313492206, 0.06758867587995371, 0.04913885975733259, 0.03496506381351133, 0.02434205262914958]}, {\"marker\": {\"color\": \"#ffffff\", \"line\": {\"color\": \"#4daf4a\", \"width\": 1}}, \"mode\": \"markers\", \"name\": \"virginica data\", \"opacity\": 0.7, \"type\": \"scatter\", \"x\": [2.5, 1.9, 2.1, 1.8, 2.2, 2.1, 1.7, 1.8, 1.8, 2.5, 2.0, 1.9, 2.1, 2.0, 2.4, 2.3, 1.8, 2.2, 2.3, 1.5, 2.3, 2.0, 2.0, 1.8, 2.1, 1.8, 1.8, 1.8, 2.1, 1.6, 1.9, 2.0, 2.2, 1.5, 1.4, 2.3, 2.4, 1.8, 1.8, 2.1, 2.4, 2.3, 1.9, 2.3, 2.5, 2.3, 1.9, 2.0, 2.3, 1.8], \"y\": [0.024881978997640566, -0.0219965961835932, 0.03450601189029627, -0.0381179295819195, 0.03390685287819763, -0.025701990102257523, 0.012674723001366045, -0.008486720204469465, 0.007750199499065559, 0.03855588914295453, 0.015526582720867516, -0.013304094031148288, 0.03601981814684063, 0.02823592306243715, 0.016179627364447002, 0.009921920074656053, 0.005292283822827572, 0.04544599607611656, -0.03272938968228331, 0.013364956439940318, -0.033119739086486105, -0.020028195754199764, 0.023337242386569368, -0.027624660242638644, -0.03569707990247665, 0.004061915069796064, -0.0331597815355079, -0.004668031697034149, 0.0023196143183883966, -0.029460702102751635, -0.017390551383764996, -0.0015121168060866497, 0.03610653432191889, 0.032053932478838004, -0.009573577555077352, -0.038338837944414096, -0.013201956840698782, -0.022267606672945795, 0.025747752896796997, -0.03917407396350127, 0.020907408098092856, 0.007062087030742958, -0.021875955574949393, 0.037452205142208025, 0.0058970750445283895, 0.002095623300573099, 0.005954960794723005, -0.007986227912233634, -0.049037506607967254, 0.024671664730017057]}],\n",
       "                        {\"template\": {\"data\": {\"bar\": [{\"error_x\": {\"color\": \"#2a3f5f\"}, \"error_y\": {\"color\": \"#2a3f5f\"}, \"marker\": {\"line\": {\"color\": \"white\", \"width\": 0.5}}, \"type\": \"bar\"}], \"barpolar\": [{\"marker\": {\"line\": {\"color\": \"white\", \"width\": 0.5}}, \"type\": \"barpolar\"}], \"carpet\": [{\"aaxis\": {\"endlinecolor\": \"#2a3f5f\", \"gridcolor\": \"#C8D4E3\", \"linecolor\": \"#C8D4E3\", \"minorgridcolor\": \"#C8D4E3\", \"startlinecolor\": \"#2a3f5f\"}, \"baxis\": {\"endlinecolor\": \"#2a3f5f\", \"gridcolor\": \"#C8D4E3\", \"linecolor\": \"#C8D4E3\", \"minorgridcolor\": \"#C8D4E3\", \"startlinecolor\": \"#2a3f5f\"}, \"type\": \"carpet\"}], \"choropleth\": [{\"colorbar\": {\"outlinewidth\": 0, \"ticks\": \"\"}, \"type\": \"choropleth\"}], \"contour\": [{\"colorbar\": {\"outlinewidth\": 0, \"ticks\": \"\"}, \"colorscale\": [[0.0, \"#0d0887\"], [0.1111111111111111, \"#46039f\"], [0.2222222222222222, \"#7201a8\"], [0.3333333333333333, \"#9c179e\"], [0.4444444444444444, \"#bd3786\"], [0.5555555555555556, \"#d8576b\"], [0.6666666666666666, \"#ed7953\"], [0.7777777777777778, \"#fb9f3a\"], [0.8888888888888888, \"#fdca26\"], [1.0, \"#f0f921\"]], \"type\": \"contour\"}], \"contourcarpet\": [{\"colorbar\": {\"outlinewidth\": 0, \"ticks\": \"\"}, \"type\": \"contourcarpet\"}], \"heatmap\": [{\"colorbar\": {\"outlinewidth\": 0, \"ticks\": \"\"}, \"colorscale\": [[0.0, \"#0d0887\"], [0.1111111111111111, \"#46039f\"], [0.2222222222222222, \"#7201a8\"], [0.3333333333333333, \"#9c179e\"], [0.4444444444444444, \"#bd3786\"], [0.5555555555555556, \"#d8576b\"], [0.6666666666666666, \"#ed7953\"], [0.7777777777777778, \"#fb9f3a\"], [0.8888888888888888, \"#fdca26\"], [1.0, \"#f0f921\"]], \"type\": \"heatmap\"}], \"heatmapgl\": [{\"colorbar\": {\"outlinewidth\": 0, \"ticks\": \"\"}, \"colorscale\": [[0.0, \"#0d0887\"], [0.1111111111111111, \"#46039f\"], [0.2222222222222222, \"#7201a8\"], [0.3333333333333333, \"#9c179e\"], [0.4444444444444444, \"#bd3786\"], [0.5555555555555556, \"#d8576b\"], [0.6666666666666666, \"#ed7953\"], [0.7777777777777778, \"#fb9f3a\"], [0.8888888888888888, \"#fdca26\"], [1.0, \"#f0f921\"]], \"type\": \"heatmapgl\"}], \"histogram\": [{\"marker\": {\"colorbar\": {\"outlinewidth\": 0, \"ticks\": \"\"}}, \"type\": \"histogram\"}], \"histogram2d\": [{\"colorbar\": {\"outlinewidth\": 0, \"ticks\": \"\"}, \"colorscale\": [[0.0, \"#0d0887\"], [0.1111111111111111, \"#46039f\"], [0.2222222222222222, \"#7201a8\"], [0.3333333333333333, \"#9c179e\"], [0.4444444444444444, \"#bd3786\"], [0.5555555555555556, \"#d8576b\"], [0.6666666666666666, \"#ed7953\"], [0.7777777777777778, \"#fb9f3a\"], [0.8888888888888888, \"#fdca26\"], [1.0, \"#f0f921\"]], \"type\": \"histogram2d\"}], \"histogram2dcontour\": [{\"colorbar\": {\"outlinewidth\": 0, \"ticks\": \"\"}, \"colorscale\": [[0.0, \"#0d0887\"], [0.1111111111111111, \"#46039f\"], [0.2222222222222222, \"#7201a8\"], [0.3333333333333333, \"#9c179e\"], [0.4444444444444444, \"#bd3786\"], [0.5555555555555556, \"#d8576b\"], [0.6666666666666666, \"#ed7953\"], [0.7777777777777778, \"#fb9f3a\"], [0.8888888888888888, \"#fdca26\"], [1.0, \"#f0f921\"]], \"type\": \"histogram2dcontour\"}], \"mesh3d\": [{\"colorbar\": {\"outlinewidth\": 0, \"ticks\": \"\"}, \"type\": \"mesh3d\"}], \"parcoords\": [{\"line\": {\"colorbar\": {\"outlinewidth\": 0, \"ticks\": \"\"}}, \"type\": \"parcoords\"}], \"pie\": [{\"automargin\": true, \"type\": \"pie\"}], \"scatter\": [{\"marker\": {\"colorbar\": {\"outlinewidth\": 0, \"ticks\": \"\"}}, \"type\": \"scatter\"}], \"scatter3d\": [{\"line\": {\"colorbar\": {\"outlinewidth\": 0, \"ticks\": \"\"}}, \"marker\": {\"colorbar\": {\"outlinewidth\": 0, \"ticks\": \"\"}}, \"type\": \"scatter3d\"}], \"scattercarpet\": [{\"marker\": {\"colorbar\": {\"outlinewidth\": 0, \"ticks\": \"\"}}, \"type\": \"scattercarpet\"}], \"scattergeo\": [{\"marker\": {\"colorbar\": {\"outlinewidth\": 0, \"ticks\": \"\"}}, \"type\": \"scattergeo\"}], \"scattergl\": [{\"marker\": {\"colorbar\": {\"outlinewidth\": 0, \"ticks\": \"\"}}, \"type\": \"scattergl\"}], \"scattermapbox\": [{\"marker\": {\"colorbar\": {\"outlinewidth\": 0, \"ticks\": \"\"}}, \"type\": \"scattermapbox\"}], \"scatterpolar\": [{\"marker\": {\"colorbar\": {\"outlinewidth\": 0, \"ticks\": \"\"}}, \"type\": \"scatterpolar\"}], \"scatterpolargl\": [{\"marker\": {\"colorbar\": {\"outlinewidth\": 0, \"ticks\": \"\"}}, \"type\": \"scatterpolargl\"}], \"scatterternary\": [{\"marker\": {\"colorbar\": {\"outlinewidth\": 0, \"ticks\": \"\"}}, \"type\": \"scatterternary\"}], \"surface\": [{\"colorbar\": {\"outlinewidth\": 0, \"ticks\": \"\"}, \"colorscale\": [[0.0, \"#0d0887\"], [0.1111111111111111, \"#46039f\"], [0.2222222222222222, \"#7201a8\"], [0.3333333333333333, \"#9c179e\"], [0.4444444444444444, \"#bd3786\"], [0.5555555555555556, \"#d8576b\"], [0.6666666666666666, \"#ed7953\"], [0.7777777777777778, \"#fb9f3a\"], [0.8888888888888888, \"#fdca26\"], [1.0, \"#f0f921\"]], \"type\": \"surface\"}], \"table\": [{\"cells\": {\"fill\": {\"color\": \"#EBF0F8\"}, \"line\": {\"color\": \"white\"}}, \"header\": {\"fill\": {\"color\": \"#C8D4E3\"}, \"line\": {\"color\": \"white\"}}, \"type\": \"table\"}]}, \"layout\": {\"annotationdefaults\": {\"arrowcolor\": \"#2a3f5f\", \"arrowhead\": 0, \"arrowwidth\": 1}, \"coloraxis\": {\"colorbar\": {\"outlinewidth\": 0, \"ticks\": \"\"}}, \"colorscale\": {\"diverging\": [[0, \"#8e0152\"], [0.1, \"#c51b7d\"], [0.2, \"#de77ae\"], [0.3, \"#f1b6da\"], [0.4, \"#fde0ef\"], [0.5, \"#f7f7f7\"], [0.6, \"#e6f5d0\"], [0.7, \"#b8e186\"], [0.8, \"#7fbc41\"], [0.9, \"#4d9221\"], [1, \"#276419\"]], \"sequential\": [[0.0, \"#0d0887\"], [0.1111111111111111, \"#46039f\"], [0.2222222222222222, \"#7201a8\"], [0.3333333333333333, \"#9c179e\"], [0.4444444444444444, \"#bd3786\"], [0.5555555555555556, \"#d8576b\"], [0.6666666666666666, \"#ed7953\"], [0.7777777777777778, \"#fb9f3a\"], [0.8888888888888888, \"#fdca26\"], [1.0, \"#f0f921\"]], \"sequentialminus\": [[0.0, \"#0d0887\"], [0.1111111111111111, \"#46039f\"], [0.2222222222222222, \"#7201a8\"], [0.3333333333333333, \"#9c179e\"], [0.4444444444444444, \"#bd3786\"], [0.5555555555555556, \"#d8576b\"], [0.6666666666666666, \"#ed7953\"], [0.7777777777777778, \"#fb9f3a\"], [0.8888888888888888, \"#fdca26\"], [1.0, \"#f0f921\"]]}, \"colorway\": [\"#636efa\", \"#EF553B\", \"#00cc96\", \"#ab63fa\", \"#FFA15A\", \"#19d3f3\", \"#FF6692\", \"#B6E880\", \"#FF97FF\", \"#FECB52\"], \"font\": {\"color\": \"#2a3f5f\"}, \"geo\": {\"bgcolor\": \"white\", \"lakecolor\": \"white\", \"landcolor\": \"white\", \"showlakes\": true, \"showland\": true, \"subunitcolor\": \"#C8D4E3\"}, \"hoverlabel\": {\"align\": \"left\"}, \"hovermode\": \"closest\", \"mapbox\": {\"style\": \"light\"}, \"paper_bgcolor\": \"white\", \"plot_bgcolor\": \"white\", \"polar\": {\"angularaxis\": {\"gridcolor\": \"#EBF0F8\", \"linecolor\": \"#EBF0F8\", \"ticks\": \"\"}, \"bgcolor\": \"white\", \"radialaxis\": {\"gridcolor\": \"#EBF0F8\", \"linecolor\": \"#EBF0F8\", \"ticks\": \"\"}}, \"scene\": {\"xaxis\": {\"backgroundcolor\": \"white\", \"gridcolor\": \"#DFE8F3\", \"gridwidth\": 2, \"linecolor\": \"#EBF0F8\", \"showbackground\": true, \"ticks\": \"\", \"zerolinecolor\": \"#EBF0F8\"}, \"yaxis\": {\"backgroundcolor\": \"white\", \"gridcolor\": \"#DFE8F3\", \"gridwidth\": 2, \"linecolor\": \"#EBF0F8\", \"showbackground\": true, \"ticks\": \"\", \"zerolinecolor\": \"#EBF0F8\"}, \"zaxis\": {\"backgroundcolor\": \"white\", \"gridcolor\": \"#DFE8F3\", \"gridwidth\": 2, \"linecolor\": \"#EBF0F8\", \"showbackground\": true, \"ticks\": \"\", \"zerolinecolor\": \"#EBF0F8\"}}, \"shapedefaults\": {\"line\": {\"color\": \"#2a3f5f\"}}, \"ternary\": {\"aaxis\": {\"gridcolor\": \"#DFE8F3\", \"linecolor\": \"#A2B1C6\", \"ticks\": \"\"}, \"baxis\": {\"gridcolor\": \"#DFE8F3\", \"linecolor\": \"#A2B1C6\", \"ticks\": \"\"}, \"bgcolor\": \"white\", \"caxis\": {\"gridcolor\": \"#DFE8F3\", \"linecolor\": \"#A2B1C6\", \"ticks\": \"\"}}, \"title\": {\"x\": 0.05}, \"xaxis\": {\"automargin\": true, \"gridcolor\": \"#EBF0F8\", \"linecolor\": \"#EBF0F8\", \"ticks\": \"\", \"title\": {\"standoff\": 15}, \"zerolinecolor\": \"#EBF0F8\", \"zerolinewidth\": 2}, \"yaxis\": {\"automargin\": true, \"gridcolor\": \"#EBF0F8\", \"linecolor\": \"#EBF0F8\", \"ticks\": \"\", \"title\": {\"standoff\": 15}, \"zerolinecolor\": \"#EBF0F8\", \"zerolinewidth\": 2}}}, \"title\": {\"text\": \"Petal Width Distribution By Class (h = 0.25)\"}},\n",
       "                        {\"responsive\": true}\n",
       "                    ).then(function(){\n",
       "                            \n",
       "var gd = document.getElementById('e51746c3-f53b-4b62-a912-4ba78feff965');\n",
       "var x = new MutationObserver(function (mutations, observer) {{\n",
       "        var display = window.getComputedStyle(gd).display;\n",
       "        if (!display || display === 'none') {{\n",
       "            console.log([gd, 'removed!']);\n",
       "            Plotly.purge(gd);\n",
       "            observer.disconnect();\n",
       "        }}\n",
       "}});\n",
       "\n",
       "// Listen for the removal of the full notebook cells\n",
       "var notebookContainer = gd.closest('#notebook-container');\n",
       "if (notebookContainer) {{\n",
       "    x.observe(notebookContainer, {childList: true});\n",
       "}}\n",
       "\n",
       "// Listen for the clearing of the current output cell\n",
       "var outputEl = gd.closest('.output');\n",
       "if (outputEl) {{\n",
       "    x.observe(outputEl, {childList: true});\n",
       "}}\n",
       "\n",
       "                        })\n",
       "                };\n",
       "                });\n",
       "            </script>\n",
       "        </div>"
      ]
     },
     "metadata": {},
     "output_type": "display_data"
    }
   ],
   "source": [
    "f25 = Parzen.plot1D(raw_data, np.linspace(-1, 3, 100), 3, 0.25, species, color_map)\n",
    "f25.update_layout(title = \"Petal Width Distribution By Class (h = 0.25)\")\n",
    "f25.show()"
   ]
  },
  {
   "cell_type": "code",
   "execution_count": 13,
   "metadata": {},
   "outputs": [
    {
     "data": {
      "application/vnd.plotly.v1+json": {
       "config": {
        "plotlyServerURL": "https://plot.ly"
       },
       "data": [
        {
         "line": {
          "color": "#e41a1c"
         },
         "name": "setosa density",
         "type": "scatter",
         "x": [
          -1,
          -0.9595959595959596,
          -0.9191919191919192,
          -0.8787878787878788,
          -0.8383838383838383,
          -0.797979797979798,
          -0.7575757575757576,
          -0.7171717171717171,
          -0.6767676767676767,
          -0.6363636363636364,
          -0.5959595959595959,
          -0.5555555555555556,
          -0.5151515151515151,
          -0.4747474747474747,
          -0.43434343434343425,
          -0.3939393939393939,
          -0.3535353535353535,
          -0.31313131313131304,
          -0.2727272727272727,
          -0.23232323232323226,
          -0.19191919191919182,
          -0.1515151515151515,
          -0.11111111111111105,
          -0.07070707070707061,
          -0.030303030303030276,
          0.010101010101010166,
          0.05050505050505061,
          0.09090909090909105,
          0.1313131313131315,
          0.1717171717171717,
          0.21212121212121215,
          0.2525252525252526,
          0.29292929292929304,
          0.3333333333333335,
          0.3737373737373739,
          0.41414141414141437,
          0.4545454545454546,
          0.49494949494949503,
          0.5353535353535355,
          0.5757575757575759,
          0.6161616161616164,
          0.6565656565656568,
          0.696969696969697,
          0.7373737373737375,
          0.7777777777777779,
          0.8181818181818183,
          0.8585858585858588,
          0.8989898989898992,
          0.9393939393939394,
          0.9797979797979799,
          1.0202020202020203,
          1.060606060606061,
          1.1010101010101012,
          1.1414141414141414,
          1.181818181818182,
          1.2222222222222223,
          1.262626262626263,
          1.3030303030303032,
          1.3434343434343434,
          1.383838383838384,
          1.4242424242424243,
          1.464646464646465,
          1.5050505050505052,
          1.5454545454545459,
          1.585858585858586,
          1.6262626262626263,
          1.666666666666667,
          1.7070707070707072,
          1.7474747474747478,
          1.787878787878788,
          1.8282828282828287,
          1.868686868686869,
          1.9090909090909092,
          1.9494949494949498,
          1.98989898989899,
          2.0303030303030307,
          2.070707070707071,
          2.111111111111111,
          2.151515151515152,
          2.191919191919192,
          2.2323232323232327,
          2.272727272727273,
          2.3131313131313136,
          2.353535353535354,
          2.393939393939394,
          2.4343434343434347,
          2.474747474747475,
          2.5151515151515156,
          2.555555555555556,
          2.5959595959595965,
          2.6363636363636367,
          2.676767676767677,
          2.7171717171717176,
          2.757575757575758,
          2.7979797979797985,
          2.8383838383838387,
          2.878787878787879,
          2.9191919191919196,
          2.95959595959596,
          3
         ],
         "y": [
          0.03936476900446657,
          0.047677757998073354,
          0.05737922683958805,
          0.06861599552468586,
          0.08153215986399939,
          0.09626458722268133,
          0.11293780538021936,
          0.1316583822136742,
          0.1525089360418175,
          0.1755419584402688,
          0.2007736705483631,
          0.22817816748454386,
          0.2576821305346095,
          0.289160400465916,
          0.3224327051907001,
          0.35726181917484356,
          0.3933533993852712,
          0.43035769309081745,
          0.4678732474856012,
          0.5054526720582654,
          0.5426104151796253,
          0.5788324208219038,
          0.6135874347378365,
          0.6463396373898815,
          0.6765621991313757,
          0.7037512870389662,
          0.727440007145926,
          0.7472117443494817,
          0.7627123673198349,
          0.7736607980908292,
          0.7798575047226641,
          0.7811905578594004,
          0.7776389939645605,
          0.7692733440157018,
          0.7562533100463995,
          0.7388226962141544,
          0.7173018190921435,
          0.6920777271265963,
          0.6635926460510139,
          0.6323311311344838,
          0.5988064456098038,
          0.5635466962839465,
          0.5270812426640018,
          0.48992785699678976,
          0.4525810528418174,
          0.41550192365710154,
          0.3791097455569895,
          0.3437755053936871,
          0.30981742204159635,
          0.27749844022736864,
          0.2470255967392424,
          0.21855109173116852,
          0.19217484541904004,
          0.1679482839583278,
          0.14587907784538953,
          0.1259365509988362,
          0.1080574871643801,
          0.0921520802678013,
          0.0781098042600715,
          0.06580501313494581,
          0.0551021204595489,
          0.04586024744294698,
          0.03793726709699015,
          0.03119320764481707,
          0.02549300968378554,
          0.02070865784830532,
          0.01672072841513551,
          0.01341940940451381,
          0.010705059528358716,
          0.00848837733765988,
          0.006690252806270808,
          0.005241371130857045,
          0.004081633527011934,
          0.0031594530333810826,
          0.002430975505690104,
          0.0018592677026048094,
          0.0014135061366334842,
          0.001068192571589817,
          0.0008024149673336578,
          0.0005991664744450268,
          0.00044472985010962884,
          0.00032813041415553337,
          0.00024065734852172883,
          0.0001754506835297614,
          0.0001271496051544292,
          9.159664222246458e-05,
          6.559173227095911e-05,
          4.6690006140220455e-05,
          3.303727104924677e-05,
          2.3237520015653024e-05,
          1.6247276806294146e-05,
          1.1292139633418228e-05,
          7.801466903389371e-06,
          5.357720252779716e-06,
          3.6575202757868674e-06,
          2.481963906512887e-06,
          1.6741914169164979e-06,
          1.122572678694691e-06,
          7.482076945094416e-07,
          4.957089026129092e-07
         ]
        },
        {
         "marker": {
          "color": "#ffffff",
          "line": {
           "color": "#e41a1c",
           "width": 1
          }
         },
         "mode": "markers",
         "name": "setosa data",
         "opacity": 0.7,
         "type": "scatter",
         "x": [
          0.2,
          0.2,
          0.2,
          0.2,
          0.2,
          0.4,
          0.3,
          0.2,
          0.2,
          0.1,
          0.2,
          0.2,
          0.1,
          0.1,
          0.2,
          0.4,
          0.4,
          0.3,
          0.3,
          0.3,
          0.2,
          0.4,
          0.2,
          0.5,
          0.2,
          0.2,
          0.4,
          0.2,
          0.2,
          0.2,
          0.2,
          0.4,
          0.1,
          0.2,
          0.2,
          0.2,
          0.2,
          0.1,
          0.2,
          0.2,
          0.3,
          0.3,
          0.2,
          0.6,
          0.4,
          0.3,
          0.2,
          0.2,
          0.2,
          0.2
         ],
         "y": [
          -0.0206289871638236,
          0.013812126514191184,
          -0.03606473966949872,
          -0.03325478382881504,
          0.007048837554538237,
          0.031884464881973745,
          0.009532694642350084,
          -0.004398932369893548,
          -0.03457973213143981,
          -0.0023802405103490534,
          -0.04913925473144333,
          -0.04909859166185802,
          -0.04146720787373231,
          -0.04562477182452347,
          -0.02636689196234865,
          0.04188742367009582,
          -0.04947944621136316,
          -0.02727914226356376,
          0.027150106289307002,
          0.024212850037784478,
          0.04560024435154501,
          0.004147442057265763,
          0.041639051513162356,
          0.02473456877749508,
          0.021039906259247745,
          -0.03167426554476657,
          0.036322625668095354,
          -0.04277844480081588,
          -0.022076853978648128,
          0.038056350456400836,
          0.030310183186308556,
          0.026394619559074364,
          0.030797104405098516,
          -0.04771673183050993,
          0.01629435178774588,
          0.011520160536922265,
          -0.035040113831820235,
          -0.013805752623843849,
          0.02969880561692119,
          -0.0022905302493773996,
          -0.03876991142312622,
          0.02555713140144733,
          0.04771999775007486,
          -0.004162096359557166,
          0.041042165376312154,
          -0.005817875814176622,
          0.006099309875751371,
          -0.019083708250250075,
          -0.022460541474771445,
          -0.013096514565657157
         ]
        },
        {
         "line": {
          "color": "#377eb8"
         },
         "name": "versicolor density",
         "type": "scatter",
         "x": [
          -1,
          -0.9595959595959596,
          -0.9191919191919192,
          -0.8787878787878788,
          -0.8383838383838383,
          -0.797979797979798,
          -0.7575757575757576,
          -0.7171717171717171,
          -0.6767676767676767,
          -0.6363636363636364,
          -0.5959595959595959,
          -0.5555555555555556,
          -0.5151515151515151,
          -0.4747474747474747,
          -0.43434343434343425,
          -0.3939393939393939,
          -0.3535353535353535,
          -0.31313131313131304,
          -0.2727272727272727,
          -0.23232323232323226,
          -0.19191919191919182,
          -0.1515151515151515,
          -0.11111111111111105,
          -0.07070707070707061,
          -0.030303030303030276,
          0.010101010101010166,
          0.05050505050505061,
          0.09090909090909105,
          0.1313131313131315,
          0.1717171717171717,
          0.21212121212121215,
          0.2525252525252526,
          0.29292929292929304,
          0.3333333333333335,
          0.3737373737373739,
          0.41414141414141437,
          0.4545454545454546,
          0.49494949494949503,
          0.5353535353535355,
          0.5757575757575759,
          0.6161616161616164,
          0.6565656565656568,
          0.696969696969697,
          0.7373737373737375,
          0.7777777777777779,
          0.8181818181818183,
          0.8585858585858588,
          0.8989898989898992,
          0.9393939393939394,
          0.9797979797979799,
          1.0202020202020203,
          1.060606060606061,
          1.1010101010101012,
          1.1414141414141414,
          1.181818181818182,
          1.2222222222222223,
          1.262626262626263,
          1.3030303030303032,
          1.3434343434343434,
          1.383838383838384,
          1.4242424242424243,
          1.464646464646465,
          1.5050505050505052,
          1.5454545454545459,
          1.585858585858586,
          1.6262626262626263,
          1.666666666666667,
          1.7070707070707072,
          1.7474747474747478,
          1.787878787878788,
          1.8282828282828287,
          1.868686868686869,
          1.9090909090909092,
          1.9494949494949498,
          1.98989898989899,
          2.0303030303030307,
          2.070707070707071,
          2.111111111111111,
          2.151515151515152,
          2.191919191919192,
          2.2323232323232327,
          2.272727272727273,
          2.3131313131313136,
          2.353535353535354,
          2.393939393939394,
          2.4343434343434347,
          2.474747474747475,
          2.5151515151515156,
          2.555555555555556,
          2.5959595959595965,
          2.6363636363636367,
          2.676767676767677,
          2.7171717171717176,
          2.757575757575758,
          2.7979797979797985,
          2.8383838383838387,
          2.878787878787879,
          2.9191919191919196,
          2.95959595959596,
          3
         ],
         "y": [
          5.6585455148113874e-05,
          7.884963053327403e-05,
          0.00010920068167636523,
          0.00015030974373024544,
          0.0002056318520636748,
          0.0002796021991430327,
          0.0003778707702824044,
          0.0005075796588087171,
          0.0006776868855135406,
          0.0008993397056261093,
          0.0011862991049102027,
          0.00155541539496113,
          0.0020271524569086467,
          0.002626155211034344,
          0.003381851292239947,
          0.004329073708250484,
          0.005508686513712105,
          0.006968190366361138,
          0.008762279417751777,
          0.010953315570219481,
          0.01361168100670176,
          0.01681596543254723,
          0.02065294106950821,
          0.025217276556183933,
          0.030610940992326873,
          0.0369422518566296,
          0.04432452582009106,
          0.05287429987600488,
          0.06270910189637119,
          0.07394476472686362,
          0.08669229607977867,
          0.10105433739019047,
          0.11712126784553148,
          0.13496703412940433,
          0.15464481096322794,
          0.1761826210232933,
          0.19957906385746293,
          0.2247993205565899,
          0.25177161269454834,
          0.280384299087062,
          0.31048379108758145,
          0.3418734555960544,
          0.3743136542552192,
          0.40752303747003826,
          0.4411811734515982,
          0.47493254654476325,
          0.5083919072706253,
          0.5411509009081921,
          0.5727858445641375,
          0.6028664673259883,
          0.6309653771873546,
          0.6566679748620209,
          0.6795825010390062,
          0.6993498823509683,
          0.715653034053641,
          0.7282252851708022,
          0.7368576148828504,
          0.7414044266223897,
          0.7417876372460553,
          0.7379989205608003,
          0.7301000145150582,
          0.7182210761382973,
          0.7025571441395333,
          0.6833628421846814,
          0.6609455226370012,
          0.6356571077009022,
          0.6078849297537936,
          0.5780419031975658,
          0.5465563752507197,
          0.513862002451997,
          0.48038798384527326,
          0.4465499522590342,
          0.41274178386924826,
          0.3793285359654118,
          0.3466406665017719,
          0.3149696297398795,
          0.2845648831637246,
          0.2556322847405421,
          0.2283338089968294,
          0.20278846727106206,
          0.17907428330880343,
          0.1572311508911756,
          0.1372643856435725,
          0.11914877821498786,
          0.10283295983088425,
          0.08824390261030125,
          0.07529139454422791,
          0.06387235105444038,
          0.05387484995286283,
          0.04518180282922666,
          0.03767420198543197,
          0.03123390679420186,
          0.02574595582250677,
          0.021100410529547364,
          0.017193752393816326,
          0.013929867761246677,
          0.011220663571854661,
          0.008986362629590903,
          0.007155529578684385,
          0.005664878680221962
         ]
        },
        {
         "marker": {
          "color": "#ffffff",
          "line": {
           "color": "#377eb8",
           "width": 1
          }
         },
         "mode": "markers",
         "name": "versicolor data",
         "opacity": 0.7,
         "type": "scatter",
         "x": [
          1.4,
          1.5,
          1.5,
          1.3,
          1.5,
          1.3,
          1.6,
          1,
          1.3,
          1.4,
          1,
          1.5,
          1,
          1.4,
          1.3,
          1.4,
          1.5,
          1,
          1.5,
          1.1,
          1.8,
          1.3,
          1.5,
          1.2,
          1.3,
          1.4,
          1.4,
          1.7,
          1.5,
          1,
          1.1,
          1,
          1.2,
          1.6,
          1.5,
          1.6,
          1.5,
          1.3,
          1.3,
          1.3,
          1.2,
          1.4,
          1.2,
          1,
          1.3,
          1.2,
          1.3,
          1.3,
          1.1,
          1.3
         ],
         "y": [
          0.033459019727538994,
          0.03141373255153938,
          0.031754585382793174,
          0.02055911128661078,
          0.020288092236089558,
          -0.028675322843302778,
          -0.044000563616985934,
          0.0444082442963582,
          0.03107967270498628,
          -0.0013390442555003892,
          -0.0478210080553815,
          0.01711617197563707,
          -0.002148624674247701,
          -0.029392686497044764,
          -0.040289205685526665,
          0.035527961020174956,
          -0.03588038484834553,
          -0.04279521239478937,
          -0.026793401772005565,
          0.017323623114577705,
          -0.017204139978358034,
          -0.03407769273071247,
          -0.029821125048285546,
          0.03911033461764363,
          0.034337479760736214,
          -0.047932939099467234,
          -0.0011289650171558835,
          0.024749626986878034,
          0.04031069225888899,
          0.04367474426124986,
          -0.029396708047119247,
          -0.047290057878208225,
          0.013617240282492504,
          -0.03419232294942991,
          0.005264715324054738,
          0.009471236407663251,
          0.04947053674820817,
          -0.0025523167146216247,
          -0.027733578048242193,
          -0.005018298487466009,
          0.03054895555172167,
          -0.0013199863226983286,
          -0.026191210611920857,
          0.04850320378985548,
          -0.023720111959234316,
          0.03781927079612031,
          0.013087221863560844,
          -0.02113645234433357,
          -0.02552505065923402,
          -0.04175536397325172
         ]
        },
        {
         "line": {
          "color": "#4daf4a"
         },
         "name": "virginica density",
         "type": "scatter",
         "x": [
          -1,
          -0.9595959595959596,
          -0.9191919191919192,
          -0.8787878787878788,
          -0.8383838383838383,
          -0.797979797979798,
          -0.7575757575757576,
          -0.7171717171717171,
          -0.6767676767676767,
          -0.6363636363636364,
          -0.5959595959595959,
          -0.5555555555555556,
          -0.5151515151515151,
          -0.4747474747474747,
          -0.43434343434343425,
          -0.3939393939393939,
          -0.3535353535353535,
          -0.31313131313131304,
          -0.2727272727272727,
          -0.23232323232323226,
          -0.19191919191919182,
          -0.1515151515151515,
          -0.11111111111111105,
          -0.07070707070707061,
          -0.030303030303030276,
          0.010101010101010166,
          0.05050505050505061,
          0.09090909090909105,
          0.1313131313131315,
          0.1717171717171717,
          0.21212121212121215,
          0.2525252525252526,
          0.29292929292929304,
          0.3333333333333335,
          0.3737373737373739,
          0.41414141414141437,
          0.4545454545454546,
          0.49494949494949503,
          0.5353535353535355,
          0.5757575757575759,
          0.6161616161616164,
          0.6565656565656568,
          0.696969696969697,
          0.7373737373737375,
          0.7777777777777779,
          0.8181818181818183,
          0.8585858585858588,
          0.8989898989898992,
          0.9393939393939394,
          0.9797979797979799,
          1.0202020202020203,
          1.060606060606061,
          1.1010101010101012,
          1.1414141414141414,
          1.181818181818182,
          1.2222222222222223,
          1.262626262626263,
          1.3030303030303032,
          1.3434343434343434,
          1.383838383838384,
          1.4242424242424243,
          1.464646464646465,
          1.5050505050505052,
          1.5454545454545459,
          1.585858585858586,
          1.6262626262626263,
          1.666666666666667,
          1.7070707070707072,
          1.7474747474747478,
          1.787878787878788,
          1.8282828282828287,
          1.868686868686869,
          1.9090909090909092,
          1.9494949494949498,
          1.98989898989899,
          2.0303030303030307,
          2.070707070707071,
          2.111111111111111,
          2.151515151515152,
          2.191919191919192,
          2.2323232323232327,
          2.272727272727273,
          2.3131313131313136,
          2.353535353535354,
          2.393939393939394,
          2.4343434343434347,
          2.474747474747475,
          2.5151515151515156,
          2.555555555555556,
          2.5959595959595965,
          2.6363636363636367,
          2.676767676767677,
          2.7171717171717176,
          2.757575757575758,
          2.7979797979797985,
          2.8383838383838387,
          2.878787878787879,
          2.9191919191919196,
          2.95959595959596,
          3
         ],
         "y": [
          3.3942088784433027e-07,
          5.065247596941195e-07,
          7.513224277105673e-07,
          1.1077020985095998e-06,
          1.6232977110426856e-06,
          2.3646114916138614e-06,
          3.4238593216077848e-06,
          4.928046788325143e-06,
          7.050907887872772e-06,
          1.0028484188181473e-05,
          1.4179290864795792e-05,
          1.9930207439027646e-05,
          2.7849443946191017e-05,
          3.8688164471988085e-05,
          5.34325940042963e-05,
          7.336868296490346e-05,
          0.00010016164481486096,
          0.00013595290008415104,
          0.00018347713510665905,
          0.00024620229119896446,
          0.00032849531108305205,
          0.0004358163509458836,
          0.0005749438821517471,
          0.0007542326175374811,
          0.0009839054641732322,
          0.0012763796899955115,
          0.0016466261630219373,
          0.0021125588542647354,
          0.002695449776340614,
          0.003420362162791749,
          0.00431659200262186,
          0.005418105079736794,
          0.006763953505678319,
          0.008398652485451456,
          0.01037249486236458,
          0.012741778022997963,
          0.015568915211732181,
          0.018922401434039695,
          0.022876603163292927,
          0.027511341256114225,
          0.03291123806556326,
          0.03916480293248659,
          0.04636323520065134,
          0.05459893074347295,
          0.06396368672768431,
          0.07454660988908735,
          0.08643174575907793,
          0.09969545973550473,
          0.1144036151895417,
          0.1306086083745556,
          0.14834633408311132,
          0.16763316903598066,
          0.1884630710903455,
          0.21080490072988545,
          0.23460007620013243,
          0.25976067442878065,
          0.2861680860208044,
          0.31367232383445587,
          0.34209207085082527,
          0.3712155344291427,
          0.4008021510448381,
          0.4305851589544634,
          0.46027502687959304,
          0.48956369591101423,
          0.5181295607118115,
          0.5456430861296504,
          0.5717729279059097,
          0.5961924026111045,
          0.6185861334143855,
          0.638656685768471,
          0.6561310012516494,
          0.6707664390413745,
          0.6823562428601682,
          0.6907342664683445,
          0.6957788123049304,
          0.6974154648480335,
          0.6956188316005129,
          0.6904131390558468,
          0.6818716672026776,
          0.6701150426791329,
          0.6553084462006535,
          0.6376578230429786,
          0.6174052149753585,
          0.594823357085978,
          0.5702097026012077,
          0.5438800524777876,
          0.5161619738886801,
          0.4873881926230116,
          0.45789013901790265,
          0.4279918157098961,
          0.3980041388280948,
          0.3682198830328426,
          0.3389093359735319,
          0.3103167403555923,
          0.28265757300162636,
          0.25611668122094927,
          0.23084726859504212,
          0.2069706959972117,
          0.18457704022412422,
          0.16372633279329288
         ]
        },
        {
         "marker": {
          "color": "#ffffff",
          "line": {
           "color": "#4daf4a",
           "width": 1
          }
         },
         "mode": "markers",
         "name": "virginica data",
         "opacity": 0.7,
         "type": "scatter",
         "x": [
          2.5,
          1.9,
          2.1,
          1.8,
          2.2,
          2.1,
          1.7,
          1.8,
          1.8,
          2.5,
          2,
          1.9,
          2.1,
          2,
          2.4,
          2.3,
          1.8,
          2.2,
          2.3,
          1.5,
          2.3,
          2,
          2,
          1.8,
          2.1,
          1.8,
          1.8,
          1.8,
          2.1,
          1.6,
          1.9,
          2,
          2.2,
          1.5,
          1.4,
          2.3,
          2.4,
          1.8,
          1.8,
          2.1,
          2.4,
          2.3,
          1.9,
          2.3,
          2.5,
          2.3,
          1.9,
          2,
          2.3,
          1.8
         ],
         "y": [
          -0.010924715064610749,
          0.0031796846199370274,
          0.009488640836462739,
          -0.015632128187014628,
          -0.008892887798348702,
          0.03027698481190398,
          0.01769558793534526,
          -0.035564247595459744,
          0.0099913292502979,
          0.020962919105314032,
          -0.03186935929354795,
          0.007628668017572282,
          -0.005025846382316526,
          0.013033781027944363,
          -0.01121829889628094,
          0.00392713139803267,
          0.024670299913607335,
          -0.023728443832419767,
          -0.040637999771059356,
          0.049875467787786384,
          -0.041172887938622754,
          0.0024655313783310887,
          -0.022715770857473172,
          0.04082327783909079,
          0.004161309904768838,
          0.022056075019003057,
          0.04892381383109787,
          -0.014390752366502835,
          -0.03898042226592211,
          0.029659593601790185,
          -0.01600457693520753,
          -0.01573299621898494,
          -0.046258104174333715,
          -0.003022280976534883,
          0.00025818636086908514,
          0.007957355380386624,
          0.047231853076938335,
          -0.024565967089191777,
          0.025334673169959493,
          0.020777430343727282,
          -0.018453641621330473,
          -0.02032590669847838,
          0.010107271779568258,
          -0.040530424750788066,
          -0.014514414349901618,
          -0.03302142859907563,
          0.04013349263251882,
          -0.041896175664351915,
          0.03242240376097137,
          0.03298567101122253
         ]
        }
       ],
       "layout": {
        "template": {
         "data": {
          "bar": [
           {
            "error_x": {
             "color": "#2a3f5f"
            },
            "error_y": {
             "color": "#2a3f5f"
            },
            "marker": {
             "line": {
              "color": "white",
              "width": 0.5
             }
            },
            "type": "bar"
           }
          ],
          "barpolar": [
           {
            "marker": {
             "line": {
              "color": "white",
              "width": 0.5
             }
            },
            "type": "barpolar"
           }
          ],
          "carpet": [
           {
            "aaxis": {
             "endlinecolor": "#2a3f5f",
             "gridcolor": "#C8D4E3",
             "linecolor": "#C8D4E3",
             "minorgridcolor": "#C8D4E3",
             "startlinecolor": "#2a3f5f"
            },
            "baxis": {
             "endlinecolor": "#2a3f5f",
             "gridcolor": "#C8D4E3",
             "linecolor": "#C8D4E3",
             "minorgridcolor": "#C8D4E3",
             "startlinecolor": "#2a3f5f"
            },
            "type": "carpet"
           }
          ],
          "choropleth": [
           {
            "colorbar": {
             "outlinewidth": 0,
             "ticks": ""
            },
            "type": "choropleth"
           }
          ],
          "contour": [
           {
            "colorbar": {
             "outlinewidth": 0,
             "ticks": ""
            },
            "colorscale": [
             [
              0,
              "#0d0887"
             ],
             [
              0.1111111111111111,
              "#46039f"
             ],
             [
              0.2222222222222222,
              "#7201a8"
             ],
             [
              0.3333333333333333,
              "#9c179e"
             ],
             [
              0.4444444444444444,
              "#bd3786"
             ],
             [
              0.5555555555555556,
              "#d8576b"
             ],
             [
              0.6666666666666666,
              "#ed7953"
             ],
             [
              0.7777777777777778,
              "#fb9f3a"
             ],
             [
              0.8888888888888888,
              "#fdca26"
             ],
             [
              1,
              "#f0f921"
             ]
            ],
            "type": "contour"
           }
          ],
          "contourcarpet": [
           {
            "colorbar": {
             "outlinewidth": 0,
             "ticks": ""
            },
            "type": "contourcarpet"
           }
          ],
          "heatmap": [
           {
            "colorbar": {
             "outlinewidth": 0,
             "ticks": ""
            },
            "colorscale": [
             [
              0,
              "#0d0887"
             ],
             [
              0.1111111111111111,
              "#46039f"
             ],
             [
              0.2222222222222222,
              "#7201a8"
             ],
             [
              0.3333333333333333,
              "#9c179e"
             ],
             [
              0.4444444444444444,
              "#bd3786"
             ],
             [
              0.5555555555555556,
              "#d8576b"
             ],
             [
              0.6666666666666666,
              "#ed7953"
             ],
             [
              0.7777777777777778,
              "#fb9f3a"
             ],
             [
              0.8888888888888888,
              "#fdca26"
             ],
             [
              1,
              "#f0f921"
             ]
            ],
            "type": "heatmap"
           }
          ],
          "heatmapgl": [
           {
            "colorbar": {
             "outlinewidth": 0,
             "ticks": ""
            },
            "colorscale": [
             [
              0,
              "#0d0887"
             ],
             [
              0.1111111111111111,
              "#46039f"
             ],
             [
              0.2222222222222222,
              "#7201a8"
             ],
             [
              0.3333333333333333,
              "#9c179e"
             ],
             [
              0.4444444444444444,
              "#bd3786"
             ],
             [
              0.5555555555555556,
              "#d8576b"
             ],
             [
              0.6666666666666666,
              "#ed7953"
             ],
             [
              0.7777777777777778,
              "#fb9f3a"
             ],
             [
              0.8888888888888888,
              "#fdca26"
             ],
             [
              1,
              "#f0f921"
             ]
            ],
            "type": "heatmapgl"
           }
          ],
          "histogram": [
           {
            "marker": {
             "colorbar": {
              "outlinewidth": 0,
              "ticks": ""
             }
            },
            "type": "histogram"
           }
          ],
          "histogram2d": [
           {
            "colorbar": {
             "outlinewidth": 0,
             "ticks": ""
            },
            "colorscale": [
             [
              0,
              "#0d0887"
             ],
             [
              0.1111111111111111,
              "#46039f"
             ],
             [
              0.2222222222222222,
              "#7201a8"
             ],
             [
              0.3333333333333333,
              "#9c179e"
             ],
             [
              0.4444444444444444,
              "#bd3786"
             ],
             [
              0.5555555555555556,
              "#d8576b"
             ],
             [
              0.6666666666666666,
              "#ed7953"
             ],
             [
              0.7777777777777778,
              "#fb9f3a"
             ],
             [
              0.8888888888888888,
              "#fdca26"
             ],
             [
              1,
              "#f0f921"
             ]
            ],
            "type": "histogram2d"
           }
          ],
          "histogram2dcontour": [
           {
            "colorbar": {
             "outlinewidth": 0,
             "ticks": ""
            },
            "colorscale": [
             [
              0,
              "#0d0887"
             ],
             [
              0.1111111111111111,
              "#46039f"
             ],
             [
              0.2222222222222222,
              "#7201a8"
             ],
             [
              0.3333333333333333,
              "#9c179e"
             ],
             [
              0.4444444444444444,
              "#bd3786"
             ],
             [
              0.5555555555555556,
              "#d8576b"
             ],
             [
              0.6666666666666666,
              "#ed7953"
             ],
             [
              0.7777777777777778,
              "#fb9f3a"
             ],
             [
              0.8888888888888888,
              "#fdca26"
             ],
             [
              1,
              "#f0f921"
             ]
            ],
            "type": "histogram2dcontour"
           }
          ],
          "mesh3d": [
           {
            "colorbar": {
             "outlinewidth": 0,
             "ticks": ""
            },
            "type": "mesh3d"
           }
          ],
          "parcoords": [
           {
            "line": {
             "colorbar": {
              "outlinewidth": 0,
              "ticks": ""
             }
            },
            "type": "parcoords"
           }
          ],
          "pie": [
           {
            "automargin": true,
            "type": "pie"
           }
          ],
          "scatter": [
           {
            "marker": {
             "colorbar": {
              "outlinewidth": 0,
              "ticks": ""
             }
            },
            "type": "scatter"
           }
          ],
          "scatter3d": [
           {
            "line": {
             "colorbar": {
              "outlinewidth": 0,
              "ticks": ""
             }
            },
            "marker": {
             "colorbar": {
              "outlinewidth": 0,
              "ticks": ""
             }
            },
            "type": "scatter3d"
           }
          ],
          "scattercarpet": [
           {
            "marker": {
             "colorbar": {
              "outlinewidth": 0,
              "ticks": ""
             }
            },
            "type": "scattercarpet"
           }
          ],
          "scattergeo": [
           {
            "marker": {
             "colorbar": {
              "outlinewidth": 0,
              "ticks": ""
             }
            },
            "type": "scattergeo"
           }
          ],
          "scattergl": [
           {
            "marker": {
             "colorbar": {
              "outlinewidth": 0,
              "ticks": ""
             }
            },
            "type": "scattergl"
           }
          ],
          "scattermapbox": [
           {
            "marker": {
             "colorbar": {
              "outlinewidth": 0,
              "ticks": ""
             }
            },
            "type": "scattermapbox"
           }
          ],
          "scatterpolar": [
           {
            "marker": {
             "colorbar": {
              "outlinewidth": 0,
              "ticks": ""
             }
            },
            "type": "scatterpolar"
           }
          ],
          "scatterpolargl": [
           {
            "marker": {
             "colorbar": {
              "outlinewidth": 0,
              "ticks": ""
             }
            },
            "type": "scatterpolargl"
           }
          ],
          "scatterternary": [
           {
            "marker": {
             "colorbar": {
              "outlinewidth": 0,
              "ticks": ""
             }
            },
            "type": "scatterternary"
           }
          ],
          "surface": [
           {
            "colorbar": {
             "outlinewidth": 0,
             "ticks": ""
            },
            "colorscale": [
             [
              0,
              "#0d0887"
             ],
             [
              0.1111111111111111,
              "#46039f"
             ],
             [
              0.2222222222222222,
              "#7201a8"
             ],
             [
              0.3333333333333333,
              "#9c179e"
             ],
             [
              0.4444444444444444,
              "#bd3786"
             ],
             [
              0.5555555555555556,
              "#d8576b"
             ],
             [
              0.6666666666666666,
              "#ed7953"
             ],
             [
              0.7777777777777778,
              "#fb9f3a"
             ],
             [
              0.8888888888888888,
              "#fdca26"
             ],
             [
              1,
              "#f0f921"
             ]
            ],
            "type": "surface"
           }
          ],
          "table": [
           {
            "cells": {
             "fill": {
              "color": "#EBF0F8"
             },
             "line": {
              "color": "white"
             }
            },
            "header": {
             "fill": {
              "color": "#C8D4E3"
             },
             "line": {
              "color": "white"
             }
            },
            "type": "table"
           }
          ]
         },
         "layout": {
          "annotationdefaults": {
           "arrowcolor": "#2a3f5f",
           "arrowhead": 0,
           "arrowwidth": 1
          },
          "coloraxis": {
           "colorbar": {
            "outlinewidth": 0,
            "ticks": ""
           }
          },
          "colorscale": {
           "diverging": [
            [
             0,
             "#8e0152"
            ],
            [
             0.1,
             "#c51b7d"
            ],
            [
             0.2,
             "#de77ae"
            ],
            [
             0.3,
             "#f1b6da"
            ],
            [
             0.4,
             "#fde0ef"
            ],
            [
             0.5,
             "#f7f7f7"
            ],
            [
             0.6,
             "#e6f5d0"
            ],
            [
             0.7,
             "#b8e186"
            ],
            [
             0.8,
             "#7fbc41"
            ],
            [
             0.9,
             "#4d9221"
            ],
            [
             1,
             "#276419"
            ]
           ],
           "sequential": [
            [
             0,
             "#0d0887"
            ],
            [
             0.1111111111111111,
             "#46039f"
            ],
            [
             0.2222222222222222,
             "#7201a8"
            ],
            [
             0.3333333333333333,
             "#9c179e"
            ],
            [
             0.4444444444444444,
             "#bd3786"
            ],
            [
             0.5555555555555556,
             "#d8576b"
            ],
            [
             0.6666666666666666,
             "#ed7953"
            ],
            [
             0.7777777777777778,
             "#fb9f3a"
            ],
            [
             0.8888888888888888,
             "#fdca26"
            ],
            [
             1,
             "#f0f921"
            ]
           ],
           "sequentialminus": [
            [
             0,
             "#0d0887"
            ],
            [
             0.1111111111111111,
             "#46039f"
            ],
            [
             0.2222222222222222,
             "#7201a8"
            ],
            [
             0.3333333333333333,
             "#9c179e"
            ],
            [
             0.4444444444444444,
             "#bd3786"
            ],
            [
             0.5555555555555556,
             "#d8576b"
            ],
            [
             0.6666666666666666,
             "#ed7953"
            ],
            [
             0.7777777777777778,
             "#fb9f3a"
            ],
            [
             0.8888888888888888,
             "#fdca26"
            ],
            [
             1,
             "#f0f921"
            ]
           ]
          },
          "colorway": [
           "#636efa",
           "#EF553B",
           "#00cc96",
           "#ab63fa",
           "#FFA15A",
           "#19d3f3",
           "#FF6692",
           "#B6E880",
           "#FF97FF",
           "#FECB52"
          ],
          "font": {
           "color": "#2a3f5f"
          },
          "geo": {
           "bgcolor": "white",
           "lakecolor": "white",
           "landcolor": "white",
           "showlakes": true,
           "showland": true,
           "subunitcolor": "#C8D4E3"
          },
          "hoverlabel": {
           "align": "left"
          },
          "hovermode": "closest",
          "mapbox": {
           "style": "light"
          },
          "paper_bgcolor": "white",
          "plot_bgcolor": "white",
          "polar": {
           "angularaxis": {
            "gridcolor": "#EBF0F8",
            "linecolor": "#EBF0F8",
            "ticks": ""
           },
           "bgcolor": "white",
           "radialaxis": {
            "gridcolor": "#EBF0F8",
            "linecolor": "#EBF0F8",
            "ticks": ""
           }
          },
          "scene": {
           "xaxis": {
            "backgroundcolor": "white",
            "gridcolor": "#DFE8F3",
            "gridwidth": 2,
            "linecolor": "#EBF0F8",
            "showbackground": true,
            "ticks": "",
            "zerolinecolor": "#EBF0F8"
           },
           "yaxis": {
            "backgroundcolor": "white",
            "gridcolor": "#DFE8F3",
            "gridwidth": 2,
            "linecolor": "#EBF0F8",
            "showbackground": true,
            "ticks": "",
            "zerolinecolor": "#EBF0F8"
           },
           "zaxis": {
            "backgroundcolor": "white",
            "gridcolor": "#DFE8F3",
            "gridwidth": 2,
            "linecolor": "#EBF0F8",
            "showbackground": true,
            "ticks": "",
            "zerolinecolor": "#EBF0F8"
           }
          },
          "shapedefaults": {
           "line": {
            "color": "#2a3f5f"
           }
          },
          "ternary": {
           "aaxis": {
            "gridcolor": "#DFE8F3",
            "linecolor": "#A2B1C6",
            "ticks": ""
           },
           "baxis": {
            "gridcolor": "#DFE8F3",
            "linecolor": "#A2B1C6",
            "ticks": ""
           },
           "bgcolor": "white",
           "caxis": {
            "gridcolor": "#DFE8F3",
            "linecolor": "#A2B1C6",
            "ticks": ""
           }
          },
          "title": {
           "x": 0.05
          },
          "xaxis": {
           "automargin": true,
           "gridcolor": "#EBF0F8",
           "linecolor": "#EBF0F8",
           "ticks": "",
           "title": {
            "standoff": 15
           },
           "zerolinecolor": "#EBF0F8",
           "zerolinewidth": 2
          },
          "yaxis": {
           "automargin": true,
           "gridcolor": "#EBF0F8",
           "linecolor": "#EBF0F8",
           "ticks": "",
           "title": {
            "standoff": 15
           },
           "zerolinecolor": "#EBF0F8",
           "zerolinewidth": 2
          }
         }
        },
        "title": {
         "text": "Petal Width Distribution By Class (h = 0.50)"
        }
       }
      },
      "text/html": [
       "<div>\n",
       "        \n",
       "        \n",
       "            <div id=\"398b8318-5660-4fd2-92fe-c02d04bb7fac\" class=\"plotly-graph-div\" style=\"height:525px; width:100%;\"></div>\n",
       "            <script type=\"text/javascript\">\n",
       "                require([\"plotly\"], function(Plotly) {\n",
       "                    window.PLOTLYENV=window.PLOTLYENV || {};\n",
       "                    \n",
       "                if (document.getElementById(\"398b8318-5660-4fd2-92fe-c02d04bb7fac\")) {\n",
       "                    Plotly.newPlot(\n",
       "                        '398b8318-5660-4fd2-92fe-c02d04bb7fac',\n",
       "                        [{\"line\": {\"color\": \"#e41a1c\"}, \"name\": \"setosa density\", \"type\": \"scatter\", \"x\": [-1.0, -0.9595959595959596, -0.9191919191919192, -0.8787878787878788, -0.8383838383838383, -0.797979797979798, -0.7575757575757576, -0.7171717171717171, -0.6767676767676767, -0.6363636363636364, -0.5959595959595959, -0.5555555555555556, -0.5151515151515151, -0.4747474747474747, -0.43434343434343425, -0.3939393939393939, -0.3535353535353535, -0.31313131313131304, -0.2727272727272727, -0.23232323232323226, -0.19191919191919182, -0.1515151515151515, -0.11111111111111105, -0.07070707070707061, -0.030303030303030276, 0.010101010101010166, 0.05050505050505061, 0.09090909090909105, 0.1313131313131315, 0.1717171717171717, 0.21212121212121215, 0.2525252525252526, 0.29292929292929304, 0.3333333333333335, 0.3737373737373739, 0.41414141414141437, 0.4545454545454546, 0.49494949494949503, 0.5353535353535355, 0.5757575757575759, 0.6161616161616164, 0.6565656565656568, 0.696969696969697, 0.7373737373737375, 0.7777777777777779, 0.8181818181818183, 0.8585858585858588, 0.8989898989898992, 0.9393939393939394, 0.9797979797979799, 1.0202020202020203, 1.060606060606061, 1.1010101010101012, 1.1414141414141414, 1.181818181818182, 1.2222222222222223, 1.262626262626263, 1.3030303030303032, 1.3434343434343434, 1.383838383838384, 1.4242424242424243, 1.464646464646465, 1.5050505050505052, 1.5454545454545459, 1.585858585858586, 1.6262626262626263, 1.666666666666667, 1.7070707070707072, 1.7474747474747478, 1.787878787878788, 1.8282828282828287, 1.868686868686869, 1.9090909090909092, 1.9494949494949498, 1.98989898989899, 2.0303030303030307, 2.070707070707071, 2.111111111111111, 2.151515151515152, 2.191919191919192, 2.2323232323232327, 2.272727272727273, 2.3131313131313136, 2.353535353535354, 2.393939393939394, 2.4343434343434347, 2.474747474747475, 2.5151515151515156, 2.555555555555556, 2.5959595959595965, 2.6363636363636367, 2.676767676767677, 2.7171717171717176, 2.757575757575758, 2.7979797979797985, 2.8383838383838387, 2.878787878787879, 2.9191919191919196, 2.95959595959596, 3.0], \"y\": [0.03936476900446657, 0.047677757998073354, 0.05737922683958805, 0.06861599552468586, 0.08153215986399939, 0.09626458722268133, 0.11293780538021936, 0.1316583822136742, 0.1525089360418175, 0.1755419584402688, 0.2007736705483631, 0.22817816748454386, 0.2576821305346095, 0.289160400465916, 0.3224327051907001, 0.35726181917484356, 0.3933533993852712, 0.43035769309081745, 0.4678732474856012, 0.5054526720582654, 0.5426104151796253, 0.5788324208219038, 0.6135874347378365, 0.6463396373898815, 0.6765621991313757, 0.7037512870389662, 0.727440007145926, 0.7472117443494817, 0.7627123673198349, 0.7736607980908292, 0.7798575047226641, 0.7811905578594004, 0.7776389939645605, 0.7692733440157018, 0.7562533100463995, 0.7388226962141544, 0.7173018190921435, 0.6920777271265963, 0.6635926460510139, 0.6323311311344838, 0.5988064456098038, 0.5635466962839465, 0.5270812426640018, 0.48992785699678976, 0.4525810528418174, 0.41550192365710154, 0.3791097455569895, 0.3437755053936871, 0.30981742204159635, 0.27749844022736864, 0.2470255967392424, 0.21855109173116852, 0.19217484541904004, 0.1679482839583278, 0.14587907784538953, 0.1259365509988362, 0.1080574871643801, 0.0921520802678013, 0.0781098042600715, 0.06580501313494581, 0.0551021204595489, 0.04586024744294698, 0.03793726709699015, 0.03119320764481707, 0.02549300968378554, 0.02070865784830532, 0.01672072841513551, 0.01341940940451381, 0.010705059528358716, 0.00848837733765988, 0.006690252806270808, 0.005241371130857045, 0.004081633527011934, 0.0031594530333810826, 0.002430975505690104, 0.0018592677026048094, 0.0014135061366334842, 0.001068192571589817, 0.0008024149673336578, 0.0005991664744450268, 0.00044472985010962884, 0.00032813041415553337, 0.00024065734852172883, 0.0001754506835297614, 0.0001271496051544292, 9.159664222246458e-05, 6.559173227095911e-05, 4.6690006140220455e-05, 3.303727104924677e-05, 2.3237520015653024e-05, 1.6247276806294146e-05, 1.1292139633418228e-05, 7.801466903389371e-06, 5.357720252779716e-06, 3.6575202757868674e-06, 2.481963906512887e-06, 1.6741914169164979e-06, 1.122572678694691e-06, 7.482076945094416e-07, 4.957089026129092e-07]}, {\"marker\": {\"color\": \"#ffffff\", \"line\": {\"color\": \"#e41a1c\", \"width\": 1}}, \"mode\": \"markers\", \"name\": \"setosa data\", \"opacity\": 0.7, \"type\": \"scatter\", \"x\": [0.2, 0.2, 0.2, 0.2, 0.2, 0.4, 0.3, 0.2, 0.2, 0.1, 0.2, 0.2, 0.1, 0.1, 0.2, 0.4, 0.4, 0.3, 0.3, 0.3, 0.2, 0.4, 0.2, 0.5, 0.2, 0.2, 0.4, 0.2, 0.2, 0.2, 0.2, 0.4, 0.1, 0.2, 0.2, 0.2, 0.2, 0.1, 0.2, 0.2, 0.3, 0.3, 0.2, 0.6, 0.4, 0.3, 0.2, 0.2, 0.2, 0.2], \"y\": [-0.0206289871638236, 0.013812126514191184, -0.03606473966949872, -0.03325478382881504, 0.007048837554538237, 0.031884464881973745, 0.009532694642350084, -0.004398932369893548, -0.03457973213143981, -0.0023802405103490534, -0.04913925473144333, -0.04909859166185802, -0.04146720787373231, -0.04562477182452347, -0.02636689196234865, 0.04188742367009582, -0.04947944621136316, -0.02727914226356376, 0.027150106289307002, 0.024212850037784478, 0.04560024435154501, 0.004147442057265763, 0.041639051513162356, 0.02473456877749508, 0.021039906259247745, -0.03167426554476657, 0.036322625668095354, -0.04277844480081588, -0.022076853978648128, 0.038056350456400836, 0.030310183186308556, 0.026394619559074364, 0.030797104405098516, -0.04771673183050993, 0.01629435178774588, 0.011520160536922265, -0.035040113831820235, -0.013805752623843849, 0.02969880561692119, -0.0022905302493773996, -0.03876991142312622, 0.02555713140144733, 0.04771999775007486, -0.004162096359557166, 0.041042165376312154, -0.005817875814176622, 0.006099309875751371, -0.019083708250250075, -0.022460541474771445, -0.013096514565657157]}, {\"line\": {\"color\": \"#377eb8\"}, \"name\": \"versicolor density\", \"type\": \"scatter\", \"x\": [-1.0, -0.9595959595959596, -0.9191919191919192, -0.8787878787878788, -0.8383838383838383, -0.797979797979798, -0.7575757575757576, -0.7171717171717171, -0.6767676767676767, -0.6363636363636364, -0.5959595959595959, -0.5555555555555556, -0.5151515151515151, -0.4747474747474747, -0.43434343434343425, -0.3939393939393939, -0.3535353535353535, -0.31313131313131304, -0.2727272727272727, -0.23232323232323226, -0.19191919191919182, -0.1515151515151515, -0.11111111111111105, -0.07070707070707061, -0.030303030303030276, 0.010101010101010166, 0.05050505050505061, 0.09090909090909105, 0.1313131313131315, 0.1717171717171717, 0.21212121212121215, 0.2525252525252526, 0.29292929292929304, 0.3333333333333335, 0.3737373737373739, 0.41414141414141437, 0.4545454545454546, 0.49494949494949503, 0.5353535353535355, 0.5757575757575759, 0.6161616161616164, 0.6565656565656568, 0.696969696969697, 0.7373737373737375, 0.7777777777777779, 0.8181818181818183, 0.8585858585858588, 0.8989898989898992, 0.9393939393939394, 0.9797979797979799, 1.0202020202020203, 1.060606060606061, 1.1010101010101012, 1.1414141414141414, 1.181818181818182, 1.2222222222222223, 1.262626262626263, 1.3030303030303032, 1.3434343434343434, 1.383838383838384, 1.4242424242424243, 1.464646464646465, 1.5050505050505052, 1.5454545454545459, 1.585858585858586, 1.6262626262626263, 1.666666666666667, 1.7070707070707072, 1.7474747474747478, 1.787878787878788, 1.8282828282828287, 1.868686868686869, 1.9090909090909092, 1.9494949494949498, 1.98989898989899, 2.0303030303030307, 2.070707070707071, 2.111111111111111, 2.151515151515152, 2.191919191919192, 2.2323232323232327, 2.272727272727273, 2.3131313131313136, 2.353535353535354, 2.393939393939394, 2.4343434343434347, 2.474747474747475, 2.5151515151515156, 2.555555555555556, 2.5959595959595965, 2.6363636363636367, 2.676767676767677, 2.7171717171717176, 2.757575757575758, 2.7979797979797985, 2.8383838383838387, 2.878787878787879, 2.9191919191919196, 2.95959595959596, 3.0], \"y\": [5.6585455148113874e-05, 7.884963053327403e-05, 0.00010920068167636523, 0.00015030974373024544, 0.0002056318520636748, 0.0002796021991430327, 0.0003778707702824044, 0.0005075796588087171, 0.0006776868855135406, 0.0008993397056261093, 0.0011862991049102027, 0.00155541539496113, 0.0020271524569086467, 0.002626155211034344, 0.003381851292239947, 0.004329073708250484, 0.005508686513712105, 0.006968190366361138, 0.008762279417751777, 0.010953315570219481, 0.01361168100670176, 0.01681596543254723, 0.02065294106950821, 0.025217276556183933, 0.030610940992326873, 0.0369422518566296, 0.04432452582009106, 0.05287429987600488, 0.06270910189637119, 0.07394476472686362, 0.08669229607977867, 0.10105433739019047, 0.11712126784553148, 0.13496703412940433, 0.15464481096322794, 0.1761826210232933, 0.19957906385746293, 0.2247993205565899, 0.25177161269454834, 0.280384299087062, 0.31048379108758145, 0.3418734555960544, 0.3743136542552192, 0.40752303747003826, 0.4411811734515982, 0.47493254654476325, 0.5083919072706253, 0.5411509009081921, 0.5727858445641375, 0.6028664673259883, 0.6309653771873546, 0.6566679748620209, 0.6795825010390062, 0.6993498823509683, 0.715653034053641, 0.7282252851708022, 0.7368576148828504, 0.7414044266223897, 0.7417876372460553, 0.7379989205608003, 0.7301000145150582, 0.7182210761382973, 0.7025571441395333, 0.6833628421846814, 0.6609455226370012, 0.6356571077009022, 0.6078849297537936, 0.5780419031975658, 0.5465563752507197, 0.513862002451997, 0.48038798384527326, 0.4465499522590342, 0.41274178386924826, 0.3793285359654118, 0.3466406665017719, 0.3149696297398795, 0.2845648831637246, 0.2556322847405421, 0.2283338089968294, 0.20278846727106206, 0.17907428330880343, 0.1572311508911756, 0.1372643856435725, 0.11914877821498786, 0.10283295983088425, 0.08824390261030125, 0.07529139454422791, 0.06387235105444038, 0.05387484995286283, 0.04518180282922666, 0.03767420198543197, 0.03123390679420186, 0.02574595582250677, 0.021100410529547364, 0.017193752393816326, 0.013929867761246677, 0.011220663571854661, 0.008986362629590903, 0.007155529578684385, 0.005664878680221962]}, {\"marker\": {\"color\": \"#ffffff\", \"line\": {\"color\": \"#377eb8\", \"width\": 1}}, \"mode\": \"markers\", \"name\": \"versicolor data\", \"opacity\": 0.7, \"type\": \"scatter\", \"x\": [1.4, 1.5, 1.5, 1.3, 1.5, 1.3, 1.6, 1.0, 1.3, 1.4, 1.0, 1.5, 1.0, 1.4, 1.3, 1.4, 1.5, 1.0, 1.5, 1.1, 1.8, 1.3, 1.5, 1.2, 1.3, 1.4, 1.4, 1.7, 1.5, 1.0, 1.1, 1.0, 1.2, 1.6, 1.5, 1.6, 1.5, 1.3, 1.3, 1.3, 1.2, 1.4, 1.2, 1.0, 1.3, 1.2, 1.3, 1.3, 1.1, 1.3], \"y\": [0.033459019727538994, 0.03141373255153938, 0.031754585382793174, 0.02055911128661078, 0.020288092236089558, -0.028675322843302778, -0.044000563616985934, 0.0444082442963582, 0.03107967270498628, -0.0013390442555003892, -0.0478210080553815, 0.01711617197563707, -0.002148624674247701, -0.029392686497044764, -0.040289205685526665, 0.035527961020174956, -0.03588038484834553, -0.04279521239478937, -0.026793401772005565, 0.017323623114577705, -0.017204139978358034, -0.03407769273071247, -0.029821125048285546, 0.03911033461764363, 0.034337479760736214, -0.047932939099467234, -0.0011289650171558835, 0.024749626986878034, 0.04031069225888899, 0.04367474426124986, -0.029396708047119247, -0.047290057878208225, 0.013617240282492504, -0.03419232294942991, 0.005264715324054738, 0.009471236407663251, 0.04947053674820817, -0.0025523167146216247, -0.027733578048242193, -0.005018298487466009, 0.03054895555172167, -0.0013199863226983286, -0.026191210611920857, 0.04850320378985548, -0.023720111959234316, 0.03781927079612031, 0.013087221863560844, -0.02113645234433357, -0.02552505065923402, -0.04175536397325172]}, {\"line\": {\"color\": \"#4daf4a\"}, \"name\": \"virginica density\", \"type\": \"scatter\", \"x\": [-1.0, -0.9595959595959596, -0.9191919191919192, -0.8787878787878788, -0.8383838383838383, -0.797979797979798, -0.7575757575757576, -0.7171717171717171, -0.6767676767676767, -0.6363636363636364, -0.5959595959595959, -0.5555555555555556, -0.5151515151515151, -0.4747474747474747, -0.43434343434343425, -0.3939393939393939, -0.3535353535353535, -0.31313131313131304, -0.2727272727272727, -0.23232323232323226, -0.19191919191919182, -0.1515151515151515, -0.11111111111111105, -0.07070707070707061, -0.030303030303030276, 0.010101010101010166, 0.05050505050505061, 0.09090909090909105, 0.1313131313131315, 0.1717171717171717, 0.21212121212121215, 0.2525252525252526, 0.29292929292929304, 0.3333333333333335, 0.3737373737373739, 0.41414141414141437, 0.4545454545454546, 0.49494949494949503, 0.5353535353535355, 0.5757575757575759, 0.6161616161616164, 0.6565656565656568, 0.696969696969697, 0.7373737373737375, 0.7777777777777779, 0.8181818181818183, 0.8585858585858588, 0.8989898989898992, 0.9393939393939394, 0.9797979797979799, 1.0202020202020203, 1.060606060606061, 1.1010101010101012, 1.1414141414141414, 1.181818181818182, 1.2222222222222223, 1.262626262626263, 1.3030303030303032, 1.3434343434343434, 1.383838383838384, 1.4242424242424243, 1.464646464646465, 1.5050505050505052, 1.5454545454545459, 1.585858585858586, 1.6262626262626263, 1.666666666666667, 1.7070707070707072, 1.7474747474747478, 1.787878787878788, 1.8282828282828287, 1.868686868686869, 1.9090909090909092, 1.9494949494949498, 1.98989898989899, 2.0303030303030307, 2.070707070707071, 2.111111111111111, 2.151515151515152, 2.191919191919192, 2.2323232323232327, 2.272727272727273, 2.3131313131313136, 2.353535353535354, 2.393939393939394, 2.4343434343434347, 2.474747474747475, 2.5151515151515156, 2.555555555555556, 2.5959595959595965, 2.6363636363636367, 2.676767676767677, 2.7171717171717176, 2.757575757575758, 2.7979797979797985, 2.8383838383838387, 2.878787878787879, 2.9191919191919196, 2.95959595959596, 3.0], \"y\": [3.3942088784433027e-07, 5.065247596941195e-07, 7.513224277105673e-07, 1.1077020985095998e-06, 1.6232977110426856e-06, 2.3646114916138614e-06, 3.4238593216077848e-06, 4.928046788325143e-06, 7.050907887872772e-06, 1.0028484188181473e-05, 1.4179290864795792e-05, 1.9930207439027646e-05, 2.7849443946191017e-05, 3.8688164471988085e-05, 5.34325940042963e-05, 7.336868296490346e-05, 0.00010016164481486096, 0.00013595290008415104, 0.00018347713510665905, 0.00024620229119896446, 0.00032849531108305205, 0.0004358163509458836, 0.0005749438821517471, 0.0007542326175374811, 0.0009839054641732322, 0.0012763796899955115, 0.0016466261630219373, 0.0021125588542647354, 0.002695449776340614, 0.003420362162791749, 0.00431659200262186, 0.005418105079736794, 0.006763953505678319, 0.008398652485451456, 0.01037249486236458, 0.012741778022997963, 0.015568915211732181, 0.018922401434039695, 0.022876603163292927, 0.027511341256114225, 0.03291123806556326, 0.03916480293248659, 0.04636323520065134, 0.05459893074347295, 0.06396368672768431, 0.07454660988908735, 0.08643174575907793, 0.09969545973550473, 0.1144036151895417, 0.1306086083745556, 0.14834633408311132, 0.16763316903598066, 0.1884630710903455, 0.21080490072988545, 0.23460007620013243, 0.25976067442878065, 0.2861680860208044, 0.31367232383445587, 0.34209207085082527, 0.3712155344291427, 0.4008021510448381, 0.4305851589544634, 0.46027502687959304, 0.48956369591101423, 0.5181295607118115, 0.5456430861296504, 0.5717729279059097, 0.5961924026111045, 0.6185861334143855, 0.638656685768471, 0.6561310012516494, 0.6707664390413745, 0.6823562428601682, 0.6907342664683445, 0.6957788123049304, 0.6974154648480335, 0.6956188316005129, 0.6904131390558468, 0.6818716672026776, 0.6701150426791329, 0.6553084462006535, 0.6376578230429786, 0.6174052149753585, 0.594823357085978, 0.5702097026012077, 0.5438800524777876, 0.5161619738886801, 0.4873881926230116, 0.45789013901790265, 0.4279918157098961, 0.3980041388280948, 0.3682198830328426, 0.3389093359735319, 0.3103167403555923, 0.28265757300162636, 0.25611668122094927, 0.23084726859504212, 0.2069706959972117, 0.18457704022412422, 0.16372633279329288]}, {\"marker\": {\"color\": \"#ffffff\", \"line\": {\"color\": \"#4daf4a\", \"width\": 1}}, \"mode\": \"markers\", \"name\": \"virginica data\", \"opacity\": 0.7, \"type\": \"scatter\", \"x\": [2.5, 1.9, 2.1, 1.8, 2.2, 2.1, 1.7, 1.8, 1.8, 2.5, 2.0, 1.9, 2.1, 2.0, 2.4, 2.3, 1.8, 2.2, 2.3, 1.5, 2.3, 2.0, 2.0, 1.8, 2.1, 1.8, 1.8, 1.8, 2.1, 1.6, 1.9, 2.0, 2.2, 1.5, 1.4, 2.3, 2.4, 1.8, 1.8, 2.1, 2.4, 2.3, 1.9, 2.3, 2.5, 2.3, 1.9, 2.0, 2.3, 1.8], \"y\": [-0.010924715064610749, 0.0031796846199370274, 0.009488640836462739, -0.015632128187014628, -0.008892887798348702, 0.03027698481190398, 0.01769558793534526, -0.035564247595459744, 0.0099913292502979, 0.020962919105314032, -0.03186935929354795, 0.007628668017572282, -0.005025846382316526, 0.013033781027944363, -0.01121829889628094, 0.00392713139803267, 0.024670299913607335, -0.023728443832419767, -0.040637999771059356, 0.049875467787786384, -0.041172887938622754, 0.0024655313783310887, -0.022715770857473172, 0.04082327783909079, 0.004161309904768838, 0.022056075019003057, 0.04892381383109787, -0.014390752366502835, -0.03898042226592211, 0.029659593601790185, -0.01600457693520753, -0.01573299621898494, -0.046258104174333715, -0.003022280976534883, 0.00025818636086908514, 0.007957355380386624, 0.047231853076938335, -0.024565967089191777, 0.025334673169959493, 0.020777430343727282, -0.018453641621330473, -0.02032590669847838, 0.010107271779568258, -0.040530424750788066, -0.014514414349901618, -0.03302142859907563, 0.04013349263251882, -0.041896175664351915, 0.03242240376097137, 0.03298567101122253]}],\n",
       "                        {\"template\": {\"data\": {\"bar\": [{\"error_x\": {\"color\": \"#2a3f5f\"}, \"error_y\": {\"color\": \"#2a3f5f\"}, \"marker\": {\"line\": {\"color\": \"white\", \"width\": 0.5}}, \"type\": \"bar\"}], \"barpolar\": [{\"marker\": {\"line\": {\"color\": \"white\", \"width\": 0.5}}, \"type\": \"barpolar\"}], \"carpet\": [{\"aaxis\": {\"endlinecolor\": \"#2a3f5f\", \"gridcolor\": \"#C8D4E3\", \"linecolor\": \"#C8D4E3\", \"minorgridcolor\": \"#C8D4E3\", \"startlinecolor\": \"#2a3f5f\"}, \"baxis\": {\"endlinecolor\": \"#2a3f5f\", \"gridcolor\": \"#C8D4E3\", \"linecolor\": \"#C8D4E3\", \"minorgridcolor\": \"#C8D4E3\", \"startlinecolor\": \"#2a3f5f\"}, \"type\": \"carpet\"}], \"choropleth\": [{\"colorbar\": {\"outlinewidth\": 0, \"ticks\": \"\"}, \"type\": \"choropleth\"}], \"contour\": [{\"colorbar\": {\"outlinewidth\": 0, \"ticks\": \"\"}, \"colorscale\": [[0.0, \"#0d0887\"], [0.1111111111111111, \"#46039f\"], [0.2222222222222222, \"#7201a8\"], [0.3333333333333333, \"#9c179e\"], [0.4444444444444444, \"#bd3786\"], [0.5555555555555556, \"#d8576b\"], [0.6666666666666666, \"#ed7953\"], [0.7777777777777778, \"#fb9f3a\"], [0.8888888888888888, \"#fdca26\"], [1.0, \"#f0f921\"]], \"type\": \"contour\"}], \"contourcarpet\": [{\"colorbar\": {\"outlinewidth\": 0, \"ticks\": \"\"}, \"type\": \"contourcarpet\"}], \"heatmap\": [{\"colorbar\": {\"outlinewidth\": 0, \"ticks\": \"\"}, \"colorscale\": [[0.0, \"#0d0887\"], [0.1111111111111111, \"#46039f\"], [0.2222222222222222, \"#7201a8\"], [0.3333333333333333, \"#9c179e\"], [0.4444444444444444, \"#bd3786\"], [0.5555555555555556, \"#d8576b\"], [0.6666666666666666, \"#ed7953\"], [0.7777777777777778, \"#fb9f3a\"], [0.8888888888888888, \"#fdca26\"], [1.0, \"#f0f921\"]], \"type\": \"heatmap\"}], \"heatmapgl\": [{\"colorbar\": {\"outlinewidth\": 0, \"ticks\": \"\"}, \"colorscale\": [[0.0, \"#0d0887\"], [0.1111111111111111, \"#46039f\"], [0.2222222222222222, \"#7201a8\"], [0.3333333333333333, \"#9c179e\"], [0.4444444444444444, \"#bd3786\"], [0.5555555555555556, \"#d8576b\"], [0.6666666666666666, \"#ed7953\"], [0.7777777777777778, \"#fb9f3a\"], [0.8888888888888888, \"#fdca26\"], [1.0, \"#f0f921\"]], \"type\": \"heatmapgl\"}], \"histogram\": [{\"marker\": {\"colorbar\": {\"outlinewidth\": 0, \"ticks\": \"\"}}, \"type\": \"histogram\"}], \"histogram2d\": [{\"colorbar\": {\"outlinewidth\": 0, \"ticks\": \"\"}, \"colorscale\": [[0.0, \"#0d0887\"], [0.1111111111111111, \"#46039f\"], [0.2222222222222222, \"#7201a8\"], [0.3333333333333333, \"#9c179e\"], [0.4444444444444444, \"#bd3786\"], [0.5555555555555556, \"#d8576b\"], [0.6666666666666666, \"#ed7953\"], [0.7777777777777778, \"#fb9f3a\"], [0.8888888888888888, \"#fdca26\"], [1.0, \"#f0f921\"]], \"type\": \"histogram2d\"}], \"histogram2dcontour\": [{\"colorbar\": {\"outlinewidth\": 0, \"ticks\": \"\"}, \"colorscale\": [[0.0, \"#0d0887\"], [0.1111111111111111, \"#46039f\"], [0.2222222222222222, \"#7201a8\"], [0.3333333333333333, \"#9c179e\"], [0.4444444444444444, \"#bd3786\"], [0.5555555555555556, \"#d8576b\"], [0.6666666666666666, \"#ed7953\"], [0.7777777777777778, \"#fb9f3a\"], [0.8888888888888888, \"#fdca26\"], [1.0, \"#f0f921\"]], \"type\": \"histogram2dcontour\"}], \"mesh3d\": [{\"colorbar\": {\"outlinewidth\": 0, \"ticks\": \"\"}, \"type\": \"mesh3d\"}], \"parcoords\": [{\"line\": {\"colorbar\": {\"outlinewidth\": 0, \"ticks\": \"\"}}, \"type\": \"parcoords\"}], \"pie\": [{\"automargin\": true, \"type\": \"pie\"}], \"scatter\": [{\"marker\": {\"colorbar\": {\"outlinewidth\": 0, \"ticks\": \"\"}}, \"type\": \"scatter\"}], \"scatter3d\": [{\"line\": {\"colorbar\": {\"outlinewidth\": 0, \"ticks\": \"\"}}, \"marker\": {\"colorbar\": {\"outlinewidth\": 0, \"ticks\": \"\"}}, \"type\": \"scatter3d\"}], \"scattercarpet\": [{\"marker\": {\"colorbar\": {\"outlinewidth\": 0, \"ticks\": \"\"}}, \"type\": \"scattercarpet\"}], \"scattergeo\": [{\"marker\": {\"colorbar\": {\"outlinewidth\": 0, \"ticks\": \"\"}}, \"type\": \"scattergeo\"}], \"scattergl\": [{\"marker\": {\"colorbar\": {\"outlinewidth\": 0, \"ticks\": \"\"}}, \"type\": \"scattergl\"}], \"scattermapbox\": [{\"marker\": {\"colorbar\": {\"outlinewidth\": 0, \"ticks\": \"\"}}, \"type\": \"scattermapbox\"}], \"scatterpolar\": [{\"marker\": {\"colorbar\": {\"outlinewidth\": 0, \"ticks\": \"\"}}, \"type\": \"scatterpolar\"}], \"scatterpolargl\": [{\"marker\": {\"colorbar\": {\"outlinewidth\": 0, \"ticks\": \"\"}}, \"type\": \"scatterpolargl\"}], \"scatterternary\": [{\"marker\": {\"colorbar\": {\"outlinewidth\": 0, \"ticks\": \"\"}}, \"type\": \"scatterternary\"}], \"surface\": [{\"colorbar\": {\"outlinewidth\": 0, \"ticks\": \"\"}, \"colorscale\": [[0.0, \"#0d0887\"], [0.1111111111111111, \"#46039f\"], [0.2222222222222222, \"#7201a8\"], [0.3333333333333333, \"#9c179e\"], [0.4444444444444444, \"#bd3786\"], [0.5555555555555556, \"#d8576b\"], [0.6666666666666666, \"#ed7953\"], [0.7777777777777778, \"#fb9f3a\"], [0.8888888888888888, \"#fdca26\"], [1.0, \"#f0f921\"]], \"type\": \"surface\"}], \"table\": [{\"cells\": {\"fill\": {\"color\": \"#EBF0F8\"}, \"line\": {\"color\": \"white\"}}, \"header\": {\"fill\": {\"color\": \"#C8D4E3\"}, \"line\": {\"color\": \"white\"}}, \"type\": \"table\"}]}, \"layout\": {\"annotationdefaults\": {\"arrowcolor\": \"#2a3f5f\", \"arrowhead\": 0, \"arrowwidth\": 1}, \"coloraxis\": {\"colorbar\": {\"outlinewidth\": 0, \"ticks\": \"\"}}, \"colorscale\": {\"diverging\": [[0, \"#8e0152\"], [0.1, \"#c51b7d\"], [0.2, \"#de77ae\"], [0.3, \"#f1b6da\"], [0.4, \"#fde0ef\"], [0.5, \"#f7f7f7\"], [0.6, \"#e6f5d0\"], [0.7, \"#b8e186\"], [0.8, \"#7fbc41\"], [0.9, \"#4d9221\"], [1, \"#276419\"]], \"sequential\": [[0.0, \"#0d0887\"], [0.1111111111111111, \"#46039f\"], [0.2222222222222222, \"#7201a8\"], [0.3333333333333333, \"#9c179e\"], [0.4444444444444444, \"#bd3786\"], [0.5555555555555556, \"#d8576b\"], [0.6666666666666666, \"#ed7953\"], [0.7777777777777778, \"#fb9f3a\"], [0.8888888888888888, \"#fdca26\"], [1.0, \"#f0f921\"]], \"sequentialminus\": [[0.0, \"#0d0887\"], [0.1111111111111111, \"#46039f\"], [0.2222222222222222, \"#7201a8\"], [0.3333333333333333, \"#9c179e\"], [0.4444444444444444, \"#bd3786\"], [0.5555555555555556, \"#d8576b\"], [0.6666666666666666, \"#ed7953\"], [0.7777777777777778, \"#fb9f3a\"], [0.8888888888888888, \"#fdca26\"], [1.0, \"#f0f921\"]]}, \"colorway\": [\"#636efa\", \"#EF553B\", \"#00cc96\", \"#ab63fa\", \"#FFA15A\", \"#19d3f3\", \"#FF6692\", \"#B6E880\", \"#FF97FF\", \"#FECB52\"], \"font\": {\"color\": \"#2a3f5f\"}, \"geo\": {\"bgcolor\": \"white\", \"lakecolor\": \"white\", \"landcolor\": \"white\", \"showlakes\": true, \"showland\": true, \"subunitcolor\": \"#C8D4E3\"}, \"hoverlabel\": {\"align\": \"left\"}, \"hovermode\": \"closest\", \"mapbox\": {\"style\": \"light\"}, \"paper_bgcolor\": \"white\", \"plot_bgcolor\": \"white\", \"polar\": {\"angularaxis\": {\"gridcolor\": \"#EBF0F8\", \"linecolor\": \"#EBF0F8\", \"ticks\": \"\"}, \"bgcolor\": \"white\", \"radialaxis\": {\"gridcolor\": \"#EBF0F8\", \"linecolor\": \"#EBF0F8\", \"ticks\": \"\"}}, \"scene\": {\"xaxis\": {\"backgroundcolor\": \"white\", \"gridcolor\": \"#DFE8F3\", \"gridwidth\": 2, \"linecolor\": \"#EBF0F8\", \"showbackground\": true, \"ticks\": \"\", \"zerolinecolor\": \"#EBF0F8\"}, \"yaxis\": {\"backgroundcolor\": \"white\", \"gridcolor\": \"#DFE8F3\", \"gridwidth\": 2, \"linecolor\": \"#EBF0F8\", \"showbackground\": true, \"ticks\": \"\", \"zerolinecolor\": \"#EBF0F8\"}, \"zaxis\": {\"backgroundcolor\": \"white\", \"gridcolor\": \"#DFE8F3\", \"gridwidth\": 2, \"linecolor\": \"#EBF0F8\", \"showbackground\": true, \"ticks\": \"\", \"zerolinecolor\": \"#EBF0F8\"}}, \"shapedefaults\": {\"line\": {\"color\": \"#2a3f5f\"}}, \"ternary\": {\"aaxis\": {\"gridcolor\": \"#DFE8F3\", \"linecolor\": \"#A2B1C6\", \"ticks\": \"\"}, \"baxis\": {\"gridcolor\": \"#DFE8F3\", \"linecolor\": \"#A2B1C6\", \"ticks\": \"\"}, \"bgcolor\": \"white\", \"caxis\": {\"gridcolor\": \"#DFE8F3\", \"linecolor\": \"#A2B1C6\", \"ticks\": \"\"}}, \"title\": {\"x\": 0.05}, \"xaxis\": {\"automargin\": true, \"gridcolor\": \"#EBF0F8\", \"linecolor\": \"#EBF0F8\", \"ticks\": \"\", \"title\": {\"standoff\": 15}, \"zerolinecolor\": \"#EBF0F8\", \"zerolinewidth\": 2}, \"yaxis\": {\"automargin\": true, \"gridcolor\": \"#EBF0F8\", \"linecolor\": \"#EBF0F8\", \"ticks\": \"\", \"title\": {\"standoff\": 15}, \"zerolinecolor\": \"#EBF0F8\", \"zerolinewidth\": 2}}}, \"title\": {\"text\": \"Petal Width Distribution By Class (h = 0.50)\"}},\n",
       "                        {\"responsive\": true}\n",
       "                    ).then(function(){\n",
       "                            \n",
       "var gd = document.getElementById('398b8318-5660-4fd2-92fe-c02d04bb7fac');\n",
       "var x = new MutationObserver(function (mutations, observer) {{\n",
       "        var display = window.getComputedStyle(gd).display;\n",
       "        if (!display || display === 'none') {{\n",
       "            console.log([gd, 'removed!']);\n",
       "            Plotly.purge(gd);\n",
       "            observer.disconnect();\n",
       "        }}\n",
       "}});\n",
       "\n",
       "// Listen for the removal of the full notebook cells\n",
       "var notebookContainer = gd.closest('#notebook-container');\n",
       "if (notebookContainer) {{\n",
       "    x.observe(notebookContainer, {childList: true});\n",
       "}}\n",
       "\n",
       "// Listen for the clearing of the current output cell\n",
       "var outputEl = gd.closest('.output');\n",
       "if (outputEl) {{\n",
       "    x.observe(outputEl, {childList: true});\n",
       "}}\n",
       "\n",
       "                        })\n",
       "                };\n",
       "                });\n",
       "            </script>\n",
       "        </div>"
      ]
     },
     "metadata": {},
     "output_type": "display_data"
    }
   ],
   "source": [
    "f50 = Parzen.plot1D(raw_data, np.linspace(-1, 3, 100), 3, 0.50, species, color_map)\n",
    "f50.update_layout(title = \"Petal Width Distribution By Class (h = 0.50)\")\n",
    "f50.show()"
   ]
  },
  {
   "cell_type": "markdown",
   "metadata": {},
   "source": [
    "## Plot Bivariate Distributions at Different Bandwiths\n",
    "\n",
    "I'm afraid I wrestled with this one a good deal and could not find a way to get plotly to allow me to plot multiple kernel density plots with differing bandwidths at the same time. I should have used another library."
   ]
  },
  {
   "cell_type": "code",
   "execution_count": 14,
   "metadata": {},
   "outputs": [
    {
     "data": {
      "application/vnd.plotly.v1+json": {
       "config": {
        "plotlyServerURL": "https://plot.ly"
       },
       "data": [
        {
         "name": "setosa data",
         "type": "histogram2dcontour",
         "x": [
          1.4,
          1.4,
          1.3,
          1.5,
          1.4,
          1.7,
          1.4,
          1.5,
          1.4,
          1.5,
          1.5,
          1.6,
          1.4,
          1.1,
          1.2,
          1.5,
          1.3,
          1.4,
          1.7,
          1.5,
          1.7,
          1.5,
          1,
          1.7,
          1.9,
          1.6,
          1.6,
          1.5,
          1.4,
          1.6,
          1.6,
          1.5,
          1.5,
          1.4,
          1.5,
          1.2,
          1.3,
          1.4,
          1.3,
          1.5,
          1.3,
          1.3,
          1.3,
          1.6,
          1.9,
          1.4,
          1.6,
          1.4,
          1.5,
          1.4
         ],
         "y": [
          0.2,
          0.2,
          0.2,
          0.2,
          0.2,
          0.4,
          0.3,
          0.2,
          0.2,
          0.1,
          0.2,
          0.2,
          0.1,
          0.1,
          0.2,
          0.4,
          0.4,
          0.3,
          0.3,
          0.3,
          0.2,
          0.4,
          0.2,
          0.5,
          0.2,
          0.2,
          0.4,
          0.2,
          0.2,
          0.2,
          0.2,
          0.4,
          0.1,
          0.2,
          0.2,
          0.2,
          0.2,
          0.1,
          0.2,
          0.2,
          0.3,
          0.3,
          0.2,
          0.6,
          0.4,
          0.3,
          0.2,
          0.2,
          0.2,
          0.2
         ]
        },
        {
         "marker": {
          "color": "#ffffff",
          "line": {
           "color": "#e41a1c",
           "width": 3
          }
         },
         "mode": "markers",
         "name": "setosa data",
         "opacity": 0.7,
         "type": "scatter",
         "x": [
          1.4,
          1.4,
          1.3,
          1.5,
          1.4,
          1.7,
          1.4,
          1.5,
          1.4,
          1.5,
          1.5,
          1.6,
          1.4,
          1.1,
          1.2,
          1.5,
          1.3,
          1.4,
          1.7,
          1.5,
          1.7,
          1.5,
          1,
          1.7,
          1.9,
          1.6,
          1.6,
          1.5,
          1.4,
          1.6,
          1.6,
          1.5,
          1.5,
          1.4,
          1.5,
          1.2,
          1.3,
          1.4,
          1.3,
          1.5,
          1.3,
          1.3,
          1.3,
          1.6,
          1.9,
          1.4,
          1.6,
          1.4,
          1.5,
          1.4
         ],
         "y": [
          0.2,
          0.2,
          0.2,
          0.2,
          0.2,
          0.4,
          0.3,
          0.2,
          0.2,
          0.1,
          0.2,
          0.2,
          0.1,
          0.1,
          0.2,
          0.4,
          0.4,
          0.3,
          0.3,
          0.3,
          0.2,
          0.4,
          0.2,
          0.5,
          0.2,
          0.2,
          0.4,
          0.2,
          0.2,
          0.2,
          0.2,
          0.4,
          0.1,
          0.2,
          0.2,
          0.2,
          0.2,
          0.1,
          0.2,
          0.2,
          0.3,
          0.3,
          0.2,
          0.6,
          0.4,
          0.3,
          0.2,
          0.2,
          0.2,
          0.2
         ]
        },
        {
         "name": "versicolor data",
         "type": "histogram2dcontour",
         "x": [
          4.7,
          4.5,
          4.9,
          4,
          4.6,
          4.5,
          4.7,
          3.3,
          4.6,
          3.9,
          3.5,
          4.2,
          4,
          4.7,
          3.6,
          4.4,
          4.5,
          4.1,
          4.5,
          3.9,
          4.8,
          4,
          4.9,
          4.7,
          4.3,
          4.4,
          4.8,
          5,
          4.5,
          3.5,
          3.8,
          3.7,
          3.9,
          5.1,
          4.5,
          4.5,
          4.7,
          4.4,
          4.1,
          4,
          4.4,
          4.6,
          4,
          3.3,
          4.2,
          4.2,
          4.2,
          4.3,
          3,
          4.1
         ],
         "y": [
          1.4,
          1.5,
          1.5,
          1.3,
          1.5,
          1.3,
          1.6,
          1,
          1.3,
          1.4,
          1,
          1.5,
          1,
          1.4,
          1.3,
          1.4,
          1.5,
          1,
          1.5,
          1.1,
          1.8,
          1.3,
          1.5,
          1.2,
          1.3,
          1.4,
          1.4,
          1.7,
          1.5,
          1,
          1.1,
          1,
          1.2,
          1.6,
          1.5,
          1.6,
          1.5,
          1.3,
          1.3,
          1.3,
          1.2,
          1.4,
          1.2,
          1,
          1.3,
          1.2,
          1.3,
          1.3,
          1.1,
          1.3
         ]
        },
        {
         "marker": {
          "color": "#ffffff",
          "line": {
           "color": "#377eb8",
           "width": 3
          }
         },
         "mode": "markers",
         "name": "versicolor data",
         "opacity": 0.7,
         "type": "scatter",
         "x": [
          4.7,
          4.5,
          4.9,
          4,
          4.6,
          4.5,
          4.7,
          3.3,
          4.6,
          3.9,
          3.5,
          4.2,
          4,
          4.7,
          3.6,
          4.4,
          4.5,
          4.1,
          4.5,
          3.9,
          4.8,
          4,
          4.9,
          4.7,
          4.3,
          4.4,
          4.8,
          5,
          4.5,
          3.5,
          3.8,
          3.7,
          3.9,
          5.1,
          4.5,
          4.5,
          4.7,
          4.4,
          4.1,
          4,
          4.4,
          4.6,
          4,
          3.3,
          4.2,
          4.2,
          4.2,
          4.3,
          3,
          4.1
         ],
         "y": [
          1.4,
          1.5,
          1.5,
          1.3,
          1.5,
          1.3,
          1.6,
          1,
          1.3,
          1.4,
          1,
          1.5,
          1,
          1.4,
          1.3,
          1.4,
          1.5,
          1,
          1.5,
          1.1,
          1.8,
          1.3,
          1.5,
          1.2,
          1.3,
          1.4,
          1.4,
          1.7,
          1.5,
          1,
          1.1,
          1,
          1.2,
          1.6,
          1.5,
          1.6,
          1.5,
          1.3,
          1.3,
          1.3,
          1.2,
          1.4,
          1.2,
          1,
          1.3,
          1.2,
          1.3,
          1.3,
          1.1,
          1.3
         ]
        },
        {
         "name": "virginica data",
         "type": "histogram2dcontour",
         "x": [
          6,
          5.1,
          5.9,
          5.6,
          5.8,
          6.6,
          4.5,
          6.3,
          5.8,
          6.1,
          5.1,
          5.3,
          5.5,
          5,
          5.1,
          5.3,
          5.5,
          6.7,
          6.9,
          5,
          5.7,
          4.9,
          6.7,
          4.9,
          5.7,
          6,
          4.8,
          4.9,
          5.6,
          5.8,
          6.1,
          6.4,
          5.6,
          5.1,
          5.6,
          6.1,
          5.6,
          5.5,
          4.8,
          5.4,
          5.6,
          5.1,
          5.1,
          5.9,
          5.7,
          5.2,
          5,
          5.2,
          5.4,
          5.1
         ],
         "y": [
          2.5,
          1.9,
          2.1,
          1.8,
          2.2,
          2.1,
          1.7,
          1.8,
          1.8,
          2.5,
          2,
          1.9,
          2.1,
          2,
          2.4,
          2.3,
          1.8,
          2.2,
          2.3,
          1.5,
          2.3,
          2,
          2,
          1.8,
          2.1,
          1.8,
          1.8,
          1.8,
          2.1,
          1.6,
          1.9,
          2,
          2.2,
          1.5,
          1.4,
          2.3,
          2.4,
          1.8,
          1.8,
          2.1,
          2.4,
          2.3,
          1.9,
          2.3,
          2.5,
          2.3,
          1.9,
          2,
          2.3,
          1.8
         ]
        },
        {
         "marker": {
          "color": "#ffffff",
          "line": {
           "color": "#4daf4a",
           "width": 3
          }
         },
         "mode": "markers",
         "name": "virginica data",
         "opacity": 0.7,
         "type": "scatter",
         "x": [
          6,
          5.1,
          5.9,
          5.6,
          5.8,
          6.6,
          4.5,
          6.3,
          5.8,
          6.1,
          5.1,
          5.3,
          5.5,
          5,
          5.1,
          5.3,
          5.5,
          6.7,
          6.9,
          5,
          5.7,
          4.9,
          6.7,
          4.9,
          5.7,
          6,
          4.8,
          4.9,
          5.6,
          5.8,
          6.1,
          6.4,
          5.6,
          5.1,
          5.6,
          6.1,
          5.6,
          5.5,
          4.8,
          5.4,
          5.6,
          5.1,
          5.1,
          5.9,
          5.7,
          5.2,
          5,
          5.2,
          5.4,
          5.1
         ],
         "y": [
          2.5,
          1.9,
          2.1,
          1.8,
          2.2,
          2.1,
          1.7,
          1.8,
          1.8,
          2.5,
          2,
          1.9,
          2.1,
          2,
          2.4,
          2.3,
          1.8,
          2.2,
          2.3,
          1.5,
          2.3,
          2,
          2,
          1.8,
          2.1,
          1.8,
          1.8,
          1.8,
          2.1,
          1.6,
          1.9,
          2,
          2.2,
          1.5,
          1.4,
          2.3,
          2.4,
          1.8,
          1.8,
          2.1,
          2.4,
          2.3,
          1.9,
          2.3,
          2.5,
          2.3,
          1.9,
          2,
          2.3,
          1.8
         ]
        }
       ],
       "layout": {
        "template": {
         "data": {
          "bar": [
           {
            "error_x": {
             "color": "#2a3f5f"
            },
            "error_y": {
             "color": "#2a3f5f"
            },
            "marker": {
             "line": {
              "color": "white",
              "width": 0.5
             }
            },
            "type": "bar"
           }
          ],
          "barpolar": [
           {
            "marker": {
             "line": {
              "color": "white",
              "width": 0.5
             }
            },
            "type": "barpolar"
           }
          ],
          "carpet": [
           {
            "aaxis": {
             "endlinecolor": "#2a3f5f",
             "gridcolor": "#C8D4E3",
             "linecolor": "#C8D4E3",
             "minorgridcolor": "#C8D4E3",
             "startlinecolor": "#2a3f5f"
            },
            "baxis": {
             "endlinecolor": "#2a3f5f",
             "gridcolor": "#C8D4E3",
             "linecolor": "#C8D4E3",
             "minorgridcolor": "#C8D4E3",
             "startlinecolor": "#2a3f5f"
            },
            "type": "carpet"
           }
          ],
          "choropleth": [
           {
            "colorbar": {
             "outlinewidth": 0,
             "ticks": ""
            },
            "type": "choropleth"
           }
          ],
          "contour": [
           {
            "colorbar": {
             "outlinewidth": 0,
             "ticks": ""
            },
            "colorscale": [
             [
              0,
              "#0d0887"
             ],
             [
              0.1111111111111111,
              "#46039f"
             ],
             [
              0.2222222222222222,
              "#7201a8"
             ],
             [
              0.3333333333333333,
              "#9c179e"
             ],
             [
              0.4444444444444444,
              "#bd3786"
             ],
             [
              0.5555555555555556,
              "#d8576b"
             ],
             [
              0.6666666666666666,
              "#ed7953"
             ],
             [
              0.7777777777777778,
              "#fb9f3a"
             ],
             [
              0.8888888888888888,
              "#fdca26"
             ],
             [
              1,
              "#f0f921"
             ]
            ],
            "type": "contour"
           }
          ],
          "contourcarpet": [
           {
            "colorbar": {
             "outlinewidth": 0,
             "ticks": ""
            },
            "type": "contourcarpet"
           }
          ],
          "heatmap": [
           {
            "colorbar": {
             "outlinewidth": 0,
             "ticks": ""
            },
            "colorscale": [
             [
              0,
              "#0d0887"
             ],
             [
              0.1111111111111111,
              "#46039f"
             ],
             [
              0.2222222222222222,
              "#7201a8"
             ],
             [
              0.3333333333333333,
              "#9c179e"
             ],
             [
              0.4444444444444444,
              "#bd3786"
             ],
             [
              0.5555555555555556,
              "#d8576b"
             ],
             [
              0.6666666666666666,
              "#ed7953"
             ],
             [
              0.7777777777777778,
              "#fb9f3a"
             ],
             [
              0.8888888888888888,
              "#fdca26"
             ],
             [
              1,
              "#f0f921"
             ]
            ],
            "type": "heatmap"
           }
          ],
          "heatmapgl": [
           {
            "colorbar": {
             "outlinewidth": 0,
             "ticks": ""
            },
            "colorscale": [
             [
              0,
              "#0d0887"
             ],
             [
              0.1111111111111111,
              "#46039f"
             ],
             [
              0.2222222222222222,
              "#7201a8"
             ],
             [
              0.3333333333333333,
              "#9c179e"
             ],
             [
              0.4444444444444444,
              "#bd3786"
             ],
             [
              0.5555555555555556,
              "#d8576b"
             ],
             [
              0.6666666666666666,
              "#ed7953"
             ],
             [
              0.7777777777777778,
              "#fb9f3a"
             ],
             [
              0.8888888888888888,
              "#fdca26"
             ],
             [
              1,
              "#f0f921"
             ]
            ],
            "type": "heatmapgl"
           }
          ],
          "histogram": [
           {
            "marker": {
             "colorbar": {
              "outlinewidth": 0,
              "ticks": ""
             }
            },
            "type": "histogram"
           }
          ],
          "histogram2d": [
           {
            "colorbar": {
             "outlinewidth": 0,
             "ticks": ""
            },
            "colorscale": [
             [
              0,
              "#0d0887"
             ],
             [
              0.1111111111111111,
              "#46039f"
             ],
             [
              0.2222222222222222,
              "#7201a8"
             ],
             [
              0.3333333333333333,
              "#9c179e"
             ],
             [
              0.4444444444444444,
              "#bd3786"
             ],
             [
              0.5555555555555556,
              "#d8576b"
             ],
             [
              0.6666666666666666,
              "#ed7953"
             ],
             [
              0.7777777777777778,
              "#fb9f3a"
             ],
             [
              0.8888888888888888,
              "#fdca26"
             ],
             [
              1,
              "#f0f921"
             ]
            ],
            "type": "histogram2d"
           }
          ],
          "histogram2dcontour": [
           {
            "colorbar": {
             "outlinewidth": 0,
             "ticks": ""
            },
            "colorscale": [
             [
              0,
              "#0d0887"
             ],
             [
              0.1111111111111111,
              "#46039f"
             ],
             [
              0.2222222222222222,
              "#7201a8"
             ],
             [
              0.3333333333333333,
              "#9c179e"
             ],
             [
              0.4444444444444444,
              "#bd3786"
             ],
             [
              0.5555555555555556,
              "#d8576b"
             ],
             [
              0.6666666666666666,
              "#ed7953"
             ],
             [
              0.7777777777777778,
              "#fb9f3a"
             ],
             [
              0.8888888888888888,
              "#fdca26"
             ],
             [
              1,
              "#f0f921"
             ]
            ],
            "type": "histogram2dcontour"
           }
          ],
          "mesh3d": [
           {
            "colorbar": {
             "outlinewidth": 0,
             "ticks": ""
            },
            "type": "mesh3d"
           }
          ],
          "parcoords": [
           {
            "line": {
             "colorbar": {
              "outlinewidth": 0,
              "ticks": ""
             }
            },
            "type": "parcoords"
           }
          ],
          "pie": [
           {
            "automargin": true,
            "type": "pie"
           }
          ],
          "scatter": [
           {
            "marker": {
             "colorbar": {
              "outlinewidth": 0,
              "ticks": ""
             }
            },
            "type": "scatter"
           }
          ],
          "scatter3d": [
           {
            "line": {
             "colorbar": {
              "outlinewidth": 0,
              "ticks": ""
             }
            },
            "marker": {
             "colorbar": {
              "outlinewidth": 0,
              "ticks": ""
             }
            },
            "type": "scatter3d"
           }
          ],
          "scattercarpet": [
           {
            "marker": {
             "colorbar": {
              "outlinewidth": 0,
              "ticks": ""
             }
            },
            "type": "scattercarpet"
           }
          ],
          "scattergeo": [
           {
            "marker": {
             "colorbar": {
              "outlinewidth": 0,
              "ticks": ""
             }
            },
            "type": "scattergeo"
           }
          ],
          "scattergl": [
           {
            "marker": {
             "colorbar": {
              "outlinewidth": 0,
              "ticks": ""
             }
            },
            "type": "scattergl"
           }
          ],
          "scattermapbox": [
           {
            "marker": {
             "colorbar": {
              "outlinewidth": 0,
              "ticks": ""
             }
            },
            "type": "scattermapbox"
           }
          ],
          "scatterpolar": [
           {
            "marker": {
             "colorbar": {
              "outlinewidth": 0,
              "ticks": ""
             }
            },
            "type": "scatterpolar"
           }
          ],
          "scatterpolargl": [
           {
            "marker": {
             "colorbar": {
              "outlinewidth": 0,
              "ticks": ""
             }
            },
            "type": "scatterpolargl"
           }
          ],
          "scatterternary": [
           {
            "marker": {
             "colorbar": {
              "outlinewidth": 0,
              "ticks": ""
             }
            },
            "type": "scatterternary"
           }
          ],
          "surface": [
           {
            "colorbar": {
             "outlinewidth": 0,
             "ticks": ""
            },
            "colorscale": [
             [
              0,
              "#0d0887"
             ],
             [
              0.1111111111111111,
              "#46039f"
             ],
             [
              0.2222222222222222,
              "#7201a8"
             ],
             [
              0.3333333333333333,
              "#9c179e"
             ],
             [
              0.4444444444444444,
              "#bd3786"
             ],
             [
              0.5555555555555556,
              "#d8576b"
             ],
             [
              0.6666666666666666,
              "#ed7953"
             ],
             [
              0.7777777777777778,
              "#fb9f3a"
             ],
             [
              0.8888888888888888,
              "#fdca26"
             ],
             [
              1,
              "#f0f921"
             ]
            ],
            "type": "surface"
           }
          ],
          "table": [
           {
            "cells": {
             "fill": {
              "color": "#EBF0F8"
             },
             "line": {
              "color": "white"
             }
            },
            "header": {
             "fill": {
              "color": "#C8D4E3"
             },
             "line": {
              "color": "white"
             }
            },
            "type": "table"
           }
          ]
         },
         "layout": {
          "annotationdefaults": {
           "arrowcolor": "#2a3f5f",
           "arrowhead": 0,
           "arrowwidth": 1
          },
          "coloraxis": {
           "colorbar": {
            "outlinewidth": 0,
            "ticks": ""
           }
          },
          "colorscale": {
           "diverging": [
            [
             0,
             "#8e0152"
            ],
            [
             0.1,
             "#c51b7d"
            ],
            [
             0.2,
             "#de77ae"
            ],
            [
             0.3,
             "#f1b6da"
            ],
            [
             0.4,
             "#fde0ef"
            ],
            [
             0.5,
             "#f7f7f7"
            ],
            [
             0.6,
             "#e6f5d0"
            ],
            [
             0.7,
             "#b8e186"
            ],
            [
             0.8,
             "#7fbc41"
            ],
            [
             0.9,
             "#4d9221"
            ],
            [
             1,
             "#276419"
            ]
           ],
           "sequential": [
            [
             0,
             "#0d0887"
            ],
            [
             0.1111111111111111,
             "#46039f"
            ],
            [
             0.2222222222222222,
             "#7201a8"
            ],
            [
             0.3333333333333333,
             "#9c179e"
            ],
            [
             0.4444444444444444,
             "#bd3786"
            ],
            [
             0.5555555555555556,
             "#d8576b"
            ],
            [
             0.6666666666666666,
             "#ed7953"
            ],
            [
             0.7777777777777778,
             "#fb9f3a"
            ],
            [
             0.8888888888888888,
             "#fdca26"
            ],
            [
             1,
             "#f0f921"
            ]
           ],
           "sequentialminus": [
            [
             0,
             "#0d0887"
            ],
            [
             0.1111111111111111,
             "#46039f"
            ],
            [
             0.2222222222222222,
             "#7201a8"
            ],
            [
             0.3333333333333333,
             "#9c179e"
            ],
            [
             0.4444444444444444,
             "#bd3786"
            ],
            [
             0.5555555555555556,
             "#d8576b"
            ],
            [
             0.6666666666666666,
             "#ed7953"
            ],
            [
             0.7777777777777778,
             "#fb9f3a"
            ],
            [
             0.8888888888888888,
             "#fdca26"
            ],
            [
             1,
             "#f0f921"
            ]
           ]
          },
          "colorway": [
           "#636efa",
           "#EF553B",
           "#00cc96",
           "#ab63fa",
           "#FFA15A",
           "#19d3f3",
           "#FF6692",
           "#B6E880",
           "#FF97FF",
           "#FECB52"
          ],
          "font": {
           "color": "#2a3f5f"
          },
          "geo": {
           "bgcolor": "white",
           "lakecolor": "white",
           "landcolor": "white",
           "showlakes": true,
           "showland": true,
           "subunitcolor": "#C8D4E3"
          },
          "hoverlabel": {
           "align": "left"
          },
          "hovermode": "closest",
          "mapbox": {
           "style": "light"
          },
          "paper_bgcolor": "white",
          "plot_bgcolor": "white",
          "polar": {
           "angularaxis": {
            "gridcolor": "#EBF0F8",
            "linecolor": "#EBF0F8",
            "ticks": ""
           },
           "bgcolor": "white",
           "radialaxis": {
            "gridcolor": "#EBF0F8",
            "linecolor": "#EBF0F8",
            "ticks": ""
           }
          },
          "scene": {
           "xaxis": {
            "backgroundcolor": "white",
            "gridcolor": "#DFE8F3",
            "gridwidth": 2,
            "linecolor": "#EBF0F8",
            "showbackground": true,
            "ticks": "",
            "zerolinecolor": "#EBF0F8"
           },
           "yaxis": {
            "backgroundcolor": "white",
            "gridcolor": "#DFE8F3",
            "gridwidth": 2,
            "linecolor": "#EBF0F8",
            "showbackground": true,
            "ticks": "",
            "zerolinecolor": "#EBF0F8"
           },
           "zaxis": {
            "backgroundcolor": "white",
            "gridcolor": "#DFE8F3",
            "gridwidth": 2,
            "linecolor": "#EBF0F8",
            "showbackground": true,
            "ticks": "",
            "zerolinecolor": "#EBF0F8"
           }
          },
          "shapedefaults": {
           "line": {
            "color": "#2a3f5f"
           }
          },
          "ternary": {
           "aaxis": {
            "gridcolor": "#DFE8F3",
            "linecolor": "#A2B1C6",
            "ticks": ""
           },
           "baxis": {
            "gridcolor": "#DFE8F3",
            "linecolor": "#A2B1C6",
            "ticks": ""
           },
           "bgcolor": "white",
           "caxis": {
            "gridcolor": "#DFE8F3",
            "linecolor": "#A2B1C6",
            "ticks": ""
           }
          },
          "title": {
           "x": 0.05
          },
          "xaxis": {
           "automargin": true,
           "gridcolor": "#EBF0F8",
           "linecolor": "#EBF0F8",
           "ticks": "",
           "title": {
            "standoff": 15
           },
           "zerolinecolor": "#EBF0F8",
           "zerolinewidth": 2
          },
          "yaxis": {
           "automargin": true,
           "gridcolor": "#EBF0F8",
           "linecolor": "#EBF0F8",
           "ticks": "",
           "title": {
            "standoff": 15
           },
           "zerolinecolor": "#EBF0F8",
           "zerolinewidth": 2
          }
         }
        }
       }
      },
      "text/html": [
       "<div>\n",
       "        \n",
       "        \n",
       "            <div id=\"98f913e6-c266-42ce-812a-894f27ce2b91\" class=\"plotly-graph-div\" style=\"height:525px; width:100%;\"></div>\n",
       "            <script type=\"text/javascript\">\n",
       "                require([\"plotly\"], function(Plotly) {\n",
       "                    window.PLOTLYENV=window.PLOTLYENV || {};\n",
       "                    \n",
       "                if (document.getElementById(\"98f913e6-c266-42ce-812a-894f27ce2b91\")) {\n",
       "                    Plotly.newPlot(\n",
       "                        '98f913e6-c266-42ce-812a-894f27ce2b91',\n",
       "                        [{\"name\": \"setosa data\", \"type\": \"histogram2dcontour\", \"x\": [1.4, 1.4, 1.3, 1.5, 1.4, 1.7, 1.4, 1.5, 1.4, 1.5, 1.5, 1.6, 1.4, 1.1, 1.2, 1.5, 1.3, 1.4, 1.7, 1.5, 1.7, 1.5, 1.0, 1.7, 1.9, 1.6, 1.6, 1.5, 1.4, 1.6, 1.6, 1.5, 1.5, 1.4, 1.5, 1.2, 1.3, 1.4, 1.3, 1.5, 1.3, 1.3, 1.3, 1.6, 1.9, 1.4, 1.6, 1.4, 1.5, 1.4], \"y\": [0.2, 0.2, 0.2, 0.2, 0.2, 0.4, 0.3, 0.2, 0.2, 0.1, 0.2, 0.2, 0.1, 0.1, 0.2, 0.4, 0.4, 0.3, 0.3, 0.3, 0.2, 0.4, 0.2, 0.5, 0.2, 0.2, 0.4, 0.2, 0.2, 0.2, 0.2, 0.4, 0.1, 0.2, 0.2, 0.2, 0.2, 0.1, 0.2, 0.2, 0.3, 0.3, 0.2, 0.6, 0.4, 0.3, 0.2, 0.2, 0.2, 0.2]}, {\"marker\": {\"color\": \"#ffffff\", \"line\": {\"color\": \"#e41a1c\", \"width\": 3}}, \"mode\": \"markers\", \"name\": \"setosa data\", \"opacity\": 0.7, \"type\": \"scatter\", \"x\": [1.4, 1.4, 1.3, 1.5, 1.4, 1.7, 1.4, 1.5, 1.4, 1.5, 1.5, 1.6, 1.4, 1.1, 1.2, 1.5, 1.3, 1.4, 1.7, 1.5, 1.7, 1.5, 1.0, 1.7, 1.9, 1.6, 1.6, 1.5, 1.4, 1.6, 1.6, 1.5, 1.5, 1.4, 1.5, 1.2, 1.3, 1.4, 1.3, 1.5, 1.3, 1.3, 1.3, 1.6, 1.9, 1.4, 1.6, 1.4, 1.5, 1.4], \"y\": [0.2, 0.2, 0.2, 0.2, 0.2, 0.4, 0.3, 0.2, 0.2, 0.1, 0.2, 0.2, 0.1, 0.1, 0.2, 0.4, 0.4, 0.3, 0.3, 0.3, 0.2, 0.4, 0.2, 0.5, 0.2, 0.2, 0.4, 0.2, 0.2, 0.2, 0.2, 0.4, 0.1, 0.2, 0.2, 0.2, 0.2, 0.1, 0.2, 0.2, 0.3, 0.3, 0.2, 0.6, 0.4, 0.3, 0.2, 0.2, 0.2, 0.2]}, {\"name\": \"versicolor data\", \"type\": \"histogram2dcontour\", \"x\": [4.7, 4.5, 4.9, 4.0, 4.6, 4.5, 4.7, 3.3, 4.6, 3.9, 3.5, 4.2, 4.0, 4.7, 3.6, 4.4, 4.5, 4.1, 4.5, 3.9, 4.8, 4.0, 4.9, 4.7, 4.3, 4.4, 4.8, 5.0, 4.5, 3.5, 3.8, 3.7, 3.9, 5.1, 4.5, 4.5, 4.7, 4.4, 4.1, 4.0, 4.4, 4.6, 4.0, 3.3, 4.2, 4.2, 4.2, 4.3, 3.0, 4.1], \"y\": [1.4, 1.5, 1.5, 1.3, 1.5, 1.3, 1.6, 1.0, 1.3, 1.4, 1.0, 1.5, 1.0, 1.4, 1.3, 1.4, 1.5, 1.0, 1.5, 1.1, 1.8, 1.3, 1.5, 1.2, 1.3, 1.4, 1.4, 1.7, 1.5, 1.0, 1.1, 1.0, 1.2, 1.6, 1.5, 1.6, 1.5, 1.3, 1.3, 1.3, 1.2, 1.4, 1.2, 1.0, 1.3, 1.2, 1.3, 1.3, 1.1, 1.3]}, {\"marker\": {\"color\": \"#ffffff\", \"line\": {\"color\": \"#377eb8\", \"width\": 3}}, \"mode\": \"markers\", \"name\": \"versicolor data\", \"opacity\": 0.7, \"type\": \"scatter\", \"x\": [4.7, 4.5, 4.9, 4.0, 4.6, 4.5, 4.7, 3.3, 4.6, 3.9, 3.5, 4.2, 4.0, 4.7, 3.6, 4.4, 4.5, 4.1, 4.5, 3.9, 4.8, 4.0, 4.9, 4.7, 4.3, 4.4, 4.8, 5.0, 4.5, 3.5, 3.8, 3.7, 3.9, 5.1, 4.5, 4.5, 4.7, 4.4, 4.1, 4.0, 4.4, 4.6, 4.0, 3.3, 4.2, 4.2, 4.2, 4.3, 3.0, 4.1], \"y\": [1.4, 1.5, 1.5, 1.3, 1.5, 1.3, 1.6, 1.0, 1.3, 1.4, 1.0, 1.5, 1.0, 1.4, 1.3, 1.4, 1.5, 1.0, 1.5, 1.1, 1.8, 1.3, 1.5, 1.2, 1.3, 1.4, 1.4, 1.7, 1.5, 1.0, 1.1, 1.0, 1.2, 1.6, 1.5, 1.6, 1.5, 1.3, 1.3, 1.3, 1.2, 1.4, 1.2, 1.0, 1.3, 1.2, 1.3, 1.3, 1.1, 1.3]}, {\"name\": \"virginica data\", \"type\": \"histogram2dcontour\", \"x\": [6.0, 5.1, 5.9, 5.6, 5.8, 6.6, 4.5, 6.3, 5.8, 6.1, 5.1, 5.3, 5.5, 5.0, 5.1, 5.3, 5.5, 6.7, 6.9, 5.0, 5.7, 4.9, 6.7, 4.9, 5.7, 6.0, 4.8, 4.9, 5.6, 5.8, 6.1, 6.4, 5.6, 5.1, 5.6, 6.1, 5.6, 5.5, 4.8, 5.4, 5.6, 5.1, 5.1, 5.9, 5.7, 5.2, 5.0, 5.2, 5.4, 5.1], \"y\": [2.5, 1.9, 2.1, 1.8, 2.2, 2.1, 1.7, 1.8, 1.8, 2.5, 2.0, 1.9, 2.1, 2.0, 2.4, 2.3, 1.8, 2.2, 2.3, 1.5, 2.3, 2.0, 2.0, 1.8, 2.1, 1.8, 1.8, 1.8, 2.1, 1.6, 1.9, 2.0, 2.2, 1.5, 1.4, 2.3, 2.4, 1.8, 1.8, 2.1, 2.4, 2.3, 1.9, 2.3, 2.5, 2.3, 1.9, 2.0, 2.3, 1.8]}, {\"marker\": {\"color\": \"#ffffff\", \"line\": {\"color\": \"#4daf4a\", \"width\": 3}}, \"mode\": \"markers\", \"name\": \"virginica data\", \"opacity\": 0.7, \"type\": \"scatter\", \"x\": [6.0, 5.1, 5.9, 5.6, 5.8, 6.6, 4.5, 6.3, 5.8, 6.1, 5.1, 5.3, 5.5, 5.0, 5.1, 5.3, 5.5, 6.7, 6.9, 5.0, 5.7, 4.9, 6.7, 4.9, 5.7, 6.0, 4.8, 4.9, 5.6, 5.8, 6.1, 6.4, 5.6, 5.1, 5.6, 6.1, 5.6, 5.5, 4.8, 5.4, 5.6, 5.1, 5.1, 5.9, 5.7, 5.2, 5.0, 5.2, 5.4, 5.1], \"y\": [2.5, 1.9, 2.1, 1.8, 2.2, 2.1, 1.7, 1.8, 1.8, 2.5, 2.0, 1.9, 2.1, 2.0, 2.4, 2.3, 1.8, 2.2, 2.3, 1.5, 2.3, 2.0, 2.0, 1.8, 2.1, 1.8, 1.8, 1.8, 2.1, 1.6, 1.9, 2.0, 2.2, 1.5, 1.4, 2.3, 2.4, 1.8, 1.8, 2.1, 2.4, 2.3, 1.9, 2.3, 2.5, 2.3, 1.9, 2.0, 2.3, 1.8]}],\n",
       "                        {\"template\": {\"data\": {\"bar\": [{\"error_x\": {\"color\": \"#2a3f5f\"}, \"error_y\": {\"color\": \"#2a3f5f\"}, \"marker\": {\"line\": {\"color\": \"white\", \"width\": 0.5}}, \"type\": \"bar\"}], \"barpolar\": [{\"marker\": {\"line\": {\"color\": \"white\", \"width\": 0.5}}, \"type\": \"barpolar\"}], \"carpet\": [{\"aaxis\": {\"endlinecolor\": \"#2a3f5f\", \"gridcolor\": \"#C8D4E3\", \"linecolor\": \"#C8D4E3\", \"minorgridcolor\": \"#C8D4E3\", \"startlinecolor\": \"#2a3f5f\"}, \"baxis\": {\"endlinecolor\": \"#2a3f5f\", \"gridcolor\": \"#C8D4E3\", \"linecolor\": \"#C8D4E3\", \"minorgridcolor\": \"#C8D4E3\", \"startlinecolor\": \"#2a3f5f\"}, \"type\": \"carpet\"}], \"choropleth\": [{\"colorbar\": {\"outlinewidth\": 0, \"ticks\": \"\"}, \"type\": \"choropleth\"}], \"contour\": [{\"colorbar\": {\"outlinewidth\": 0, \"ticks\": \"\"}, \"colorscale\": [[0.0, \"#0d0887\"], [0.1111111111111111, \"#46039f\"], [0.2222222222222222, \"#7201a8\"], [0.3333333333333333, \"#9c179e\"], [0.4444444444444444, \"#bd3786\"], [0.5555555555555556, \"#d8576b\"], [0.6666666666666666, \"#ed7953\"], [0.7777777777777778, \"#fb9f3a\"], [0.8888888888888888, \"#fdca26\"], [1.0, \"#f0f921\"]], \"type\": \"contour\"}], \"contourcarpet\": [{\"colorbar\": {\"outlinewidth\": 0, \"ticks\": \"\"}, \"type\": \"contourcarpet\"}], \"heatmap\": [{\"colorbar\": {\"outlinewidth\": 0, \"ticks\": \"\"}, \"colorscale\": [[0.0, \"#0d0887\"], [0.1111111111111111, \"#46039f\"], [0.2222222222222222, \"#7201a8\"], [0.3333333333333333, \"#9c179e\"], [0.4444444444444444, \"#bd3786\"], [0.5555555555555556, \"#d8576b\"], [0.6666666666666666, \"#ed7953\"], [0.7777777777777778, \"#fb9f3a\"], [0.8888888888888888, \"#fdca26\"], [1.0, \"#f0f921\"]], \"type\": \"heatmap\"}], \"heatmapgl\": [{\"colorbar\": {\"outlinewidth\": 0, \"ticks\": \"\"}, \"colorscale\": [[0.0, \"#0d0887\"], [0.1111111111111111, \"#46039f\"], [0.2222222222222222, \"#7201a8\"], [0.3333333333333333, \"#9c179e\"], [0.4444444444444444, \"#bd3786\"], [0.5555555555555556, \"#d8576b\"], [0.6666666666666666, \"#ed7953\"], [0.7777777777777778, \"#fb9f3a\"], [0.8888888888888888, \"#fdca26\"], [1.0, \"#f0f921\"]], \"type\": \"heatmapgl\"}], \"histogram\": [{\"marker\": {\"colorbar\": {\"outlinewidth\": 0, \"ticks\": \"\"}}, \"type\": \"histogram\"}], \"histogram2d\": [{\"colorbar\": {\"outlinewidth\": 0, \"ticks\": \"\"}, \"colorscale\": [[0.0, \"#0d0887\"], [0.1111111111111111, \"#46039f\"], [0.2222222222222222, \"#7201a8\"], [0.3333333333333333, \"#9c179e\"], [0.4444444444444444, \"#bd3786\"], [0.5555555555555556, \"#d8576b\"], [0.6666666666666666, \"#ed7953\"], [0.7777777777777778, \"#fb9f3a\"], [0.8888888888888888, \"#fdca26\"], [1.0, \"#f0f921\"]], \"type\": \"histogram2d\"}], \"histogram2dcontour\": [{\"colorbar\": {\"outlinewidth\": 0, \"ticks\": \"\"}, \"colorscale\": [[0.0, \"#0d0887\"], [0.1111111111111111, \"#46039f\"], [0.2222222222222222, \"#7201a8\"], [0.3333333333333333, \"#9c179e\"], [0.4444444444444444, \"#bd3786\"], [0.5555555555555556, \"#d8576b\"], [0.6666666666666666, \"#ed7953\"], [0.7777777777777778, \"#fb9f3a\"], [0.8888888888888888, \"#fdca26\"], [1.0, \"#f0f921\"]], \"type\": \"histogram2dcontour\"}], \"mesh3d\": [{\"colorbar\": {\"outlinewidth\": 0, \"ticks\": \"\"}, \"type\": \"mesh3d\"}], \"parcoords\": [{\"line\": {\"colorbar\": {\"outlinewidth\": 0, \"ticks\": \"\"}}, \"type\": \"parcoords\"}], \"pie\": [{\"automargin\": true, \"type\": \"pie\"}], \"scatter\": [{\"marker\": {\"colorbar\": {\"outlinewidth\": 0, \"ticks\": \"\"}}, \"type\": \"scatter\"}], \"scatter3d\": [{\"line\": {\"colorbar\": {\"outlinewidth\": 0, \"ticks\": \"\"}}, \"marker\": {\"colorbar\": {\"outlinewidth\": 0, \"ticks\": \"\"}}, \"type\": \"scatter3d\"}], \"scattercarpet\": [{\"marker\": {\"colorbar\": {\"outlinewidth\": 0, \"ticks\": \"\"}}, \"type\": \"scattercarpet\"}], \"scattergeo\": [{\"marker\": {\"colorbar\": {\"outlinewidth\": 0, \"ticks\": \"\"}}, \"type\": \"scattergeo\"}], \"scattergl\": [{\"marker\": {\"colorbar\": {\"outlinewidth\": 0, \"ticks\": \"\"}}, \"type\": \"scattergl\"}], \"scattermapbox\": [{\"marker\": {\"colorbar\": {\"outlinewidth\": 0, \"ticks\": \"\"}}, \"type\": \"scattermapbox\"}], \"scatterpolar\": [{\"marker\": {\"colorbar\": {\"outlinewidth\": 0, \"ticks\": \"\"}}, \"type\": \"scatterpolar\"}], \"scatterpolargl\": [{\"marker\": {\"colorbar\": {\"outlinewidth\": 0, \"ticks\": \"\"}}, \"type\": \"scatterpolargl\"}], \"scatterternary\": [{\"marker\": {\"colorbar\": {\"outlinewidth\": 0, \"ticks\": \"\"}}, \"type\": \"scatterternary\"}], \"surface\": [{\"colorbar\": {\"outlinewidth\": 0, \"ticks\": \"\"}, \"colorscale\": [[0.0, \"#0d0887\"], [0.1111111111111111, \"#46039f\"], [0.2222222222222222, \"#7201a8\"], [0.3333333333333333, \"#9c179e\"], [0.4444444444444444, \"#bd3786\"], [0.5555555555555556, \"#d8576b\"], [0.6666666666666666, \"#ed7953\"], [0.7777777777777778, \"#fb9f3a\"], [0.8888888888888888, \"#fdca26\"], [1.0, \"#f0f921\"]], \"type\": \"surface\"}], \"table\": [{\"cells\": {\"fill\": {\"color\": \"#EBF0F8\"}, \"line\": {\"color\": \"white\"}}, \"header\": {\"fill\": {\"color\": \"#C8D4E3\"}, \"line\": {\"color\": \"white\"}}, \"type\": \"table\"}]}, \"layout\": {\"annotationdefaults\": {\"arrowcolor\": \"#2a3f5f\", \"arrowhead\": 0, \"arrowwidth\": 1}, \"coloraxis\": {\"colorbar\": {\"outlinewidth\": 0, \"ticks\": \"\"}}, \"colorscale\": {\"diverging\": [[0, \"#8e0152\"], [0.1, \"#c51b7d\"], [0.2, \"#de77ae\"], [0.3, \"#f1b6da\"], [0.4, \"#fde0ef\"], [0.5, \"#f7f7f7\"], [0.6, \"#e6f5d0\"], [0.7, \"#b8e186\"], [0.8, \"#7fbc41\"], [0.9, \"#4d9221\"], [1, \"#276419\"]], \"sequential\": [[0.0, \"#0d0887\"], [0.1111111111111111, \"#46039f\"], [0.2222222222222222, \"#7201a8\"], [0.3333333333333333, \"#9c179e\"], [0.4444444444444444, \"#bd3786\"], [0.5555555555555556, \"#d8576b\"], [0.6666666666666666, \"#ed7953\"], [0.7777777777777778, \"#fb9f3a\"], [0.8888888888888888, \"#fdca26\"], [1.0, \"#f0f921\"]], \"sequentialminus\": [[0.0, \"#0d0887\"], [0.1111111111111111, \"#46039f\"], [0.2222222222222222, \"#7201a8\"], [0.3333333333333333, \"#9c179e\"], [0.4444444444444444, \"#bd3786\"], [0.5555555555555556, \"#d8576b\"], [0.6666666666666666, \"#ed7953\"], [0.7777777777777778, \"#fb9f3a\"], [0.8888888888888888, \"#fdca26\"], [1.0, \"#f0f921\"]]}, \"colorway\": [\"#636efa\", \"#EF553B\", \"#00cc96\", \"#ab63fa\", \"#FFA15A\", \"#19d3f3\", \"#FF6692\", \"#B6E880\", \"#FF97FF\", \"#FECB52\"], \"font\": {\"color\": \"#2a3f5f\"}, \"geo\": {\"bgcolor\": \"white\", \"lakecolor\": \"white\", \"landcolor\": \"white\", \"showlakes\": true, \"showland\": true, \"subunitcolor\": \"#C8D4E3\"}, \"hoverlabel\": {\"align\": \"left\"}, \"hovermode\": \"closest\", \"mapbox\": {\"style\": \"light\"}, \"paper_bgcolor\": \"white\", \"plot_bgcolor\": \"white\", \"polar\": {\"angularaxis\": {\"gridcolor\": \"#EBF0F8\", \"linecolor\": \"#EBF0F8\", \"ticks\": \"\"}, \"bgcolor\": \"white\", \"radialaxis\": {\"gridcolor\": \"#EBF0F8\", \"linecolor\": \"#EBF0F8\", \"ticks\": \"\"}}, \"scene\": {\"xaxis\": {\"backgroundcolor\": \"white\", \"gridcolor\": \"#DFE8F3\", \"gridwidth\": 2, \"linecolor\": \"#EBF0F8\", \"showbackground\": true, \"ticks\": \"\", \"zerolinecolor\": \"#EBF0F8\"}, \"yaxis\": {\"backgroundcolor\": \"white\", \"gridcolor\": \"#DFE8F3\", \"gridwidth\": 2, \"linecolor\": \"#EBF0F8\", \"showbackground\": true, \"ticks\": \"\", \"zerolinecolor\": \"#EBF0F8\"}, \"zaxis\": {\"backgroundcolor\": \"white\", \"gridcolor\": \"#DFE8F3\", \"gridwidth\": 2, \"linecolor\": \"#EBF0F8\", \"showbackground\": true, \"ticks\": \"\", \"zerolinecolor\": \"#EBF0F8\"}}, \"shapedefaults\": {\"line\": {\"color\": \"#2a3f5f\"}}, \"ternary\": {\"aaxis\": {\"gridcolor\": \"#DFE8F3\", \"linecolor\": \"#A2B1C6\", \"ticks\": \"\"}, \"baxis\": {\"gridcolor\": \"#DFE8F3\", \"linecolor\": \"#A2B1C6\", \"ticks\": \"\"}, \"bgcolor\": \"white\", \"caxis\": {\"gridcolor\": \"#DFE8F3\", \"linecolor\": \"#A2B1C6\", \"ticks\": \"\"}}, \"title\": {\"x\": 0.05}, \"xaxis\": {\"automargin\": true, \"gridcolor\": \"#EBF0F8\", \"linecolor\": \"#EBF0F8\", \"ticks\": \"\", \"title\": {\"standoff\": 15}, \"zerolinecolor\": \"#EBF0F8\", \"zerolinewidth\": 2}, \"yaxis\": {\"automargin\": true, \"gridcolor\": \"#EBF0F8\", \"linecolor\": \"#EBF0F8\", \"ticks\": \"\", \"title\": {\"standoff\": 15}, \"zerolinecolor\": \"#EBF0F8\", \"zerolinewidth\": 2}}}},\n",
       "                        {\"responsive\": true}\n",
       "                    ).then(function(){\n",
       "                            \n",
       "var gd = document.getElementById('98f913e6-c266-42ce-812a-894f27ce2b91');\n",
       "var x = new MutationObserver(function (mutations, observer) {{\n",
       "        var display = window.getComputedStyle(gd).display;\n",
       "        if (!display || display === 'none') {{\n",
       "            console.log([gd, 'removed!']);\n",
       "            Plotly.purge(gd);\n",
       "            observer.disconnect();\n",
       "        }}\n",
       "}});\n",
       "\n",
       "// Listen for the removal of the full notebook cells\n",
       "var notebookContainer = gd.closest('#notebook-container');\n",
       "if (notebookContainer) {{\n",
       "    x.observe(notebookContainer, {childList: true});\n",
       "}}\n",
       "\n",
       "// Listen for the clearing of the current output cell\n",
       "var outputEl = gd.closest('.output');\n",
       "if (outputEl) {{\n",
       "    x.observe(outputEl, {childList: true});\n",
       "}}\n",
       "\n",
       "                        })\n",
       "                };\n",
       "                });\n",
       "            </script>\n",
       "        </div>"
      ]
     },
     "metadata": {},
     "output_type": "display_data"
    }
   ],
   "source": [
    "a10 = Parzen.plot2D(raw_data, np.linspace(-1, 8, 50),  np.linspace(-2, 6, 50), [2,3], 0.50, species, color_map)\n",
    "a10.show()"
   ]
  }
 ],
 "metadata": {
  "kernelspec": {
   "display_name": "Python 3",
   "language": "python",
   "name": "python3"
  },
  "language_info": {
   "codemirror_mode": {
    "name": "ipython",
    "version": 3
   },
   "file_extension": ".py",
   "mimetype": "text/x-python",
   "name": "python",
   "nbconvert_exporter": "python",
   "pygments_lexer": "ipython3",
   "version": "3.8.0"
  }
 },
 "nbformat": 4,
 "nbformat_minor": 2
}
