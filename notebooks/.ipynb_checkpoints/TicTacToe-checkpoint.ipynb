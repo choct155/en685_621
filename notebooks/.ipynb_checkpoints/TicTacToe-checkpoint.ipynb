{
 "cells": [
  {
   "cell_type": "code",
   "execution_count": 34,
   "metadata": {},
   "outputs": [
    {
     "name": "stdout",
     "output_type": "stream",
     "text": [
      "\n",
      "              |   |  \n",
      "            ---------\n",
      "              |   |  \n",
      "            ---------\n",
      "              |   |  \n",
      "\n",
      "        \n"
     ]
    }
   ],
   "source": [
    "import numpy as np\n",
    "from algorithms.games.TicTacToe import *\n",
    "from typing import List, Tuple, Iterator, Callable\n",
    "from dataclasses import dataclass\n",
    "from functools import reduce\n",
    "\n",
    "gs: GameState = GameState()\n",
    "print(gs.show())"
   ]
  },
  {
   "cell_type": "code",
   "execution_count": 15,
   "metadata": {},
   "outputs": [
    {
     "name": "stdout",
     "output_type": "stream",
     "text": [
      "[[0 1 2]\n",
      " [3 4 5]\n",
      " [6 7 8]]\n"
     ]
    },
    {
     "data": {
      "text/plain": [
       "[Cell(marker=0, position=array([0, 0])),\n",
       " Cell(marker=1, position=array([0, 1])),\n",
       " Cell(marker=2, position=array([0, 2])),\n",
       " Cell(marker=3, position=array([1, 0])),\n",
       " Cell(marker=5, position=array([1, 2])),\n",
       " Cell(marker=6, position=array([2, 0])),\n",
       " Cell(marker=7, position=array([2, 1])),\n",
       " Cell(marker=8, position=array([2, 2]))]"
      ]
     },
     "execution_count": 15,
     "metadata": {},
     "output_type": "execute_result"
    }
   ],
   "source": [
    "x = np.arange(9).reshape(3,3)\n",
    "\n",
    "@dataclass\n",
    "class Cell:\n",
    "    marker: str\n",
    "    position: np.array\n",
    "\n",
    "def get_neighbors(cell: Cell, arr: np.array) -> List[Cell]:\n",
    "    nrows, ncols = arr.shape\n",
    "    i: int = cell.position[0]\n",
    "    j:int = cell.position[1]\n",
    "    out: List[Cell] = []\n",
    "    \n",
    "    for ridx in range(-1, 2):\n",
    "        for cidx in range(-1, 2):\n",
    "            r_nb: int = i + ridx\n",
    "            c_nb: int = j + cidx\n",
    "            r_nb_in_bounds: bool = (r_nb >= 0) & (r_nb < nrows)\n",
    "            c_nb_in_bounds: bool = (c_nb >= 0) & (c_nb < ncols)\n",
    "            not_self: bool = not ((ridx == 0) & (cidx == 0))\n",
    "            if r_nb_in_bounds & c_nb_in_bounds & not_self:\n",
    "                nb: Cell = Cell(arr[r_nb, c_nb], np.array([r_nb, c_nb]))\n",
    "                out.append(nb)\n",
    "    return out\n",
    "\n",
    "print(x)\n",
    "primary: Cell = Cell(4, np.array([1,1]))\n",
    "get_neighbors(primary,x)"
   ]
  },
  {
   "cell_type": "code",
   "execution_count": 37,
   "metadata": {},
   "outputs": [
    {
     "name": "stdout",
     "output_type": "stream",
     "text": [
      "[Cell(marker='x', position=array([1, 1]))]\n",
      "[False]\n",
      "[['x' 'o' 'x']\n",
      " ['o' 'x' ' ']\n",
      " ['x' 'o' 'o']]\n",
      "Cell(marker='x', position=array([0, 0]))\n",
      "False\n",
      "[Cell(marker='o', position=array([1, 0]))]\n",
      "[False]\n",
      "[['x' 'o' 'x']\n",
      " ['o' 'x' ' ']\n",
      " ['x' 'o' 'o']]\n",
      "Cell(marker='o', position=array([0, 1]))\n",
      "False\n",
      "[Cell(marker='x', position=array([1, 1]))]\n",
      "[True]\n",
      "[['x' 'o' 'x']\n",
      " ['o' 'x' ' ']\n",
      " ['x' 'o' 'o']]\n",
      "Cell(marker='x', position=array([0, 2]))\n",
      "True\n",
      "[Cell(marker='x', position=array([1, 1]))]\n",
      "[False]\n",
      "[['x' 'o' 'x']\n",
      " ['o' 'x' ' ']\n",
      " ['x' 'o' 'o']]\n",
      "Cell(marker='x', position=array([0, 0]))\n",
      "False\n",
      "[Cell(marker='o', position=array([0, 1])), Cell(marker='o', position=array([2, 1]))]\n",
      "[False, False]\n",
      "[['x' 'o' 'x']\n",
      " ['o' 'x' ' ']\n",
      " ['x' 'o' 'o']]\n",
      "Cell(marker='o', position=array([1, 0]))\n",
      "False\n",
      "[Cell(marker='x', position=array([1, 1]))]\n",
      "[True]\n",
      "[['x' 'o' 'x']\n",
      " ['o' 'x' ' ']\n",
      " ['x' 'o' 'o']]\n",
      "Cell(marker='x', position=array([2, 0]))\n",
      "True\n"
     ]
    }
   ],
   "source": [
    "y = np.array([\n",
    "    [\"x\", \"o\", \"x\"],\n",
    "    [\"o\", \"x\", \" \"],\n",
    "    [\"x\", \"o\", \"o\"],\n",
    "])\n",
    "\n",
    "def victory_from_cell(cell: Cell, arr: np.array) -> bool:\n",
    "    nrows, ncols = arr.shape\n",
    "    neighbors: Iterator[Cell] = list(filter(lambda c: c.marker == cell.marker, get_neighbors(cell, arr)))\n",
    "    \n",
    "    def check_neighbors_neighbor(nb_cell: Cell) -> bool:\n",
    "        far_neighbor_idx: np.array = (nb_cell.position - cell.position) + nb_cell.position\n",
    "        i, j = far_neighbor_idx\n",
    "        i_in_range: bool = (i >= 0) & (i < nrows)\n",
    "        j_in_range: bool = (j >= 0) & (j < ncols)\n",
    "        if not (i_in_range & j_in_range):\n",
    "            return False\n",
    "        far_neighbor_marker: str = arr[i,j]\n",
    "        return cell.marker == far_neighbor_marker\n",
    "    \n",
    "    victories_by_neighbor: Iterator[bool] = list(map(check_neighbors_neighbor, neighbors))\n",
    "    print(neighbors)\n",
    "    print(victories_by_neighbor)\n",
    "    return reduce(lambda f, s: f | s, victories_by_neighbor)\n",
    "\n",
    "fromIdx: Callable[[int, int, np.array], Cell] = lambda i, j, arr: Cell(arr[i,j], np.array([i,j]))\n",
    "for i in range(3):\n",
    "    cell: Cell = fromIdx(0, i, y)\n",
    "    win: bool = victory_from_cell(cell, y)\n",
    "    print(y)\n",
    "    print(cell)\n",
    "    print(win)\n",
    "\n",
    "for j in range(3):\n",
    "    cell: Cell = fromIdx(j, 0, y)\n",
    "    win: bool = victory_from_cell(cell, y)\n",
    "    print(y)\n",
    "    print(cell)\n",
    "    print(win)"
   ]
  },
  {
   "cell_type": "code",
   "execution_count": 22,
   "metadata": {},
   "outputs": [
    {
     "data": {
      "text/plain": [
       "(1, 2)"
      ]
     },
     "execution_count": 22,
     "metadata": {},
     "output_type": "execute_result"
    }
   ],
   "source": [
    "v1, v2 = np.array([1,2])\n",
    "v1, v2"
   ]
  }
 ],
 "metadata": {
  "kernelspec": {
   "display_name": "Python 3.8.0 64-bit ('ipy': conda)",
   "language": "python",
   "name": "python38064bitipyconda835fb490d1e04038aa80aa14f78d3b6f"
  },
  "language_info": {
   "codemirror_mode": {
    "name": "ipython",
    "version": 3
   },
   "file_extension": ".py",
   "mimetype": "text/x-python",
   "name": "python",
   "nbconvert_exporter": "python",
   "pygments_lexer": "ipython3",
   "version": "3.8.0"
  }
 },
 "nbformat": 4,
 "nbformat_minor": 2
}
