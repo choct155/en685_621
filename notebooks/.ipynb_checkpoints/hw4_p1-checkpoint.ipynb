{
 "cells": [
  {
   "cell_type": "markdown",
   "metadata": {},
   "source": [
    "# Homework 4 - Problem 1\n",
    "\n",
    "**Part A [20 points]** *Note this is not Collaborative Problem*\n",
    "\n",
    "Using the Gaussian kernel develop psuedo code to create a Parzen windowing system to\n",
    "accomplish the following steps:\n",
    "\n",
    "+ Develop the ability to read in data xn with n observations and D dimensions (number of features).\n",
    "+ Develop the ability to randomly remove 20% of the observations per class and assign the observations as test data with the remaining 80% of the observations as training data.\n",
    "+ Using the Gaussian kernel in Eq. 30 of the Machine Learning I document to develop an algorithm to process an input observations and compare it with the training observations.\n",
    "+ Expand the development to handle multiple classes.\n",
    "\n",
    "**Part B [10 points]** *Note this is not a Collaborative Problem*\n",
    "+ Calculate the running time of the system above in O-notation.\n",
    "+ Calculate the total running time of the above system as T(n) with each line of pseudocode or code accounted for.\n",
    "+ How does the total running time T(n) compare to the running time in O-notation?\n",
    "\n",
    "**Part C [20 points]** *Note this is not a Collaborative Problem*\n",
    "+ Using all observations and the petal length from the Iris data replicate the subfigures in Figure 1.\n",
    "+ Using all observations, the petal length and the petal width from the Iris data replicate the subfigures in Figure 2."
   ]
  },
  {
   "cell_type": "markdown",
   "metadata": {},
   "source": [
    "## Data Load"
   ]
  },
  {
   "cell_type": "code",
   "execution_count": 1,
   "metadata": {},
   "outputs": [
    {
     "data": {
      "text/plain": [
       "{'setosa': array([[5.1, 3.5, 1.4, 0.2],\n",
       "        [4.9, 3. , 1.4, 0.2],\n",
       "        [4.7, 3.2, 1.3, 0.2],\n",
       "        [4.6, 3.1, 1.5, 0.2],\n",
       "        [5. , 3.6, 1.4, 0.2],\n",
       "        [5.4, 3.9, 1.7, 0.4],\n",
       "        [4.6, 3.4, 1.4, 0.3],\n",
       "        [5. , 3.4, 1.5, 0.2],\n",
       "        [4.4, 2.9, 1.4, 0.2],\n",
       "        [4.9, 3.1, 1.5, 0.1],\n",
       "        [5.4, 3.7, 1.5, 0.2],\n",
       "        [4.8, 3.4, 1.6, 0.2],\n",
       "        [4.8, 3. , 1.4, 0.1],\n",
       "        [4.3, 3. , 1.1, 0.1],\n",
       "        [5.8, 4. , 1.2, 0.2],\n",
       "        [5.7, 4.4, 1.5, 0.4],\n",
       "        [5.4, 3.9, 1.3, 0.4],\n",
       "        [5.1, 3.5, 1.4, 0.3],\n",
       "        [5.7, 3.8, 1.7, 0.3],\n",
       "        [5.1, 3.8, 1.5, 0.3],\n",
       "        [5.4, 3.4, 1.7, 0.2],\n",
       "        [5.1, 3.7, 1.5, 0.4],\n",
       "        [4.6, 3.6, 1. , 0.2],\n",
       "        [5.1, 3.3, 1.7, 0.5],\n",
       "        [4.8, 3.4, 1.9, 0.2],\n",
       "        [5. , 3. , 1.6, 0.2],\n",
       "        [5. , 3.4, 1.6, 0.4],\n",
       "        [5.2, 3.5, 1.5, 0.2],\n",
       "        [5.2, 3.4, 1.4, 0.2],\n",
       "        [4.7, 3.2, 1.6, 0.2],\n",
       "        [4.8, 3.1, 1.6, 0.2],\n",
       "        [5.4, 3.4, 1.5, 0.4],\n",
       "        [5.2, 4.1, 1.5, 0.1],\n",
       "        [5.5, 4.2, 1.4, 0.2],\n",
       "        [4.9, 3.1, 1.5, 0.2],\n",
       "        [5. , 3.2, 1.2, 0.2],\n",
       "        [5.5, 3.5, 1.3, 0.2],\n",
       "        [4.9, 3.6, 1.4, 0.1],\n",
       "        [4.4, 3. , 1.3, 0.2],\n",
       "        [5.1, 3.4, 1.5, 0.2],\n",
       "        [5. , 3.5, 1.3, 0.3],\n",
       "        [4.5, 2.3, 1.3, 0.3],\n",
       "        [4.4, 3.2, 1.3, 0.2],\n",
       "        [5. , 3.5, 1.6, 0.6],\n",
       "        [5.1, 3.8, 1.9, 0.4],\n",
       "        [4.8, 3. , 1.4, 0.3],\n",
       "        [5.1, 3.8, 1.6, 0.2],\n",
       "        [4.6, 3.2, 1.4, 0.2],\n",
       "        [5.3, 3.7, 1.5, 0.2],\n",
       "        [5. , 3.3, 1.4, 0.2]]), 'versicolor': array([[7. , 3.2, 4.7, 1.4],\n",
       "        [6.4, 3.2, 4.5, 1.5],\n",
       "        [6.9, 3.1, 4.9, 1.5],\n",
       "        [5.5, 2.3, 4. , 1.3],\n",
       "        [6.5, 2.8, 4.6, 1.5],\n",
       "        [5.7, 2.8, 4.5, 1.3],\n",
       "        [6.3, 3.3, 4.7, 1.6],\n",
       "        [4.9, 2.4, 3.3, 1. ],\n",
       "        [6.6, 2.9, 4.6, 1.3],\n",
       "        [5.2, 2.7, 3.9, 1.4],\n",
       "        [5. , 2. , 3.5, 1. ],\n",
       "        [5.9, 3. , 4.2, 1.5],\n",
       "        [6. , 2.2, 4. , 1. ],\n",
       "        [6.1, 2.9, 4.7, 1.4],\n",
       "        [5.6, 2.9, 3.6, 1.3],\n",
       "        [6.7, 3.1, 4.4, 1.4],\n",
       "        [5.6, 3. , 4.5, 1.5],\n",
       "        [5.8, 2.7, 4.1, 1. ],\n",
       "        [6.2, 2.2, 4.5, 1.5],\n",
       "        [5.6, 2.5, 3.9, 1.1],\n",
       "        [5.9, 3.2, 4.8, 1.8],\n",
       "        [6.1, 2.8, 4. , 1.3],\n",
       "        [6.3, 2.5, 4.9, 1.5],\n",
       "        [6.1, 2.8, 4.7, 1.2],\n",
       "        [6.4, 2.9, 4.3, 1.3],\n",
       "        [6.6, 3. , 4.4, 1.4],\n",
       "        [6.8, 2.8, 4.8, 1.4],\n",
       "        [6.7, 3. , 5. , 1.7],\n",
       "        [6. , 2.9, 4.5, 1.5],\n",
       "        [5.7, 2.6, 3.5, 1. ],\n",
       "        [5.5, 2.4, 3.8, 1.1],\n",
       "        [5.5, 2.4, 3.7, 1. ],\n",
       "        [5.8, 2.7, 3.9, 1.2],\n",
       "        [6. , 2.7, 5.1, 1.6],\n",
       "        [5.4, 3. , 4.5, 1.5],\n",
       "        [6. , 3.4, 4.5, 1.6],\n",
       "        [6.7, 3.1, 4.7, 1.5],\n",
       "        [6.3, 2.3, 4.4, 1.3],\n",
       "        [5.6, 3. , 4.1, 1.3],\n",
       "        [5.5, 2.5, 4. , 1.3],\n",
       "        [5.5, 2.6, 4.4, 1.2],\n",
       "        [6.1, 3. , 4.6, 1.4],\n",
       "        [5.8, 2.6, 4. , 1.2],\n",
       "        [5. , 2.3, 3.3, 1. ],\n",
       "        [5.6, 2.7, 4.2, 1.3],\n",
       "        [5.7, 3. , 4.2, 1.2],\n",
       "        [5.7, 2.9, 4.2, 1.3],\n",
       "        [6.2, 2.9, 4.3, 1.3],\n",
       "        [5.1, 2.5, 3. , 1.1],\n",
       "        [5.7, 2.8, 4.1, 1.3]]), 'virginica': array([[6.3, 3.3, 6. , 2.5],\n",
       "        [5.8, 2.7, 5.1, 1.9],\n",
       "        [7.1, 3. , 5.9, 2.1],\n",
       "        [6.3, 2.9, 5.6, 1.8],\n",
       "        [6.5, 3. , 5.8, 2.2],\n",
       "        [7.6, 3. , 6.6, 2.1],\n",
       "        [4.9, 2.5, 4.5, 1.7],\n",
       "        [7.3, 2.9, 6.3, 1.8],\n",
       "        [6.7, 2.5, 5.8, 1.8],\n",
       "        [7.2, 3.6, 6.1, 2.5],\n",
       "        [6.5, 3.2, 5.1, 2. ],\n",
       "        [6.4, 2.7, 5.3, 1.9],\n",
       "        [6.8, 3. , 5.5, 2.1],\n",
       "        [5.7, 2.5, 5. , 2. ],\n",
       "        [5.8, 2.8, 5.1, 2.4],\n",
       "        [6.4, 3.2, 5.3, 2.3],\n",
       "        [6.5, 3. , 5.5, 1.8],\n",
       "        [7.7, 3.8, 6.7, 2.2],\n",
       "        [7.7, 2.6, 6.9, 2.3],\n",
       "        [6. , 2.2, 5. , 1.5],\n",
       "        [6.9, 3.2, 5.7, 2.3],\n",
       "        [5.6, 2.8, 4.9, 2. ],\n",
       "        [7.7, 2.8, 6.7, 2. ],\n",
       "        [6.3, 2.7, 4.9, 1.8],\n",
       "        [6.7, 3.3, 5.7, 2.1],\n",
       "        [7.2, 3.2, 6. , 1.8],\n",
       "        [6.2, 2.8, 4.8, 1.8],\n",
       "        [6.1, 3. , 4.9, 1.8],\n",
       "        [6.4, 2.8, 5.6, 2.1],\n",
       "        [7.2, 3. , 5.8, 1.6],\n",
       "        [7.4, 2.8, 6.1, 1.9],\n",
       "        [7.9, 3.8, 6.4, 2. ],\n",
       "        [6.4, 2.8, 5.6, 2.2],\n",
       "        [6.3, 2.8, 5.1, 1.5],\n",
       "        [6.1, 2.6, 5.6, 1.4],\n",
       "        [7.7, 3. , 6.1, 2.3],\n",
       "        [6.3, 3.4, 5.6, 2.4],\n",
       "        [6.4, 3.1, 5.5, 1.8],\n",
       "        [6. , 3. , 4.8, 1.8],\n",
       "        [6.9, 3.1, 5.4, 2.1],\n",
       "        [6.7, 3.1, 5.6, 2.4],\n",
       "        [6.9, 3.1, 5.1, 2.3],\n",
       "        [5.8, 2.7, 5.1, 1.9],\n",
       "        [6.8, 3.2, 5.9, 2.3],\n",
       "        [6.7, 3.3, 5.7, 2.5],\n",
       "        [6.7, 3. , 5.2, 2.3],\n",
       "        [6.3, 2.5, 5. , 1.9],\n",
       "        [6.5, 3. , 5.2, 2. ],\n",
       "        [6.2, 3.4, 5.4, 2.3],\n",
       "        [5.9, 3. , 5.1, 1.8]])}"
      ]
     },
     "execution_count": 1,
     "metadata": {},
     "output_type": "execute_result"
    }
   ],
   "source": [
    "import sklearn as skl\n",
    "from algorithms.iris.Reader import IrisReader\n",
    "from algorithms.iris.IrisOps import IrisOps\n",
    "from typing import Dict, Tuple, Callable, List\n",
    "import numpy as np\n",
    "from functools import reduce\n",
    "import plotly.figure_factory as ff\n",
    "import plotly.graph_objects as go\n",
    "\n",
    "iris_reader: IrisReader = IrisReader()\n",
    "iris_reader.load()\n",
    "raw_data: Dict[str, np.array] = iris_reader.data\n",
    "\n",
    "raw_data"
   ]
  },
  {
   "cell_type": "markdown",
   "metadata": {},
   "source": [
    "## Split into Test (20%) - Train (80%)"
   ]
  },
  {
   "cell_type": "code",
   "execution_count": 2,
   "metadata": {},
   "outputs": [
    {
     "name": "stdout",
     "output_type": "stream",
     "text": [
      "Label Mapping:  [(0, 'setosa'), (1, 'versicolor'), (2, 'virginica')]\n",
      "[[1.  5.7 2.6 3.5 1. ]\n",
      " [0.  5.  3.2 1.2 0.2]\n",
      " [1.  7.  3.2 4.7 1.4]\n",
      " [1.  6.5 2.8 4.6 1.5]\n",
      " [2.  6.4 2.7 5.3 1.9]]\n",
      "[[2.  6.9 3.1 5.1 2.3]\n",
      " [2.  6.5 3.  5.2 2. ]\n",
      " [1.  5.6 2.5 3.9 1.1]\n",
      " [0.  5.4 3.4 1.7 0.2]\n",
      " [2.  6.9 3.1 5.4 2.1]]\n"
     ]
    }
   ],
   "source": [
    "train, test = IrisOps.test_train_split(raw_data, [\"setosa\", \"versicolor\", \"virginica\"], train_prop = .8)\n",
    "\n",
    "print(train[:5])\n",
    "print(test[:5])"
   ]
  },
  {
   "cell_type": "markdown",
   "metadata": {},
   "source": [
    "##  Develop a Parzen Window Classifier with a Gaussian Kernel\n",
    "\n",
    "As opposed to a $k$-Nearest Neighbor (KNN) algorithm, which relies on fixed density for assignment, Parzen Window (PZ) classifiers rely on fixed volume. The most straightforward implementation leverages a fixed radius around each test observation and assigns the label that corresponds with the highest proportion of labels in the captured training observations. In this case, we will leverage a Gaussian kernel, which in effect provides a version of a likelihood for each label. The procedure will be as follows:\n",
    "\n",
    "1. Normalize the data (z-score).\n",
    "2. Split the train data into groups by class.\n",
    "3. For each class of train observations:\n",
    "    + Compare the test observation to each train observation in the class, using the gaussian kernel.\n",
    "    + Sum over the output of comparisons within the class to determine the score.\n",
    "4. Assign the label of the class with the highest score for the test observation.\n",
    "\n",
    "The heart of this approach is the kernel:\n",
    "\n",
    "```python\n",
    "def gaussian_kernel(obs: np.array, data: np.array, spread: float) -> np.array:\n",
    "    obs_rows, obs_cols = obs.shape\n",
    "    data_rows, data_cols = data.shape\n",
    "    out: np.array = np.zeros((obs_cols, data_cols))\n",
    "    \n",
    "    def g(x_0: np.array, x_n: np.array) -> float:\n",
    "        normalization: float = 1 / ((np.sqrt(2*np.pi)*spread)**data_rows)\n",
    "        distance: float = (x_0-x_n).dot((x_0-x_n))\n",
    "        exponential: float = np.exp((-0.5/spread**2) * distance)\n",
    "        return normalization * exponential\n",
    "    \n",
    "    for oc in range(obs_cols):\n",
    "        for dc in range(data_cols):\n",
    "            out[oc, dc] = g(obs[:, oc], data[:, dc])\n",
    "            \n",
    "    return out\n",
    "```\n",
    "\n",
    "The nice thing about this approach is that it already accommodates multiple classes, since we are just taking the maximum score."
   ]
  },
  {
   "cell_type": "code",
   "execution_count": 227,
   "metadata": {},
   "outputs": [
    {
     "name": "stdout",
     "output_type": "stream",
     "text": [
      "Label Mapping:  [(0, 'setosa'), (1, 'versicolor'), (2, 'virginica')]\n"
     ]
    },
    {
     "data": {
      "text/plain": [
       "1.0"
      ]
     },
     "execution_count": 227,
     "metadata": {},
     "output_type": "execute_result"
    }
   ],
   "source": [
    "class Parzen:\n",
    "    \n",
    "    def __init__(\n",
    "        self, \n",
    "        data: Dict[str, np.array], \n",
    "        spread: float, \n",
    "        train_prop: float = 0.8, \n",
    "        labels: List[str] = [\"setosa\", \"versicolor\", \"virginica\"]\n",
    "    ) -> np.array:\n",
    "        self.data = data\n",
    "        self.spread = spread\n",
    "        self.train_prop = train_prop\n",
    "        self.labels = labels\n",
    "        self.train, self.test = self.split()\n",
    "        \n",
    "    def split(self) -> Tuple[np.array, np.array]:\n",
    "        return IrisOps.test_train_split(self.data, self.labels, self.train_prop)\n",
    "        \n",
    "    def preprocess(self, data: np.array) -> Tuple[np.array, np.array]:\n",
    "        y: np.array = data[:,0]\n",
    "        x_in: np.array = data[:, 1:]\n",
    "        X: np.array = (x_in - x_in.mean(axis=0)) / x_in.std(axis=0)\n",
    "        return np.concatenate([y, X], axis=1)\n",
    "    \n",
    "    @staticmethod\n",
    "    def gaussian_kernel(obs: np.array, data: np.array, spread: float) -> np.array:\n",
    "        obs_rows, obs_cols = obs.shape\n",
    "        data_rows, data_cols = data.shape\n",
    "        out: np.array = np.zeros((obs_cols, data_rows))\n",
    "    \n",
    "        def g(x_0: np.array, x_n: np.array) -> float:\n",
    "            normalization: float = 1 / ((np.sqrt(2*np.pi)*spread)**data_cols)\n",
    "            distance: float = (x_0-x_n).dot((x_0-x_n))\n",
    "            exponential: float = np.exp((-0.5/spread**2) * distance)\n",
    "            return normalization * exponential\n",
    "\n",
    "        for i, o in enumerate(obs):\n",
    "            for j, d in enumerate(data):\n",
    "                out[i, j] = g(o, d)\n",
    "            \n",
    "\n",
    "        return out\n",
    "    \n",
    "    @staticmethod\n",
    "    def score_class(test_obs: np.array, train: np.array, class_idx: int, spread: float) -> float:\n",
    "        tobs_2d: np.array = test_obs.reshape(1,-1)[:, 1:]\n",
    "        class_train: np.array = train[train[:, 0] == class_idx]\n",
    "        kernel_mat: np.array = Parzen.gaussian_kernel(tobs_2d, class_train[:, 1:], spread)\n",
    "        return kernel_mat.sum()\n",
    "    \n",
    "    @staticmethod\n",
    "    def label_obs(test_obs: np.array, train: np.array, spread: float) -> int:\n",
    "        labels: np.array = np.unique(train[:, 0])\n",
    "        scores: List[Tuple[int, np.array]] = list(map(\n",
    "            lambda class_idx: (class_idx, Parzen.score_class(test_obs, train, class_idx, spread)),\n",
    "            labels\n",
    "        ))\n",
    "        max_score: Tuple[int, np.array] = reduce(lambda f, s: f if f[1] >= s[1] else s, scores)\n",
    "        return max_score[0]\n",
    "    \n",
    "    def fit(self) -> np.array:\n",
    "        truth: np.array = self.test[:, 0].reshape(len(self.test), 1)\n",
    "        pred: np.array = np.array(list(\n",
    "            map(lambda obs: Parzen.label_obs(obs, self.train, self.spread), self.test)\n",
    "        )).reshape(len(self.test), 1)\n",
    "        return np.concatenate([truth, pred], axis=1)\n",
    "        \n",
    "    @staticmethod\n",
    "    def accuracy(label_pairs: np.array) -> float:\n",
    "        matches: int = len(label_pairs[label_pairs[:, 0] == label_pairs[:, 1]])\n",
    "        total: int = len(label_pairs)\n",
    "        return matches / total\n",
    "    \n",
    "    @staticmethod\n",
    "    def plot1D(\n",
    "        raw_data: Dict[str,np.array], \n",
    "        support: np.array, \n",
    "        feature: int, \n",
    "        spread: float,\n",
    "        labels: List[str],\n",
    "        color_map: Dict[str, str]\n",
    "    ) -> go.Figure:\n",
    "        \n",
    "        input_data: List[np.array] = [raw_data[lab][:,feature] for lab in labels]\n",
    "        \n",
    "        pgk: Callable[[float], float] = lambda obs: Parzen.gaussian_kernel(\n",
    "            np.array([obs]).reshape(1,1), \n",
    "            support.reshape(len(support), 1), \n",
    "            spread\n",
    "        )\n",
    "        def class_density(feature_arr: np.array) -> np.array:\n",
    "            arrs: List[np.array] = list(map(lambda obs: pgk(obs), feature_arr))\n",
    "            sum_array: np.array = reduce(lambda f, s: f + s, arrs)\n",
    "            return sum_array / len(feature_arr)\n",
    "    \n",
    "        hist_data: List[np.array] = [class_density(arr)[0] for arr in input_data]\n",
    "        colors: List[str] = [color_map[lab] for lab in labels]\n",
    "        \n",
    "        fig: go.Figure = go.Figure()\n",
    "        for i, lab in enumerate(labels):\n",
    "            fig.add_trace(go.Scatter(\n",
    "                x = support,\n",
    "                y = hist_data[i],\n",
    "                line=dict(color=colors[i]),\n",
    "                    name=f\"{lab} density\"\n",
    "            ))\n",
    "            fig.add_trace(go.Scatter(\n",
    "                x = input_data[i],\n",
    "                y = np.random.uniform(-0.05, 0.05, size = len(input_data[i])),\n",
    "                mode = \"markers\",\n",
    "                opacity = 0.7,\n",
    "                marker = dict(\n",
    "                    color=\"#ffffff\", \n",
    "                    line = dict(color=colors[i], width=1)\n",
    "                ),\n",
    "                name = f\"{lab} data\"\n",
    "            ))\n",
    "        fig.update_layout(template=\"plotly_white\")\n",
    "        return fig\n",
    "    \n",
    "    @staticmethod\n",
    "    def plot2D(\n",
    "        raw_data: Dict[str,np.array], \n",
    "        support: np.array, \n",
    "        features: Tuple[int, int], \n",
    "        spread: float,\n",
    "        labels: List[str],\n",
    "        color_map: Dict[str, str]\n",
    "    ) -> go.Figure:\n",
    "        \n",
    "        minf, maxf = (labels[0], labels[1]) if labels[1] > labels[0] else (labels[1], labels[0])\n",
    "        input_data: List[np.array] = [raw_data[lab][:,minf:maxf+1] for lab in labels]\n",
    "        \n",
    "        pgk: Callable[[float], float] = lambda obs: Parzen.gaussian_kernel(\n",
    "            np.array([obs]).reshape(1,1), \n",
    "            support.reshape(len(support), 1), \n",
    "            spread\n",
    "        )\n",
    "        def class_density(feature_arr: np.array) -> np.array:\n",
    "            arrs: List[np.array] = list(map(lambda obs: pgk(obs), feature_arr))\n",
    "            sum_array: np.array = reduce(lambda f, s: f + s, arrs)\n",
    "            return sum_array / len(feature_arr)\n",
    "    \n",
    "        hist_data: List[np.array] = [class_density(arr)[0] for arr in input_data]\n",
    "        colors: List[str] = [color_map[lab] for lab in labels]\n",
    "        \n",
    "        fig: go.Figure = go.Figure()\n",
    "        for i, lab in enumerate(labels):\n",
    "            fig.add_trace(go.Scatter(\n",
    "                x = support,\n",
    "                y = hist_data[i],\n",
    "                line=dict(color=colors[i]),\n",
    "                    name=f\"{lab} density\"\n",
    "            ))\n",
    "            fig.add_trace(go.Scatter(\n",
    "                x = input_data[i],\n",
    "                y = np.random.uniform(-0.05, 0.05, size = len(input_data[i])),\n",
    "                mode = \"markers\",\n",
    "                opacity = 0.7,\n",
    "                marker = dict(\n",
    "                    color=\"#ffffff\", \n",
    "                    line = dict(color=colors[i], width=1)\n",
    "                ),\n",
    "                name = f\"{lab} data\"\n",
    "            ))\n",
    "        fig.update_layout(template=\"plotly_white\")\n",
    "        return fig\n",
    "    \n",
    "    \n",
    "p = Parzen(raw_data, 0.3)\n",
    "out = p.fit()\n",
    "Parzen.accuracy(out)"
   ]
  },
  {
   "cell_type": "code",
   "execution_count": 242,
   "metadata": {},
   "outputs": [
    {
     "data": {
      "text/plain": [
       "array([[ 2,  3],\n",
       "       [ 6,  7],\n",
       "       [10, 11],\n",
       "       [14, 15],\n",
       "       [18, 19]])"
      ]
     },
     "execution_count": 242,
     "metadata": {},
     "output_type": "execute_result"
    }
   ],
   "source": [
    "np.arange(20).reshape(5,4)[:, 2:4]"
   ]
  },
  {
   "cell_type": "code",
   "execution_count": 232,
   "metadata": {
    "scrolled": false
   },
   "outputs": [
    {
     "data": {
      "application/vnd.plotly.v1+json": {
       "config": {
        "plotlyServerURL": "https://plot.ly"
       },
       "data": [
        {
         "line": {
          "color": "#e41a1c"
         },
         "name": "setosa density",
         "type": "scatter",
         "x": [
          -1,
          -0.9595959595959596,
          -0.9191919191919192,
          -0.8787878787878788,
          -0.8383838383838383,
          -0.797979797979798,
          -0.7575757575757576,
          -0.7171717171717171,
          -0.6767676767676767,
          -0.6363636363636364,
          -0.5959595959595959,
          -0.5555555555555556,
          -0.5151515151515151,
          -0.4747474747474747,
          -0.43434343434343425,
          -0.3939393939393939,
          -0.3535353535353535,
          -0.31313131313131304,
          -0.2727272727272727,
          -0.23232323232323226,
          -0.19191919191919182,
          -0.1515151515151515,
          -0.11111111111111105,
          -0.07070707070707061,
          -0.030303030303030276,
          0.010101010101010166,
          0.05050505050505061,
          0.09090909090909105,
          0.1313131313131315,
          0.1717171717171717,
          0.21212121212121215,
          0.2525252525252526,
          0.29292929292929304,
          0.3333333333333335,
          0.3737373737373739,
          0.41414141414141437,
          0.4545454545454546,
          0.49494949494949503,
          0.5353535353535355,
          0.5757575757575759,
          0.6161616161616164,
          0.6565656565656568,
          0.696969696969697,
          0.7373737373737375,
          0.7777777777777779,
          0.8181818181818183,
          0.8585858585858588,
          0.8989898989898992,
          0.9393939393939394,
          0.9797979797979799,
          1.0202020202020203,
          1.060606060606061,
          1.1010101010101012,
          1.1414141414141414,
          1.181818181818182,
          1.2222222222222223,
          1.262626262626263,
          1.3030303030303032,
          1.3434343434343434,
          1.383838383838384,
          1.4242424242424243,
          1.464646464646465,
          1.5050505050505052,
          1.5454545454545459,
          1.585858585858586,
          1.6262626262626263,
          1.666666666666667,
          1.7070707070707072,
          1.7474747474747478,
          1.787878787878788,
          1.8282828282828287,
          1.868686868686869,
          1.9090909090909092,
          1.9494949494949498,
          1.98989898989899,
          2.0303030303030307,
          2.070707070707071,
          2.111111111111111,
          2.151515151515152,
          2.191919191919192,
          2.2323232323232327,
          2.272727272727273,
          2.3131313131313136,
          2.353535353535354,
          2.393939393939394,
          2.4343434343434347,
          2.474747474747475,
          2.5151515151515156,
          2.555555555555556,
          2.5959595959595965,
          2.6363636363636367,
          2.676767676767677,
          2.7171717171717176,
          2.757575757575758,
          2.7979797979797985,
          2.8383838383838387,
          2.878787878787879,
          2.9191919191919196,
          2.95959595959596,
          3
         ],
         "y": [
          2.118943743878006e-27,
          1.662956287654551e-25,
          1.1085379794451404e-23,
          6.276706256957949e-22,
          3.0187644703544636e-20,
          1.2332465540497719e-18,
          4.27961216457333e-17,
          1.261561867316516e-15,
          3.159264544218766e-14,
          6.721591560922085e-13,
          1.2151217635971815e-11,
          1.8668435860073497e-10,
          2.4381141533456913e-09,
          2.7079003184286346e-08,
          2.559187302350313e-07,
          2.0598797795140567e-06,
          1.4138558441655199e-05,
          8.2906128988671e-05,
          0.00041639539671490443,
          0.0017976046937978859,
          0.006701282885315269,
          0.021695454486133435,
          0.06139201635032349,
          0.15280798966617343,
          0.3362899028916147,
          0.6562674384088335,
          1.1359538724629197,
          1.7409699545472426,
          2.357329297645184,
          2.8185419366325446,
          2.9862508066402027,
          2.8315626243811307,
          2.4465677980431355,
          1.975218673679262,
          1.5282424957684986,
          1.1500254093576308,
          0.8415704318777759,
          0.5950422936239559,
          0.406568358579464,
          0.27101728893268723,
          0.1775650414331731,
          0.11323359285956643,
          0.0683411846024117,
          0.03775096172721981,
          0.018565613307742507,
          0.00797843682180066,
          0.0029620574196013534,
          0.000943660304222775,
          0.0002569627689378042,
          5.966727021139446e-05,
          1.1797571361167001e-05,
          1.984511224268454e-06,
          2.838406145038775e-07,
          3.4506297528786215e-08,
          3.564698621577845e-09,
          3.1288222541486364e-10,
          2.333073362843853e-11,
          1.4778694564283811e-12,
          7.952148945096923e-14,
          3.634634761133296e-15,
          1.4110950941448626e-16,
          4.653345422129194e-18,
          1.3034188049966223e-19,
          3.1010573905870647e-21,
          6.266731012314165e-23,
          1.0756639085632694e-24,
          1.5682513697447394e-26,
          1.942038266261714e-28,
          2.042690560343921e-30,
          1.8249452789982723e-32,
          1.384839449582751e-34,
          8.925883651051638e-37,
          4.8865816977642286e-39,
          2.2722766700591033e-41,
          8.974687348464994e-44,
          3.0107833072896233e-46,
          8.579099618014395e-49,
          2.0763757725848495e-51,
          4.268469866034107e-54,
          7.453161084102839e-57,
          1.1053779926874783e-59,
          1.3924613083581863e-62,
          1.4899012155088394e-65,
          1.3540472733648055e-68,
          1.0452307875581532e-71,
          6.853186862750658e-75,
          3.8165852478731574e-78,
          1.8053415358845098e-81,
          7.25346958322371e-85,
          2.475336395056298e-88,
          7.175045732377273e-92,
          1.7665141995515606e-95,
          3.694125154064818e-99,
          6.561574891565027e-103,
          9.899347922241572e-107,
          1.2685485678193286e-110,
          1.3807327413296674e-114,
          1.2764804285402113e-118,
          1.002353036645852e-122,
          6.685428883742374e-127
         ]
        },
        {
         "marker": {
          "color": "#ffffff",
          "line": {
           "color": "#e41a1c",
           "width": 1
          }
         },
         "mode": "markers",
         "name": "setosa data",
         "opacity": 0.7,
         "type": "scatter",
         "x": [
          0.2,
          0.2,
          0.2,
          0.2,
          0.2,
          0.4,
          0.3,
          0.2,
          0.2,
          0.1,
          0.2,
          0.2,
          0.1,
          0.1,
          0.2,
          0.4,
          0.4,
          0.3,
          0.3,
          0.3,
          0.2,
          0.4,
          0.2,
          0.5,
          0.2,
          0.2,
          0.4,
          0.2,
          0.2,
          0.2,
          0.2,
          0.4,
          0.1,
          0.2,
          0.2,
          0.2,
          0.2,
          0.1,
          0.2,
          0.2,
          0.3,
          0.3,
          0.2,
          0.6,
          0.4,
          0.3,
          0.2,
          0.2,
          0.2,
          0.2
         ],
         "y": [
          0.04301705017087383,
          0.014334424968908827,
          0.021077443912457236,
          -0.03681721235580196,
          0.033333159615699506,
          0.041314174072442394,
          -0.005073599571301192,
          0.04303703246904521,
          0.04693193200245642,
          -0.01856447068681897,
          -0.009330400338571944,
          -0.029459581793762225,
          -0.03143144654081551,
          -0.037980930292006755,
          -0.01128374650153411,
          -0.048135040130757034,
          0.04180734443099013,
          -0.04354040977296793,
          0.013689447060791685,
          -0.04478286498300324,
          -0.021704811704775784,
          -0.00408458606886207,
          0.014038896361504113,
          -0.022471657568221726,
          0.009560085366041207,
          -0.0194996968865651,
          -0.007615759465580449,
          0.04106356189910486,
          0.023882858495088227,
          -0.03000490676119959,
          0.04924050697798567,
          -0.02117212218294211,
          0.012843711530468122,
          -0.038212993705037814,
          -0.004986276760116447,
          0.035301323096908685,
          -0.02870744966197345,
          0.00822355377252789,
          0.030154916923275404,
          -0.027431518004572965,
          0.011212783022039152,
          0.04028182172010561,
          0.014568777485599232,
          -0.04410114260596318,
          0.01226015496473929,
          0.0010248573545231093,
          -0.043368103626843894,
          0.00268410061183616,
          -0.02178762012301241,
          0.016803743430136006
         ]
        },
        {
         "line": {
          "color": "#377eb8"
         },
         "name": "versicolor density",
         "type": "scatter",
         "x": [
          -1,
          -0.9595959595959596,
          -0.9191919191919192,
          -0.8787878787878788,
          -0.8383838383838383,
          -0.797979797979798,
          -0.7575757575757576,
          -0.7171717171717171,
          -0.6767676767676767,
          -0.6363636363636364,
          -0.5959595959595959,
          -0.5555555555555556,
          -0.5151515151515151,
          -0.4747474747474747,
          -0.43434343434343425,
          -0.3939393939393939,
          -0.3535353535353535,
          -0.31313131313131304,
          -0.2727272727272727,
          -0.23232323232323226,
          -0.19191919191919182,
          -0.1515151515151515,
          -0.11111111111111105,
          -0.07070707070707061,
          -0.030303030303030276,
          0.010101010101010166,
          0.05050505050505061,
          0.09090909090909105,
          0.1313131313131315,
          0.1717171717171717,
          0.21212121212121215,
          0.2525252525252526,
          0.29292929292929304,
          0.3333333333333335,
          0.3737373737373739,
          0.41414141414141437,
          0.4545454545454546,
          0.49494949494949503,
          0.5353535353535355,
          0.5757575757575759,
          0.6161616161616164,
          0.6565656565656568,
          0.696969696969697,
          0.7373737373737375,
          0.7777777777777779,
          0.8181818181818183,
          0.8585858585858588,
          0.8989898989898992,
          0.9393939393939394,
          0.9797979797979799,
          1.0202020202020203,
          1.060606060606061,
          1.1010101010101012,
          1.1414141414141414,
          1.181818181818182,
          1.2222222222222223,
          1.262626262626263,
          1.3030303030303032,
          1.3434343434343434,
          1.383838383838384,
          1.4242424242424243,
          1.464646464646465,
          1.5050505050505052,
          1.5454545454545459,
          1.585858585858586,
          1.6262626262626263,
          1.666666666666667,
          1.7070707070707072,
          1.7474747474747478,
          1.787878787878788,
          1.8282828282828287,
          1.868686868686869,
          1.9090909090909092,
          1.9494949494949498,
          1.98989898989899,
          2.0303030303030307,
          2.070707070707071,
          2.111111111111111,
          2.151515151515152,
          2.191919191919192,
          2.2323232323232327,
          2.272727272727273,
          2.3131313131313136,
          2.353535353535354,
          2.393939393939394,
          2.4343434343434347,
          2.474747474747475,
          2.5151515151515156,
          2.555555555555556,
          2.5959595959595965,
          2.6363636363636367,
          2.676767676767677,
          2.7171717171717176,
          2.757575757575758,
          2.7979797979797985,
          2.8383838383838387,
          2.878787878787879,
          2.9191919191919196,
          2.95959595959596,
          3
         ],
         "y": [
          7.729327711165107e-88,
          2.302200195640108e-84,
          5.824336588376162e-81,
          1.251560523823327e-77,
          2.2843321961756455e-74,
          3.5413485922412036e-71,
          4.663157772180195e-68,
          5.215471227396356e-65,
          4.954604716757234e-62,
          3.997849892553401e-59,
          2.7399710229161135e-56,
          1.5950249148913434e-53,
          7.886621328489765e-51,
          3.3121997834302925e-48,
          1.1815281692085214e-45,
          3.579922789525386e-43,
          9.213089058196053e-41,
          2.013904703494862e-38,
          3.739164855375409e-36,
          5.896745420417242e-34,
          7.898638536903875e-32,
          8.9865757315607e-30,
          8.68437236432397e-28,
          7.128282895247404e-26,
          4.9697420579634874e-24,
          2.9429671142613256e-22,
          1.4802665360130087e-20,
          6.32408723291256e-19,
          2.2948795755936156e-17,
          7.073382055839442e-16,
          1.8518298024539866e-14,
          4.1179788533775676e-13,
          7.778211906461132e-12,
          1.2479389164425988e-10,
          1.7007195490517821e-09,
          1.9688370428515083e-08,
          1.9361649193439644e-07,
          1.617547998781311e-06,
          1.1481389942126244e-05,
          6.924920015669114e-05,
          0.0003549845592944835,
          0.0015470953874281445,
          0.005735202356082315,
          0.018097923186476322,
          0.048669967910040385,
          0.11174841100389284,
          0.2197111622733703,
          0.3717179109203947,
          0.5456624972108944,
          0.705025553943391,
          0.821687592202004,
          0.8981975578458765,
          0.9690139822007976,
          1.0771976549262796,
          1.2433419909280454,
          1.4484791132166195,
          1.642623374556726,
          1.7741913728069747,
          1.8196246324684062,
          1.789471473948263,
          1.707117634173826,
          1.583596773587802,
          1.4146002447063921,
          1.1991073874940439,
          0.9555111000931622,
          0.7175317927592454,
          0.5161122971521912,
          0.36511027810178576,
          0.2601874448823601,
          0.18738105472957894,
          0.1330852285806084,
          0.0896338402177413,
          0.05517505931209777,
          0.030216127563471508,
          0.014466946010499788,
          0.005990564255280282,
          0.002131248919463826,
          0.0006487743784331691,
          0.00016854858994957826,
          3.730892240238189e-05,
          7.029003117003287e-06,
          1.1263315004609952e-06,
          1.534375697042696e-07,
          1.776474922402222e-08,
          1.7476781250333847e-09,
          1.4607674822079057e-10,
          1.0372408090427725e-11,
          6.256498864656617e-13,
          3.2056740316941464e-14,
          1.3951862431648912e-15,
          5.157773404273693e-17,
          1.6195878609287494e-18,
          4.3197197141374985e-20,
          9.786179292765956e-22,
          1.8831105045257276e-23,
          3.077814747351092e-25,
          4.27279943633604e-27,
          5.03831657361886e-29,
          5.046159927603437e-31,
          4.292783469047493e-33
         ]
        },
        {
         "marker": {
          "color": "#ffffff",
          "line": {
           "color": "#377eb8",
           "width": 1
          }
         },
         "mode": "markers",
         "name": "versicolor data",
         "opacity": 0.7,
         "type": "scatter",
         "x": [
          1.4,
          1.5,
          1.5,
          1.3,
          1.5,
          1.3,
          1.6,
          1,
          1.3,
          1.4,
          1,
          1.5,
          1,
          1.4,
          1.3,
          1.4,
          1.5,
          1,
          1.5,
          1.1,
          1.8,
          1.3,
          1.5,
          1.2,
          1.3,
          1.4,
          1.4,
          1.7,
          1.5,
          1,
          1.1,
          1,
          1.2,
          1.6,
          1.5,
          1.6,
          1.5,
          1.3,
          1.3,
          1.3,
          1.2,
          1.4,
          1.2,
          1,
          1.3,
          1.2,
          1.3,
          1.3,
          1.1,
          1.3
         ],
         "y": [
          0.03117772222935851,
          -0.04214872097261249,
          -0.011735442260577843,
          0.04380521152470855,
          -0.02297145045261767,
          0.03799681593813502,
          0.030936138285380707,
          -0.04872651160931192,
          0.04596918890123375,
          -0.023548247057843575,
          0.01390207204388308,
          0.04274061076622175,
          -0.013757205623022788,
          -0.0056235093984033716,
          -0.04675223469981628,
          -0.03480241474435354,
          0.016194070048954942,
          0.006400773512729288,
          0.008503465198841743,
          -0.022561915655503896,
          -0.04833510721031473,
          0.02013114312547573,
          -0.007621156561107192,
          -0.009082511530999773,
          -0.029349638318451245,
          0.019959332190521692,
          0.021385180692436348,
          -0.008257929621979895,
          -0.037422185112670016,
          -0.032987752344084076,
          0.0404035846041238,
          0.04177690277145481,
          0.009176218351994073,
          -0.008876430547792843,
          0.03370333989803352,
          0.010969875326583098,
          -0.03601246296493685,
          0.025822465864412406,
          0.012455662416752666,
          0.01410902211514578,
          0.042304058761617414,
          -0.020283413225964986,
          0.02653598311597785,
          -0.00555604991260792,
          -0.011914978702177337,
          0.008839460498257456,
          -0.042196022388237636,
          -0.04395635826250195,
          0.04725877937384684,
          -0.004247194604603176
         ]
        },
        {
         "line": {
          "color": "#4daf4a"
         },
         "name": "virginica density",
         "type": "scatter",
         "x": [
          -1,
          -0.9595959595959596,
          -0.9191919191919192,
          -0.8787878787878788,
          -0.8383838383838383,
          -0.797979797979798,
          -0.7575757575757576,
          -0.7171717171717171,
          -0.6767676767676767,
          -0.6363636363636364,
          -0.5959595959595959,
          -0.5555555555555556,
          -0.5151515151515151,
          -0.4747474747474747,
          -0.43434343434343425,
          -0.3939393939393939,
          -0.3535353535353535,
          -0.31313131313131304,
          -0.2727272727272727,
          -0.23232323232323226,
          -0.19191919191919182,
          -0.1515151515151515,
          -0.11111111111111105,
          -0.07070707070707061,
          -0.030303030303030276,
          0.010101010101010166,
          0.05050505050505061,
          0.09090909090909105,
          0.1313131313131315,
          0.1717171717171717,
          0.21212121212121215,
          0.2525252525252526,
          0.29292929292929304,
          0.3333333333333335,
          0.3737373737373739,
          0.41414141414141437,
          0.4545454545454546,
          0.49494949494949503,
          0.5353535353535355,
          0.5757575757575759,
          0.6161616161616164,
          0.6565656565656568,
          0.696969696969697,
          0.7373737373737375,
          0.7777777777777779,
          0.8181818181818183,
          0.8585858585858588,
          0.8989898989898992,
          0.9393939393939394,
          0.9797979797979799,
          1.0202020202020203,
          1.060606060606061,
          1.1010101010101012,
          1.1414141414141414,
          1.181818181818182,
          1.2222222222222223,
          1.262626262626263,
          1.3030303030303032,
          1.3434343434343434,
          1.383838383838384,
          1.4242424242424243,
          1.464646464646465,
          1.5050505050505052,
          1.5454545454545459,
          1.585858585858586,
          1.6262626262626263,
          1.666666666666667,
          1.7070707070707072,
          1.7474747474747478,
          1.787878787878788,
          1.8282828282828287,
          1.868686868686869,
          1.9090909090909092,
          1.9494949494949498,
          1.98989898989899,
          2.0303030303030307,
          2.070707070707071,
          2.111111111111111,
          2.151515151515152,
          2.191919191919192,
          2.2323232323232327,
          2.272727272727273,
          2.3131313131313136,
          2.353535353535354,
          2.393939393939394,
          2.4343434343434347,
          2.474747474747475,
          2.5151515151515156,
          2.555555555555556,
          2.5959595959595965,
          2.6363636363636367,
          2.676767676767677,
          2.7171717171717176,
          2.757575757575758,
          2.7979797979797985,
          2.8383838383838387,
          2.878787878787879,
          2.9191919191919196,
          2.95959595959596,
          3
         ],
         "y": [
          6.685428883895453e-127,
          1.0023530366802297e-122,
          1.2764804286058598e-118,
          1.3807327414359133e-114,
          1.2685485679656486e-110,
          9.899347923951464e-107,
          6.561574893262378e-103,
          3.694125155496122e-99,
          1.766514200576463e-95,
          7.175045738613258e-92,
          2.4753363982786508e-88,
          7.253469597366498e-85,
          1.805341541157142e-81,
          3.816585264569007e-78,
          6.853186907656262e-75,
          1.0452307978166835e-71,
          1.3540472932707051e-68,
          1.4899012483166405e-65,
          1.39246135428585e-62,
          1.1053780472977428e-59,
          7.453161635641601e-57,
          4.268470339164028e-54,
          2.076376117320589e-51,
          8.579101751523962e-49,
          3.0107844288035494e-46,
          8.974692355916199e-44,
          2.2722785690843335e-41,
          4.886587814878705e-39,
          8.925900387539182e-37,
          1.384843338992845e-34,
          1.8249529562312457e-32,
          2.0427034317815967e-30,
          1.9420565957527e-28,
          1.5682735401825498e-26,
          1.0756866856357292e-24,
          6.266929768288546e-23,
          3.101204703039722e-21,
          1.3035115420308586e-19,
          4.653841280518708e-18,
          1.4113202831707128e-16,
          3.635503348368836e-15,
          7.954994347482627e-14,
          1.4786610805538858e-12,
          2.3349436617073447e-11,
          3.1325743764493194e-10,
          3.571089386046737e-09,
          3.4598691135882516e-08,
          2.849740545440083e-07,
          1.9963036135354135e-06,
          1.1901543029934484e-05,
          6.044319657701124e-05,
          0.00026185505429916436,
          0.0009696443612883103,
          0.0030777500339669033,
          0.008406689775925272,
          0.019863440751000837,
          0.04086904654562559,
          0.07379967615567731,
          0.1179724582780311,
          0.1684351603113128,
          0.2168148037781811,
          0.2547801459675182,
          0.27958900536615533,
          0.29969199277021225,
          0.3367455606761001,
          0.4198584191511845,
          0.570371293199418,
          0.7827050452070549,
          1.015789686154806,
          1.2086837186918853,
          1.3151935503770409,
          1.3308403454204665,
          1.2889053326829474,
          1.2312070457626614,
          1.1812195516869308,
          1.1394679502787743,
          1.097885138627708,
          1.0562196982628402,
          1.0261137708942156,
          1.0197874370187283,
          1.0335423798264138,
          1.0430433097468461,
          1.0179811527694655,
          0.94368465803498,
          0.8289833483820501,
          0.6946975296159351,
          0.5574601955184122,
          0.42481024488338387,
          0.3013385824984967,
          0.19423220624381127,
          0.11136565433319687,
          0.055908835858713805,
          0.024314019939665595,
          0.00909613031356904,
          0.0029143481203370695,
          0.0007973832288957164,
          0.00018596467959152436,
          3.692401666253832e-05,
          6.236776201070705e-06,
          8.956918571357238e-07
         ]
        },
        {
         "marker": {
          "color": "#ffffff",
          "line": {
           "color": "#4daf4a",
           "width": 1
          }
         },
         "mode": "markers",
         "name": "virginica data",
         "opacity": 0.7,
         "type": "scatter",
         "x": [
          2.5,
          1.9,
          2.1,
          1.8,
          2.2,
          2.1,
          1.7,
          1.8,
          1.8,
          2.5,
          2,
          1.9,
          2.1,
          2,
          2.4,
          2.3,
          1.8,
          2.2,
          2.3,
          1.5,
          2.3,
          2,
          2,
          1.8,
          2.1,
          1.8,
          1.8,
          1.8,
          2.1,
          1.6,
          1.9,
          2,
          2.2,
          1.5,
          1.4,
          2.3,
          2.4,
          1.8,
          1.8,
          2.1,
          2.4,
          2.3,
          1.9,
          2.3,
          2.5,
          2.3,
          1.9,
          2,
          2.3,
          1.8
         ],
         "y": [
          0.029770218221551667,
          0.011843802597224083,
          -0.003338486186019972,
          -0.022532090635706173,
          -0.010946254247307476,
          0.046676399636444224,
          0.04111125052305624,
          0.04437257221816615,
          0.005670592687411366,
          0.02742855160780598,
          -0.0071881753967205225,
          0.010406801021683308,
          0.03147214341840282,
          -0.03141311454249876,
          0.0080294175615971,
          0.028007788183593105,
          -0.03725037160081615,
          -0.04597134381099294,
          0.00499471794115882,
          -0.013568222989045246,
          0.030075512067211277,
          0.026447942354030016,
          -0.015438596188035905,
          0.00880033360362141,
          -0.017187081421294083,
          0.0353156861466848,
          -0.038078047374214254,
          0.031626703568060036,
          -0.011076572639799151,
          0.04648781667694096,
          -0.016247058741179612,
          0.045264866931286674,
          0.03173931063893998,
          -0.02990047126389285,
          -0.0030618012587631943,
          0.04225659629165751,
          0.04589571997380709,
          0.0463545905749853,
          0.03730563323550157,
          0.04638388754654692,
          -0.009411567286396083,
          0.042906922674258205,
          0.041373105217968026,
          -0.011614029007115709,
          -0.028296981485508844,
          -0.008262676339013973,
          -0.02118090326006491,
          -0.033010628817944566,
          -0.019696899586601226,
          -0.030045832069710267
         ]
        }
       ],
       "layout": {
        "template": {
         "data": {
          "bar": [
           {
            "error_x": {
             "color": "#2a3f5f"
            },
            "error_y": {
             "color": "#2a3f5f"
            },
            "marker": {
             "line": {
              "color": "white",
              "width": 0.5
             }
            },
            "type": "bar"
           }
          ],
          "barpolar": [
           {
            "marker": {
             "line": {
              "color": "white",
              "width": 0.5
             }
            },
            "type": "barpolar"
           }
          ],
          "carpet": [
           {
            "aaxis": {
             "endlinecolor": "#2a3f5f",
             "gridcolor": "#C8D4E3",
             "linecolor": "#C8D4E3",
             "minorgridcolor": "#C8D4E3",
             "startlinecolor": "#2a3f5f"
            },
            "baxis": {
             "endlinecolor": "#2a3f5f",
             "gridcolor": "#C8D4E3",
             "linecolor": "#C8D4E3",
             "minorgridcolor": "#C8D4E3",
             "startlinecolor": "#2a3f5f"
            },
            "type": "carpet"
           }
          ],
          "choropleth": [
           {
            "colorbar": {
             "outlinewidth": 0,
             "ticks": ""
            },
            "type": "choropleth"
           }
          ],
          "contour": [
           {
            "colorbar": {
             "outlinewidth": 0,
             "ticks": ""
            },
            "colorscale": [
             [
              0,
              "#0d0887"
             ],
             [
              0.1111111111111111,
              "#46039f"
             ],
             [
              0.2222222222222222,
              "#7201a8"
             ],
             [
              0.3333333333333333,
              "#9c179e"
             ],
             [
              0.4444444444444444,
              "#bd3786"
             ],
             [
              0.5555555555555556,
              "#d8576b"
             ],
             [
              0.6666666666666666,
              "#ed7953"
             ],
             [
              0.7777777777777778,
              "#fb9f3a"
             ],
             [
              0.8888888888888888,
              "#fdca26"
             ],
             [
              1,
              "#f0f921"
             ]
            ],
            "type": "contour"
           }
          ],
          "contourcarpet": [
           {
            "colorbar": {
             "outlinewidth": 0,
             "ticks": ""
            },
            "type": "contourcarpet"
           }
          ],
          "heatmap": [
           {
            "colorbar": {
             "outlinewidth": 0,
             "ticks": ""
            },
            "colorscale": [
             [
              0,
              "#0d0887"
             ],
             [
              0.1111111111111111,
              "#46039f"
             ],
             [
              0.2222222222222222,
              "#7201a8"
             ],
             [
              0.3333333333333333,
              "#9c179e"
             ],
             [
              0.4444444444444444,
              "#bd3786"
             ],
             [
              0.5555555555555556,
              "#d8576b"
             ],
             [
              0.6666666666666666,
              "#ed7953"
             ],
             [
              0.7777777777777778,
              "#fb9f3a"
             ],
             [
              0.8888888888888888,
              "#fdca26"
             ],
             [
              1,
              "#f0f921"
             ]
            ],
            "type": "heatmap"
           }
          ],
          "heatmapgl": [
           {
            "colorbar": {
             "outlinewidth": 0,
             "ticks": ""
            },
            "colorscale": [
             [
              0,
              "#0d0887"
             ],
             [
              0.1111111111111111,
              "#46039f"
             ],
             [
              0.2222222222222222,
              "#7201a8"
             ],
             [
              0.3333333333333333,
              "#9c179e"
             ],
             [
              0.4444444444444444,
              "#bd3786"
             ],
             [
              0.5555555555555556,
              "#d8576b"
             ],
             [
              0.6666666666666666,
              "#ed7953"
             ],
             [
              0.7777777777777778,
              "#fb9f3a"
             ],
             [
              0.8888888888888888,
              "#fdca26"
             ],
             [
              1,
              "#f0f921"
             ]
            ],
            "type": "heatmapgl"
           }
          ],
          "histogram": [
           {
            "marker": {
             "colorbar": {
              "outlinewidth": 0,
              "ticks": ""
             }
            },
            "type": "histogram"
           }
          ],
          "histogram2d": [
           {
            "colorbar": {
             "outlinewidth": 0,
             "ticks": ""
            },
            "colorscale": [
             [
              0,
              "#0d0887"
             ],
             [
              0.1111111111111111,
              "#46039f"
             ],
             [
              0.2222222222222222,
              "#7201a8"
             ],
             [
              0.3333333333333333,
              "#9c179e"
             ],
             [
              0.4444444444444444,
              "#bd3786"
             ],
             [
              0.5555555555555556,
              "#d8576b"
             ],
             [
              0.6666666666666666,
              "#ed7953"
             ],
             [
              0.7777777777777778,
              "#fb9f3a"
             ],
             [
              0.8888888888888888,
              "#fdca26"
             ],
             [
              1,
              "#f0f921"
             ]
            ],
            "type": "histogram2d"
           }
          ],
          "histogram2dcontour": [
           {
            "colorbar": {
             "outlinewidth": 0,
             "ticks": ""
            },
            "colorscale": [
             [
              0,
              "#0d0887"
             ],
             [
              0.1111111111111111,
              "#46039f"
             ],
             [
              0.2222222222222222,
              "#7201a8"
             ],
             [
              0.3333333333333333,
              "#9c179e"
             ],
             [
              0.4444444444444444,
              "#bd3786"
             ],
             [
              0.5555555555555556,
              "#d8576b"
             ],
             [
              0.6666666666666666,
              "#ed7953"
             ],
             [
              0.7777777777777778,
              "#fb9f3a"
             ],
             [
              0.8888888888888888,
              "#fdca26"
             ],
             [
              1,
              "#f0f921"
             ]
            ],
            "type": "histogram2dcontour"
           }
          ],
          "mesh3d": [
           {
            "colorbar": {
             "outlinewidth": 0,
             "ticks": ""
            },
            "type": "mesh3d"
           }
          ],
          "parcoords": [
           {
            "line": {
             "colorbar": {
              "outlinewidth": 0,
              "ticks": ""
             }
            },
            "type": "parcoords"
           }
          ],
          "pie": [
           {
            "automargin": true,
            "type": "pie"
           }
          ],
          "scatter": [
           {
            "marker": {
             "colorbar": {
              "outlinewidth": 0,
              "ticks": ""
             }
            },
            "type": "scatter"
           }
          ],
          "scatter3d": [
           {
            "line": {
             "colorbar": {
              "outlinewidth": 0,
              "ticks": ""
             }
            },
            "marker": {
             "colorbar": {
              "outlinewidth": 0,
              "ticks": ""
             }
            },
            "type": "scatter3d"
           }
          ],
          "scattercarpet": [
           {
            "marker": {
             "colorbar": {
              "outlinewidth": 0,
              "ticks": ""
             }
            },
            "type": "scattercarpet"
           }
          ],
          "scattergeo": [
           {
            "marker": {
             "colorbar": {
              "outlinewidth": 0,
              "ticks": ""
             }
            },
            "type": "scattergeo"
           }
          ],
          "scattergl": [
           {
            "marker": {
             "colorbar": {
              "outlinewidth": 0,
              "ticks": ""
             }
            },
            "type": "scattergl"
           }
          ],
          "scattermapbox": [
           {
            "marker": {
             "colorbar": {
              "outlinewidth": 0,
              "ticks": ""
             }
            },
            "type": "scattermapbox"
           }
          ],
          "scatterpolar": [
           {
            "marker": {
             "colorbar": {
              "outlinewidth": 0,
              "ticks": ""
             }
            },
            "type": "scatterpolar"
           }
          ],
          "scatterpolargl": [
           {
            "marker": {
             "colorbar": {
              "outlinewidth": 0,
              "ticks": ""
             }
            },
            "type": "scatterpolargl"
           }
          ],
          "scatterternary": [
           {
            "marker": {
             "colorbar": {
              "outlinewidth": 0,
              "ticks": ""
             }
            },
            "type": "scatterternary"
           }
          ],
          "surface": [
           {
            "colorbar": {
             "outlinewidth": 0,
             "ticks": ""
            },
            "colorscale": [
             [
              0,
              "#0d0887"
             ],
             [
              0.1111111111111111,
              "#46039f"
             ],
             [
              0.2222222222222222,
              "#7201a8"
             ],
             [
              0.3333333333333333,
              "#9c179e"
             ],
             [
              0.4444444444444444,
              "#bd3786"
             ],
             [
              0.5555555555555556,
              "#d8576b"
             ],
             [
              0.6666666666666666,
              "#ed7953"
             ],
             [
              0.7777777777777778,
              "#fb9f3a"
             ],
             [
              0.8888888888888888,
              "#fdca26"
             ],
             [
              1,
              "#f0f921"
             ]
            ],
            "type": "surface"
           }
          ],
          "table": [
           {
            "cells": {
             "fill": {
              "color": "#EBF0F8"
             },
             "line": {
              "color": "white"
             }
            },
            "header": {
             "fill": {
              "color": "#C8D4E3"
             },
             "line": {
              "color": "white"
             }
            },
            "type": "table"
           }
          ]
         },
         "layout": {
          "annotationdefaults": {
           "arrowcolor": "#2a3f5f",
           "arrowhead": 0,
           "arrowwidth": 1
          },
          "coloraxis": {
           "colorbar": {
            "outlinewidth": 0,
            "ticks": ""
           }
          },
          "colorscale": {
           "diverging": [
            [
             0,
             "#8e0152"
            ],
            [
             0.1,
             "#c51b7d"
            ],
            [
             0.2,
             "#de77ae"
            ],
            [
             0.3,
             "#f1b6da"
            ],
            [
             0.4,
             "#fde0ef"
            ],
            [
             0.5,
             "#f7f7f7"
            ],
            [
             0.6,
             "#e6f5d0"
            ],
            [
             0.7,
             "#b8e186"
            ],
            [
             0.8,
             "#7fbc41"
            ],
            [
             0.9,
             "#4d9221"
            ],
            [
             1,
             "#276419"
            ]
           ],
           "sequential": [
            [
             0,
             "#0d0887"
            ],
            [
             0.1111111111111111,
             "#46039f"
            ],
            [
             0.2222222222222222,
             "#7201a8"
            ],
            [
             0.3333333333333333,
             "#9c179e"
            ],
            [
             0.4444444444444444,
             "#bd3786"
            ],
            [
             0.5555555555555556,
             "#d8576b"
            ],
            [
             0.6666666666666666,
             "#ed7953"
            ],
            [
             0.7777777777777778,
             "#fb9f3a"
            ],
            [
             0.8888888888888888,
             "#fdca26"
            ],
            [
             1,
             "#f0f921"
            ]
           ],
           "sequentialminus": [
            [
             0,
             "#0d0887"
            ],
            [
             0.1111111111111111,
             "#46039f"
            ],
            [
             0.2222222222222222,
             "#7201a8"
            ],
            [
             0.3333333333333333,
             "#9c179e"
            ],
            [
             0.4444444444444444,
             "#bd3786"
            ],
            [
             0.5555555555555556,
             "#d8576b"
            ],
            [
             0.6666666666666666,
             "#ed7953"
            ],
            [
             0.7777777777777778,
             "#fb9f3a"
            ],
            [
             0.8888888888888888,
             "#fdca26"
            ],
            [
             1,
             "#f0f921"
            ]
           ]
          },
          "colorway": [
           "#636efa",
           "#EF553B",
           "#00cc96",
           "#ab63fa",
           "#FFA15A",
           "#19d3f3",
           "#FF6692",
           "#B6E880",
           "#FF97FF",
           "#FECB52"
          ],
          "font": {
           "color": "#2a3f5f"
          },
          "geo": {
           "bgcolor": "white",
           "lakecolor": "white",
           "landcolor": "white",
           "showlakes": true,
           "showland": true,
           "subunitcolor": "#C8D4E3"
          },
          "hoverlabel": {
           "align": "left"
          },
          "hovermode": "closest",
          "mapbox": {
           "style": "light"
          },
          "paper_bgcolor": "white",
          "plot_bgcolor": "white",
          "polar": {
           "angularaxis": {
            "gridcolor": "#EBF0F8",
            "linecolor": "#EBF0F8",
            "ticks": ""
           },
           "bgcolor": "white",
           "radialaxis": {
            "gridcolor": "#EBF0F8",
            "linecolor": "#EBF0F8",
            "ticks": ""
           }
          },
          "scene": {
           "xaxis": {
            "backgroundcolor": "white",
            "gridcolor": "#DFE8F3",
            "gridwidth": 2,
            "linecolor": "#EBF0F8",
            "showbackground": true,
            "ticks": "",
            "zerolinecolor": "#EBF0F8"
           },
           "yaxis": {
            "backgroundcolor": "white",
            "gridcolor": "#DFE8F3",
            "gridwidth": 2,
            "linecolor": "#EBF0F8",
            "showbackground": true,
            "ticks": "",
            "zerolinecolor": "#EBF0F8"
           },
           "zaxis": {
            "backgroundcolor": "white",
            "gridcolor": "#DFE8F3",
            "gridwidth": 2,
            "linecolor": "#EBF0F8",
            "showbackground": true,
            "ticks": "",
            "zerolinecolor": "#EBF0F8"
           }
          },
          "shapedefaults": {
           "line": {
            "color": "#2a3f5f"
           }
          },
          "ternary": {
           "aaxis": {
            "gridcolor": "#DFE8F3",
            "linecolor": "#A2B1C6",
            "ticks": ""
           },
           "baxis": {
            "gridcolor": "#DFE8F3",
            "linecolor": "#A2B1C6",
            "ticks": ""
           },
           "bgcolor": "white",
           "caxis": {
            "gridcolor": "#DFE8F3",
            "linecolor": "#A2B1C6",
            "ticks": ""
           }
          },
          "title": {
           "x": 0.05
          },
          "xaxis": {
           "automargin": true,
           "gridcolor": "#EBF0F8",
           "linecolor": "#EBF0F8",
           "ticks": "",
           "title": {
            "standoff": 15
           },
           "zerolinecolor": "#EBF0F8",
           "zerolinewidth": 2
          },
          "yaxis": {
           "automargin": true,
           "gridcolor": "#EBF0F8",
           "linecolor": "#EBF0F8",
           "ticks": "",
           "title": {
            "standoff": 15
           },
           "zerolinecolor": "#EBF0F8",
           "zerolinewidth": 2
          }
         }
        },
        "title": {
         "text": "Petal Width Distribution By Class (h = 0.1)"
        }
       }
      },
      "text/html": [
       "<div>\n",
       "        \n",
       "        \n",
       "            <div id=\"edcbba15-bb65-4361-9452-c7fa9e67c6ef\" class=\"plotly-graph-div\" style=\"height:525px; width:100%;\"></div>\n",
       "            <script type=\"text/javascript\">\n",
       "                require([\"plotly\"], function(Plotly) {\n",
       "                    window.PLOTLYENV=window.PLOTLYENV || {};\n",
       "                    \n",
       "                if (document.getElementById(\"edcbba15-bb65-4361-9452-c7fa9e67c6ef\")) {\n",
       "                    Plotly.newPlot(\n",
       "                        'edcbba15-bb65-4361-9452-c7fa9e67c6ef',\n",
       "                        [{\"line\": {\"color\": \"#e41a1c\"}, \"name\": \"setosa density\", \"type\": \"scatter\", \"x\": [-1.0, -0.9595959595959596, -0.9191919191919192, -0.8787878787878788, -0.8383838383838383, -0.797979797979798, -0.7575757575757576, -0.7171717171717171, -0.6767676767676767, -0.6363636363636364, -0.5959595959595959, -0.5555555555555556, -0.5151515151515151, -0.4747474747474747, -0.43434343434343425, -0.3939393939393939, -0.3535353535353535, -0.31313131313131304, -0.2727272727272727, -0.23232323232323226, -0.19191919191919182, -0.1515151515151515, -0.11111111111111105, -0.07070707070707061, -0.030303030303030276, 0.010101010101010166, 0.05050505050505061, 0.09090909090909105, 0.1313131313131315, 0.1717171717171717, 0.21212121212121215, 0.2525252525252526, 0.29292929292929304, 0.3333333333333335, 0.3737373737373739, 0.41414141414141437, 0.4545454545454546, 0.49494949494949503, 0.5353535353535355, 0.5757575757575759, 0.6161616161616164, 0.6565656565656568, 0.696969696969697, 0.7373737373737375, 0.7777777777777779, 0.8181818181818183, 0.8585858585858588, 0.8989898989898992, 0.9393939393939394, 0.9797979797979799, 1.0202020202020203, 1.060606060606061, 1.1010101010101012, 1.1414141414141414, 1.181818181818182, 1.2222222222222223, 1.262626262626263, 1.3030303030303032, 1.3434343434343434, 1.383838383838384, 1.4242424242424243, 1.464646464646465, 1.5050505050505052, 1.5454545454545459, 1.585858585858586, 1.6262626262626263, 1.666666666666667, 1.7070707070707072, 1.7474747474747478, 1.787878787878788, 1.8282828282828287, 1.868686868686869, 1.9090909090909092, 1.9494949494949498, 1.98989898989899, 2.0303030303030307, 2.070707070707071, 2.111111111111111, 2.151515151515152, 2.191919191919192, 2.2323232323232327, 2.272727272727273, 2.3131313131313136, 2.353535353535354, 2.393939393939394, 2.4343434343434347, 2.474747474747475, 2.5151515151515156, 2.555555555555556, 2.5959595959595965, 2.6363636363636367, 2.676767676767677, 2.7171717171717176, 2.757575757575758, 2.7979797979797985, 2.8383838383838387, 2.878787878787879, 2.9191919191919196, 2.95959595959596, 3.0], \"y\": [2.118943743878006e-27, 1.662956287654551e-25, 1.1085379794451404e-23, 6.276706256957949e-22, 3.0187644703544636e-20, 1.2332465540497719e-18, 4.27961216457333e-17, 1.261561867316516e-15, 3.159264544218766e-14, 6.721591560922085e-13, 1.2151217635971815e-11, 1.8668435860073497e-10, 2.4381141533456913e-09, 2.7079003184286346e-08, 2.559187302350313e-07, 2.0598797795140567e-06, 1.4138558441655199e-05, 8.2906128988671e-05, 0.00041639539671490443, 0.0017976046937978859, 0.006701282885315269, 0.021695454486133435, 0.06139201635032349, 0.15280798966617343, 0.3362899028916147, 0.6562674384088335, 1.1359538724629197, 1.7409699545472426, 2.357329297645184, 2.8185419366325446, 2.9862508066402027, 2.8315626243811307, 2.4465677980431355, 1.975218673679262, 1.5282424957684986, 1.1500254093576308, 0.8415704318777759, 0.5950422936239559, 0.406568358579464, 0.27101728893268723, 0.1775650414331731, 0.11323359285956643, 0.0683411846024117, 0.03775096172721981, 0.018565613307742507, 0.00797843682180066, 0.0029620574196013534, 0.000943660304222775, 0.0002569627689378042, 5.966727021139446e-05, 1.1797571361167001e-05, 1.984511224268454e-06, 2.838406145038775e-07, 3.4506297528786215e-08, 3.564698621577845e-09, 3.1288222541486364e-10, 2.333073362843853e-11, 1.4778694564283811e-12, 7.952148945096923e-14, 3.634634761133296e-15, 1.4110950941448626e-16, 4.653345422129194e-18, 1.3034188049966223e-19, 3.1010573905870647e-21, 6.266731012314165e-23, 1.0756639085632694e-24, 1.5682513697447394e-26, 1.942038266261714e-28, 2.042690560343921e-30, 1.8249452789982723e-32, 1.384839449582751e-34, 8.925883651051638e-37, 4.8865816977642286e-39, 2.2722766700591033e-41, 8.974687348464994e-44, 3.0107833072896233e-46, 8.579099618014395e-49, 2.0763757725848495e-51, 4.268469866034107e-54, 7.453161084102839e-57, 1.1053779926874783e-59, 1.3924613083581863e-62, 1.4899012155088394e-65, 1.3540472733648055e-68, 1.0452307875581532e-71, 6.853186862750658e-75, 3.8165852478731574e-78, 1.8053415358845098e-81, 7.25346958322371e-85, 2.475336395056298e-88, 7.175045732377273e-92, 1.7665141995515606e-95, 3.694125154064818e-99, 6.561574891565027e-103, 9.899347922241572e-107, 1.2685485678193286e-110, 1.3807327413296674e-114, 1.2764804285402113e-118, 1.002353036645852e-122, 6.685428883742374e-127]}, {\"marker\": {\"color\": \"#ffffff\", \"line\": {\"color\": \"#e41a1c\", \"width\": 1}}, \"mode\": \"markers\", \"name\": \"setosa data\", \"opacity\": 0.7, \"type\": \"scatter\", \"x\": [0.2, 0.2, 0.2, 0.2, 0.2, 0.4, 0.3, 0.2, 0.2, 0.1, 0.2, 0.2, 0.1, 0.1, 0.2, 0.4, 0.4, 0.3, 0.3, 0.3, 0.2, 0.4, 0.2, 0.5, 0.2, 0.2, 0.4, 0.2, 0.2, 0.2, 0.2, 0.4, 0.1, 0.2, 0.2, 0.2, 0.2, 0.1, 0.2, 0.2, 0.3, 0.3, 0.2, 0.6, 0.4, 0.3, 0.2, 0.2, 0.2, 0.2], \"y\": [0.04301705017087383, 0.014334424968908827, 0.021077443912457236, -0.03681721235580196, 0.033333159615699506, 0.041314174072442394, -0.005073599571301192, 0.04303703246904521, 0.04693193200245642, -0.01856447068681897, -0.009330400338571944, -0.029459581793762225, -0.03143144654081551, -0.037980930292006755, -0.01128374650153411, -0.048135040130757034, 0.04180734443099013, -0.04354040977296793, 0.013689447060791685, -0.04478286498300324, -0.021704811704775784, -0.00408458606886207, 0.014038896361504113, -0.022471657568221726, 0.009560085366041207, -0.0194996968865651, -0.007615759465580449, 0.04106356189910486, 0.023882858495088227, -0.03000490676119959, 0.04924050697798567, -0.02117212218294211, 0.012843711530468122, -0.038212993705037814, -0.004986276760116447, 0.035301323096908685, -0.02870744966197345, 0.00822355377252789, 0.030154916923275404, -0.027431518004572965, 0.011212783022039152, 0.04028182172010561, 0.014568777485599232, -0.04410114260596318, 0.01226015496473929, 0.0010248573545231093, -0.043368103626843894, 0.00268410061183616, -0.02178762012301241, 0.016803743430136006]}, {\"line\": {\"color\": \"#377eb8\"}, \"name\": \"versicolor density\", \"type\": \"scatter\", \"x\": [-1.0, -0.9595959595959596, -0.9191919191919192, -0.8787878787878788, -0.8383838383838383, -0.797979797979798, -0.7575757575757576, -0.7171717171717171, -0.6767676767676767, -0.6363636363636364, -0.5959595959595959, -0.5555555555555556, -0.5151515151515151, -0.4747474747474747, -0.43434343434343425, -0.3939393939393939, -0.3535353535353535, -0.31313131313131304, -0.2727272727272727, -0.23232323232323226, -0.19191919191919182, -0.1515151515151515, -0.11111111111111105, -0.07070707070707061, -0.030303030303030276, 0.010101010101010166, 0.05050505050505061, 0.09090909090909105, 0.1313131313131315, 0.1717171717171717, 0.21212121212121215, 0.2525252525252526, 0.29292929292929304, 0.3333333333333335, 0.3737373737373739, 0.41414141414141437, 0.4545454545454546, 0.49494949494949503, 0.5353535353535355, 0.5757575757575759, 0.6161616161616164, 0.6565656565656568, 0.696969696969697, 0.7373737373737375, 0.7777777777777779, 0.8181818181818183, 0.8585858585858588, 0.8989898989898992, 0.9393939393939394, 0.9797979797979799, 1.0202020202020203, 1.060606060606061, 1.1010101010101012, 1.1414141414141414, 1.181818181818182, 1.2222222222222223, 1.262626262626263, 1.3030303030303032, 1.3434343434343434, 1.383838383838384, 1.4242424242424243, 1.464646464646465, 1.5050505050505052, 1.5454545454545459, 1.585858585858586, 1.6262626262626263, 1.666666666666667, 1.7070707070707072, 1.7474747474747478, 1.787878787878788, 1.8282828282828287, 1.868686868686869, 1.9090909090909092, 1.9494949494949498, 1.98989898989899, 2.0303030303030307, 2.070707070707071, 2.111111111111111, 2.151515151515152, 2.191919191919192, 2.2323232323232327, 2.272727272727273, 2.3131313131313136, 2.353535353535354, 2.393939393939394, 2.4343434343434347, 2.474747474747475, 2.5151515151515156, 2.555555555555556, 2.5959595959595965, 2.6363636363636367, 2.676767676767677, 2.7171717171717176, 2.757575757575758, 2.7979797979797985, 2.8383838383838387, 2.878787878787879, 2.9191919191919196, 2.95959595959596, 3.0], \"y\": [7.729327711165107e-88, 2.302200195640108e-84, 5.824336588376162e-81, 1.251560523823327e-77, 2.2843321961756455e-74, 3.5413485922412036e-71, 4.663157772180195e-68, 5.215471227396356e-65, 4.954604716757234e-62, 3.997849892553401e-59, 2.7399710229161135e-56, 1.5950249148913434e-53, 7.886621328489765e-51, 3.3121997834302925e-48, 1.1815281692085214e-45, 3.579922789525386e-43, 9.213089058196053e-41, 2.013904703494862e-38, 3.739164855375409e-36, 5.896745420417242e-34, 7.898638536903875e-32, 8.9865757315607e-30, 8.68437236432397e-28, 7.128282895247404e-26, 4.9697420579634874e-24, 2.9429671142613256e-22, 1.4802665360130087e-20, 6.32408723291256e-19, 2.2948795755936156e-17, 7.073382055839442e-16, 1.8518298024539866e-14, 4.1179788533775676e-13, 7.778211906461132e-12, 1.2479389164425988e-10, 1.7007195490517821e-09, 1.9688370428515083e-08, 1.9361649193439644e-07, 1.617547998781311e-06, 1.1481389942126244e-05, 6.924920015669114e-05, 0.0003549845592944835, 0.0015470953874281445, 0.005735202356082315, 0.018097923186476322, 0.048669967910040385, 0.11174841100389284, 0.2197111622733703, 0.3717179109203947, 0.5456624972108944, 0.705025553943391, 0.821687592202004, 0.8981975578458765, 0.9690139822007976, 1.0771976549262796, 1.2433419909280454, 1.4484791132166195, 1.642623374556726, 1.7741913728069747, 1.8196246324684062, 1.789471473948263, 1.707117634173826, 1.583596773587802, 1.4146002447063921, 1.1991073874940439, 0.9555111000931622, 0.7175317927592454, 0.5161122971521912, 0.36511027810178576, 0.2601874448823601, 0.18738105472957894, 0.1330852285806084, 0.0896338402177413, 0.05517505931209777, 0.030216127563471508, 0.014466946010499788, 0.005990564255280282, 0.002131248919463826, 0.0006487743784331691, 0.00016854858994957826, 3.730892240238189e-05, 7.029003117003287e-06, 1.1263315004609952e-06, 1.534375697042696e-07, 1.776474922402222e-08, 1.7476781250333847e-09, 1.4607674822079057e-10, 1.0372408090427725e-11, 6.256498864656617e-13, 3.2056740316941464e-14, 1.3951862431648912e-15, 5.157773404273693e-17, 1.6195878609287494e-18, 4.3197197141374985e-20, 9.786179292765956e-22, 1.8831105045257276e-23, 3.077814747351092e-25, 4.27279943633604e-27, 5.03831657361886e-29, 5.046159927603437e-31, 4.292783469047493e-33]}, {\"marker\": {\"color\": \"#ffffff\", \"line\": {\"color\": \"#377eb8\", \"width\": 1}}, \"mode\": \"markers\", \"name\": \"versicolor data\", \"opacity\": 0.7, \"type\": \"scatter\", \"x\": [1.4, 1.5, 1.5, 1.3, 1.5, 1.3, 1.6, 1.0, 1.3, 1.4, 1.0, 1.5, 1.0, 1.4, 1.3, 1.4, 1.5, 1.0, 1.5, 1.1, 1.8, 1.3, 1.5, 1.2, 1.3, 1.4, 1.4, 1.7, 1.5, 1.0, 1.1, 1.0, 1.2, 1.6, 1.5, 1.6, 1.5, 1.3, 1.3, 1.3, 1.2, 1.4, 1.2, 1.0, 1.3, 1.2, 1.3, 1.3, 1.1, 1.3], \"y\": [0.03117772222935851, -0.04214872097261249, -0.011735442260577843, 0.04380521152470855, -0.02297145045261767, 0.03799681593813502, 0.030936138285380707, -0.04872651160931192, 0.04596918890123375, -0.023548247057843575, 0.01390207204388308, 0.04274061076622175, -0.013757205623022788, -0.0056235093984033716, -0.04675223469981628, -0.03480241474435354, 0.016194070048954942, 0.006400773512729288, 0.008503465198841743, -0.022561915655503896, -0.04833510721031473, 0.02013114312547573, -0.007621156561107192, -0.009082511530999773, -0.029349638318451245, 0.019959332190521692, 0.021385180692436348, -0.008257929621979895, -0.037422185112670016, -0.032987752344084076, 0.0404035846041238, 0.04177690277145481, 0.009176218351994073, -0.008876430547792843, 0.03370333989803352, 0.010969875326583098, -0.03601246296493685, 0.025822465864412406, 0.012455662416752666, 0.01410902211514578, 0.042304058761617414, -0.020283413225964986, 0.02653598311597785, -0.00555604991260792, -0.011914978702177337, 0.008839460498257456, -0.042196022388237636, -0.04395635826250195, 0.04725877937384684, -0.004247194604603176]}, {\"line\": {\"color\": \"#4daf4a\"}, \"name\": \"virginica density\", \"type\": \"scatter\", \"x\": [-1.0, -0.9595959595959596, -0.9191919191919192, -0.8787878787878788, -0.8383838383838383, -0.797979797979798, -0.7575757575757576, -0.7171717171717171, -0.6767676767676767, -0.6363636363636364, -0.5959595959595959, -0.5555555555555556, -0.5151515151515151, -0.4747474747474747, -0.43434343434343425, -0.3939393939393939, -0.3535353535353535, -0.31313131313131304, -0.2727272727272727, -0.23232323232323226, -0.19191919191919182, -0.1515151515151515, -0.11111111111111105, -0.07070707070707061, -0.030303030303030276, 0.010101010101010166, 0.05050505050505061, 0.09090909090909105, 0.1313131313131315, 0.1717171717171717, 0.21212121212121215, 0.2525252525252526, 0.29292929292929304, 0.3333333333333335, 0.3737373737373739, 0.41414141414141437, 0.4545454545454546, 0.49494949494949503, 0.5353535353535355, 0.5757575757575759, 0.6161616161616164, 0.6565656565656568, 0.696969696969697, 0.7373737373737375, 0.7777777777777779, 0.8181818181818183, 0.8585858585858588, 0.8989898989898992, 0.9393939393939394, 0.9797979797979799, 1.0202020202020203, 1.060606060606061, 1.1010101010101012, 1.1414141414141414, 1.181818181818182, 1.2222222222222223, 1.262626262626263, 1.3030303030303032, 1.3434343434343434, 1.383838383838384, 1.4242424242424243, 1.464646464646465, 1.5050505050505052, 1.5454545454545459, 1.585858585858586, 1.6262626262626263, 1.666666666666667, 1.7070707070707072, 1.7474747474747478, 1.787878787878788, 1.8282828282828287, 1.868686868686869, 1.9090909090909092, 1.9494949494949498, 1.98989898989899, 2.0303030303030307, 2.070707070707071, 2.111111111111111, 2.151515151515152, 2.191919191919192, 2.2323232323232327, 2.272727272727273, 2.3131313131313136, 2.353535353535354, 2.393939393939394, 2.4343434343434347, 2.474747474747475, 2.5151515151515156, 2.555555555555556, 2.5959595959595965, 2.6363636363636367, 2.676767676767677, 2.7171717171717176, 2.757575757575758, 2.7979797979797985, 2.8383838383838387, 2.878787878787879, 2.9191919191919196, 2.95959595959596, 3.0], \"y\": [6.685428883895453e-127, 1.0023530366802297e-122, 1.2764804286058598e-118, 1.3807327414359133e-114, 1.2685485679656486e-110, 9.899347923951464e-107, 6.561574893262378e-103, 3.694125155496122e-99, 1.766514200576463e-95, 7.175045738613258e-92, 2.4753363982786508e-88, 7.253469597366498e-85, 1.805341541157142e-81, 3.816585264569007e-78, 6.853186907656262e-75, 1.0452307978166835e-71, 1.3540472932707051e-68, 1.4899012483166405e-65, 1.39246135428585e-62, 1.1053780472977428e-59, 7.453161635641601e-57, 4.268470339164028e-54, 2.076376117320589e-51, 8.579101751523962e-49, 3.0107844288035494e-46, 8.974692355916199e-44, 2.2722785690843335e-41, 4.886587814878705e-39, 8.925900387539182e-37, 1.384843338992845e-34, 1.8249529562312457e-32, 2.0427034317815967e-30, 1.9420565957527e-28, 1.5682735401825498e-26, 1.0756866856357292e-24, 6.266929768288546e-23, 3.101204703039722e-21, 1.3035115420308586e-19, 4.653841280518708e-18, 1.4113202831707128e-16, 3.635503348368836e-15, 7.954994347482627e-14, 1.4786610805538858e-12, 2.3349436617073447e-11, 3.1325743764493194e-10, 3.571089386046737e-09, 3.4598691135882516e-08, 2.849740545440083e-07, 1.9963036135354135e-06, 1.1901543029934484e-05, 6.044319657701124e-05, 0.00026185505429916436, 0.0009696443612883103, 0.0030777500339669033, 0.008406689775925272, 0.019863440751000837, 0.04086904654562559, 0.07379967615567731, 0.1179724582780311, 0.1684351603113128, 0.2168148037781811, 0.2547801459675182, 0.27958900536615533, 0.29969199277021225, 0.3367455606761001, 0.4198584191511845, 0.570371293199418, 0.7827050452070549, 1.015789686154806, 1.2086837186918853, 1.3151935503770409, 1.3308403454204665, 1.2889053326829474, 1.2312070457626614, 1.1812195516869308, 1.1394679502787743, 1.097885138627708, 1.0562196982628402, 1.0261137708942156, 1.0197874370187283, 1.0335423798264138, 1.0430433097468461, 1.0179811527694655, 0.94368465803498, 0.8289833483820501, 0.6946975296159351, 0.5574601955184122, 0.42481024488338387, 0.3013385824984967, 0.19423220624381127, 0.11136565433319687, 0.055908835858713805, 0.024314019939665595, 0.00909613031356904, 0.0029143481203370695, 0.0007973832288957164, 0.00018596467959152436, 3.692401666253832e-05, 6.236776201070705e-06, 8.956918571357238e-07]}, {\"marker\": {\"color\": \"#ffffff\", \"line\": {\"color\": \"#4daf4a\", \"width\": 1}}, \"mode\": \"markers\", \"name\": \"virginica data\", \"opacity\": 0.7, \"type\": \"scatter\", \"x\": [2.5, 1.9, 2.1, 1.8, 2.2, 2.1, 1.7, 1.8, 1.8, 2.5, 2.0, 1.9, 2.1, 2.0, 2.4, 2.3, 1.8, 2.2, 2.3, 1.5, 2.3, 2.0, 2.0, 1.8, 2.1, 1.8, 1.8, 1.8, 2.1, 1.6, 1.9, 2.0, 2.2, 1.5, 1.4, 2.3, 2.4, 1.8, 1.8, 2.1, 2.4, 2.3, 1.9, 2.3, 2.5, 2.3, 1.9, 2.0, 2.3, 1.8], \"y\": [0.029770218221551667, 0.011843802597224083, -0.003338486186019972, -0.022532090635706173, -0.010946254247307476, 0.046676399636444224, 0.04111125052305624, 0.04437257221816615, 0.005670592687411366, 0.02742855160780598, -0.0071881753967205225, 0.010406801021683308, 0.03147214341840282, -0.03141311454249876, 0.0080294175615971, 0.028007788183593105, -0.03725037160081615, -0.04597134381099294, 0.00499471794115882, -0.013568222989045246, 0.030075512067211277, 0.026447942354030016, -0.015438596188035905, 0.00880033360362141, -0.017187081421294083, 0.0353156861466848, -0.038078047374214254, 0.031626703568060036, -0.011076572639799151, 0.04648781667694096, -0.016247058741179612, 0.045264866931286674, 0.03173931063893998, -0.02990047126389285, -0.0030618012587631943, 0.04225659629165751, 0.04589571997380709, 0.0463545905749853, 0.03730563323550157, 0.04638388754654692, -0.009411567286396083, 0.042906922674258205, 0.041373105217968026, -0.011614029007115709, -0.028296981485508844, -0.008262676339013973, -0.02118090326006491, -0.033010628817944566, -0.019696899586601226, -0.030045832069710267]}],\n",
       "                        {\"template\": {\"data\": {\"bar\": [{\"error_x\": {\"color\": \"#2a3f5f\"}, \"error_y\": {\"color\": \"#2a3f5f\"}, \"marker\": {\"line\": {\"color\": \"white\", \"width\": 0.5}}, \"type\": \"bar\"}], \"barpolar\": [{\"marker\": {\"line\": {\"color\": \"white\", \"width\": 0.5}}, \"type\": \"barpolar\"}], \"carpet\": [{\"aaxis\": {\"endlinecolor\": \"#2a3f5f\", \"gridcolor\": \"#C8D4E3\", \"linecolor\": \"#C8D4E3\", \"minorgridcolor\": \"#C8D4E3\", \"startlinecolor\": \"#2a3f5f\"}, \"baxis\": {\"endlinecolor\": \"#2a3f5f\", \"gridcolor\": \"#C8D4E3\", \"linecolor\": \"#C8D4E3\", \"minorgridcolor\": \"#C8D4E3\", \"startlinecolor\": \"#2a3f5f\"}, \"type\": \"carpet\"}], \"choropleth\": [{\"colorbar\": {\"outlinewidth\": 0, \"ticks\": \"\"}, \"type\": \"choropleth\"}], \"contour\": [{\"colorbar\": {\"outlinewidth\": 0, \"ticks\": \"\"}, \"colorscale\": [[0.0, \"#0d0887\"], [0.1111111111111111, \"#46039f\"], [0.2222222222222222, \"#7201a8\"], [0.3333333333333333, \"#9c179e\"], [0.4444444444444444, \"#bd3786\"], [0.5555555555555556, \"#d8576b\"], [0.6666666666666666, \"#ed7953\"], [0.7777777777777778, \"#fb9f3a\"], [0.8888888888888888, \"#fdca26\"], [1.0, \"#f0f921\"]], \"type\": \"contour\"}], \"contourcarpet\": [{\"colorbar\": {\"outlinewidth\": 0, \"ticks\": \"\"}, \"type\": \"contourcarpet\"}], \"heatmap\": [{\"colorbar\": {\"outlinewidth\": 0, \"ticks\": \"\"}, \"colorscale\": [[0.0, \"#0d0887\"], [0.1111111111111111, \"#46039f\"], [0.2222222222222222, \"#7201a8\"], [0.3333333333333333, \"#9c179e\"], [0.4444444444444444, \"#bd3786\"], [0.5555555555555556, \"#d8576b\"], [0.6666666666666666, \"#ed7953\"], [0.7777777777777778, \"#fb9f3a\"], [0.8888888888888888, \"#fdca26\"], [1.0, \"#f0f921\"]], \"type\": \"heatmap\"}], \"heatmapgl\": [{\"colorbar\": {\"outlinewidth\": 0, \"ticks\": \"\"}, \"colorscale\": [[0.0, \"#0d0887\"], [0.1111111111111111, \"#46039f\"], [0.2222222222222222, \"#7201a8\"], [0.3333333333333333, \"#9c179e\"], [0.4444444444444444, \"#bd3786\"], [0.5555555555555556, \"#d8576b\"], [0.6666666666666666, \"#ed7953\"], [0.7777777777777778, \"#fb9f3a\"], [0.8888888888888888, \"#fdca26\"], [1.0, \"#f0f921\"]], \"type\": \"heatmapgl\"}], \"histogram\": [{\"marker\": {\"colorbar\": {\"outlinewidth\": 0, \"ticks\": \"\"}}, \"type\": \"histogram\"}], \"histogram2d\": [{\"colorbar\": {\"outlinewidth\": 0, \"ticks\": \"\"}, \"colorscale\": [[0.0, \"#0d0887\"], [0.1111111111111111, \"#46039f\"], [0.2222222222222222, \"#7201a8\"], [0.3333333333333333, \"#9c179e\"], [0.4444444444444444, \"#bd3786\"], [0.5555555555555556, \"#d8576b\"], [0.6666666666666666, \"#ed7953\"], [0.7777777777777778, \"#fb9f3a\"], [0.8888888888888888, \"#fdca26\"], [1.0, \"#f0f921\"]], \"type\": \"histogram2d\"}], \"histogram2dcontour\": [{\"colorbar\": {\"outlinewidth\": 0, \"ticks\": \"\"}, \"colorscale\": [[0.0, \"#0d0887\"], [0.1111111111111111, \"#46039f\"], [0.2222222222222222, \"#7201a8\"], [0.3333333333333333, \"#9c179e\"], [0.4444444444444444, \"#bd3786\"], [0.5555555555555556, \"#d8576b\"], [0.6666666666666666, \"#ed7953\"], [0.7777777777777778, \"#fb9f3a\"], [0.8888888888888888, \"#fdca26\"], [1.0, \"#f0f921\"]], \"type\": \"histogram2dcontour\"}], \"mesh3d\": [{\"colorbar\": {\"outlinewidth\": 0, \"ticks\": \"\"}, \"type\": \"mesh3d\"}], \"parcoords\": [{\"line\": {\"colorbar\": {\"outlinewidth\": 0, \"ticks\": \"\"}}, \"type\": \"parcoords\"}], \"pie\": [{\"automargin\": true, \"type\": \"pie\"}], \"scatter\": [{\"marker\": {\"colorbar\": {\"outlinewidth\": 0, \"ticks\": \"\"}}, \"type\": \"scatter\"}], \"scatter3d\": [{\"line\": {\"colorbar\": {\"outlinewidth\": 0, \"ticks\": \"\"}}, \"marker\": {\"colorbar\": {\"outlinewidth\": 0, \"ticks\": \"\"}}, \"type\": \"scatter3d\"}], \"scattercarpet\": [{\"marker\": {\"colorbar\": {\"outlinewidth\": 0, \"ticks\": \"\"}}, \"type\": \"scattercarpet\"}], \"scattergeo\": [{\"marker\": {\"colorbar\": {\"outlinewidth\": 0, \"ticks\": \"\"}}, \"type\": \"scattergeo\"}], \"scattergl\": [{\"marker\": {\"colorbar\": {\"outlinewidth\": 0, \"ticks\": \"\"}}, \"type\": \"scattergl\"}], \"scattermapbox\": [{\"marker\": {\"colorbar\": {\"outlinewidth\": 0, \"ticks\": \"\"}}, \"type\": \"scattermapbox\"}], \"scatterpolar\": [{\"marker\": {\"colorbar\": {\"outlinewidth\": 0, \"ticks\": \"\"}}, \"type\": \"scatterpolar\"}], \"scatterpolargl\": [{\"marker\": {\"colorbar\": {\"outlinewidth\": 0, \"ticks\": \"\"}}, \"type\": \"scatterpolargl\"}], \"scatterternary\": [{\"marker\": {\"colorbar\": {\"outlinewidth\": 0, \"ticks\": \"\"}}, \"type\": \"scatterternary\"}], \"surface\": [{\"colorbar\": {\"outlinewidth\": 0, \"ticks\": \"\"}, \"colorscale\": [[0.0, \"#0d0887\"], [0.1111111111111111, \"#46039f\"], [0.2222222222222222, \"#7201a8\"], [0.3333333333333333, \"#9c179e\"], [0.4444444444444444, \"#bd3786\"], [0.5555555555555556, \"#d8576b\"], [0.6666666666666666, \"#ed7953\"], [0.7777777777777778, \"#fb9f3a\"], [0.8888888888888888, \"#fdca26\"], [1.0, \"#f0f921\"]], \"type\": \"surface\"}], \"table\": [{\"cells\": {\"fill\": {\"color\": \"#EBF0F8\"}, \"line\": {\"color\": \"white\"}}, \"header\": {\"fill\": {\"color\": \"#C8D4E3\"}, \"line\": {\"color\": \"white\"}}, \"type\": \"table\"}]}, \"layout\": {\"annotationdefaults\": {\"arrowcolor\": \"#2a3f5f\", \"arrowhead\": 0, \"arrowwidth\": 1}, \"coloraxis\": {\"colorbar\": {\"outlinewidth\": 0, \"ticks\": \"\"}}, \"colorscale\": {\"diverging\": [[0, \"#8e0152\"], [0.1, \"#c51b7d\"], [0.2, \"#de77ae\"], [0.3, \"#f1b6da\"], [0.4, \"#fde0ef\"], [0.5, \"#f7f7f7\"], [0.6, \"#e6f5d0\"], [0.7, \"#b8e186\"], [0.8, \"#7fbc41\"], [0.9, \"#4d9221\"], [1, \"#276419\"]], \"sequential\": [[0.0, \"#0d0887\"], [0.1111111111111111, \"#46039f\"], [0.2222222222222222, \"#7201a8\"], [0.3333333333333333, \"#9c179e\"], [0.4444444444444444, \"#bd3786\"], [0.5555555555555556, \"#d8576b\"], [0.6666666666666666, \"#ed7953\"], [0.7777777777777778, \"#fb9f3a\"], [0.8888888888888888, \"#fdca26\"], [1.0, \"#f0f921\"]], \"sequentialminus\": [[0.0, \"#0d0887\"], [0.1111111111111111, \"#46039f\"], [0.2222222222222222, \"#7201a8\"], [0.3333333333333333, \"#9c179e\"], [0.4444444444444444, \"#bd3786\"], [0.5555555555555556, \"#d8576b\"], [0.6666666666666666, \"#ed7953\"], [0.7777777777777778, \"#fb9f3a\"], [0.8888888888888888, \"#fdca26\"], [1.0, \"#f0f921\"]]}, \"colorway\": [\"#636efa\", \"#EF553B\", \"#00cc96\", \"#ab63fa\", \"#FFA15A\", \"#19d3f3\", \"#FF6692\", \"#B6E880\", \"#FF97FF\", \"#FECB52\"], \"font\": {\"color\": \"#2a3f5f\"}, \"geo\": {\"bgcolor\": \"white\", \"lakecolor\": \"white\", \"landcolor\": \"white\", \"showlakes\": true, \"showland\": true, \"subunitcolor\": \"#C8D4E3\"}, \"hoverlabel\": {\"align\": \"left\"}, \"hovermode\": \"closest\", \"mapbox\": {\"style\": \"light\"}, \"paper_bgcolor\": \"white\", \"plot_bgcolor\": \"white\", \"polar\": {\"angularaxis\": {\"gridcolor\": \"#EBF0F8\", \"linecolor\": \"#EBF0F8\", \"ticks\": \"\"}, \"bgcolor\": \"white\", \"radialaxis\": {\"gridcolor\": \"#EBF0F8\", \"linecolor\": \"#EBF0F8\", \"ticks\": \"\"}}, \"scene\": {\"xaxis\": {\"backgroundcolor\": \"white\", \"gridcolor\": \"#DFE8F3\", \"gridwidth\": 2, \"linecolor\": \"#EBF0F8\", \"showbackground\": true, \"ticks\": \"\", \"zerolinecolor\": \"#EBF0F8\"}, \"yaxis\": {\"backgroundcolor\": \"white\", \"gridcolor\": \"#DFE8F3\", \"gridwidth\": 2, \"linecolor\": \"#EBF0F8\", \"showbackground\": true, \"ticks\": \"\", \"zerolinecolor\": \"#EBF0F8\"}, \"zaxis\": {\"backgroundcolor\": \"white\", \"gridcolor\": \"#DFE8F3\", \"gridwidth\": 2, \"linecolor\": \"#EBF0F8\", \"showbackground\": true, \"ticks\": \"\", \"zerolinecolor\": \"#EBF0F8\"}}, \"shapedefaults\": {\"line\": {\"color\": \"#2a3f5f\"}}, \"ternary\": {\"aaxis\": {\"gridcolor\": \"#DFE8F3\", \"linecolor\": \"#A2B1C6\", \"ticks\": \"\"}, \"baxis\": {\"gridcolor\": \"#DFE8F3\", \"linecolor\": \"#A2B1C6\", \"ticks\": \"\"}, \"bgcolor\": \"white\", \"caxis\": {\"gridcolor\": \"#DFE8F3\", \"linecolor\": \"#A2B1C6\", \"ticks\": \"\"}}, \"title\": {\"x\": 0.05}, \"xaxis\": {\"automargin\": true, \"gridcolor\": \"#EBF0F8\", \"linecolor\": \"#EBF0F8\", \"ticks\": \"\", \"title\": {\"standoff\": 15}, \"zerolinecolor\": \"#EBF0F8\", \"zerolinewidth\": 2}, \"yaxis\": {\"automargin\": true, \"gridcolor\": \"#EBF0F8\", \"linecolor\": \"#EBF0F8\", \"ticks\": \"\", \"title\": {\"standoff\": 15}, \"zerolinecolor\": \"#EBF0F8\", \"zerolinewidth\": 2}}}, \"title\": {\"text\": \"Petal Width Distribution By Class (h = 0.1)\"}},\n",
       "                        {\"responsive\": true}\n",
       "                    ).then(function(){\n",
       "                            \n",
       "var gd = document.getElementById('edcbba15-bb65-4361-9452-c7fa9e67c6ef');\n",
       "var x = new MutationObserver(function (mutations, observer) {{\n",
       "        var display = window.getComputedStyle(gd).display;\n",
       "        if (!display || display === 'none') {{\n",
       "            console.log([gd, 'removed!']);\n",
       "            Plotly.purge(gd);\n",
       "            observer.disconnect();\n",
       "        }}\n",
       "}});\n",
       "\n",
       "// Listen for the removal of the full notebook cells\n",
       "var notebookContainer = gd.closest('#notebook-container');\n",
       "if (notebookContainer) {{\n",
       "    x.observe(notebookContainer, {childList: true});\n",
       "}}\n",
       "\n",
       "// Listen for the clearing of the current output cell\n",
       "var outputEl = gd.closest('.output');\n",
       "if (outputEl) {{\n",
       "    x.observe(outputEl, {childList: true});\n",
       "}}\n",
       "\n",
       "                        })\n",
       "                };\n",
       "                });\n",
       "            </script>\n",
       "        </div>"
      ]
     },
     "metadata": {},
     "output_type": "display_data"
    }
   ],
   "source": [
    "species = [\"setosa\", \"versicolor\", \"virginica\"]\n",
    "color_map: Dict[str, str] = dict(\n",
    "    setosa = \"#e41a1c\",\n",
    "    versicolor = \"#377eb8\",\n",
    "    virginica = \"#4daf4a\"\n",
    ") \n",
    "f10 = Parzen.plot1D(raw_data, np.linspace(-1, 3, 100), 3, 0.1, species, color_map)\n",
    "f10.update_layout(title = \"Petal Width Distribution By Class (h = 0.1)\")\n",
    "f10.show()"
   ]
  },
  {
   "cell_type": "code",
   "execution_count": 233,
   "metadata": {},
   "outputs": [
    {
     "data": {
      "application/vnd.plotly.v1+json": {
       "config": {
        "plotlyServerURL": "https://plot.ly"
       },
       "data": [
        {
         "line": {
          "color": "#e41a1c"
         },
         "name": "setosa density",
         "type": "scatter",
         "x": [
          -1,
          -0.9595959595959596,
          -0.9191919191919192,
          -0.8787878787878788,
          -0.8383838383838383,
          -0.797979797979798,
          -0.7575757575757576,
          -0.7171717171717171,
          -0.6767676767676767,
          -0.6363636363636364,
          -0.5959595959595959,
          -0.5555555555555556,
          -0.5151515151515151,
          -0.4747474747474747,
          -0.43434343434343425,
          -0.3939393939393939,
          -0.3535353535353535,
          -0.31313131313131304,
          -0.2727272727272727,
          -0.23232323232323226,
          -0.19191919191919182,
          -0.1515151515151515,
          -0.11111111111111105,
          -0.07070707070707061,
          -0.030303030303030276,
          0.010101010101010166,
          0.05050505050505061,
          0.09090909090909105,
          0.1313131313131315,
          0.1717171717171717,
          0.21212121212121215,
          0.2525252525252526,
          0.29292929292929304,
          0.3333333333333335,
          0.3737373737373739,
          0.41414141414141437,
          0.4545454545454546,
          0.49494949494949503,
          0.5353535353535355,
          0.5757575757575759,
          0.6161616161616164,
          0.6565656565656568,
          0.696969696969697,
          0.7373737373737375,
          0.7777777777777779,
          0.8181818181818183,
          0.8585858585858588,
          0.8989898989898992,
          0.9393939393939394,
          0.9797979797979799,
          1.0202020202020203,
          1.060606060606061,
          1.1010101010101012,
          1.1414141414141414,
          1.181818181818182,
          1.2222222222222223,
          1.262626262626263,
          1.3030303030303032,
          1.3434343434343434,
          1.383838383838384,
          1.4242424242424243,
          1.464646464646465,
          1.5050505050505052,
          1.5454545454545459,
          1.585858585858586,
          1.6262626262626263,
          1.666666666666667,
          1.7070707070707072,
          1.7474747474747478,
          1.787878787878788,
          1.8282828282828287,
          1.868686868686869,
          1.9090909090909092,
          1.9494949494949498,
          1.98989898989899,
          2.0303030303030307,
          2.070707070707071,
          2.111111111111111,
          2.151515151515152,
          2.191919191919192,
          2.2323232323232327,
          2.272727272727273,
          2.3131313131313136,
          2.353535353535354,
          2.393939393939394,
          2.4343434343434347,
          2.474747474747475,
          2.5151515151515156,
          2.555555555555556,
          2.5959595959595965,
          2.6363636363636367,
          2.676767676767677,
          2.7171717171717176,
          2.757575757575758,
          2.7979797979797985,
          2.8383838383838387,
          2.878787878787879,
          2.9191919191919196,
          2.95959595959596,
          3
         ],
         "y": [
          1.9502569837070068e-05,
          4.052889894336728e-05,
          8.215453203605157e-05,
          0.00016244251780345387,
          0.0003133118799269278,
          0.0005894817327857143,
          0.0010819010238870836,
          0.0019370277952866766,
          0.0033831635791032565,
          0.005764438847045009,
          0.009581789074623969,
          0.01553821407652594,
          0.024582773748857662,
          0.03794438595544113,
          0.05714313608190284,
          0.0839644189778091,
          0.12038101315186399,
          0.16841135638997745,
          0.22990971124333184,
          0.3062956212007161,
          0.3982449018742087,
          0.5053798709729206,
          0.6260089749695521,
          0.7569713977090201,
          0.893637288687386,
          1.0300974318725111,
          1.159548755923379,
          1.2748483440186615,
          1.369175200874186,
          1.436713552304885,
          1.473260412194878,
          1.4766671401101354,
          1.447049192191952,
          1.386735509840739,
          1.2999712074787901,
          1.192425572118693,
          1.0705842478800427,
          0.9411152777361805,
          0.8102927913381914,
          0.6835426495894866,
          0.5651468920982893,
          0.45811482959095456,
          0.3642037322459554,
          0.28405500210589324,
          0.21740382628505867,
          0.16332079764105906,
          0.1204506332795143,
          0.0872231101807033,
          0.06202203761955969,
          0.043307532156520605,
          0.02969394367752531,
          0.019990183987009014,
          0.013211194470721404,
          0.00856943472638108,
          0.005454245631772844,
          0.003405334210117443,
          0.00208489152859697,
          0.0012512719812707849,
          0.0007358743602992354,
          0.000423911448253101,
          0.00023911214394959967,
          0.0001320142677737054,
          7.131402720494106e-05,
          3.768010009222272e-05,
          1.946648522249539e-05,
          9.8302598307547e-06,
          4.8508360226291555e-06,
          2.338424759276767e-06,
          1.10096970215291e-06,
          5.061405828577102e-07,
          2.2715267735089657e-07,
          9.950171440009343e-08,
          4.2533579384980144e-08,
          1.7739921521703226e-08,
          7.218153933876445e-09,
          2.8648217687985424e-09,
          1.108955177449664e-09,
          4.1862798867018285e-10,
          1.540983538766603e-10,
          5.5307622287532225e-11,
          1.935328999281145e-11,
          6.602014204072574e-12,
          2.1954423604194945e-12,
          7.116499885493631e-13,
          2.2484698540810564e-13,
          6.924103531309947e-14,
          2.0781532304676297e-14,
          6.0787263767252324e-15,
          1.7328211939304318e-15,
          4.813795212975944e-16,
          1.3031729586621413e-16,
          3.437843952809955e-17,
          8.837512229911452e-18,
          2.213730390149776e-18,
          5.403338438931681e-19,
          1.2850944076089911e-19,
          2.9780821779195693e-20,
          6.72451674364913e-21,
          1.4794584394374765e-21,
          3.171442032822814e-22
         ]
        },
        {
         "marker": {
          "color": "#ffffff",
          "line": {
           "color": "#e41a1c",
           "width": 1
          }
         },
         "mode": "markers",
         "name": "setosa data",
         "opacity": 0.7,
         "type": "scatter",
         "x": [
          0.2,
          0.2,
          0.2,
          0.2,
          0.2,
          0.4,
          0.3,
          0.2,
          0.2,
          0.1,
          0.2,
          0.2,
          0.1,
          0.1,
          0.2,
          0.4,
          0.4,
          0.3,
          0.3,
          0.3,
          0.2,
          0.4,
          0.2,
          0.5,
          0.2,
          0.2,
          0.4,
          0.2,
          0.2,
          0.2,
          0.2,
          0.4,
          0.1,
          0.2,
          0.2,
          0.2,
          0.2,
          0.1,
          0.2,
          0.2,
          0.3,
          0.3,
          0.2,
          0.6,
          0.4,
          0.3,
          0.2,
          0.2,
          0.2,
          0.2
         ],
         "y": [
          -0.04278880370826088,
          -0.024652263762046725,
          0.019138786871081753,
          0.03054927701201063,
          0.0026853485179810233,
          0.01575659143017559,
          0.027814509976381713,
          -0.0003225272297716214,
          -0.04366879181509308,
          0.04395934740212232,
          0.0012406045823577308,
          0.007691292186588351,
          0.011375200449143329,
          0.04065276489299871,
          0.04232329395964672,
          -0.030516222888962385,
          -0.013981810103278536,
          -0.04951039424766092,
          -0.01968134704818334,
          0.033399838372580634,
          -0.0006581930606039052,
          -0.016042507810592153,
          -0.017792869575546967,
          -0.030206377569610955,
          0.014132648570829576,
          0.016756679787194154,
          -0.04559792445861987,
          -0.021559823334131614,
          0.005187399527802658,
          -0.009034459242391588,
          0.009357075868081086,
          0.0339396241250009,
          -0.015308379480150673,
          -0.011635986751906392,
          -0.0007784380162355609,
          0.042510953039150465,
          -0.0245840450827855,
          0.005834015093908872,
          -0.03463318467813134,
          0.01680040728829288,
          -0.01687375320326078,
          -0.01827168517426858,
          -0.002921517327969733,
          -0.026850272662409237,
          -0.016339471702573514,
          -0.0135298833965534,
          -0.0013243917660253693,
          0.028260110478010206,
          0.042146904566509935,
          -0.031745577260642394
         ]
        },
        {
         "line": {
          "color": "#377eb8"
         },
         "name": "versicolor density",
         "type": "scatter",
         "x": [
          -1,
          -0.9595959595959596,
          -0.9191919191919192,
          -0.8787878787878788,
          -0.8383838383838383,
          -0.797979797979798,
          -0.7575757575757576,
          -0.7171717171717171,
          -0.6767676767676767,
          -0.6363636363636364,
          -0.5959595959595959,
          -0.5555555555555556,
          -0.5151515151515151,
          -0.4747474747474747,
          -0.43434343434343425,
          -0.3939393939393939,
          -0.3535353535353535,
          -0.31313131313131304,
          -0.2727272727272727,
          -0.23232323232323226,
          -0.19191919191919182,
          -0.1515151515151515,
          -0.11111111111111105,
          -0.07070707070707061,
          -0.030303030303030276,
          0.010101010101010166,
          0.05050505050505061,
          0.09090909090909105,
          0.1313131313131315,
          0.1717171717171717,
          0.21212121212121215,
          0.2525252525252526,
          0.29292929292929304,
          0.3333333333333335,
          0.3737373737373739,
          0.41414141414141437,
          0.4545454545454546,
          0.49494949494949503,
          0.5353535353535355,
          0.5757575757575759,
          0.6161616161616164,
          0.6565656565656568,
          0.696969696969697,
          0.7373737373737375,
          0.7777777777777779,
          0.8181818181818183,
          0.8585858585858588,
          0.8989898989898992,
          0.9393939393939394,
          0.9797979797979799,
          1.0202020202020203,
          1.060606060606061,
          1.1010101010101012,
          1.1414141414141414,
          1.181818181818182,
          1.2222222222222223,
          1.262626262626263,
          1.3030303030303032,
          1.3434343434343434,
          1.383838383838384,
          1.4242424242424243,
          1.464646464646465,
          1.5050505050505052,
          1.5454545454545459,
          1.585858585858586,
          1.6262626262626263,
          1.666666666666667,
          1.7070707070707072,
          1.7474747474747478,
          1.787878787878788,
          1.8282828282828287,
          1.868686868686869,
          1.9090909090909092,
          1.9494949494949498,
          1.98989898989899,
          2.0303030303030307,
          2.070707070707071,
          2.111111111111111,
          2.151515151515152,
          2.191919191919192,
          2.2323232323232327,
          2.272727272727273,
          2.3131313131313136,
          2.353535353535354,
          2.393939393939394,
          2.4343434343434347,
          2.474747474747475,
          2.5151515151515156,
          2.555555555555556,
          2.5959595959595965,
          2.6363636363636367,
          2.676767676767677,
          2.7171717171717176,
          2.757575757575758,
          2.7979797979797985,
          2.8383838383838387,
          2.878787878787879,
          2.9191919191919196,
          2.95959595959596,
          3
         ],
         "y": [
          2.877511521710862e-15,
          1.036032417142594e-14,
          3.634328523399645e-14,
          1.2421461841035408e-13,
          4.136398264247271e-13,
          1.3420751940865275e-12,
          4.2426806194538665e-12,
          1.3068247761886789e-11,
          3.92204808249129e-11,
          1.1469184304890428e-10,
          3.2680021563656297e-10,
          9.073380193252765e-10,
          2.454711164477534e-09,
          6.471196668849745e-09,
          1.6623829759806297e-08,
          4.161504106594208e-08,
          1.0152057624025932e-07,
          2.4135455902886635e-07,
          5.592029591546682e-07,
          1.2627362998629746e-06,
          2.7790990212843777e-06,
          5.9616287362065124e-06,
          1.2465785513467264e-05,
          2.540947926487263e-05,
          5.049224110537474e-05,
          9.782324234202861e-05,
          0.00018479438787442394,
          0.0003404171325207106,
          0.0006115939606801997,
          0.001071778342764488,
          0.0018323411932876612,
          0.0030566574594400263,
          0.00497641930506261,
          0.007908976219677394,
          0.012273661616012345,
          0.018604228932755883,
          0.02755389570172255,
          0.03988932426966213,
          0.05647036748074348,
          0.07821368185183011,
          0.10604028123156063,
          0.14080947436447752,
          0.1832439209061477,
          0.23385220397724363,
          0.2928559078137997,
          0.36012753932079733,
          0.43514396068377825,
          0.5169578868098005,
          0.6041882133231893,
          0.6950291471685466,
          0.7872785876549939,
          0.878387649013691,
          0.965534774328879,
          1.0457284240079625,
          1.1159408219258422,
          1.173271269804772,
          1.215131503600155,
          1.2394387203348227,
          1.2447960507272178,
          1.2306372225737714,
          1.197313252086536,
          1.146104563592089,
          1.0791512209267902,
          0.99930527078825,
          0.9099203476902105,
          0.8146024963565857,
          0.7169509910726878,
          0.6203180185845155,
          0.5276116858208146,
          0.4411590299397309,
          0.3626362138951058,
          0.2930636992822462,
          0.23285646385904726,
          0.1819142995274895,
          0.13973524610280838,
          0.10553601809570176,
          0.07836614317222981,
          0.05720651657075997,
          0.041047275504033205,
          0.02894360355012112,
          0.020050868052148365,
          0.01364224133628178,
          0.009112748794455849,
          0.005973742255300189,
          0.0038413744962490265,
          0.0024219850495004465,
          0.001496575973533562,
          0.0009058720001608068,
          0.0005368808049293336,
          0.0003114160555660626,
          0.000176715426074657,
          9.80634740557745e-05,
          5.319615046820201e-05,
          2.8199816070467792e-05,
          1.4603966628970008e-05,
          7.386374069728519e-06,
          3.647679599353642e-06,
          1.758437493285453e-06,
          8.273174314296796e-07,
          3.798148168608074e-07
         ]
        },
        {
         "marker": {
          "color": "#ffffff",
          "line": {
           "color": "#377eb8",
           "width": 1
          }
         },
         "mode": "markers",
         "name": "versicolor data",
         "opacity": 0.7,
         "type": "scatter",
         "x": [
          1.4,
          1.5,
          1.5,
          1.3,
          1.5,
          1.3,
          1.6,
          1,
          1.3,
          1.4,
          1,
          1.5,
          1,
          1.4,
          1.3,
          1.4,
          1.5,
          1,
          1.5,
          1.1,
          1.8,
          1.3,
          1.5,
          1.2,
          1.3,
          1.4,
          1.4,
          1.7,
          1.5,
          1,
          1.1,
          1,
          1.2,
          1.6,
          1.5,
          1.6,
          1.5,
          1.3,
          1.3,
          1.3,
          1.2,
          1.4,
          1.2,
          1,
          1.3,
          1.2,
          1.3,
          1.3,
          1.1,
          1.3
         ],
         "y": [
          0.007453658902682646,
          -0.011490100062432618,
          -0.031009342482398117,
          0.04833371007388747,
          -0.01457680006702624,
          0.034894694048592106,
          -0.043010579736261316,
          0.03729055865065188,
          -0.027032058307460173,
          0.01662240265415292,
          -0.04839527052851819,
          0.03455200856633546,
          -0.030085951765616927,
          0.0018659525268582694,
          0.043027540976531484,
          -0.019944637863608252,
          -0.038340560696770845,
          -0.035570591166856805,
          0.02832099431749048,
          0.031856311584687894,
          0.043102370917930205,
          0.01762069286971421,
          -0.003208924411272497,
          0.04999945045781537,
          -0.024220713530986607,
          0.030474379626898612,
          0.006079858628206536,
          -0.008637711869083985,
          0.011913198809413716,
          0.025486223792254153,
          0.015316389000322103,
          -0.0043838565852840974,
          -0.0009912741328474417,
          -0.021074573823079902,
          -0.04320620203595754,
          -0.010668181597500534,
          -0.03853205772173503,
          0.001472346035899498,
          -0.0159222739708191,
          -0.008962556389458476,
          -0.04436618879953529,
          -0.021760861508853403,
          0.03539605688071179,
          -0.012867453243181871,
          -0.015050434893925303,
          0.0067021121977272405,
          0.019303967607969416,
          0.025006701027011732,
          -0.02151836685856733,
          0.02700793874783955
         ]
        },
        {
         "line": {
          "color": "#4daf4a"
         },
         "name": "virginica density",
         "type": "scatter",
         "x": [
          -1,
          -0.9595959595959596,
          -0.9191919191919192,
          -0.8787878787878788,
          -0.8383838383838383,
          -0.797979797979798,
          -0.7575757575757576,
          -0.7171717171717171,
          -0.6767676767676767,
          -0.6363636363636364,
          -0.5959595959595959,
          -0.5555555555555556,
          -0.5151515151515151,
          -0.4747474747474747,
          -0.43434343434343425,
          -0.3939393939393939,
          -0.3535353535353535,
          -0.31313131313131304,
          -0.2727272727272727,
          -0.23232323232323226,
          -0.19191919191919182,
          -0.1515151515151515,
          -0.11111111111111105,
          -0.07070707070707061,
          -0.030303030303030276,
          0.010101010101010166,
          0.05050505050505061,
          0.09090909090909105,
          0.1313131313131315,
          0.1717171717171717,
          0.21212121212121215,
          0.2525252525252526,
          0.29292929292929304,
          0.3333333333333335,
          0.3737373737373739,
          0.41414141414141437,
          0.4545454545454546,
          0.49494949494949503,
          0.5353535353535355,
          0.5757575757575759,
          0.6161616161616164,
          0.6565656565656568,
          0.696969696969697,
          0.7373737373737375,
          0.7777777777777779,
          0.8181818181818183,
          0.8585858585858588,
          0.8989898989898992,
          0.9393939393939394,
          0.9797979797979799,
          1.0202020202020203,
          1.060606060606061,
          1.1010101010101012,
          1.1414141414141414,
          1.181818181818182,
          1.2222222222222223,
          1.262626262626263,
          1.3030303030303032,
          1.3434343434343434,
          1.383838383838384,
          1.4242424242424243,
          1.464646464646465,
          1.5050505050505052,
          1.5454545454545459,
          1.585858585858586,
          1.6262626262626263,
          1.666666666666667,
          1.7070707070707072,
          1.7474747474747478,
          1.787878787878788,
          1.8282828282828287,
          1.868686868686869,
          1.9090909090909092,
          1.9494949494949498,
          1.98989898989899,
          2.0303030303030307,
          2.070707070707071,
          2.111111111111111,
          2.151515151515152,
          2.191919191919192,
          2.2323232323232327,
          2.272727272727273,
          2.3131313131313136,
          2.353535353535354,
          2.393939393939394,
          2.4343434343434347,
          2.474747474747475,
          2.5151515151515156,
          2.555555555555556,
          2.5959595959595965,
          2.6363636363636367,
          2.676767676767677,
          2.7171717171717176,
          2.757575757575758,
          2.7979797979797985,
          2.8383838383838387,
          2.878787878787879,
          2.9191919191919196,
          2.95959595959596,
          3
         ],
         "y": [
          3.2266609225171094e-22,
          1.506679780213886e-21,
          6.855170960377872e-21,
          3.0391350003500366e-20,
          1.3128678778875446e-19,
          5.526327735493612e-19,
          2.2667436460365774e-18,
          9.059917391025339e-18,
          3.528648389710877e-17,
          1.3392494508507905e-16,
          4.953253210174073e-16,
          1.7852661597056052e-15,
          6.2705649443104746e-15,
          2.146396461163734e-14,
          7.160141403015995e-14,
          2.3278283565203425e-13,
          7.375778538312696e-13,
          2.277732796428402e-12,
          6.855619722058469e-12,
          2.0111821131271127e-11,
          5.7508124535753994e-11,
          1.6028514860887228e-10,
          4.3546934983160526e-10,
          1.1532858660616736e-09,
          2.977468805046988e-09,
          7.49385382533655e-09,
          1.8387768321799302e-08,
          4.398838648042828e-08,
          1.0260136774297745e-07,
          2.3334420008788625e-07,
          5.174807965772338e-07,
          1.1191074117359762e-06,
          2.3602568415000282e-06,
          4.8550037405935055e-06,
          9.740905481843234e-06,
          1.906468855099495e-05,
          3.6402172321850706e-05,
          6.781802603029834e-05,
          0.000123294605508586,
          0.00021877326348700998,
          0.0003789456836585267,
          0.0006408949595400273,
          0.001058605986600152,
          0.0017082384457276182,
          0.0026938916114118377,
          0.004153413488098971,
          0.006263659500642401,
          0.00924454060959104,
          0.013361264630489578,
          0.018924387364232964,
          0.02628762042246854,
          0.03584369400437189,
          0.04801879226133563,
          0.06326599515219508,
          0.08205765258252093,
          0.10487569369085917,
          0.13219774014592914,
          0.16447595373806537,
          0.2021053392607182,
          0.24537924244143397,
          0.29443227811239087,
          0.3491746979809235,
          0.4092265262492099,
          0.4738634734058795,
          0.5419883390803951,
          0.6121402477263054,
          0.682549228930627,
          0.7512359288608197,
          0.816147158620227,
          0.875309724536702,
          0.9269797745581555,
          0.9697643542310641,
          1.0026964779635357,
          1.0252539223717871,
          1.037323116172446,
          1.0391202883472292,
          1.031089885298398,
          1.0138033866214267,
          0.9878794575441057,
          0.9539396059722667,
          0.9126039599503118,
          0.8645218048058999,
          0.810423430116558,
          0.7511753531201006,
          0.6878208729053665,
          0.6215918806295715,
          0.5538847198140817,
          0.48620092678062254,
          0.4200610533567217,
          0.35690497379930336,
          0.29799422351201926,
          0.24433087772136552,
          0.19660381129489723,
          0.15516792017631642,
          0.12005624993032436,
          0.09102008313492206,
          0.06758867587995371,
          0.04913885975733259,
          0.03496506381351133,
          0.02434205262914958
         ]
        },
        {
         "marker": {
          "color": "#ffffff",
          "line": {
           "color": "#4daf4a",
           "width": 1
          }
         },
         "mode": "markers",
         "name": "virginica data",
         "opacity": 0.7,
         "type": "scatter",
         "x": [
          2.5,
          1.9,
          2.1,
          1.8,
          2.2,
          2.1,
          1.7,
          1.8,
          1.8,
          2.5,
          2,
          1.9,
          2.1,
          2,
          2.4,
          2.3,
          1.8,
          2.2,
          2.3,
          1.5,
          2.3,
          2,
          2,
          1.8,
          2.1,
          1.8,
          1.8,
          1.8,
          2.1,
          1.6,
          1.9,
          2,
          2.2,
          1.5,
          1.4,
          2.3,
          2.4,
          1.8,
          1.8,
          2.1,
          2.4,
          2.3,
          1.9,
          2.3,
          2.5,
          2.3,
          1.9,
          2,
          2.3,
          1.8
         ],
         "y": [
          0.04703067083655808,
          0.044849261824697326,
          0.002061677192233727,
          0.04107344149597947,
          0.014183219450076112,
          -0.04719502043878126,
          -0.0009153208678505317,
          0.0007329309354474484,
          -0.01859264612053068,
          0.01786110412565288,
          -0.049967029882736526,
          0.0361493069705974,
          0.014408350716722834,
          0.029373153024825557,
          -0.04134765588012456,
          0.034981865463175624,
          0.027948671669241296,
          0.04430124422654519,
          -0.03222676604054462,
          0.019980761777993572,
          0.04200421599555319,
          -0.0018620021049140303,
          -0.027325217074144748,
          0.04887498212857119,
          0.041610667275418886,
          0.04101147163649739,
          0.004034742405508572,
          -0.029999233061110075,
          -0.03310894251032329,
          -0.04459455495148053,
          0.013677626075453114,
          -0.04155189190388847,
          -0.014408897481141228,
          -0.022411090730753203,
          -0.016317757030967585,
          -0.01049637247943326,
          -0.0015265534446806533,
          -0.024904712142704302,
          0.015544410986385065,
          0.03556280124740492,
          0.0012501004421806225,
          -0.011072338927447078,
          -0.0383225147235701,
          0.03385219270947891,
          0.02822957439996679,
          0.028279488378474785,
          -0.0027064376851865662,
          0.04490581626477004,
          0.001663136715803426,
          0.009339904866292971
         ]
        }
       ],
       "layout": {
        "template": {
         "data": {
          "bar": [
           {
            "error_x": {
             "color": "#2a3f5f"
            },
            "error_y": {
             "color": "#2a3f5f"
            },
            "marker": {
             "line": {
              "color": "white",
              "width": 0.5
             }
            },
            "type": "bar"
           }
          ],
          "barpolar": [
           {
            "marker": {
             "line": {
              "color": "white",
              "width": 0.5
             }
            },
            "type": "barpolar"
           }
          ],
          "carpet": [
           {
            "aaxis": {
             "endlinecolor": "#2a3f5f",
             "gridcolor": "#C8D4E3",
             "linecolor": "#C8D4E3",
             "minorgridcolor": "#C8D4E3",
             "startlinecolor": "#2a3f5f"
            },
            "baxis": {
             "endlinecolor": "#2a3f5f",
             "gridcolor": "#C8D4E3",
             "linecolor": "#C8D4E3",
             "minorgridcolor": "#C8D4E3",
             "startlinecolor": "#2a3f5f"
            },
            "type": "carpet"
           }
          ],
          "choropleth": [
           {
            "colorbar": {
             "outlinewidth": 0,
             "ticks": ""
            },
            "type": "choropleth"
           }
          ],
          "contour": [
           {
            "colorbar": {
             "outlinewidth": 0,
             "ticks": ""
            },
            "colorscale": [
             [
              0,
              "#0d0887"
             ],
             [
              0.1111111111111111,
              "#46039f"
             ],
             [
              0.2222222222222222,
              "#7201a8"
             ],
             [
              0.3333333333333333,
              "#9c179e"
             ],
             [
              0.4444444444444444,
              "#bd3786"
             ],
             [
              0.5555555555555556,
              "#d8576b"
             ],
             [
              0.6666666666666666,
              "#ed7953"
             ],
             [
              0.7777777777777778,
              "#fb9f3a"
             ],
             [
              0.8888888888888888,
              "#fdca26"
             ],
             [
              1,
              "#f0f921"
             ]
            ],
            "type": "contour"
           }
          ],
          "contourcarpet": [
           {
            "colorbar": {
             "outlinewidth": 0,
             "ticks": ""
            },
            "type": "contourcarpet"
           }
          ],
          "heatmap": [
           {
            "colorbar": {
             "outlinewidth": 0,
             "ticks": ""
            },
            "colorscale": [
             [
              0,
              "#0d0887"
             ],
             [
              0.1111111111111111,
              "#46039f"
             ],
             [
              0.2222222222222222,
              "#7201a8"
             ],
             [
              0.3333333333333333,
              "#9c179e"
             ],
             [
              0.4444444444444444,
              "#bd3786"
             ],
             [
              0.5555555555555556,
              "#d8576b"
             ],
             [
              0.6666666666666666,
              "#ed7953"
             ],
             [
              0.7777777777777778,
              "#fb9f3a"
             ],
             [
              0.8888888888888888,
              "#fdca26"
             ],
             [
              1,
              "#f0f921"
             ]
            ],
            "type": "heatmap"
           }
          ],
          "heatmapgl": [
           {
            "colorbar": {
             "outlinewidth": 0,
             "ticks": ""
            },
            "colorscale": [
             [
              0,
              "#0d0887"
             ],
             [
              0.1111111111111111,
              "#46039f"
             ],
             [
              0.2222222222222222,
              "#7201a8"
             ],
             [
              0.3333333333333333,
              "#9c179e"
             ],
             [
              0.4444444444444444,
              "#bd3786"
             ],
             [
              0.5555555555555556,
              "#d8576b"
             ],
             [
              0.6666666666666666,
              "#ed7953"
             ],
             [
              0.7777777777777778,
              "#fb9f3a"
             ],
             [
              0.8888888888888888,
              "#fdca26"
             ],
             [
              1,
              "#f0f921"
             ]
            ],
            "type": "heatmapgl"
           }
          ],
          "histogram": [
           {
            "marker": {
             "colorbar": {
              "outlinewidth": 0,
              "ticks": ""
             }
            },
            "type": "histogram"
           }
          ],
          "histogram2d": [
           {
            "colorbar": {
             "outlinewidth": 0,
             "ticks": ""
            },
            "colorscale": [
             [
              0,
              "#0d0887"
             ],
             [
              0.1111111111111111,
              "#46039f"
             ],
             [
              0.2222222222222222,
              "#7201a8"
             ],
             [
              0.3333333333333333,
              "#9c179e"
             ],
             [
              0.4444444444444444,
              "#bd3786"
             ],
             [
              0.5555555555555556,
              "#d8576b"
             ],
             [
              0.6666666666666666,
              "#ed7953"
             ],
             [
              0.7777777777777778,
              "#fb9f3a"
             ],
             [
              0.8888888888888888,
              "#fdca26"
             ],
             [
              1,
              "#f0f921"
             ]
            ],
            "type": "histogram2d"
           }
          ],
          "histogram2dcontour": [
           {
            "colorbar": {
             "outlinewidth": 0,
             "ticks": ""
            },
            "colorscale": [
             [
              0,
              "#0d0887"
             ],
             [
              0.1111111111111111,
              "#46039f"
             ],
             [
              0.2222222222222222,
              "#7201a8"
             ],
             [
              0.3333333333333333,
              "#9c179e"
             ],
             [
              0.4444444444444444,
              "#bd3786"
             ],
             [
              0.5555555555555556,
              "#d8576b"
             ],
             [
              0.6666666666666666,
              "#ed7953"
             ],
             [
              0.7777777777777778,
              "#fb9f3a"
             ],
             [
              0.8888888888888888,
              "#fdca26"
             ],
             [
              1,
              "#f0f921"
             ]
            ],
            "type": "histogram2dcontour"
           }
          ],
          "mesh3d": [
           {
            "colorbar": {
             "outlinewidth": 0,
             "ticks": ""
            },
            "type": "mesh3d"
           }
          ],
          "parcoords": [
           {
            "line": {
             "colorbar": {
              "outlinewidth": 0,
              "ticks": ""
             }
            },
            "type": "parcoords"
           }
          ],
          "pie": [
           {
            "automargin": true,
            "type": "pie"
           }
          ],
          "scatter": [
           {
            "marker": {
             "colorbar": {
              "outlinewidth": 0,
              "ticks": ""
             }
            },
            "type": "scatter"
           }
          ],
          "scatter3d": [
           {
            "line": {
             "colorbar": {
              "outlinewidth": 0,
              "ticks": ""
             }
            },
            "marker": {
             "colorbar": {
              "outlinewidth": 0,
              "ticks": ""
             }
            },
            "type": "scatter3d"
           }
          ],
          "scattercarpet": [
           {
            "marker": {
             "colorbar": {
              "outlinewidth": 0,
              "ticks": ""
             }
            },
            "type": "scattercarpet"
           }
          ],
          "scattergeo": [
           {
            "marker": {
             "colorbar": {
              "outlinewidth": 0,
              "ticks": ""
             }
            },
            "type": "scattergeo"
           }
          ],
          "scattergl": [
           {
            "marker": {
             "colorbar": {
              "outlinewidth": 0,
              "ticks": ""
             }
            },
            "type": "scattergl"
           }
          ],
          "scattermapbox": [
           {
            "marker": {
             "colorbar": {
              "outlinewidth": 0,
              "ticks": ""
             }
            },
            "type": "scattermapbox"
           }
          ],
          "scatterpolar": [
           {
            "marker": {
             "colorbar": {
              "outlinewidth": 0,
              "ticks": ""
             }
            },
            "type": "scatterpolar"
           }
          ],
          "scatterpolargl": [
           {
            "marker": {
             "colorbar": {
              "outlinewidth": 0,
              "ticks": ""
             }
            },
            "type": "scatterpolargl"
           }
          ],
          "scatterternary": [
           {
            "marker": {
             "colorbar": {
              "outlinewidth": 0,
              "ticks": ""
             }
            },
            "type": "scatterternary"
           }
          ],
          "surface": [
           {
            "colorbar": {
             "outlinewidth": 0,
             "ticks": ""
            },
            "colorscale": [
             [
              0,
              "#0d0887"
             ],
             [
              0.1111111111111111,
              "#46039f"
             ],
             [
              0.2222222222222222,
              "#7201a8"
             ],
             [
              0.3333333333333333,
              "#9c179e"
             ],
             [
              0.4444444444444444,
              "#bd3786"
             ],
             [
              0.5555555555555556,
              "#d8576b"
             ],
             [
              0.6666666666666666,
              "#ed7953"
             ],
             [
              0.7777777777777778,
              "#fb9f3a"
             ],
             [
              0.8888888888888888,
              "#fdca26"
             ],
             [
              1,
              "#f0f921"
             ]
            ],
            "type": "surface"
           }
          ],
          "table": [
           {
            "cells": {
             "fill": {
              "color": "#EBF0F8"
             },
             "line": {
              "color": "white"
             }
            },
            "header": {
             "fill": {
              "color": "#C8D4E3"
             },
             "line": {
              "color": "white"
             }
            },
            "type": "table"
           }
          ]
         },
         "layout": {
          "annotationdefaults": {
           "arrowcolor": "#2a3f5f",
           "arrowhead": 0,
           "arrowwidth": 1
          },
          "coloraxis": {
           "colorbar": {
            "outlinewidth": 0,
            "ticks": ""
           }
          },
          "colorscale": {
           "diverging": [
            [
             0,
             "#8e0152"
            ],
            [
             0.1,
             "#c51b7d"
            ],
            [
             0.2,
             "#de77ae"
            ],
            [
             0.3,
             "#f1b6da"
            ],
            [
             0.4,
             "#fde0ef"
            ],
            [
             0.5,
             "#f7f7f7"
            ],
            [
             0.6,
             "#e6f5d0"
            ],
            [
             0.7,
             "#b8e186"
            ],
            [
             0.8,
             "#7fbc41"
            ],
            [
             0.9,
             "#4d9221"
            ],
            [
             1,
             "#276419"
            ]
           ],
           "sequential": [
            [
             0,
             "#0d0887"
            ],
            [
             0.1111111111111111,
             "#46039f"
            ],
            [
             0.2222222222222222,
             "#7201a8"
            ],
            [
             0.3333333333333333,
             "#9c179e"
            ],
            [
             0.4444444444444444,
             "#bd3786"
            ],
            [
             0.5555555555555556,
             "#d8576b"
            ],
            [
             0.6666666666666666,
             "#ed7953"
            ],
            [
             0.7777777777777778,
             "#fb9f3a"
            ],
            [
             0.8888888888888888,
             "#fdca26"
            ],
            [
             1,
             "#f0f921"
            ]
           ],
           "sequentialminus": [
            [
             0,
             "#0d0887"
            ],
            [
             0.1111111111111111,
             "#46039f"
            ],
            [
             0.2222222222222222,
             "#7201a8"
            ],
            [
             0.3333333333333333,
             "#9c179e"
            ],
            [
             0.4444444444444444,
             "#bd3786"
            ],
            [
             0.5555555555555556,
             "#d8576b"
            ],
            [
             0.6666666666666666,
             "#ed7953"
            ],
            [
             0.7777777777777778,
             "#fb9f3a"
            ],
            [
             0.8888888888888888,
             "#fdca26"
            ],
            [
             1,
             "#f0f921"
            ]
           ]
          },
          "colorway": [
           "#636efa",
           "#EF553B",
           "#00cc96",
           "#ab63fa",
           "#FFA15A",
           "#19d3f3",
           "#FF6692",
           "#B6E880",
           "#FF97FF",
           "#FECB52"
          ],
          "font": {
           "color": "#2a3f5f"
          },
          "geo": {
           "bgcolor": "white",
           "lakecolor": "white",
           "landcolor": "white",
           "showlakes": true,
           "showland": true,
           "subunitcolor": "#C8D4E3"
          },
          "hoverlabel": {
           "align": "left"
          },
          "hovermode": "closest",
          "mapbox": {
           "style": "light"
          },
          "paper_bgcolor": "white",
          "plot_bgcolor": "white",
          "polar": {
           "angularaxis": {
            "gridcolor": "#EBF0F8",
            "linecolor": "#EBF0F8",
            "ticks": ""
           },
           "bgcolor": "white",
           "radialaxis": {
            "gridcolor": "#EBF0F8",
            "linecolor": "#EBF0F8",
            "ticks": ""
           }
          },
          "scene": {
           "xaxis": {
            "backgroundcolor": "white",
            "gridcolor": "#DFE8F3",
            "gridwidth": 2,
            "linecolor": "#EBF0F8",
            "showbackground": true,
            "ticks": "",
            "zerolinecolor": "#EBF0F8"
           },
           "yaxis": {
            "backgroundcolor": "white",
            "gridcolor": "#DFE8F3",
            "gridwidth": 2,
            "linecolor": "#EBF0F8",
            "showbackground": true,
            "ticks": "",
            "zerolinecolor": "#EBF0F8"
           },
           "zaxis": {
            "backgroundcolor": "white",
            "gridcolor": "#DFE8F3",
            "gridwidth": 2,
            "linecolor": "#EBF0F8",
            "showbackground": true,
            "ticks": "",
            "zerolinecolor": "#EBF0F8"
           }
          },
          "shapedefaults": {
           "line": {
            "color": "#2a3f5f"
           }
          },
          "ternary": {
           "aaxis": {
            "gridcolor": "#DFE8F3",
            "linecolor": "#A2B1C6",
            "ticks": ""
           },
           "baxis": {
            "gridcolor": "#DFE8F3",
            "linecolor": "#A2B1C6",
            "ticks": ""
           },
           "bgcolor": "white",
           "caxis": {
            "gridcolor": "#DFE8F3",
            "linecolor": "#A2B1C6",
            "ticks": ""
           }
          },
          "title": {
           "x": 0.05
          },
          "xaxis": {
           "automargin": true,
           "gridcolor": "#EBF0F8",
           "linecolor": "#EBF0F8",
           "ticks": "",
           "title": {
            "standoff": 15
           },
           "zerolinecolor": "#EBF0F8",
           "zerolinewidth": 2
          },
          "yaxis": {
           "automargin": true,
           "gridcolor": "#EBF0F8",
           "linecolor": "#EBF0F8",
           "ticks": "",
           "title": {
            "standoff": 15
           },
           "zerolinecolor": "#EBF0F8",
           "zerolinewidth": 2
          }
         }
        },
        "title": {
         "text": "Petal Width Distribution By Class (h = 0.25)"
        }
       }
      },
      "text/html": [
       "<div>\n",
       "        \n",
       "        \n",
       "            <div id=\"6574bcca-2ca5-43b2-94e5-2f280213f259\" class=\"plotly-graph-div\" style=\"height:525px; width:100%;\"></div>\n",
       "            <script type=\"text/javascript\">\n",
       "                require([\"plotly\"], function(Plotly) {\n",
       "                    window.PLOTLYENV=window.PLOTLYENV || {};\n",
       "                    \n",
       "                if (document.getElementById(\"6574bcca-2ca5-43b2-94e5-2f280213f259\")) {\n",
       "                    Plotly.newPlot(\n",
       "                        '6574bcca-2ca5-43b2-94e5-2f280213f259',\n",
       "                        [{\"line\": {\"color\": \"#e41a1c\"}, \"name\": \"setosa density\", \"type\": \"scatter\", \"x\": [-1.0, -0.9595959595959596, -0.9191919191919192, -0.8787878787878788, -0.8383838383838383, -0.797979797979798, -0.7575757575757576, -0.7171717171717171, -0.6767676767676767, -0.6363636363636364, -0.5959595959595959, -0.5555555555555556, -0.5151515151515151, -0.4747474747474747, -0.43434343434343425, -0.3939393939393939, -0.3535353535353535, -0.31313131313131304, -0.2727272727272727, -0.23232323232323226, -0.19191919191919182, -0.1515151515151515, -0.11111111111111105, -0.07070707070707061, -0.030303030303030276, 0.010101010101010166, 0.05050505050505061, 0.09090909090909105, 0.1313131313131315, 0.1717171717171717, 0.21212121212121215, 0.2525252525252526, 0.29292929292929304, 0.3333333333333335, 0.3737373737373739, 0.41414141414141437, 0.4545454545454546, 0.49494949494949503, 0.5353535353535355, 0.5757575757575759, 0.6161616161616164, 0.6565656565656568, 0.696969696969697, 0.7373737373737375, 0.7777777777777779, 0.8181818181818183, 0.8585858585858588, 0.8989898989898992, 0.9393939393939394, 0.9797979797979799, 1.0202020202020203, 1.060606060606061, 1.1010101010101012, 1.1414141414141414, 1.181818181818182, 1.2222222222222223, 1.262626262626263, 1.3030303030303032, 1.3434343434343434, 1.383838383838384, 1.4242424242424243, 1.464646464646465, 1.5050505050505052, 1.5454545454545459, 1.585858585858586, 1.6262626262626263, 1.666666666666667, 1.7070707070707072, 1.7474747474747478, 1.787878787878788, 1.8282828282828287, 1.868686868686869, 1.9090909090909092, 1.9494949494949498, 1.98989898989899, 2.0303030303030307, 2.070707070707071, 2.111111111111111, 2.151515151515152, 2.191919191919192, 2.2323232323232327, 2.272727272727273, 2.3131313131313136, 2.353535353535354, 2.393939393939394, 2.4343434343434347, 2.474747474747475, 2.5151515151515156, 2.555555555555556, 2.5959595959595965, 2.6363636363636367, 2.676767676767677, 2.7171717171717176, 2.757575757575758, 2.7979797979797985, 2.8383838383838387, 2.878787878787879, 2.9191919191919196, 2.95959595959596, 3.0], \"y\": [1.9502569837070068e-05, 4.052889894336728e-05, 8.215453203605157e-05, 0.00016244251780345387, 0.0003133118799269278, 0.0005894817327857143, 0.0010819010238870836, 0.0019370277952866766, 0.0033831635791032565, 0.005764438847045009, 0.009581789074623969, 0.01553821407652594, 0.024582773748857662, 0.03794438595544113, 0.05714313608190284, 0.0839644189778091, 0.12038101315186399, 0.16841135638997745, 0.22990971124333184, 0.3062956212007161, 0.3982449018742087, 0.5053798709729206, 0.6260089749695521, 0.7569713977090201, 0.893637288687386, 1.0300974318725111, 1.159548755923379, 1.2748483440186615, 1.369175200874186, 1.436713552304885, 1.473260412194878, 1.4766671401101354, 1.447049192191952, 1.386735509840739, 1.2999712074787901, 1.192425572118693, 1.0705842478800427, 0.9411152777361805, 0.8102927913381914, 0.6835426495894866, 0.5651468920982893, 0.45811482959095456, 0.3642037322459554, 0.28405500210589324, 0.21740382628505867, 0.16332079764105906, 0.1204506332795143, 0.0872231101807033, 0.06202203761955969, 0.043307532156520605, 0.02969394367752531, 0.019990183987009014, 0.013211194470721404, 0.00856943472638108, 0.005454245631772844, 0.003405334210117443, 0.00208489152859697, 0.0012512719812707849, 0.0007358743602992354, 0.000423911448253101, 0.00023911214394959967, 0.0001320142677737054, 7.131402720494106e-05, 3.768010009222272e-05, 1.946648522249539e-05, 9.8302598307547e-06, 4.8508360226291555e-06, 2.338424759276767e-06, 1.10096970215291e-06, 5.061405828577102e-07, 2.2715267735089657e-07, 9.950171440009343e-08, 4.2533579384980144e-08, 1.7739921521703226e-08, 7.218153933876445e-09, 2.8648217687985424e-09, 1.108955177449664e-09, 4.1862798867018285e-10, 1.540983538766603e-10, 5.5307622287532225e-11, 1.935328999281145e-11, 6.602014204072574e-12, 2.1954423604194945e-12, 7.116499885493631e-13, 2.2484698540810564e-13, 6.924103531309947e-14, 2.0781532304676297e-14, 6.0787263767252324e-15, 1.7328211939304318e-15, 4.813795212975944e-16, 1.3031729586621413e-16, 3.437843952809955e-17, 8.837512229911452e-18, 2.213730390149776e-18, 5.403338438931681e-19, 1.2850944076089911e-19, 2.9780821779195693e-20, 6.72451674364913e-21, 1.4794584394374765e-21, 3.171442032822814e-22]}, {\"marker\": {\"color\": \"#ffffff\", \"line\": {\"color\": \"#e41a1c\", \"width\": 1}}, \"mode\": \"markers\", \"name\": \"setosa data\", \"opacity\": 0.7, \"type\": \"scatter\", \"x\": [0.2, 0.2, 0.2, 0.2, 0.2, 0.4, 0.3, 0.2, 0.2, 0.1, 0.2, 0.2, 0.1, 0.1, 0.2, 0.4, 0.4, 0.3, 0.3, 0.3, 0.2, 0.4, 0.2, 0.5, 0.2, 0.2, 0.4, 0.2, 0.2, 0.2, 0.2, 0.4, 0.1, 0.2, 0.2, 0.2, 0.2, 0.1, 0.2, 0.2, 0.3, 0.3, 0.2, 0.6, 0.4, 0.3, 0.2, 0.2, 0.2, 0.2], \"y\": [-0.04278880370826088, -0.024652263762046725, 0.019138786871081753, 0.03054927701201063, 0.0026853485179810233, 0.01575659143017559, 0.027814509976381713, -0.0003225272297716214, -0.04366879181509308, 0.04395934740212232, 0.0012406045823577308, 0.007691292186588351, 0.011375200449143329, 0.04065276489299871, 0.04232329395964672, -0.030516222888962385, -0.013981810103278536, -0.04951039424766092, -0.01968134704818334, 0.033399838372580634, -0.0006581930606039052, -0.016042507810592153, -0.017792869575546967, -0.030206377569610955, 0.014132648570829576, 0.016756679787194154, -0.04559792445861987, -0.021559823334131614, 0.005187399527802658, -0.009034459242391588, 0.009357075868081086, 0.0339396241250009, -0.015308379480150673, -0.011635986751906392, -0.0007784380162355609, 0.042510953039150465, -0.0245840450827855, 0.005834015093908872, -0.03463318467813134, 0.01680040728829288, -0.01687375320326078, -0.01827168517426858, -0.002921517327969733, -0.026850272662409237, -0.016339471702573514, -0.0135298833965534, -0.0013243917660253693, 0.028260110478010206, 0.042146904566509935, -0.031745577260642394]}, {\"line\": {\"color\": \"#377eb8\"}, \"name\": \"versicolor density\", \"type\": \"scatter\", \"x\": [-1.0, -0.9595959595959596, -0.9191919191919192, -0.8787878787878788, -0.8383838383838383, -0.797979797979798, -0.7575757575757576, -0.7171717171717171, -0.6767676767676767, -0.6363636363636364, -0.5959595959595959, -0.5555555555555556, -0.5151515151515151, -0.4747474747474747, -0.43434343434343425, -0.3939393939393939, -0.3535353535353535, -0.31313131313131304, -0.2727272727272727, -0.23232323232323226, -0.19191919191919182, -0.1515151515151515, -0.11111111111111105, -0.07070707070707061, -0.030303030303030276, 0.010101010101010166, 0.05050505050505061, 0.09090909090909105, 0.1313131313131315, 0.1717171717171717, 0.21212121212121215, 0.2525252525252526, 0.29292929292929304, 0.3333333333333335, 0.3737373737373739, 0.41414141414141437, 0.4545454545454546, 0.49494949494949503, 0.5353535353535355, 0.5757575757575759, 0.6161616161616164, 0.6565656565656568, 0.696969696969697, 0.7373737373737375, 0.7777777777777779, 0.8181818181818183, 0.8585858585858588, 0.8989898989898992, 0.9393939393939394, 0.9797979797979799, 1.0202020202020203, 1.060606060606061, 1.1010101010101012, 1.1414141414141414, 1.181818181818182, 1.2222222222222223, 1.262626262626263, 1.3030303030303032, 1.3434343434343434, 1.383838383838384, 1.4242424242424243, 1.464646464646465, 1.5050505050505052, 1.5454545454545459, 1.585858585858586, 1.6262626262626263, 1.666666666666667, 1.7070707070707072, 1.7474747474747478, 1.787878787878788, 1.8282828282828287, 1.868686868686869, 1.9090909090909092, 1.9494949494949498, 1.98989898989899, 2.0303030303030307, 2.070707070707071, 2.111111111111111, 2.151515151515152, 2.191919191919192, 2.2323232323232327, 2.272727272727273, 2.3131313131313136, 2.353535353535354, 2.393939393939394, 2.4343434343434347, 2.474747474747475, 2.5151515151515156, 2.555555555555556, 2.5959595959595965, 2.6363636363636367, 2.676767676767677, 2.7171717171717176, 2.757575757575758, 2.7979797979797985, 2.8383838383838387, 2.878787878787879, 2.9191919191919196, 2.95959595959596, 3.0], \"y\": [2.877511521710862e-15, 1.036032417142594e-14, 3.634328523399645e-14, 1.2421461841035408e-13, 4.136398264247271e-13, 1.3420751940865275e-12, 4.2426806194538665e-12, 1.3068247761886789e-11, 3.92204808249129e-11, 1.1469184304890428e-10, 3.2680021563656297e-10, 9.073380193252765e-10, 2.454711164477534e-09, 6.471196668849745e-09, 1.6623829759806297e-08, 4.161504106594208e-08, 1.0152057624025932e-07, 2.4135455902886635e-07, 5.592029591546682e-07, 1.2627362998629746e-06, 2.7790990212843777e-06, 5.9616287362065124e-06, 1.2465785513467264e-05, 2.540947926487263e-05, 5.049224110537474e-05, 9.782324234202861e-05, 0.00018479438787442394, 0.0003404171325207106, 0.0006115939606801997, 0.001071778342764488, 0.0018323411932876612, 0.0030566574594400263, 0.00497641930506261, 0.007908976219677394, 0.012273661616012345, 0.018604228932755883, 0.02755389570172255, 0.03988932426966213, 0.05647036748074348, 0.07821368185183011, 0.10604028123156063, 0.14080947436447752, 0.1832439209061477, 0.23385220397724363, 0.2928559078137997, 0.36012753932079733, 0.43514396068377825, 0.5169578868098005, 0.6041882133231893, 0.6950291471685466, 0.7872785876549939, 0.878387649013691, 0.965534774328879, 1.0457284240079625, 1.1159408219258422, 1.173271269804772, 1.215131503600155, 1.2394387203348227, 1.2447960507272178, 1.2306372225737714, 1.197313252086536, 1.146104563592089, 1.0791512209267902, 0.99930527078825, 0.9099203476902105, 0.8146024963565857, 0.7169509910726878, 0.6203180185845155, 0.5276116858208146, 0.4411590299397309, 0.3626362138951058, 0.2930636992822462, 0.23285646385904726, 0.1819142995274895, 0.13973524610280838, 0.10553601809570176, 0.07836614317222981, 0.05720651657075997, 0.041047275504033205, 0.02894360355012112, 0.020050868052148365, 0.01364224133628178, 0.009112748794455849, 0.005973742255300189, 0.0038413744962490265, 0.0024219850495004465, 0.001496575973533562, 0.0009058720001608068, 0.0005368808049293336, 0.0003114160555660626, 0.000176715426074657, 9.80634740557745e-05, 5.319615046820201e-05, 2.8199816070467792e-05, 1.4603966628970008e-05, 7.386374069728519e-06, 3.647679599353642e-06, 1.758437493285453e-06, 8.273174314296796e-07, 3.798148168608074e-07]}, {\"marker\": {\"color\": \"#ffffff\", \"line\": {\"color\": \"#377eb8\", \"width\": 1}}, \"mode\": \"markers\", \"name\": \"versicolor data\", \"opacity\": 0.7, \"type\": \"scatter\", \"x\": [1.4, 1.5, 1.5, 1.3, 1.5, 1.3, 1.6, 1.0, 1.3, 1.4, 1.0, 1.5, 1.0, 1.4, 1.3, 1.4, 1.5, 1.0, 1.5, 1.1, 1.8, 1.3, 1.5, 1.2, 1.3, 1.4, 1.4, 1.7, 1.5, 1.0, 1.1, 1.0, 1.2, 1.6, 1.5, 1.6, 1.5, 1.3, 1.3, 1.3, 1.2, 1.4, 1.2, 1.0, 1.3, 1.2, 1.3, 1.3, 1.1, 1.3], \"y\": [0.007453658902682646, -0.011490100062432618, -0.031009342482398117, 0.04833371007388747, -0.01457680006702624, 0.034894694048592106, -0.043010579736261316, 0.03729055865065188, -0.027032058307460173, 0.01662240265415292, -0.04839527052851819, 0.03455200856633546, -0.030085951765616927, 0.0018659525268582694, 0.043027540976531484, -0.019944637863608252, -0.038340560696770845, -0.035570591166856805, 0.02832099431749048, 0.031856311584687894, 0.043102370917930205, 0.01762069286971421, -0.003208924411272497, 0.04999945045781537, -0.024220713530986607, 0.030474379626898612, 0.006079858628206536, -0.008637711869083985, 0.011913198809413716, 0.025486223792254153, 0.015316389000322103, -0.0043838565852840974, -0.0009912741328474417, -0.021074573823079902, -0.04320620203595754, -0.010668181597500534, -0.03853205772173503, 0.001472346035899498, -0.0159222739708191, -0.008962556389458476, -0.04436618879953529, -0.021760861508853403, 0.03539605688071179, -0.012867453243181871, -0.015050434893925303, 0.0067021121977272405, 0.019303967607969416, 0.025006701027011732, -0.02151836685856733, 0.02700793874783955]}, {\"line\": {\"color\": \"#4daf4a\"}, \"name\": \"virginica density\", \"type\": \"scatter\", \"x\": [-1.0, -0.9595959595959596, -0.9191919191919192, -0.8787878787878788, -0.8383838383838383, -0.797979797979798, -0.7575757575757576, -0.7171717171717171, -0.6767676767676767, -0.6363636363636364, -0.5959595959595959, -0.5555555555555556, -0.5151515151515151, -0.4747474747474747, -0.43434343434343425, -0.3939393939393939, -0.3535353535353535, -0.31313131313131304, -0.2727272727272727, -0.23232323232323226, -0.19191919191919182, -0.1515151515151515, -0.11111111111111105, -0.07070707070707061, -0.030303030303030276, 0.010101010101010166, 0.05050505050505061, 0.09090909090909105, 0.1313131313131315, 0.1717171717171717, 0.21212121212121215, 0.2525252525252526, 0.29292929292929304, 0.3333333333333335, 0.3737373737373739, 0.41414141414141437, 0.4545454545454546, 0.49494949494949503, 0.5353535353535355, 0.5757575757575759, 0.6161616161616164, 0.6565656565656568, 0.696969696969697, 0.7373737373737375, 0.7777777777777779, 0.8181818181818183, 0.8585858585858588, 0.8989898989898992, 0.9393939393939394, 0.9797979797979799, 1.0202020202020203, 1.060606060606061, 1.1010101010101012, 1.1414141414141414, 1.181818181818182, 1.2222222222222223, 1.262626262626263, 1.3030303030303032, 1.3434343434343434, 1.383838383838384, 1.4242424242424243, 1.464646464646465, 1.5050505050505052, 1.5454545454545459, 1.585858585858586, 1.6262626262626263, 1.666666666666667, 1.7070707070707072, 1.7474747474747478, 1.787878787878788, 1.8282828282828287, 1.868686868686869, 1.9090909090909092, 1.9494949494949498, 1.98989898989899, 2.0303030303030307, 2.070707070707071, 2.111111111111111, 2.151515151515152, 2.191919191919192, 2.2323232323232327, 2.272727272727273, 2.3131313131313136, 2.353535353535354, 2.393939393939394, 2.4343434343434347, 2.474747474747475, 2.5151515151515156, 2.555555555555556, 2.5959595959595965, 2.6363636363636367, 2.676767676767677, 2.7171717171717176, 2.757575757575758, 2.7979797979797985, 2.8383838383838387, 2.878787878787879, 2.9191919191919196, 2.95959595959596, 3.0], \"y\": [3.2266609225171094e-22, 1.506679780213886e-21, 6.855170960377872e-21, 3.0391350003500366e-20, 1.3128678778875446e-19, 5.526327735493612e-19, 2.2667436460365774e-18, 9.059917391025339e-18, 3.528648389710877e-17, 1.3392494508507905e-16, 4.953253210174073e-16, 1.7852661597056052e-15, 6.2705649443104746e-15, 2.146396461163734e-14, 7.160141403015995e-14, 2.3278283565203425e-13, 7.375778538312696e-13, 2.277732796428402e-12, 6.855619722058469e-12, 2.0111821131271127e-11, 5.7508124535753994e-11, 1.6028514860887228e-10, 4.3546934983160526e-10, 1.1532858660616736e-09, 2.977468805046988e-09, 7.49385382533655e-09, 1.8387768321799302e-08, 4.398838648042828e-08, 1.0260136774297745e-07, 2.3334420008788625e-07, 5.174807965772338e-07, 1.1191074117359762e-06, 2.3602568415000282e-06, 4.8550037405935055e-06, 9.740905481843234e-06, 1.906468855099495e-05, 3.6402172321850706e-05, 6.781802603029834e-05, 0.000123294605508586, 0.00021877326348700998, 0.0003789456836585267, 0.0006408949595400273, 0.001058605986600152, 0.0017082384457276182, 0.0026938916114118377, 0.004153413488098971, 0.006263659500642401, 0.00924454060959104, 0.013361264630489578, 0.018924387364232964, 0.02628762042246854, 0.03584369400437189, 0.04801879226133563, 0.06326599515219508, 0.08205765258252093, 0.10487569369085917, 0.13219774014592914, 0.16447595373806537, 0.2021053392607182, 0.24537924244143397, 0.29443227811239087, 0.3491746979809235, 0.4092265262492099, 0.4738634734058795, 0.5419883390803951, 0.6121402477263054, 0.682549228930627, 0.7512359288608197, 0.816147158620227, 0.875309724536702, 0.9269797745581555, 0.9697643542310641, 1.0026964779635357, 1.0252539223717871, 1.037323116172446, 1.0391202883472292, 1.031089885298398, 1.0138033866214267, 0.9878794575441057, 0.9539396059722667, 0.9126039599503118, 0.8645218048058999, 0.810423430116558, 0.7511753531201006, 0.6878208729053665, 0.6215918806295715, 0.5538847198140817, 0.48620092678062254, 0.4200610533567217, 0.35690497379930336, 0.29799422351201926, 0.24433087772136552, 0.19660381129489723, 0.15516792017631642, 0.12005624993032436, 0.09102008313492206, 0.06758867587995371, 0.04913885975733259, 0.03496506381351133, 0.02434205262914958]}, {\"marker\": {\"color\": \"#ffffff\", \"line\": {\"color\": \"#4daf4a\", \"width\": 1}}, \"mode\": \"markers\", \"name\": \"virginica data\", \"opacity\": 0.7, \"type\": \"scatter\", \"x\": [2.5, 1.9, 2.1, 1.8, 2.2, 2.1, 1.7, 1.8, 1.8, 2.5, 2.0, 1.9, 2.1, 2.0, 2.4, 2.3, 1.8, 2.2, 2.3, 1.5, 2.3, 2.0, 2.0, 1.8, 2.1, 1.8, 1.8, 1.8, 2.1, 1.6, 1.9, 2.0, 2.2, 1.5, 1.4, 2.3, 2.4, 1.8, 1.8, 2.1, 2.4, 2.3, 1.9, 2.3, 2.5, 2.3, 1.9, 2.0, 2.3, 1.8], \"y\": [0.04703067083655808, 0.044849261824697326, 0.002061677192233727, 0.04107344149597947, 0.014183219450076112, -0.04719502043878126, -0.0009153208678505317, 0.0007329309354474484, -0.01859264612053068, 0.01786110412565288, -0.049967029882736526, 0.0361493069705974, 0.014408350716722834, 0.029373153024825557, -0.04134765588012456, 0.034981865463175624, 0.027948671669241296, 0.04430124422654519, -0.03222676604054462, 0.019980761777993572, 0.04200421599555319, -0.0018620021049140303, -0.027325217074144748, 0.04887498212857119, 0.041610667275418886, 0.04101147163649739, 0.004034742405508572, -0.029999233061110075, -0.03310894251032329, -0.04459455495148053, 0.013677626075453114, -0.04155189190388847, -0.014408897481141228, -0.022411090730753203, -0.016317757030967585, -0.01049637247943326, -0.0015265534446806533, -0.024904712142704302, 0.015544410986385065, 0.03556280124740492, 0.0012501004421806225, -0.011072338927447078, -0.0383225147235701, 0.03385219270947891, 0.02822957439996679, 0.028279488378474785, -0.0027064376851865662, 0.04490581626477004, 0.001663136715803426, 0.009339904866292971]}],\n",
       "                        {\"template\": {\"data\": {\"bar\": [{\"error_x\": {\"color\": \"#2a3f5f\"}, \"error_y\": {\"color\": \"#2a3f5f\"}, \"marker\": {\"line\": {\"color\": \"white\", \"width\": 0.5}}, \"type\": \"bar\"}], \"barpolar\": [{\"marker\": {\"line\": {\"color\": \"white\", \"width\": 0.5}}, \"type\": \"barpolar\"}], \"carpet\": [{\"aaxis\": {\"endlinecolor\": \"#2a3f5f\", \"gridcolor\": \"#C8D4E3\", \"linecolor\": \"#C8D4E3\", \"minorgridcolor\": \"#C8D4E3\", \"startlinecolor\": \"#2a3f5f\"}, \"baxis\": {\"endlinecolor\": \"#2a3f5f\", \"gridcolor\": \"#C8D4E3\", \"linecolor\": \"#C8D4E3\", \"minorgridcolor\": \"#C8D4E3\", \"startlinecolor\": \"#2a3f5f\"}, \"type\": \"carpet\"}], \"choropleth\": [{\"colorbar\": {\"outlinewidth\": 0, \"ticks\": \"\"}, \"type\": \"choropleth\"}], \"contour\": [{\"colorbar\": {\"outlinewidth\": 0, \"ticks\": \"\"}, \"colorscale\": [[0.0, \"#0d0887\"], [0.1111111111111111, \"#46039f\"], [0.2222222222222222, \"#7201a8\"], [0.3333333333333333, \"#9c179e\"], [0.4444444444444444, \"#bd3786\"], [0.5555555555555556, \"#d8576b\"], [0.6666666666666666, \"#ed7953\"], [0.7777777777777778, \"#fb9f3a\"], [0.8888888888888888, \"#fdca26\"], [1.0, \"#f0f921\"]], \"type\": \"contour\"}], \"contourcarpet\": [{\"colorbar\": {\"outlinewidth\": 0, \"ticks\": \"\"}, \"type\": \"contourcarpet\"}], \"heatmap\": [{\"colorbar\": {\"outlinewidth\": 0, \"ticks\": \"\"}, \"colorscale\": [[0.0, \"#0d0887\"], [0.1111111111111111, \"#46039f\"], [0.2222222222222222, \"#7201a8\"], [0.3333333333333333, \"#9c179e\"], [0.4444444444444444, \"#bd3786\"], [0.5555555555555556, \"#d8576b\"], [0.6666666666666666, \"#ed7953\"], [0.7777777777777778, \"#fb9f3a\"], [0.8888888888888888, \"#fdca26\"], [1.0, \"#f0f921\"]], \"type\": \"heatmap\"}], \"heatmapgl\": [{\"colorbar\": {\"outlinewidth\": 0, \"ticks\": \"\"}, \"colorscale\": [[0.0, \"#0d0887\"], [0.1111111111111111, \"#46039f\"], [0.2222222222222222, \"#7201a8\"], [0.3333333333333333, \"#9c179e\"], [0.4444444444444444, \"#bd3786\"], [0.5555555555555556, \"#d8576b\"], [0.6666666666666666, \"#ed7953\"], [0.7777777777777778, \"#fb9f3a\"], [0.8888888888888888, \"#fdca26\"], [1.0, \"#f0f921\"]], \"type\": \"heatmapgl\"}], \"histogram\": [{\"marker\": {\"colorbar\": {\"outlinewidth\": 0, \"ticks\": \"\"}}, \"type\": \"histogram\"}], \"histogram2d\": [{\"colorbar\": {\"outlinewidth\": 0, \"ticks\": \"\"}, \"colorscale\": [[0.0, \"#0d0887\"], [0.1111111111111111, \"#46039f\"], [0.2222222222222222, \"#7201a8\"], [0.3333333333333333, \"#9c179e\"], [0.4444444444444444, \"#bd3786\"], [0.5555555555555556, \"#d8576b\"], [0.6666666666666666, \"#ed7953\"], [0.7777777777777778, \"#fb9f3a\"], [0.8888888888888888, \"#fdca26\"], [1.0, \"#f0f921\"]], \"type\": \"histogram2d\"}], \"histogram2dcontour\": [{\"colorbar\": {\"outlinewidth\": 0, \"ticks\": \"\"}, \"colorscale\": [[0.0, \"#0d0887\"], [0.1111111111111111, \"#46039f\"], [0.2222222222222222, \"#7201a8\"], [0.3333333333333333, \"#9c179e\"], [0.4444444444444444, \"#bd3786\"], [0.5555555555555556, \"#d8576b\"], [0.6666666666666666, \"#ed7953\"], [0.7777777777777778, \"#fb9f3a\"], [0.8888888888888888, \"#fdca26\"], [1.0, \"#f0f921\"]], \"type\": \"histogram2dcontour\"}], \"mesh3d\": [{\"colorbar\": {\"outlinewidth\": 0, \"ticks\": \"\"}, \"type\": \"mesh3d\"}], \"parcoords\": [{\"line\": {\"colorbar\": {\"outlinewidth\": 0, \"ticks\": \"\"}}, \"type\": \"parcoords\"}], \"pie\": [{\"automargin\": true, \"type\": \"pie\"}], \"scatter\": [{\"marker\": {\"colorbar\": {\"outlinewidth\": 0, \"ticks\": \"\"}}, \"type\": \"scatter\"}], \"scatter3d\": [{\"line\": {\"colorbar\": {\"outlinewidth\": 0, \"ticks\": \"\"}}, \"marker\": {\"colorbar\": {\"outlinewidth\": 0, \"ticks\": \"\"}}, \"type\": \"scatter3d\"}], \"scattercarpet\": [{\"marker\": {\"colorbar\": {\"outlinewidth\": 0, \"ticks\": \"\"}}, \"type\": \"scattercarpet\"}], \"scattergeo\": [{\"marker\": {\"colorbar\": {\"outlinewidth\": 0, \"ticks\": \"\"}}, \"type\": \"scattergeo\"}], \"scattergl\": [{\"marker\": {\"colorbar\": {\"outlinewidth\": 0, \"ticks\": \"\"}}, \"type\": \"scattergl\"}], \"scattermapbox\": [{\"marker\": {\"colorbar\": {\"outlinewidth\": 0, \"ticks\": \"\"}}, \"type\": \"scattermapbox\"}], \"scatterpolar\": [{\"marker\": {\"colorbar\": {\"outlinewidth\": 0, \"ticks\": \"\"}}, \"type\": \"scatterpolar\"}], \"scatterpolargl\": [{\"marker\": {\"colorbar\": {\"outlinewidth\": 0, \"ticks\": \"\"}}, \"type\": \"scatterpolargl\"}], \"scatterternary\": [{\"marker\": {\"colorbar\": {\"outlinewidth\": 0, \"ticks\": \"\"}}, \"type\": \"scatterternary\"}], \"surface\": [{\"colorbar\": {\"outlinewidth\": 0, \"ticks\": \"\"}, \"colorscale\": [[0.0, \"#0d0887\"], [0.1111111111111111, \"#46039f\"], [0.2222222222222222, \"#7201a8\"], [0.3333333333333333, \"#9c179e\"], [0.4444444444444444, \"#bd3786\"], [0.5555555555555556, \"#d8576b\"], [0.6666666666666666, \"#ed7953\"], [0.7777777777777778, \"#fb9f3a\"], [0.8888888888888888, \"#fdca26\"], [1.0, \"#f0f921\"]], \"type\": \"surface\"}], \"table\": [{\"cells\": {\"fill\": {\"color\": \"#EBF0F8\"}, \"line\": {\"color\": \"white\"}}, \"header\": {\"fill\": {\"color\": \"#C8D4E3\"}, \"line\": {\"color\": \"white\"}}, \"type\": \"table\"}]}, \"layout\": {\"annotationdefaults\": {\"arrowcolor\": \"#2a3f5f\", \"arrowhead\": 0, \"arrowwidth\": 1}, \"coloraxis\": {\"colorbar\": {\"outlinewidth\": 0, \"ticks\": \"\"}}, \"colorscale\": {\"diverging\": [[0, \"#8e0152\"], [0.1, \"#c51b7d\"], [0.2, \"#de77ae\"], [0.3, \"#f1b6da\"], [0.4, \"#fde0ef\"], [0.5, \"#f7f7f7\"], [0.6, \"#e6f5d0\"], [0.7, \"#b8e186\"], [0.8, \"#7fbc41\"], [0.9, \"#4d9221\"], [1, \"#276419\"]], \"sequential\": [[0.0, \"#0d0887\"], [0.1111111111111111, \"#46039f\"], [0.2222222222222222, \"#7201a8\"], [0.3333333333333333, \"#9c179e\"], [0.4444444444444444, \"#bd3786\"], [0.5555555555555556, \"#d8576b\"], [0.6666666666666666, \"#ed7953\"], [0.7777777777777778, \"#fb9f3a\"], [0.8888888888888888, \"#fdca26\"], [1.0, \"#f0f921\"]], \"sequentialminus\": [[0.0, \"#0d0887\"], [0.1111111111111111, \"#46039f\"], [0.2222222222222222, \"#7201a8\"], [0.3333333333333333, \"#9c179e\"], [0.4444444444444444, \"#bd3786\"], [0.5555555555555556, \"#d8576b\"], [0.6666666666666666, \"#ed7953\"], [0.7777777777777778, \"#fb9f3a\"], [0.8888888888888888, \"#fdca26\"], [1.0, \"#f0f921\"]]}, \"colorway\": [\"#636efa\", \"#EF553B\", \"#00cc96\", \"#ab63fa\", \"#FFA15A\", \"#19d3f3\", \"#FF6692\", \"#B6E880\", \"#FF97FF\", \"#FECB52\"], \"font\": {\"color\": \"#2a3f5f\"}, \"geo\": {\"bgcolor\": \"white\", \"lakecolor\": \"white\", \"landcolor\": \"white\", \"showlakes\": true, \"showland\": true, \"subunitcolor\": \"#C8D4E3\"}, \"hoverlabel\": {\"align\": \"left\"}, \"hovermode\": \"closest\", \"mapbox\": {\"style\": \"light\"}, \"paper_bgcolor\": \"white\", \"plot_bgcolor\": \"white\", \"polar\": {\"angularaxis\": {\"gridcolor\": \"#EBF0F8\", \"linecolor\": \"#EBF0F8\", \"ticks\": \"\"}, \"bgcolor\": \"white\", \"radialaxis\": {\"gridcolor\": \"#EBF0F8\", \"linecolor\": \"#EBF0F8\", \"ticks\": \"\"}}, \"scene\": {\"xaxis\": {\"backgroundcolor\": \"white\", \"gridcolor\": \"#DFE8F3\", \"gridwidth\": 2, \"linecolor\": \"#EBF0F8\", \"showbackground\": true, \"ticks\": \"\", \"zerolinecolor\": \"#EBF0F8\"}, \"yaxis\": {\"backgroundcolor\": \"white\", \"gridcolor\": \"#DFE8F3\", \"gridwidth\": 2, \"linecolor\": \"#EBF0F8\", \"showbackground\": true, \"ticks\": \"\", \"zerolinecolor\": \"#EBF0F8\"}, \"zaxis\": {\"backgroundcolor\": \"white\", \"gridcolor\": \"#DFE8F3\", \"gridwidth\": 2, \"linecolor\": \"#EBF0F8\", \"showbackground\": true, \"ticks\": \"\", \"zerolinecolor\": \"#EBF0F8\"}}, \"shapedefaults\": {\"line\": {\"color\": \"#2a3f5f\"}}, \"ternary\": {\"aaxis\": {\"gridcolor\": \"#DFE8F3\", \"linecolor\": \"#A2B1C6\", \"ticks\": \"\"}, \"baxis\": {\"gridcolor\": \"#DFE8F3\", \"linecolor\": \"#A2B1C6\", \"ticks\": \"\"}, \"bgcolor\": \"white\", \"caxis\": {\"gridcolor\": \"#DFE8F3\", \"linecolor\": \"#A2B1C6\", \"ticks\": \"\"}}, \"title\": {\"x\": 0.05}, \"xaxis\": {\"automargin\": true, \"gridcolor\": \"#EBF0F8\", \"linecolor\": \"#EBF0F8\", \"ticks\": \"\", \"title\": {\"standoff\": 15}, \"zerolinecolor\": \"#EBF0F8\", \"zerolinewidth\": 2}, \"yaxis\": {\"automargin\": true, \"gridcolor\": \"#EBF0F8\", \"linecolor\": \"#EBF0F8\", \"ticks\": \"\", \"title\": {\"standoff\": 15}, \"zerolinecolor\": \"#EBF0F8\", \"zerolinewidth\": 2}}}, \"title\": {\"text\": \"Petal Width Distribution By Class (h = 0.25)\"}},\n",
       "                        {\"responsive\": true}\n",
       "                    ).then(function(){\n",
       "                            \n",
       "var gd = document.getElementById('6574bcca-2ca5-43b2-94e5-2f280213f259');\n",
       "var x = new MutationObserver(function (mutations, observer) {{\n",
       "        var display = window.getComputedStyle(gd).display;\n",
       "        if (!display || display === 'none') {{\n",
       "            console.log([gd, 'removed!']);\n",
       "            Plotly.purge(gd);\n",
       "            observer.disconnect();\n",
       "        }}\n",
       "}});\n",
       "\n",
       "// Listen for the removal of the full notebook cells\n",
       "var notebookContainer = gd.closest('#notebook-container');\n",
       "if (notebookContainer) {{\n",
       "    x.observe(notebookContainer, {childList: true});\n",
       "}}\n",
       "\n",
       "// Listen for the clearing of the current output cell\n",
       "var outputEl = gd.closest('.output');\n",
       "if (outputEl) {{\n",
       "    x.observe(outputEl, {childList: true});\n",
       "}}\n",
       "\n",
       "                        })\n",
       "                };\n",
       "                });\n",
       "            </script>\n",
       "        </div>"
      ]
     },
     "metadata": {},
     "output_type": "display_data"
    }
   ],
   "source": [
    "f25 = Parzen.plot1D(raw_data, np.linspace(-1, 3, 100), 3, 0.25, species, color_map)\n",
    "f25.update_layout(title = \"Petal Width Distribution By Class (h = 0.25)\")\n",
    "f25.show()"
   ]
  },
  {
   "cell_type": "code",
   "execution_count": 234,
   "metadata": {},
   "outputs": [
    {
     "data": {
      "application/vnd.plotly.v1+json": {
       "config": {
        "plotlyServerURL": "https://plot.ly"
       },
       "data": [
        {
         "line": {
          "color": "#e41a1c"
         },
         "name": "setosa density",
         "type": "scatter",
         "x": [
          -1,
          -0.9595959595959596,
          -0.9191919191919192,
          -0.8787878787878788,
          -0.8383838383838383,
          -0.797979797979798,
          -0.7575757575757576,
          -0.7171717171717171,
          -0.6767676767676767,
          -0.6363636363636364,
          -0.5959595959595959,
          -0.5555555555555556,
          -0.5151515151515151,
          -0.4747474747474747,
          -0.43434343434343425,
          -0.3939393939393939,
          -0.3535353535353535,
          -0.31313131313131304,
          -0.2727272727272727,
          -0.23232323232323226,
          -0.19191919191919182,
          -0.1515151515151515,
          -0.11111111111111105,
          -0.07070707070707061,
          -0.030303030303030276,
          0.010101010101010166,
          0.05050505050505061,
          0.09090909090909105,
          0.1313131313131315,
          0.1717171717171717,
          0.21212121212121215,
          0.2525252525252526,
          0.29292929292929304,
          0.3333333333333335,
          0.3737373737373739,
          0.41414141414141437,
          0.4545454545454546,
          0.49494949494949503,
          0.5353535353535355,
          0.5757575757575759,
          0.6161616161616164,
          0.6565656565656568,
          0.696969696969697,
          0.7373737373737375,
          0.7777777777777779,
          0.8181818181818183,
          0.8585858585858588,
          0.8989898989898992,
          0.9393939393939394,
          0.9797979797979799,
          1.0202020202020203,
          1.060606060606061,
          1.1010101010101012,
          1.1414141414141414,
          1.181818181818182,
          1.2222222222222223,
          1.262626262626263,
          1.3030303030303032,
          1.3434343434343434,
          1.383838383838384,
          1.4242424242424243,
          1.464646464646465,
          1.5050505050505052,
          1.5454545454545459,
          1.585858585858586,
          1.6262626262626263,
          1.666666666666667,
          1.7070707070707072,
          1.7474747474747478,
          1.787878787878788,
          1.8282828282828287,
          1.868686868686869,
          1.9090909090909092,
          1.9494949494949498,
          1.98989898989899,
          2.0303030303030307,
          2.070707070707071,
          2.111111111111111,
          2.151515151515152,
          2.191919191919192,
          2.2323232323232327,
          2.272727272727273,
          2.3131313131313136,
          2.353535353535354,
          2.393939393939394,
          2.4343434343434347,
          2.474747474747475,
          2.5151515151515156,
          2.555555555555556,
          2.5959595959595965,
          2.6363636363636367,
          2.676767676767677,
          2.7171717171717176,
          2.757575757575758,
          2.7979797979797985,
          2.8383838383838387,
          2.878787878787879,
          2.9191919191919196,
          2.95959595959596,
          3
         ],
         "y": [
          0.03936476900446657,
          0.047677757998073354,
          0.05737922683958805,
          0.06861599552468586,
          0.08153215986399939,
          0.09626458722268133,
          0.11293780538021936,
          0.1316583822136742,
          0.1525089360418175,
          0.1755419584402688,
          0.2007736705483631,
          0.22817816748454386,
          0.2576821305346095,
          0.289160400465916,
          0.3224327051907001,
          0.35726181917484356,
          0.3933533993852712,
          0.43035769309081745,
          0.4678732474856012,
          0.5054526720582654,
          0.5426104151796253,
          0.5788324208219038,
          0.6135874347378365,
          0.6463396373898815,
          0.6765621991313757,
          0.7037512870389662,
          0.727440007145926,
          0.7472117443494817,
          0.7627123673198349,
          0.7736607980908292,
          0.7798575047226641,
          0.7811905578594004,
          0.7776389939645605,
          0.7692733440157018,
          0.7562533100463995,
          0.7388226962141544,
          0.7173018190921435,
          0.6920777271265963,
          0.6635926460510139,
          0.6323311311344838,
          0.5988064456098038,
          0.5635466962839465,
          0.5270812426640018,
          0.48992785699678976,
          0.4525810528418174,
          0.41550192365710154,
          0.3791097455569895,
          0.3437755053936871,
          0.30981742204159635,
          0.27749844022736864,
          0.2470255967392424,
          0.21855109173116852,
          0.19217484541904004,
          0.1679482839583278,
          0.14587907784538953,
          0.1259365509988362,
          0.1080574871643801,
          0.0921520802678013,
          0.0781098042600715,
          0.06580501313494581,
          0.0551021204595489,
          0.04586024744294698,
          0.03793726709699015,
          0.03119320764481707,
          0.02549300968378554,
          0.02070865784830532,
          0.01672072841513551,
          0.01341940940451381,
          0.010705059528358716,
          0.00848837733765988,
          0.006690252806270808,
          0.005241371130857045,
          0.004081633527011934,
          0.0031594530333810826,
          0.002430975505690104,
          0.0018592677026048094,
          0.0014135061366334842,
          0.001068192571589817,
          0.0008024149673336578,
          0.0005991664744450268,
          0.00044472985010962884,
          0.00032813041415553337,
          0.00024065734852172883,
          0.0001754506835297614,
          0.0001271496051544292,
          9.159664222246458e-05,
          6.559173227095911e-05,
          4.6690006140220455e-05,
          3.303727104924677e-05,
          2.3237520015653024e-05,
          1.6247276806294146e-05,
          1.1292139633418228e-05,
          7.801466903389371e-06,
          5.357720252779716e-06,
          3.6575202757868674e-06,
          2.481963906512887e-06,
          1.6741914169164979e-06,
          1.122572678694691e-06,
          7.482076945094416e-07,
          4.957089026129092e-07
         ]
        },
        {
         "marker": {
          "color": "#ffffff",
          "line": {
           "color": "#e41a1c",
           "width": 1
          }
         },
         "mode": "markers",
         "name": "setosa data",
         "opacity": 0.7,
         "type": "scatter",
         "x": [
          0.2,
          0.2,
          0.2,
          0.2,
          0.2,
          0.4,
          0.3,
          0.2,
          0.2,
          0.1,
          0.2,
          0.2,
          0.1,
          0.1,
          0.2,
          0.4,
          0.4,
          0.3,
          0.3,
          0.3,
          0.2,
          0.4,
          0.2,
          0.5,
          0.2,
          0.2,
          0.4,
          0.2,
          0.2,
          0.2,
          0.2,
          0.4,
          0.1,
          0.2,
          0.2,
          0.2,
          0.2,
          0.1,
          0.2,
          0.2,
          0.3,
          0.3,
          0.2,
          0.6,
          0.4,
          0.3,
          0.2,
          0.2,
          0.2,
          0.2
         ],
         "y": [
          -0.036665251968494565,
          -0.04748205793483648,
          0.020031889910133743,
          -0.04083222330557688,
          -0.007826586061708316,
          0.025308494286424024,
          -0.028890559571115984,
          -0.001042822108338247,
          0.038896774306677054,
          0.005856679913832305,
          0.013987881435009494,
          0.015522971915087586,
          0.04608131141053544,
          0.022105559633760416,
          0.04081401805085942,
          -0.043254224694209024,
          -0.016994696907500495,
          -0.008709560314651713,
          0.0067331156487423355,
          0.019353208295893903,
          0.019699464145644677,
          -0.020898380371715975,
          -0.027969595081757094,
          0.007973575855199463,
          0.019621695043536558,
          0.038267964264493956,
          -0.014013299861320043,
          0.026372427627111783,
          -0.04875159578158322,
          0.043531351091373335,
          -0.025763121151062884,
          -0.013790071668342806,
          0.02662223649477144,
          -0.005982774848898628,
          0.046194206465489634,
          0.01658686439965945,
          0.006873977049052349,
          0.014266079471906279,
          0.04731199437916414,
          -0.010287327863272779,
          -0.04207410770890501,
          0.011035942323611589,
          -0.03355363300745873,
          0.04223828211642361,
          0.0047399392653615785,
          -0.022955045387857854,
          -0.04865429125764369,
          -0.030371879811451265,
          -0.013550771025873279,
          0.015208155856651098
         ]
        },
        {
         "line": {
          "color": "#377eb8"
         },
         "name": "versicolor density",
         "type": "scatter",
         "x": [
          -1,
          -0.9595959595959596,
          -0.9191919191919192,
          -0.8787878787878788,
          -0.8383838383838383,
          -0.797979797979798,
          -0.7575757575757576,
          -0.7171717171717171,
          -0.6767676767676767,
          -0.6363636363636364,
          -0.5959595959595959,
          -0.5555555555555556,
          -0.5151515151515151,
          -0.4747474747474747,
          -0.43434343434343425,
          -0.3939393939393939,
          -0.3535353535353535,
          -0.31313131313131304,
          -0.2727272727272727,
          -0.23232323232323226,
          -0.19191919191919182,
          -0.1515151515151515,
          -0.11111111111111105,
          -0.07070707070707061,
          -0.030303030303030276,
          0.010101010101010166,
          0.05050505050505061,
          0.09090909090909105,
          0.1313131313131315,
          0.1717171717171717,
          0.21212121212121215,
          0.2525252525252526,
          0.29292929292929304,
          0.3333333333333335,
          0.3737373737373739,
          0.41414141414141437,
          0.4545454545454546,
          0.49494949494949503,
          0.5353535353535355,
          0.5757575757575759,
          0.6161616161616164,
          0.6565656565656568,
          0.696969696969697,
          0.7373737373737375,
          0.7777777777777779,
          0.8181818181818183,
          0.8585858585858588,
          0.8989898989898992,
          0.9393939393939394,
          0.9797979797979799,
          1.0202020202020203,
          1.060606060606061,
          1.1010101010101012,
          1.1414141414141414,
          1.181818181818182,
          1.2222222222222223,
          1.262626262626263,
          1.3030303030303032,
          1.3434343434343434,
          1.383838383838384,
          1.4242424242424243,
          1.464646464646465,
          1.5050505050505052,
          1.5454545454545459,
          1.585858585858586,
          1.6262626262626263,
          1.666666666666667,
          1.7070707070707072,
          1.7474747474747478,
          1.787878787878788,
          1.8282828282828287,
          1.868686868686869,
          1.9090909090909092,
          1.9494949494949498,
          1.98989898989899,
          2.0303030303030307,
          2.070707070707071,
          2.111111111111111,
          2.151515151515152,
          2.191919191919192,
          2.2323232323232327,
          2.272727272727273,
          2.3131313131313136,
          2.353535353535354,
          2.393939393939394,
          2.4343434343434347,
          2.474747474747475,
          2.5151515151515156,
          2.555555555555556,
          2.5959595959595965,
          2.6363636363636367,
          2.676767676767677,
          2.7171717171717176,
          2.757575757575758,
          2.7979797979797985,
          2.8383838383838387,
          2.878787878787879,
          2.9191919191919196,
          2.95959595959596,
          3
         ],
         "y": [
          5.6585455148113874e-05,
          7.884963053327403e-05,
          0.00010920068167636523,
          0.00015030974373024544,
          0.0002056318520636748,
          0.0002796021991430327,
          0.0003778707702824044,
          0.0005075796588087171,
          0.0006776868855135406,
          0.0008993397056261093,
          0.0011862991049102027,
          0.00155541539496113,
          0.0020271524569086467,
          0.002626155211034344,
          0.003381851292239947,
          0.004329073708250484,
          0.005508686513712105,
          0.006968190366361138,
          0.008762279417751777,
          0.010953315570219481,
          0.01361168100670176,
          0.01681596543254723,
          0.02065294106950821,
          0.025217276556183933,
          0.030610940992326873,
          0.0369422518566296,
          0.04432452582009106,
          0.05287429987600488,
          0.06270910189637119,
          0.07394476472686362,
          0.08669229607977867,
          0.10105433739019047,
          0.11712126784553148,
          0.13496703412940433,
          0.15464481096322794,
          0.1761826210232933,
          0.19957906385746293,
          0.2247993205565899,
          0.25177161269454834,
          0.280384299087062,
          0.31048379108758145,
          0.3418734555960544,
          0.3743136542552192,
          0.40752303747003826,
          0.4411811734515982,
          0.47493254654476325,
          0.5083919072706253,
          0.5411509009081921,
          0.5727858445641375,
          0.6028664673259883,
          0.6309653771873546,
          0.6566679748620209,
          0.6795825010390062,
          0.6993498823509683,
          0.715653034053641,
          0.7282252851708022,
          0.7368576148828504,
          0.7414044266223897,
          0.7417876372460553,
          0.7379989205608003,
          0.7301000145150582,
          0.7182210761382973,
          0.7025571441395333,
          0.6833628421846814,
          0.6609455226370012,
          0.6356571077009022,
          0.6078849297537936,
          0.5780419031975658,
          0.5465563752507197,
          0.513862002451997,
          0.48038798384527326,
          0.4465499522590342,
          0.41274178386924826,
          0.3793285359654118,
          0.3466406665017719,
          0.3149696297398795,
          0.2845648831637246,
          0.2556322847405421,
          0.2283338089968294,
          0.20278846727106206,
          0.17907428330880343,
          0.1572311508911756,
          0.1372643856435725,
          0.11914877821498786,
          0.10283295983088425,
          0.08824390261030125,
          0.07529139454422791,
          0.06387235105444038,
          0.05387484995286283,
          0.04518180282922666,
          0.03767420198543197,
          0.03123390679420186,
          0.02574595582250677,
          0.021100410529547364,
          0.017193752393816326,
          0.013929867761246677,
          0.011220663571854661,
          0.008986362629590903,
          0.007155529578684385,
          0.005664878680221962
         ]
        },
        {
         "marker": {
          "color": "#ffffff",
          "line": {
           "color": "#377eb8",
           "width": 1
          }
         },
         "mode": "markers",
         "name": "versicolor data",
         "opacity": 0.7,
         "type": "scatter",
         "x": [
          1.4,
          1.5,
          1.5,
          1.3,
          1.5,
          1.3,
          1.6,
          1,
          1.3,
          1.4,
          1,
          1.5,
          1,
          1.4,
          1.3,
          1.4,
          1.5,
          1,
          1.5,
          1.1,
          1.8,
          1.3,
          1.5,
          1.2,
          1.3,
          1.4,
          1.4,
          1.7,
          1.5,
          1,
          1.1,
          1,
          1.2,
          1.6,
          1.5,
          1.6,
          1.5,
          1.3,
          1.3,
          1.3,
          1.2,
          1.4,
          1.2,
          1,
          1.3,
          1.2,
          1.3,
          1.3,
          1.1,
          1.3
         ],
         "y": [
          -0.03747751415065627,
          0.026637531590828226,
          -0.009148973836527338,
          -0.0011029234689203596,
          0.04368215887765743,
          -0.02218182848282744,
          0.031999933630666486,
          0.024005854761788722,
          -0.036018509732403274,
          0.034237900169727914,
          0.04593335386048135,
          -0.0020954603307580394,
          -0.0307404783083588,
          -0.0011782952536356847,
          0.005431418982763406,
          0.03666389738961898,
          0.004876155737308298,
          0.04097289539016152,
          -0.002673948698820351,
          0.007317169048845183,
          0.0238026942424122,
          0.04768808048861069,
          0.01988443669289383,
          -0.01713872616441401,
          -0.018978377903648994,
          -0.040598655852530696,
          0.04859011186485705,
          -0.010258112819632112,
          0.02583651903152548,
          0.000650082713119407,
          0.03555706842762228,
          0.042645747073994766,
          -0.007518505752946748,
          -0.037262553580022034,
          0.03762173155922438,
          -0.048490083370274974,
          0.012209736751085866,
          0.01901408719687013,
          0.026328152385316606,
          0.01927572760306516,
          -0.004754800340932508,
          0.030607747879483657,
          0.022817604033256583,
          0.03698626569705753,
          -0.015888149690818497,
          0.002773909428612484,
          -0.005870180679505052,
          -0.04858392982837498,
          0.012005207884528891,
          -0.02119944739991705
         ]
        },
        {
         "line": {
          "color": "#4daf4a"
         },
         "name": "virginica density",
         "type": "scatter",
         "x": [
          -1,
          -0.9595959595959596,
          -0.9191919191919192,
          -0.8787878787878788,
          -0.8383838383838383,
          -0.797979797979798,
          -0.7575757575757576,
          -0.7171717171717171,
          -0.6767676767676767,
          -0.6363636363636364,
          -0.5959595959595959,
          -0.5555555555555556,
          -0.5151515151515151,
          -0.4747474747474747,
          -0.43434343434343425,
          -0.3939393939393939,
          -0.3535353535353535,
          -0.31313131313131304,
          -0.2727272727272727,
          -0.23232323232323226,
          -0.19191919191919182,
          -0.1515151515151515,
          -0.11111111111111105,
          -0.07070707070707061,
          -0.030303030303030276,
          0.010101010101010166,
          0.05050505050505061,
          0.09090909090909105,
          0.1313131313131315,
          0.1717171717171717,
          0.21212121212121215,
          0.2525252525252526,
          0.29292929292929304,
          0.3333333333333335,
          0.3737373737373739,
          0.41414141414141437,
          0.4545454545454546,
          0.49494949494949503,
          0.5353535353535355,
          0.5757575757575759,
          0.6161616161616164,
          0.6565656565656568,
          0.696969696969697,
          0.7373737373737375,
          0.7777777777777779,
          0.8181818181818183,
          0.8585858585858588,
          0.8989898989898992,
          0.9393939393939394,
          0.9797979797979799,
          1.0202020202020203,
          1.060606060606061,
          1.1010101010101012,
          1.1414141414141414,
          1.181818181818182,
          1.2222222222222223,
          1.262626262626263,
          1.3030303030303032,
          1.3434343434343434,
          1.383838383838384,
          1.4242424242424243,
          1.464646464646465,
          1.5050505050505052,
          1.5454545454545459,
          1.585858585858586,
          1.6262626262626263,
          1.666666666666667,
          1.7070707070707072,
          1.7474747474747478,
          1.787878787878788,
          1.8282828282828287,
          1.868686868686869,
          1.9090909090909092,
          1.9494949494949498,
          1.98989898989899,
          2.0303030303030307,
          2.070707070707071,
          2.111111111111111,
          2.151515151515152,
          2.191919191919192,
          2.2323232323232327,
          2.272727272727273,
          2.3131313131313136,
          2.353535353535354,
          2.393939393939394,
          2.4343434343434347,
          2.474747474747475,
          2.5151515151515156,
          2.555555555555556,
          2.5959595959595965,
          2.6363636363636367,
          2.676767676767677,
          2.7171717171717176,
          2.757575757575758,
          2.7979797979797985,
          2.8383838383838387,
          2.878787878787879,
          2.9191919191919196,
          2.95959595959596,
          3
         ],
         "y": [
          3.3942088784433027e-07,
          5.065247596941195e-07,
          7.513224277105673e-07,
          1.1077020985095998e-06,
          1.6232977110426856e-06,
          2.3646114916138614e-06,
          3.4238593216077848e-06,
          4.928046788325143e-06,
          7.050907887872772e-06,
          1.0028484188181473e-05,
          1.4179290864795792e-05,
          1.9930207439027646e-05,
          2.7849443946191017e-05,
          3.8688164471988085e-05,
          5.34325940042963e-05,
          7.336868296490346e-05,
          0.00010016164481486096,
          0.00013595290008415104,
          0.00018347713510665905,
          0.00024620229119896446,
          0.00032849531108305205,
          0.0004358163509458836,
          0.0005749438821517471,
          0.0007542326175374811,
          0.0009839054641732322,
          0.0012763796899955115,
          0.0016466261630219373,
          0.0021125588542647354,
          0.002695449776340614,
          0.003420362162791749,
          0.00431659200262186,
          0.005418105079736794,
          0.006763953505678319,
          0.008398652485451456,
          0.01037249486236458,
          0.012741778022997963,
          0.015568915211732181,
          0.018922401434039695,
          0.022876603163292927,
          0.027511341256114225,
          0.03291123806556326,
          0.03916480293248659,
          0.04636323520065134,
          0.05459893074347295,
          0.06396368672768431,
          0.07454660988908735,
          0.08643174575907793,
          0.09969545973550473,
          0.1144036151895417,
          0.1306086083745556,
          0.14834633408311132,
          0.16763316903598066,
          0.1884630710903455,
          0.21080490072988545,
          0.23460007620013243,
          0.25976067442878065,
          0.2861680860208044,
          0.31367232383445587,
          0.34209207085082527,
          0.3712155344291427,
          0.4008021510448381,
          0.4305851589544634,
          0.46027502687959304,
          0.48956369591101423,
          0.5181295607118115,
          0.5456430861296504,
          0.5717729279059097,
          0.5961924026111045,
          0.6185861334143855,
          0.638656685768471,
          0.6561310012516494,
          0.6707664390413745,
          0.6823562428601682,
          0.6907342664683445,
          0.6957788123049304,
          0.6974154648480335,
          0.6956188316005129,
          0.6904131390558468,
          0.6818716672026776,
          0.6701150426791329,
          0.6553084462006535,
          0.6376578230429786,
          0.6174052149753585,
          0.594823357085978,
          0.5702097026012077,
          0.5438800524777876,
          0.5161619738886801,
          0.4873881926230116,
          0.45789013901790265,
          0.4279918157098961,
          0.3980041388280948,
          0.3682198830328426,
          0.3389093359735319,
          0.3103167403555923,
          0.28265757300162636,
          0.25611668122094927,
          0.23084726859504212,
          0.2069706959972117,
          0.18457704022412422,
          0.16372633279329288
         ]
        },
        {
         "marker": {
          "color": "#ffffff",
          "line": {
           "color": "#4daf4a",
           "width": 1
          }
         },
         "mode": "markers",
         "name": "virginica data",
         "opacity": 0.7,
         "type": "scatter",
         "x": [
          2.5,
          1.9,
          2.1,
          1.8,
          2.2,
          2.1,
          1.7,
          1.8,
          1.8,
          2.5,
          2,
          1.9,
          2.1,
          2,
          2.4,
          2.3,
          1.8,
          2.2,
          2.3,
          1.5,
          2.3,
          2,
          2,
          1.8,
          2.1,
          1.8,
          1.8,
          1.8,
          2.1,
          1.6,
          1.9,
          2,
          2.2,
          1.5,
          1.4,
          2.3,
          2.4,
          1.8,
          1.8,
          2.1,
          2.4,
          2.3,
          1.9,
          2.3,
          2.5,
          2.3,
          1.9,
          2,
          2.3,
          1.8
         ],
         "y": [
          -0.0014910453977496699,
          0.003406794649218045,
          -0.039947864300519435,
          -0.004684040878608783,
          -0.0025698111507675633,
          -0.04755509674134119,
          0.004591143102494921,
          -0.04500029446565597,
          0.00036578098361372824,
          -0.01961053669931716,
          0.011903350261611947,
          0.043842679278136495,
          -0.020992808703803014,
          0.018726674340240904,
          -0.03943252664267857,
          -0.004658869626238835,
          -0.037481147182420266,
          -0.035930537051046645,
          0.028897420342705843,
          0.009459628591362922,
          0.01549111272486732,
          0.040914438108580226,
          0.03755298294712005,
          -0.04198376485538115,
          0.03147453587579034,
          0.014711129449374,
          0.002699203025205113,
          -0.03960361325538473,
          -0.015440042442028026,
          -0.010978545752124272,
          0.049154155256247986,
          -0.007679390593721434,
          0.036475799114430454,
          0.037169934877086516,
          -0.03456386122605684,
          -0.01448496327082393,
          -0.025607575997794153,
          0.04159924726378722,
          -0.04771288914003146,
          -0.0133271624976816,
          0.027941616213915027,
          0.036938666080105126,
          -0.04919619147912081,
          0.01657039907126162,
          -0.01734264885270842,
          0.030891603394499575,
          -0.012692514290018407,
          0.013912236549780924,
          0.028196775949631533,
          0.006127823409530955
         ]
        }
       ],
       "layout": {
        "template": {
         "data": {
          "bar": [
           {
            "error_x": {
             "color": "#2a3f5f"
            },
            "error_y": {
             "color": "#2a3f5f"
            },
            "marker": {
             "line": {
              "color": "white",
              "width": 0.5
             }
            },
            "type": "bar"
           }
          ],
          "barpolar": [
           {
            "marker": {
             "line": {
              "color": "white",
              "width": 0.5
             }
            },
            "type": "barpolar"
           }
          ],
          "carpet": [
           {
            "aaxis": {
             "endlinecolor": "#2a3f5f",
             "gridcolor": "#C8D4E3",
             "linecolor": "#C8D4E3",
             "minorgridcolor": "#C8D4E3",
             "startlinecolor": "#2a3f5f"
            },
            "baxis": {
             "endlinecolor": "#2a3f5f",
             "gridcolor": "#C8D4E3",
             "linecolor": "#C8D4E3",
             "minorgridcolor": "#C8D4E3",
             "startlinecolor": "#2a3f5f"
            },
            "type": "carpet"
           }
          ],
          "choropleth": [
           {
            "colorbar": {
             "outlinewidth": 0,
             "ticks": ""
            },
            "type": "choropleth"
           }
          ],
          "contour": [
           {
            "colorbar": {
             "outlinewidth": 0,
             "ticks": ""
            },
            "colorscale": [
             [
              0,
              "#0d0887"
             ],
             [
              0.1111111111111111,
              "#46039f"
             ],
             [
              0.2222222222222222,
              "#7201a8"
             ],
             [
              0.3333333333333333,
              "#9c179e"
             ],
             [
              0.4444444444444444,
              "#bd3786"
             ],
             [
              0.5555555555555556,
              "#d8576b"
             ],
             [
              0.6666666666666666,
              "#ed7953"
             ],
             [
              0.7777777777777778,
              "#fb9f3a"
             ],
             [
              0.8888888888888888,
              "#fdca26"
             ],
             [
              1,
              "#f0f921"
             ]
            ],
            "type": "contour"
           }
          ],
          "contourcarpet": [
           {
            "colorbar": {
             "outlinewidth": 0,
             "ticks": ""
            },
            "type": "contourcarpet"
           }
          ],
          "heatmap": [
           {
            "colorbar": {
             "outlinewidth": 0,
             "ticks": ""
            },
            "colorscale": [
             [
              0,
              "#0d0887"
             ],
             [
              0.1111111111111111,
              "#46039f"
             ],
             [
              0.2222222222222222,
              "#7201a8"
             ],
             [
              0.3333333333333333,
              "#9c179e"
             ],
             [
              0.4444444444444444,
              "#bd3786"
             ],
             [
              0.5555555555555556,
              "#d8576b"
             ],
             [
              0.6666666666666666,
              "#ed7953"
             ],
             [
              0.7777777777777778,
              "#fb9f3a"
             ],
             [
              0.8888888888888888,
              "#fdca26"
             ],
             [
              1,
              "#f0f921"
             ]
            ],
            "type": "heatmap"
           }
          ],
          "heatmapgl": [
           {
            "colorbar": {
             "outlinewidth": 0,
             "ticks": ""
            },
            "colorscale": [
             [
              0,
              "#0d0887"
             ],
             [
              0.1111111111111111,
              "#46039f"
             ],
             [
              0.2222222222222222,
              "#7201a8"
             ],
             [
              0.3333333333333333,
              "#9c179e"
             ],
             [
              0.4444444444444444,
              "#bd3786"
             ],
             [
              0.5555555555555556,
              "#d8576b"
             ],
             [
              0.6666666666666666,
              "#ed7953"
             ],
             [
              0.7777777777777778,
              "#fb9f3a"
             ],
             [
              0.8888888888888888,
              "#fdca26"
             ],
             [
              1,
              "#f0f921"
             ]
            ],
            "type": "heatmapgl"
           }
          ],
          "histogram": [
           {
            "marker": {
             "colorbar": {
              "outlinewidth": 0,
              "ticks": ""
             }
            },
            "type": "histogram"
           }
          ],
          "histogram2d": [
           {
            "colorbar": {
             "outlinewidth": 0,
             "ticks": ""
            },
            "colorscale": [
             [
              0,
              "#0d0887"
             ],
             [
              0.1111111111111111,
              "#46039f"
             ],
             [
              0.2222222222222222,
              "#7201a8"
             ],
             [
              0.3333333333333333,
              "#9c179e"
             ],
             [
              0.4444444444444444,
              "#bd3786"
             ],
             [
              0.5555555555555556,
              "#d8576b"
             ],
             [
              0.6666666666666666,
              "#ed7953"
             ],
             [
              0.7777777777777778,
              "#fb9f3a"
             ],
             [
              0.8888888888888888,
              "#fdca26"
             ],
             [
              1,
              "#f0f921"
             ]
            ],
            "type": "histogram2d"
           }
          ],
          "histogram2dcontour": [
           {
            "colorbar": {
             "outlinewidth": 0,
             "ticks": ""
            },
            "colorscale": [
             [
              0,
              "#0d0887"
             ],
             [
              0.1111111111111111,
              "#46039f"
             ],
             [
              0.2222222222222222,
              "#7201a8"
             ],
             [
              0.3333333333333333,
              "#9c179e"
             ],
             [
              0.4444444444444444,
              "#bd3786"
             ],
             [
              0.5555555555555556,
              "#d8576b"
             ],
             [
              0.6666666666666666,
              "#ed7953"
             ],
             [
              0.7777777777777778,
              "#fb9f3a"
             ],
             [
              0.8888888888888888,
              "#fdca26"
             ],
             [
              1,
              "#f0f921"
             ]
            ],
            "type": "histogram2dcontour"
           }
          ],
          "mesh3d": [
           {
            "colorbar": {
             "outlinewidth": 0,
             "ticks": ""
            },
            "type": "mesh3d"
           }
          ],
          "parcoords": [
           {
            "line": {
             "colorbar": {
              "outlinewidth": 0,
              "ticks": ""
             }
            },
            "type": "parcoords"
           }
          ],
          "pie": [
           {
            "automargin": true,
            "type": "pie"
           }
          ],
          "scatter": [
           {
            "marker": {
             "colorbar": {
              "outlinewidth": 0,
              "ticks": ""
             }
            },
            "type": "scatter"
           }
          ],
          "scatter3d": [
           {
            "line": {
             "colorbar": {
              "outlinewidth": 0,
              "ticks": ""
             }
            },
            "marker": {
             "colorbar": {
              "outlinewidth": 0,
              "ticks": ""
             }
            },
            "type": "scatter3d"
           }
          ],
          "scattercarpet": [
           {
            "marker": {
             "colorbar": {
              "outlinewidth": 0,
              "ticks": ""
             }
            },
            "type": "scattercarpet"
           }
          ],
          "scattergeo": [
           {
            "marker": {
             "colorbar": {
              "outlinewidth": 0,
              "ticks": ""
             }
            },
            "type": "scattergeo"
           }
          ],
          "scattergl": [
           {
            "marker": {
             "colorbar": {
              "outlinewidth": 0,
              "ticks": ""
             }
            },
            "type": "scattergl"
           }
          ],
          "scattermapbox": [
           {
            "marker": {
             "colorbar": {
              "outlinewidth": 0,
              "ticks": ""
             }
            },
            "type": "scattermapbox"
           }
          ],
          "scatterpolar": [
           {
            "marker": {
             "colorbar": {
              "outlinewidth": 0,
              "ticks": ""
             }
            },
            "type": "scatterpolar"
           }
          ],
          "scatterpolargl": [
           {
            "marker": {
             "colorbar": {
              "outlinewidth": 0,
              "ticks": ""
             }
            },
            "type": "scatterpolargl"
           }
          ],
          "scatterternary": [
           {
            "marker": {
             "colorbar": {
              "outlinewidth": 0,
              "ticks": ""
             }
            },
            "type": "scatterternary"
           }
          ],
          "surface": [
           {
            "colorbar": {
             "outlinewidth": 0,
             "ticks": ""
            },
            "colorscale": [
             [
              0,
              "#0d0887"
             ],
             [
              0.1111111111111111,
              "#46039f"
             ],
             [
              0.2222222222222222,
              "#7201a8"
             ],
             [
              0.3333333333333333,
              "#9c179e"
             ],
             [
              0.4444444444444444,
              "#bd3786"
             ],
             [
              0.5555555555555556,
              "#d8576b"
             ],
             [
              0.6666666666666666,
              "#ed7953"
             ],
             [
              0.7777777777777778,
              "#fb9f3a"
             ],
             [
              0.8888888888888888,
              "#fdca26"
             ],
             [
              1,
              "#f0f921"
             ]
            ],
            "type": "surface"
           }
          ],
          "table": [
           {
            "cells": {
             "fill": {
              "color": "#EBF0F8"
             },
             "line": {
              "color": "white"
             }
            },
            "header": {
             "fill": {
              "color": "#C8D4E3"
             },
             "line": {
              "color": "white"
             }
            },
            "type": "table"
           }
          ]
         },
         "layout": {
          "annotationdefaults": {
           "arrowcolor": "#2a3f5f",
           "arrowhead": 0,
           "arrowwidth": 1
          },
          "coloraxis": {
           "colorbar": {
            "outlinewidth": 0,
            "ticks": ""
           }
          },
          "colorscale": {
           "diverging": [
            [
             0,
             "#8e0152"
            ],
            [
             0.1,
             "#c51b7d"
            ],
            [
             0.2,
             "#de77ae"
            ],
            [
             0.3,
             "#f1b6da"
            ],
            [
             0.4,
             "#fde0ef"
            ],
            [
             0.5,
             "#f7f7f7"
            ],
            [
             0.6,
             "#e6f5d0"
            ],
            [
             0.7,
             "#b8e186"
            ],
            [
             0.8,
             "#7fbc41"
            ],
            [
             0.9,
             "#4d9221"
            ],
            [
             1,
             "#276419"
            ]
           ],
           "sequential": [
            [
             0,
             "#0d0887"
            ],
            [
             0.1111111111111111,
             "#46039f"
            ],
            [
             0.2222222222222222,
             "#7201a8"
            ],
            [
             0.3333333333333333,
             "#9c179e"
            ],
            [
             0.4444444444444444,
             "#bd3786"
            ],
            [
             0.5555555555555556,
             "#d8576b"
            ],
            [
             0.6666666666666666,
             "#ed7953"
            ],
            [
             0.7777777777777778,
             "#fb9f3a"
            ],
            [
             0.8888888888888888,
             "#fdca26"
            ],
            [
             1,
             "#f0f921"
            ]
           ],
           "sequentialminus": [
            [
             0,
             "#0d0887"
            ],
            [
             0.1111111111111111,
             "#46039f"
            ],
            [
             0.2222222222222222,
             "#7201a8"
            ],
            [
             0.3333333333333333,
             "#9c179e"
            ],
            [
             0.4444444444444444,
             "#bd3786"
            ],
            [
             0.5555555555555556,
             "#d8576b"
            ],
            [
             0.6666666666666666,
             "#ed7953"
            ],
            [
             0.7777777777777778,
             "#fb9f3a"
            ],
            [
             0.8888888888888888,
             "#fdca26"
            ],
            [
             1,
             "#f0f921"
            ]
           ]
          },
          "colorway": [
           "#636efa",
           "#EF553B",
           "#00cc96",
           "#ab63fa",
           "#FFA15A",
           "#19d3f3",
           "#FF6692",
           "#B6E880",
           "#FF97FF",
           "#FECB52"
          ],
          "font": {
           "color": "#2a3f5f"
          },
          "geo": {
           "bgcolor": "white",
           "lakecolor": "white",
           "landcolor": "white",
           "showlakes": true,
           "showland": true,
           "subunitcolor": "#C8D4E3"
          },
          "hoverlabel": {
           "align": "left"
          },
          "hovermode": "closest",
          "mapbox": {
           "style": "light"
          },
          "paper_bgcolor": "white",
          "plot_bgcolor": "white",
          "polar": {
           "angularaxis": {
            "gridcolor": "#EBF0F8",
            "linecolor": "#EBF0F8",
            "ticks": ""
           },
           "bgcolor": "white",
           "radialaxis": {
            "gridcolor": "#EBF0F8",
            "linecolor": "#EBF0F8",
            "ticks": ""
           }
          },
          "scene": {
           "xaxis": {
            "backgroundcolor": "white",
            "gridcolor": "#DFE8F3",
            "gridwidth": 2,
            "linecolor": "#EBF0F8",
            "showbackground": true,
            "ticks": "",
            "zerolinecolor": "#EBF0F8"
           },
           "yaxis": {
            "backgroundcolor": "white",
            "gridcolor": "#DFE8F3",
            "gridwidth": 2,
            "linecolor": "#EBF0F8",
            "showbackground": true,
            "ticks": "",
            "zerolinecolor": "#EBF0F8"
           },
           "zaxis": {
            "backgroundcolor": "white",
            "gridcolor": "#DFE8F3",
            "gridwidth": 2,
            "linecolor": "#EBF0F8",
            "showbackground": true,
            "ticks": "",
            "zerolinecolor": "#EBF0F8"
           }
          },
          "shapedefaults": {
           "line": {
            "color": "#2a3f5f"
           }
          },
          "ternary": {
           "aaxis": {
            "gridcolor": "#DFE8F3",
            "linecolor": "#A2B1C6",
            "ticks": ""
           },
           "baxis": {
            "gridcolor": "#DFE8F3",
            "linecolor": "#A2B1C6",
            "ticks": ""
           },
           "bgcolor": "white",
           "caxis": {
            "gridcolor": "#DFE8F3",
            "linecolor": "#A2B1C6",
            "ticks": ""
           }
          },
          "title": {
           "x": 0.05
          },
          "xaxis": {
           "automargin": true,
           "gridcolor": "#EBF0F8",
           "linecolor": "#EBF0F8",
           "ticks": "",
           "title": {
            "standoff": 15
           },
           "zerolinecolor": "#EBF0F8",
           "zerolinewidth": 2
          },
          "yaxis": {
           "automargin": true,
           "gridcolor": "#EBF0F8",
           "linecolor": "#EBF0F8",
           "ticks": "",
           "title": {
            "standoff": 15
           },
           "zerolinecolor": "#EBF0F8",
           "zerolinewidth": 2
          }
         }
        },
        "title": {
         "text": "Petal Width Distribution By Class (h = 0.50)"
        }
       }
      },
      "text/html": [
       "<div>\n",
       "        \n",
       "        \n",
       "            <div id=\"73609c56-9809-4f15-b306-80c9ee4dc6bf\" class=\"plotly-graph-div\" style=\"height:525px; width:100%;\"></div>\n",
       "            <script type=\"text/javascript\">\n",
       "                require([\"plotly\"], function(Plotly) {\n",
       "                    window.PLOTLYENV=window.PLOTLYENV || {};\n",
       "                    \n",
       "                if (document.getElementById(\"73609c56-9809-4f15-b306-80c9ee4dc6bf\")) {\n",
       "                    Plotly.newPlot(\n",
       "                        '73609c56-9809-4f15-b306-80c9ee4dc6bf',\n",
       "                        [{\"line\": {\"color\": \"#e41a1c\"}, \"name\": \"setosa density\", \"type\": \"scatter\", \"x\": [-1.0, -0.9595959595959596, -0.9191919191919192, -0.8787878787878788, -0.8383838383838383, -0.797979797979798, -0.7575757575757576, -0.7171717171717171, -0.6767676767676767, -0.6363636363636364, -0.5959595959595959, -0.5555555555555556, -0.5151515151515151, -0.4747474747474747, -0.43434343434343425, -0.3939393939393939, -0.3535353535353535, -0.31313131313131304, -0.2727272727272727, -0.23232323232323226, -0.19191919191919182, -0.1515151515151515, -0.11111111111111105, -0.07070707070707061, -0.030303030303030276, 0.010101010101010166, 0.05050505050505061, 0.09090909090909105, 0.1313131313131315, 0.1717171717171717, 0.21212121212121215, 0.2525252525252526, 0.29292929292929304, 0.3333333333333335, 0.3737373737373739, 0.41414141414141437, 0.4545454545454546, 0.49494949494949503, 0.5353535353535355, 0.5757575757575759, 0.6161616161616164, 0.6565656565656568, 0.696969696969697, 0.7373737373737375, 0.7777777777777779, 0.8181818181818183, 0.8585858585858588, 0.8989898989898992, 0.9393939393939394, 0.9797979797979799, 1.0202020202020203, 1.060606060606061, 1.1010101010101012, 1.1414141414141414, 1.181818181818182, 1.2222222222222223, 1.262626262626263, 1.3030303030303032, 1.3434343434343434, 1.383838383838384, 1.4242424242424243, 1.464646464646465, 1.5050505050505052, 1.5454545454545459, 1.585858585858586, 1.6262626262626263, 1.666666666666667, 1.7070707070707072, 1.7474747474747478, 1.787878787878788, 1.8282828282828287, 1.868686868686869, 1.9090909090909092, 1.9494949494949498, 1.98989898989899, 2.0303030303030307, 2.070707070707071, 2.111111111111111, 2.151515151515152, 2.191919191919192, 2.2323232323232327, 2.272727272727273, 2.3131313131313136, 2.353535353535354, 2.393939393939394, 2.4343434343434347, 2.474747474747475, 2.5151515151515156, 2.555555555555556, 2.5959595959595965, 2.6363636363636367, 2.676767676767677, 2.7171717171717176, 2.757575757575758, 2.7979797979797985, 2.8383838383838387, 2.878787878787879, 2.9191919191919196, 2.95959595959596, 3.0], \"y\": [0.03936476900446657, 0.047677757998073354, 0.05737922683958805, 0.06861599552468586, 0.08153215986399939, 0.09626458722268133, 0.11293780538021936, 0.1316583822136742, 0.1525089360418175, 0.1755419584402688, 0.2007736705483631, 0.22817816748454386, 0.2576821305346095, 0.289160400465916, 0.3224327051907001, 0.35726181917484356, 0.3933533993852712, 0.43035769309081745, 0.4678732474856012, 0.5054526720582654, 0.5426104151796253, 0.5788324208219038, 0.6135874347378365, 0.6463396373898815, 0.6765621991313757, 0.7037512870389662, 0.727440007145926, 0.7472117443494817, 0.7627123673198349, 0.7736607980908292, 0.7798575047226641, 0.7811905578594004, 0.7776389939645605, 0.7692733440157018, 0.7562533100463995, 0.7388226962141544, 0.7173018190921435, 0.6920777271265963, 0.6635926460510139, 0.6323311311344838, 0.5988064456098038, 0.5635466962839465, 0.5270812426640018, 0.48992785699678976, 0.4525810528418174, 0.41550192365710154, 0.3791097455569895, 0.3437755053936871, 0.30981742204159635, 0.27749844022736864, 0.2470255967392424, 0.21855109173116852, 0.19217484541904004, 0.1679482839583278, 0.14587907784538953, 0.1259365509988362, 0.1080574871643801, 0.0921520802678013, 0.0781098042600715, 0.06580501313494581, 0.0551021204595489, 0.04586024744294698, 0.03793726709699015, 0.03119320764481707, 0.02549300968378554, 0.02070865784830532, 0.01672072841513551, 0.01341940940451381, 0.010705059528358716, 0.00848837733765988, 0.006690252806270808, 0.005241371130857045, 0.004081633527011934, 0.0031594530333810826, 0.002430975505690104, 0.0018592677026048094, 0.0014135061366334842, 0.001068192571589817, 0.0008024149673336578, 0.0005991664744450268, 0.00044472985010962884, 0.00032813041415553337, 0.00024065734852172883, 0.0001754506835297614, 0.0001271496051544292, 9.159664222246458e-05, 6.559173227095911e-05, 4.6690006140220455e-05, 3.303727104924677e-05, 2.3237520015653024e-05, 1.6247276806294146e-05, 1.1292139633418228e-05, 7.801466903389371e-06, 5.357720252779716e-06, 3.6575202757868674e-06, 2.481963906512887e-06, 1.6741914169164979e-06, 1.122572678694691e-06, 7.482076945094416e-07, 4.957089026129092e-07]}, {\"marker\": {\"color\": \"#ffffff\", \"line\": {\"color\": \"#e41a1c\", \"width\": 1}}, \"mode\": \"markers\", \"name\": \"setosa data\", \"opacity\": 0.7, \"type\": \"scatter\", \"x\": [0.2, 0.2, 0.2, 0.2, 0.2, 0.4, 0.3, 0.2, 0.2, 0.1, 0.2, 0.2, 0.1, 0.1, 0.2, 0.4, 0.4, 0.3, 0.3, 0.3, 0.2, 0.4, 0.2, 0.5, 0.2, 0.2, 0.4, 0.2, 0.2, 0.2, 0.2, 0.4, 0.1, 0.2, 0.2, 0.2, 0.2, 0.1, 0.2, 0.2, 0.3, 0.3, 0.2, 0.6, 0.4, 0.3, 0.2, 0.2, 0.2, 0.2], \"y\": [-0.036665251968494565, -0.04748205793483648, 0.020031889910133743, -0.04083222330557688, -0.007826586061708316, 0.025308494286424024, -0.028890559571115984, -0.001042822108338247, 0.038896774306677054, 0.005856679913832305, 0.013987881435009494, 0.015522971915087586, 0.04608131141053544, 0.022105559633760416, 0.04081401805085942, -0.043254224694209024, -0.016994696907500495, -0.008709560314651713, 0.0067331156487423355, 0.019353208295893903, 0.019699464145644677, -0.020898380371715975, -0.027969595081757094, 0.007973575855199463, 0.019621695043536558, 0.038267964264493956, -0.014013299861320043, 0.026372427627111783, -0.04875159578158322, 0.043531351091373335, -0.025763121151062884, -0.013790071668342806, 0.02662223649477144, -0.005982774848898628, 0.046194206465489634, 0.01658686439965945, 0.006873977049052349, 0.014266079471906279, 0.04731199437916414, -0.010287327863272779, -0.04207410770890501, 0.011035942323611589, -0.03355363300745873, 0.04223828211642361, 0.0047399392653615785, -0.022955045387857854, -0.04865429125764369, -0.030371879811451265, -0.013550771025873279, 0.015208155856651098]}, {\"line\": {\"color\": \"#377eb8\"}, \"name\": \"versicolor density\", \"type\": \"scatter\", \"x\": [-1.0, -0.9595959595959596, -0.9191919191919192, -0.8787878787878788, -0.8383838383838383, -0.797979797979798, -0.7575757575757576, -0.7171717171717171, -0.6767676767676767, -0.6363636363636364, -0.5959595959595959, -0.5555555555555556, -0.5151515151515151, -0.4747474747474747, -0.43434343434343425, -0.3939393939393939, -0.3535353535353535, -0.31313131313131304, -0.2727272727272727, -0.23232323232323226, -0.19191919191919182, -0.1515151515151515, -0.11111111111111105, -0.07070707070707061, -0.030303030303030276, 0.010101010101010166, 0.05050505050505061, 0.09090909090909105, 0.1313131313131315, 0.1717171717171717, 0.21212121212121215, 0.2525252525252526, 0.29292929292929304, 0.3333333333333335, 0.3737373737373739, 0.41414141414141437, 0.4545454545454546, 0.49494949494949503, 0.5353535353535355, 0.5757575757575759, 0.6161616161616164, 0.6565656565656568, 0.696969696969697, 0.7373737373737375, 0.7777777777777779, 0.8181818181818183, 0.8585858585858588, 0.8989898989898992, 0.9393939393939394, 0.9797979797979799, 1.0202020202020203, 1.060606060606061, 1.1010101010101012, 1.1414141414141414, 1.181818181818182, 1.2222222222222223, 1.262626262626263, 1.3030303030303032, 1.3434343434343434, 1.383838383838384, 1.4242424242424243, 1.464646464646465, 1.5050505050505052, 1.5454545454545459, 1.585858585858586, 1.6262626262626263, 1.666666666666667, 1.7070707070707072, 1.7474747474747478, 1.787878787878788, 1.8282828282828287, 1.868686868686869, 1.9090909090909092, 1.9494949494949498, 1.98989898989899, 2.0303030303030307, 2.070707070707071, 2.111111111111111, 2.151515151515152, 2.191919191919192, 2.2323232323232327, 2.272727272727273, 2.3131313131313136, 2.353535353535354, 2.393939393939394, 2.4343434343434347, 2.474747474747475, 2.5151515151515156, 2.555555555555556, 2.5959595959595965, 2.6363636363636367, 2.676767676767677, 2.7171717171717176, 2.757575757575758, 2.7979797979797985, 2.8383838383838387, 2.878787878787879, 2.9191919191919196, 2.95959595959596, 3.0], \"y\": [5.6585455148113874e-05, 7.884963053327403e-05, 0.00010920068167636523, 0.00015030974373024544, 0.0002056318520636748, 0.0002796021991430327, 0.0003778707702824044, 0.0005075796588087171, 0.0006776868855135406, 0.0008993397056261093, 0.0011862991049102027, 0.00155541539496113, 0.0020271524569086467, 0.002626155211034344, 0.003381851292239947, 0.004329073708250484, 0.005508686513712105, 0.006968190366361138, 0.008762279417751777, 0.010953315570219481, 0.01361168100670176, 0.01681596543254723, 0.02065294106950821, 0.025217276556183933, 0.030610940992326873, 0.0369422518566296, 0.04432452582009106, 0.05287429987600488, 0.06270910189637119, 0.07394476472686362, 0.08669229607977867, 0.10105433739019047, 0.11712126784553148, 0.13496703412940433, 0.15464481096322794, 0.1761826210232933, 0.19957906385746293, 0.2247993205565899, 0.25177161269454834, 0.280384299087062, 0.31048379108758145, 0.3418734555960544, 0.3743136542552192, 0.40752303747003826, 0.4411811734515982, 0.47493254654476325, 0.5083919072706253, 0.5411509009081921, 0.5727858445641375, 0.6028664673259883, 0.6309653771873546, 0.6566679748620209, 0.6795825010390062, 0.6993498823509683, 0.715653034053641, 0.7282252851708022, 0.7368576148828504, 0.7414044266223897, 0.7417876372460553, 0.7379989205608003, 0.7301000145150582, 0.7182210761382973, 0.7025571441395333, 0.6833628421846814, 0.6609455226370012, 0.6356571077009022, 0.6078849297537936, 0.5780419031975658, 0.5465563752507197, 0.513862002451997, 0.48038798384527326, 0.4465499522590342, 0.41274178386924826, 0.3793285359654118, 0.3466406665017719, 0.3149696297398795, 0.2845648831637246, 0.2556322847405421, 0.2283338089968294, 0.20278846727106206, 0.17907428330880343, 0.1572311508911756, 0.1372643856435725, 0.11914877821498786, 0.10283295983088425, 0.08824390261030125, 0.07529139454422791, 0.06387235105444038, 0.05387484995286283, 0.04518180282922666, 0.03767420198543197, 0.03123390679420186, 0.02574595582250677, 0.021100410529547364, 0.017193752393816326, 0.013929867761246677, 0.011220663571854661, 0.008986362629590903, 0.007155529578684385, 0.005664878680221962]}, {\"marker\": {\"color\": \"#ffffff\", \"line\": {\"color\": \"#377eb8\", \"width\": 1}}, \"mode\": \"markers\", \"name\": \"versicolor data\", \"opacity\": 0.7, \"type\": \"scatter\", \"x\": [1.4, 1.5, 1.5, 1.3, 1.5, 1.3, 1.6, 1.0, 1.3, 1.4, 1.0, 1.5, 1.0, 1.4, 1.3, 1.4, 1.5, 1.0, 1.5, 1.1, 1.8, 1.3, 1.5, 1.2, 1.3, 1.4, 1.4, 1.7, 1.5, 1.0, 1.1, 1.0, 1.2, 1.6, 1.5, 1.6, 1.5, 1.3, 1.3, 1.3, 1.2, 1.4, 1.2, 1.0, 1.3, 1.2, 1.3, 1.3, 1.1, 1.3], \"y\": [-0.03747751415065627, 0.026637531590828226, -0.009148973836527338, -0.0011029234689203596, 0.04368215887765743, -0.02218182848282744, 0.031999933630666486, 0.024005854761788722, -0.036018509732403274, 0.034237900169727914, 0.04593335386048135, -0.0020954603307580394, -0.0307404783083588, -0.0011782952536356847, 0.005431418982763406, 0.03666389738961898, 0.004876155737308298, 0.04097289539016152, -0.002673948698820351, 0.007317169048845183, 0.0238026942424122, 0.04768808048861069, 0.01988443669289383, -0.01713872616441401, -0.018978377903648994, -0.040598655852530696, 0.04859011186485705, -0.010258112819632112, 0.02583651903152548, 0.000650082713119407, 0.03555706842762228, 0.042645747073994766, -0.007518505752946748, -0.037262553580022034, 0.03762173155922438, -0.048490083370274974, 0.012209736751085866, 0.01901408719687013, 0.026328152385316606, 0.01927572760306516, -0.004754800340932508, 0.030607747879483657, 0.022817604033256583, 0.03698626569705753, -0.015888149690818497, 0.002773909428612484, -0.005870180679505052, -0.04858392982837498, 0.012005207884528891, -0.02119944739991705]}, {\"line\": {\"color\": \"#4daf4a\"}, \"name\": \"virginica density\", \"type\": \"scatter\", \"x\": [-1.0, -0.9595959595959596, -0.9191919191919192, -0.8787878787878788, -0.8383838383838383, -0.797979797979798, -0.7575757575757576, -0.7171717171717171, -0.6767676767676767, -0.6363636363636364, -0.5959595959595959, -0.5555555555555556, -0.5151515151515151, -0.4747474747474747, -0.43434343434343425, -0.3939393939393939, -0.3535353535353535, -0.31313131313131304, -0.2727272727272727, -0.23232323232323226, -0.19191919191919182, -0.1515151515151515, -0.11111111111111105, -0.07070707070707061, -0.030303030303030276, 0.010101010101010166, 0.05050505050505061, 0.09090909090909105, 0.1313131313131315, 0.1717171717171717, 0.21212121212121215, 0.2525252525252526, 0.29292929292929304, 0.3333333333333335, 0.3737373737373739, 0.41414141414141437, 0.4545454545454546, 0.49494949494949503, 0.5353535353535355, 0.5757575757575759, 0.6161616161616164, 0.6565656565656568, 0.696969696969697, 0.7373737373737375, 0.7777777777777779, 0.8181818181818183, 0.8585858585858588, 0.8989898989898992, 0.9393939393939394, 0.9797979797979799, 1.0202020202020203, 1.060606060606061, 1.1010101010101012, 1.1414141414141414, 1.181818181818182, 1.2222222222222223, 1.262626262626263, 1.3030303030303032, 1.3434343434343434, 1.383838383838384, 1.4242424242424243, 1.464646464646465, 1.5050505050505052, 1.5454545454545459, 1.585858585858586, 1.6262626262626263, 1.666666666666667, 1.7070707070707072, 1.7474747474747478, 1.787878787878788, 1.8282828282828287, 1.868686868686869, 1.9090909090909092, 1.9494949494949498, 1.98989898989899, 2.0303030303030307, 2.070707070707071, 2.111111111111111, 2.151515151515152, 2.191919191919192, 2.2323232323232327, 2.272727272727273, 2.3131313131313136, 2.353535353535354, 2.393939393939394, 2.4343434343434347, 2.474747474747475, 2.5151515151515156, 2.555555555555556, 2.5959595959595965, 2.6363636363636367, 2.676767676767677, 2.7171717171717176, 2.757575757575758, 2.7979797979797985, 2.8383838383838387, 2.878787878787879, 2.9191919191919196, 2.95959595959596, 3.0], \"y\": [3.3942088784433027e-07, 5.065247596941195e-07, 7.513224277105673e-07, 1.1077020985095998e-06, 1.6232977110426856e-06, 2.3646114916138614e-06, 3.4238593216077848e-06, 4.928046788325143e-06, 7.050907887872772e-06, 1.0028484188181473e-05, 1.4179290864795792e-05, 1.9930207439027646e-05, 2.7849443946191017e-05, 3.8688164471988085e-05, 5.34325940042963e-05, 7.336868296490346e-05, 0.00010016164481486096, 0.00013595290008415104, 0.00018347713510665905, 0.00024620229119896446, 0.00032849531108305205, 0.0004358163509458836, 0.0005749438821517471, 0.0007542326175374811, 0.0009839054641732322, 0.0012763796899955115, 0.0016466261630219373, 0.0021125588542647354, 0.002695449776340614, 0.003420362162791749, 0.00431659200262186, 0.005418105079736794, 0.006763953505678319, 0.008398652485451456, 0.01037249486236458, 0.012741778022997963, 0.015568915211732181, 0.018922401434039695, 0.022876603163292927, 0.027511341256114225, 0.03291123806556326, 0.03916480293248659, 0.04636323520065134, 0.05459893074347295, 0.06396368672768431, 0.07454660988908735, 0.08643174575907793, 0.09969545973550473, 0.1144036151895417, 0.1306086083745556, 0.14834633408311132, 0.16763316903598066, 0.1884630710903455, 0.21080490072988545, 0.23460007620013243, 0.25976067442878065, 0.2861680860208044, 0.31367232383445587, 0.34209207085082527, 0.3712155344291427, 0.4008021510448381, 0.4305851589544634, 0.46027502687959304, 0.48956369591101423, 0.5181295607118115, 0.5456430861296504, 0.5717729279059097, 0.5961924026111045, 0.6185861334143855, 0.638656685768471, 0.6561310012516494, 0.6707664390413745, 0.6823562428601682, 0.6907342664683445, 0.6957788123049304, 0.6974154648480335, 0.6956188316005129, 0.6904131390558468, 0.6818716672026776, 0.6701150426791329, 0.6553084462006535, 0.6376578230429786, 0.6174052149753585, 0.594823357085978, 0.5702097026012077, 0.5438800524777876, 0.5161619738886801, 0.4873881926230116, 0.45789013901790265, 0.4279918157098961, 0.3980041388280948, 0.3682198830328426, 0.3389093359735319, 0.3103167403555923, 0.28265757300162636, 0.25611668122094927, 0.23084726859504212, 0.2069706959972117, 0.18457704022412422, 0.16372633279329288]}, {\"marker\": {\"color\": \"#ffffff\", \"line\": {\"color\": \"#4daf4a\", \"width\": 1}}, \"mode\": \"markers\", \"name\": \"virginica data\", \"opacity\": 0.7, \"type\": \"scatter\", \"x\": [2.5, 1.9, 2.1, 1.8, 2.2, 2.1, 1.7, 1.8, 1.8, 2.5, 2.0, 1.9, 2.1, 2.0, 2.4, 2.3, 1.8, 2.2, 2.3, 1.5, 2.3, 2.0, 2.0, 1.8, 2.1, 1.8, 1.8, 1.8, 2.1, 1.6, 1.9, 2.0, 2.2, 1.5, 1.4, 2.3, 2.4, 1.8, 1.8, 2.1, 2.4, 2.3, 1.9, 2.3, 2.5, 2.3, 1.9, 2.0, 2.3, 1.8], \"y\": [-0.0014910453977496699, 0.003406794649218045, -0.039947864300519435, -0.004684040878608783, -0.0025698111507675633, -0.04755509674134119, 0.004591143102494921, -0.04500029446565597, 0.00036578098361372824, -0.01961053669931716, 0.011903350261611947, 0.043842679278136495, -0.020992808703803014, 0.018726674340240904, -0.03943252664267857, -0.004658869626238835, -0.037481147182420266, -0.035930537051046645, 0.028897420342705843, 0.009459628591362922, 0.01549111272486732, 0.040914438108580226, 0.03755298294712005, -0.04198376485538115, 0.03147453587579034, 0.014711129449374, 0.002699203025205113, -0.03960361325538473, -0.015440042442028026, -0.010978545752124272, 0.049154155256247986, -0.007679390593721434, 0.036475799114430454, 0.037169934877086516, -0.03456386122605684, -0.01448496327082393, -0.025607575997794153, 0.04159924726378722, -0.04771288914003146, -0.0133271624976816, 0.027941616213915027, 0.036938666080105126, -0.04919619147912081, 0.01657039907126162, -0.01734264885270842, 0.030891603394499575, -0.012692514290018407, 0.013912236549780924, 0.028196775949631533, 0.006127823409530955]}],\n",
       "                        {\"template\": {\"data\": {\"bar\": [{\"error_x\": {\"color\": \"#2a3f5f\"}, \"error_y\": {\"color\": \"#2a3f5f\"}, \"marker\": {\"line\": {\"color\": \"white\", \"width\": 0.5}}, \"type\": \"bar\"}], \"barpolar\": [{\"marker\": {\"line\": {\"color\": \"white\", \"width\": 0.5}}, \"type\": \"barpolar\"}], \"carpet\": [{\"aaxis\": {\"endlinecolor\": \"#2a3f5f\", \"gridcolor\": \"#C8D4E3\", \"linecolor\": \"#C8D4E3\", \"minorgridcolor\": \"#C8D4E3\", \"startlinecolor\": \"#2a3f5f\"}, \"baxis\": {\"endlinecolor\": \"#2a3f5f\", \"gridcolor\": \"#C8D4E3\", \"linecolor\": \"#C8D4E3\", \"minorgridcolor\": \"#C8D4E3\", \"startlinecolor\": \"#2a3f5f\"}, \"type\": \"carpet\"}], \"choropleth\": [{\"colorbar\": {\"outlinewidth\": 0, \"ticks\": \"\"}, \"type\": \"choropleth\"}], \"contour\": [{\"colorbar\": {\"outlinewidth\": 0, \"ticks\": \"\"}, \"colorscale\": [[0.0, \"#0d0887\"], [0.1111111111111111, \"#46039f\"], [0.2222222222222222, \"#7201a8\"], [0.3333333333333333, \"#9c179e\"], [0.4444444444444444, \"#bd3786\"], [0.5555555555555556, \"#d8576b\"], [0.6666666666666666, \"#ed7953\"], [0.7777777777777778, \"#fb9f3a\"], [0.8888888888888888, \"#fdca26\"], [1.0, \"#f0f921\"]], \"type\": \"contour\"}], \"contourcarpet\": [{\"colorbar\": {\"outlinewidth\": 0, \"ticks\": \"\"}, \"type\": \"contourcarpet\"}], \"heatmap\": [{\"colorbar\": {\"outlinewidth\": 0, \"ticks\": \"\"}, \"colorscale\": [[0.0, \"#0d0887\"], [0.1111111111111111, \"#46039f\"], [0.2222222222222222, \"#7201a8\"], [0.3333333333333333, \"#9c179e\"], [0.4444444444444444, \"#bd3786\"], [0.5555555555555556, \"#d8576b\"], [0.6666666666666666, \"#ed7953\"], [0.7777777777777778, \"#fb9f3a\"], [0.8888888888888888, \"#fdca26\"], [1.0, \"#f0f921\"]], \"type\": \"heatmap\"}], \"heatmapgl\": [{\"colorbar\": {\"outlinewidth\": 0, \"ticks\": \"\"}, \"colorscale\": [[0.0, \"#0d0887\"], [0.1111111111111111, \"#46039f\"], [0.2222222222222222, \"#7201a8\"], [0.3333333333333333, \"#9c179e\"], [0.4444444444444444, \"#bd3786\"], [0.5555555555555556, \"#d8576b\"], [0.6666666666666666, \"#ed7953\"], [0.7777777777777778, \"#fb9f3a\"], [0.8888888888888888, \"#fdca26\"], [1.0, \"#f0f921\"]], \"type\": \"heatmapgl\"}], \"histogram\": [{\"marker\": {\"colorbar\": {\"outlinewidth\": 0, \"ticks\": \"\"}}, \"type\": \"histogram\"}], \"histogram2d\": [{\"colorbar\": {\"outlinewidth\": 0, \"ticks\": \"\"}, \"colorscale\": [[0.0, \"#0d0887\"], [0.1111111111111111, \"#46039f\"], [0.2222222222222222, \"#7201a8\"], [0.3333333333333333, \"#9c179e\"], [0.4444444444444444, \"#bd3786\"], [0.5555555555555556, \"#d8576b\"], [0.6666666666666666, \"#ed7953\"], [0.7777777777777778, \"#fb9f3a\"], [0.8888888888888888, \"#fdca26\"], [1.0, \"#f0f921\"]], \"type\": \"histogram2d\"}], \"histogram2dcontour\": [{\"colorbar\": {\"outlinewidth\": 0, \"ticks\": \"\"}, \"colorscale\": [[0.0, \"#0d0887\"], [0.1111111111111111, \"#46039f\"], [0.2222222222222222, \"#7201a8\"], [0.3333333333333333, \"#9c179e\"], [0.4444444444444444, \"#bd3786\"], [0.5555555555555556, \"#d8576b\"], [0.6666666666666666, \"#ed7953\"], [0.7777777777777778, \"#fb9f3a\"], [0.8888888888888888, \"#fdca26\"], [1.0, \"#f0f921\"]], \"type\": \"histogram2dcontour\"}], \"mesh3d\": [{\"colorbar\": {\"outlinewidth\": 0, \"ticks\": \"\"}, \"type\": \"mesh3d\"}], \"parcoords\": [{\"line\": {\"colorbar\": {\"outlinewidth\": 0, \"ticks\": \"\"}}, \"type\": \"parcoords\"}], \"pie\": [{\"automargin\": true, \"type\": \"pie\"}], \"scatter\": [{\"marker\": {\"colorbar\": {\"outlinewidth\": 0, \"ticks\": \"\"}}, \"type\": \"scatter\"}], \"scatter3d\": [{\"line\": {\"colorbar\": {\"outlinewidth\": 0, \"ticks\": \"\"}}, \"marker\": {\"colorbar\": {\"outlinewidth\": 0, \"ticks\": \"\"}}, \"type\": \"scatter3d\"}], \"scattercarpet\": [{\"marker\": {\"colorbar\": {\"outlinewidth\": 0, \"ticks\": \"\"}}, \"type\": \"scattercarpet\"}], \"scattergeo\": [{\"marker\": {\"colorbar\": {\"outlinewidth\": 0, \"ticks\": \"\"}}, \"type\": \"scattergeo\"}], \"scattergl\": [{\"marker\": {\"colorbar\": {\"outlinewidth\": 0, \"ticks\": \"\"}}, \"type\": \"scattergl\"}], \"scattermapbox\": [{\"marker\": {\"colorbar\": {\"outlinewidth\": 0, \"ticks\": \"\"}}, \"type\": \"scattermapbox\"}], \"scatterpolar\": [{\"marker\": {\"colorbar\": {\"outlinewidth\": 0, \"ticks\": \"\"}}, \"type\": \"scatterpolar\"}], \"scatterpolargl\": [{\"marker\": {\"colorbar\": {\"outlinewidth\": 0, \"ticks\": \"\"}}, \"type\": \"scatterpolargl\"}], \"scatterternary\": [{\"marker\": {\"colorbar\": {\"outlinewidth\": 0, \"ticks\": \"\"}}, \"type\": \"scatterternary\"}], \"surface\": [{\"colorbar\": {\"outlinewidth\": 0, \"ticks\": \"\"}, \"colorscale\": [[0.0, \"#0d0887\"], [0.1111111111111111, \"#46039f\"], [0.2222222222222222, \"#7201a8\"], [0.3333333333333333, \"#9c179e\"], [0.4444444444444444, \"#bd3786\"], [0.5555555555555556, \"#d8576b\"], [0.6666666666666666, \"#ed7953\"], [0.7777777777777778, \"#fb9f3a\"], [0.8888888888888888, \"#fdca26\"], [1.0, \"#f0f921\"]], \"type\": \"surface\"}], \"table\": [{\"cells\": {\"fill\": {\"color\": \"#EBF0F8\"}, \"line\": {\"color\": \"white\"}}, \"header\": {\"fill\": {\"color\": \"#C8D4E3\"}, \"line\": {\"color\": \"white\"}}, \"type\": \"table\"}]}, \"layout\": {\"annotationdefaults\": {\"arrowcolor\": \"#2a3f5f\", \"arrowhead\": 0, \"arrowwidth\": 1}, \"coloraxis\": {\"colorbar\": {\"outlinewidth\": 0, \"ticks\": \"\"}}, \"colorscale\": {\"diverging\": [[0, \"#8e0152\"], [0.1, \"#c51b7d\"], [0.2, \"#de77ae\"], [0.3, \"#f1b6da\"], [0.4, \"#fde0ef\"], [0.5, \"#f7f7f7\"], [0.6, \"#e6f5d0\"], [0.7, \"#b8e186\"], [0.8, \"#7fbc41\"], [0.9, \"#4d9221\"], [1, \"#276419\"]], \"sequential\": [[0.0, \"#0d0887\"], [0.1111111111111111, \"#46039f\"], [0.2222222222222222, \"#7201a8\"], [0.3333333333333333, \"#9c179e\"], [0.4444444444444444, \"#bd3786\"], [0.5555555555555556, \"#d8576b\"], [0.6666666666666666, \"#ed7953\"], [0.7777777777777778, \"#fb9f3a\"], [0.8888888888888888, \"#fdca26\"], [1.0, \"#f0f921\"]], \"sequentialminus\": [[0.0, \"#0d0887\"], [0.1111111111111111, \"#46039f\"], [0.2222222222222222, \"#7201a8\"], [0.3333333333333333, \"#9c179e\"], [0.4444444444444444, \"#bd3786\"], [0.5555555555555556, \"#d8576b\"], [0.6666666666666666, \"#ed7953\"], [0.7777777777777778, \"#fb9f3a\"], [0.8888888888888888, \"#fdca26\"], [1.0, \"#f0f921\"]]}, \"colorway\": [\"#636efa\", \"#EF553B\", \"#00cc96\", \"#ab63fa\", \"#FFA15A\", \"#19d3f3\", \"#FF6692\", \"#B6E880\", \"#FF97FF\", \"#FECB52\"], \"font\": {\"color\": \"#2a3f5f\"}, \"geo\": {\"bgcolor\": \"white\", \"lakecolor\": \"white\", \"landcolor\": \"white\", \"showlakes\": true, \"showland\": true, \"subunitcolor\": \"#C8D4E3\"}, \"hoverlabel\": {\"align\": \"left\"}, \"hovermode\": \"closest\", \"mapbox\": {\"style\": \"light\"}, \"paper_bgcolor\": \"white\", \"plot_bgcolor\": \"white\", \"polar\": {\"angularaxis\": {\"gridcolor\": \"#EBF0F8\", \"linecolor\": \"#EBF0F8\", \"ticks\": \"\"}, \"bgcolor\": \"white\", \"radialaxis\": {\"gridcolor\": \"#EBF0F8\", \"linecolor\": \"#EBF0F8\", \"ticks\": \"\"}}, \"scene\": {\"xaxis\": {\"backgroundcolor\": \"white\", \"gridcolor\": \"#DFE8F3\", \"gridwidth\": 2, \"linecolor\": \"#EBF0F8\", \"showbackground\": true, \"ticks\": \"\", \"zerolinecolor\": \"#EBF0F8\"}, \"yaxis\": {\"backgroundcolor\": \"white\", \"gridcolor\": \"#DFE8F3\", \"gridwidth\": 2, \"linecolor\": \"#EBF0F8\", \"showbackground\": true, \"ticks\": \"\", \"zerolinecolor\": \"#EBF0F8\"}, \"zaxis\": {\"backgroundcolor\": \"white\", \"gridcolor\": \"#DFE8F3\", \"gridwidth\": 2, \"linecolor\": \"#EBF0F8\", \"showbackground\": true, \"ticks\": \"\", \"zerolinecolor\": \"#EBF0F8\"}}, \"shapedefaults\": {\"line\": {\"color\": \"#2a3f5f\"}}, \"ternary\": {\"aaxis\": {\"gridcolor\": \"#DFE8F3\", \"linecolor\": \"#A2B1C6\", \"ticks\": \"\"}, \"baxis\": {\"gridcolor\": \"#DFE8F3\", \"linecolor\": \"#A2B1C6\", \"ticks\": \"\"}, \"bgcolor\": \"white\", \"caxis\": {\"gridcolor\": \"#DFE8F3\", \"linecolor\": \"#A2B1C6\", \"ticks\": \"\"}}, \"title\": {\"x\": 0.05}, \"xaxis\": {\"automargin\": true, \"gridcolor\": \"#EBF0F8\", \"linecolor\": \"#EBF0F8\", \"ticks\": \"\", \"title\": {\"standoff\": 15}, \"zerolinecolor\": \"#EBF0F8\", \"zerolinewidth\": 2}, \"yaxis\": {\"automargin\": true, \"gridcolor\": \"#EBF0F8\", \"linecolor\": \"#EBF0F8\", \"ticks\": \"\", \"title\": {\"standoff\": 15}, \"zerolinecolor\": \"#EBF0F8\", \"zerolinewidth\": 2}}}, \"title\": {\"text\": \"Petal Width Distribution By Class (h = 0.50)\"}},\n",
       "                        {\"responsive\": true}\n",
       "                    ).then(function(){\n",
       "                            \n",
       "var gd = document.getElementById('73609c56-9809-4f15-b306-80c9ee4dc6bf');\n",
       "var x = new MutationObserver(function (mutations, observer) {{\n",
       "        var display = window.getComputedStyle(gd).display;\n",
       "        if (!display || display === 'none') {{\n",
       "            console.log([gd, 'removed!']);\n",
       "            Plotly.purge(gd);\n",
       "            observer.disconnect();\n",
       "        }}\n",
       "}});\n",
       "\n",
       "// Listen for the removal of the full notebook cells\n",
       "var notebookContainer = gd.closest('#notebook-container');\n",
       "if (notebookContainer) {{\n",
       "    x.observe(notebookContainer, {childList: true});\n",
       "}}\n",
       "\n",
       "// Listen for the clearing of the current output cell\n",
       "var outputEl = gd.closest('.output');\n",
       "if (outputEl) {{\n",
       "    x.observe(outputEl, {childList: true});\n",
       "}}\n",
       "\n",
       "                        })\n",
       "                };\n",
       "                });\n",
       "            </script>\n",
       "        </div>"
      ]
     },
     "metadata": {},
     "output_type": "display_data"
    }
   ],
   "source": [
    "f50 = Parzen.plot1D(raw_data, np.linspace(-1, 3, 100), 3, 0.50, species, color_map)\n",
    "f50.update_layout(title = \"Petal Width Distribution By Class (h = 0.50)\")\n",
    "f50.show()"
   ]
  },
  {
   "cell_type": "code",
   "execution_count": 19,
   "metadata": {},
   "outputs": [
    {
     "data": {
      "text/plain": [
       "array([[2.77880369e-008, 2.95838882e-103, 0.00000000e+000,\n",
       "        0.00000000e+000],\n",
       "       [1.57678845e-053, 1.38166182e-010, 8.07278475e-083,\n",
       "        0.00000000e+000],\n",
       "       [0.00000000e+000, 6.92838206e-293, 5.55780721e+003,\n",
       "        1.95955041e-064],\n",
       "       [0.00000000e+000, 0.00000000e+000, 9.66093687e-088,\n",
       "        1.44815888e+006]])"
      ]
     },
     "execution_count": 19,
     "metadata": {},
     "output_type": "execute_result"
    }
   ],
   "source": [
    "gs = list(map(lambda obs: guassian_kernel(obs.reshape(1, 4), data, 0.3), data))\n",
    "reduce(lambda f, s: f + s, gs)"
   ]
  },
  {
   "cell_type": "markdown",
   "metadata": {},
   "source": [
    "Jesus, didn't realize that there is no training. Just like KNN, this is the damn estimator. For each training observation, calculate the gaussian kernel matrices, which are really just effectively likelihood matrices in multiple directions. Sum up the values in a matrix, and that is the score for the species in question. Then just choose the species with the largest score."
   ]
  }
 ],
 "metadata": {
  "kernelspec": {
   "display_name": "Python 3",
   "language": "python",
   "name": "python3"
  },
  "language_info": {
   "codemirror_mode": {
    "name": "ipython",
    "version": 3
   },
   "file_extension": ".py",
   "mimetype": "text/x-python",
   "name": "python",
   "nbconvert_exporter": "python",
   "pygments_lexer": "ipython3",
   "version": "3.8.0"
  }
 },
 "nbformat": 4,
 "nbformat_minor": 2
}
