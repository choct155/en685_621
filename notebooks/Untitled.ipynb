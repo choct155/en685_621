{
 "cells": [
  {
   "cell_type": "code",
   "execution_count": 61,
   "metadata": {},
   "outputs": [
    {
     "name": "stdout",
     "output_type": "stream",
     "text": [
      "value: 1\n",
      "  left: Empty\n",
      "  right: Empty\n",
      "value: 2\n",
      "  left: None\n",
      "  right: Empty\n"
     ]
    }
   ],
   "source": [
    "from dataclasses import dataclass\n",
    "from typing import Optional, TypeVar\n",
    "from numbers import Rational\n",
    "\n",
    "A = TypeVar('A')\n",
    "\n",
    "\n",
    "class BinaryTree:\n",
    "    \n",
    "#     class EmptyNode(BinaryTree):\n",
    "#         pass\n",
    "# #     empty = EmptyNode(None)\n",
    "    \n",
    "#     @dataclass\n",
    "#     class NonEmptyNode(BinaryTree):\n",
    "#         value: A\n",
    "#         left: BinaryTree\n",
    "#         right: BinaryTree\n",
    "\n",
    "    def __init__(self, value: Rational, left: Optional[BinaryTree] = None, right: Optional[BinaryTree] = None):\n",
    "        self.value: Rational = value\n",
    "        self.left: Optional[BinaryTree] = left\n",
    "        self.right: Optional[BinaryTree] = right\n",
    "            \n",
    "    def __optShow(self, t: Optional[BinaryTree]) -> None:\n",
    "        if t == None:\n",
    "            return \"Empty\"\n",
    "        else:\n",
    "            t.show()\n",
    "            \n",
    "    def show(self) -> None:\n",
    "        empty: str = \"Empty\"\n",
    "        print(f\"value: {self.value}\"\n",
    "        + f\"\\n  left: {empty if (self.left == None) else self.left.show()}\"\n",
    "        + f\"\\n  right: {empty if (self.right == None) else self.right.show()}\")\n",
    "        \n",
    "    def append(self, new_value: Rational) -> BinaryTree:\n",
    "        if new_value <= self.value:\n",
    "            if self.left == None:\n",
    "                return BinaryTree(self.value, BinaryTree(new_value, None, None))\n",
    "            else:\n",
    "                pass\n",
    "        else:\n",
    "            pass\n",
    "            \n",
    "    \n",
    "    \n",
    "bt: BinaryTree = BinaryTree(2).append(1)\n",
    "bt.show()"
   ]
  },
  {
   "cell_type": "code",
   "execution_count": 92,
   "metadata": {},
   "outputs": [
    {
     "data": {
      "text/plain": [
       "value: 4\n",
       "  left: value: 2\n",
       "  left: EMPTY\n",
       "  right: value: 3\n",
       "  left: EMPTY\n",
       "  right: EMPTY\n",
       "  right: value: 5\n",
       "  left: EMPTY\n",
       "  right: EMPTY"
      ]
     },
     "execution_count": 92,
     "metadata": {},
     "output_type": "execute_result"
    }
   ],
   "source": [
    "class Node:\n",
    "    \n",
    "    def __init__(self, value: Optional[Rational]):\n",
    "        self.value = value\n",
    "        \n",
    "class EmptyNode(Node):\n",
    "    \n",
    "    def __init__(self):\n",
    "        self.value = None\n",
    "        \n",
    "    def __str__(self):\n",
    "        return \"EMPTY\"\n",
    "    \n",
    "    def __repr__(self):\n",
    "        return self.__str__()\n",
    "    \n",
    "    def append(self, value: Rational) -> NonEmptyNode:\n",
    "        return NonEmptyNode(value)\n",
    "        \n",
    "class NonEmptyNode(Node):\n",
    "    \n",
    "    def __init__(self, value: Optional[Rational], left: Node = EmptyNode(), right: Node = EmptyNode()) -> None:\n",
    "        self.value = value\n",
    "        self.left = left\n",
    "        self.right = right\n",
    "        \n",
    "    def __str__(self) -> str:\n",
    "        return f\"value: {self.value}\\n  left: {self.left}\\n  right: {self.right}\"\n",
    "    \n",
    "    def __repr__(self) -> str:\n",
    "        return self.__str__()\n",
    "    \n",
    "    def append(self, value: Rational) -> NonEmptyNode:\n",
    "        if value <= self.value:\n",
    "            return NonEmptyNode(self.value, self.left.append(value), self.right)\n",
    "        else:\n",
    "            return NonEmptyNode(self.value, self.left, self.right.append(value))\n",
    "        \n",
    "\n",
    "NonEmptyNode(4).append(2).append(5).append(3)"
   ]
  },
  {
   "cell_type": "code",
   "execution_count": null,
   "metadata": {},
   "outputs": [],
   "source": []
  }
 ],
 "metadata": {
  "kernelspec": {
   "display_name": "Python 3.8.0 64-bit ('ipy': conda)",
   "language": "python",
   "name": "python38064bitipyconda835fb490d1e04038aa80aa14f78d3b6f"
  },
  "language_info": {
   "codemirror_mode": {
    "name": "ipython",
    "version": 3
   },
   "file_extension": ".py",
   "mimetype": "text/x-python",
   "name": "python",
   "nbconvert_exporter": "python",
   "pygments_lexer": "ipython3",
   "version": "3.8.0"
  }
 },
 "nbformat": 4,
 "nbformat_minor": 2
}
