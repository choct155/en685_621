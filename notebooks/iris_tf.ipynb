{
 "cells": [
  {
   "cell_type": "markdown",
   "metadata": {},
   "source": [
    "# Classifying Iris Species with TensorFlow"
   ]
  },
  {
   "cell_type": "code",
   "execution_count": 1,
   "metadata": {},
   "outputs": [
    {
     "data": {
      "text/plain": [
       "{'setosa': array([[5.1, 3.5, 1.4, 0.2],\n",
       "        [4.9, 3. , 1.4, 0.2],\n",
       "        [4.7, 3.2, 1.3, 0.2],\n",
       "        [4.6, 3.1, 1.5, 0.2],\n",
       "        [5. , 3.6, 1.4, 0.2],\n",
       "        [5.4, 3.9, 1.7, 0.4],\n",
       "        [4.6, 3.4, 1.4, 0.3],\n",
       "        [5. , 3.4, 1.5, 0.2],\n",
       "        [4.4, 2.9, 1.4, 0.2],\n",
       "        [4.9, 3.1, 1.5, 0.1],\n",
       "        [5.4, 3.7, 1.5, 0.2],\n",
       "        [4.8, 3.4, 1.6, 0.2],\n",
       "        [4.8, 3. , 1.4, 0.1],\n",
       "        [4.3, 3. , 1.1, 0.1],\n",
       "        [5.8, 4. , 1.2, 0.2],\n",
       "        [5.7, 4.4, 1.5, 0.4],\n",
       "        [5.4, 3.9, 1.3, 0.4],\n",
       "        [5.1, 3.5, 1.4, 0.3],\n",
       "        [5.7, 3.8, 1.7, 0.3],\n",
       "        [5.1, 3.8, 1.5, 0.3],\n",
       "        [5.4, 3.4, 1.7, 0.2],\n",
       "        [5.1, 3.7, 1.5, 0.4],\n",
       "        [4.6, 3.6, 1. , 0.2],\n",
       "        [5.1, 3.3, 1.7, 0.5],\n",
       "        [4.8, 3.4, 1.9, 0.2],\n",
       "        [5. , 3. , 1.6, 0.2],\n",
       "        [5. , 3.4, 1.6, 0.4],\n",
       "        [5.2, 3.5, 1.5, 0.2],\n",
       "        [5.2, 3.4, 1.4, 0.2],\n",
       "        [4.7, 3.2, 1.6, 0.2],\n",
       "        [4.8, 3.1, 1.6, 0.2],\n",
       "        [5.4, 3.4, 1.5, 0.4],\n",
       "        [5.2, 4.1, 1.5, 0.1],\n",
       "        [5.5, 4.2, 1.4, 0.2],\n",
       "        [4.9, 3.1, 1.5, 0.2],\n",
       "        [5. , 3.2, 1.2, 0.2],\n",
       "        [5.5, 3.5, 1.3, 0.2],\n",
       "        [4.9, 3.6, 1.4, 0.1],\n",
       "        [4.4, 3. , 1.3, 0.2],\n",
       "        [5.1, 3.4, 1.5, 0.2],\n",
       "        [5. , 3.5, 1.3, 0.3],\n",
       "        [4.5, 2.3, 1.3, 0.3],\n",
       "        [4.4, 3.2, 1.3, 0.2],\n",
       "        [5. , 3.5, 1.6, 0.6],\n",
       "        [5.1, 3.8, 1.9, 0.4],\n",
       "        [4.8, 3. , 1.4, 0.3],\n",
       "        [5.1, 3.8, 1.6, 0.2],\n",
       "        [4.6, 3.2, 1.4, 0.2],\n",
       "        [5.3, 3.7, 1.5, 0.2],\n",
       "        [5. , 3.3, 1.4, 0.2]]), 'versicolor': array([[7. , 3.2, 4.7, 1.4],\n",
       "        [6.4, 3.2, 4.5, 1.5],\n",
       "        [6.9, 3.1, 4.9, 1.5],\n",
       "        [5.5, 2.3, 4. , 1.3],\n",
       "        [6.5, 2.8, 4.6, 1.5],\n",
       "        [5.7, 2.8, 4.5, 1.3],\n",
       "        [6.3, 3.3, 4.7, 1.6],\n",
       "        [4.9, 2.4, 3.3, 1. ],\n",
       "        [6.6, 2.9, 4.6, 1.3],\n",
       "        [5.2, 2.7, 3.9, 1.4],\n",
       "        [5. , 2. , 3.5, 1. ],\n",
       "        [5.9, 3. , 4.2, 1.5],\n",
       "        [6. , 2.2, 4. , 1. ],\n",
       "        [6.1, 2.9, 4.7, 1.4],\n",
       "        [5.6, 2.9, 3.6, 1.3],\n",
       "        [6.7, 3.1, 4.4, 1.4],\n",
       "        [5.6, 3. , 4.5, 1.5],\n",
       "        [5.8, 2.7, 4.1, 1. ],\n",
       "        [6.2, 2.2, 4.5, 1.5],\n",
       "        [5.6, 2.5, 3.9, 1.1],\n",
       "        [5.9, 3.2, 4.8, 1.8],\n",
       "        [6.1, 2.8, 4. , 1.3],\n",
       "        [6.3, 2.5, 4.9, 1.5],\n",
       "        [6.1, 2.8, 4.7, 1.2],\n",
       "        [6.4, 2.9, 4.3, 1.3],\n",
       "        [6.6, 3. , 4.4, 1.4],\n",
       "        [6.8, 2.8, 4.8, 1.4],\n",
       "        [6.7, 3. , 5. , 1.7],\n",
       "        [6. , 2.9, 4.5, 1.5],\n",
       "        [5.7, 2.6, 3.5, 1. ],\n",
       "        [5.5, 2.4, 3.8, 1.1],\n",
       "        [5.5, 2.4, 3.7, 1. ],\n",
       "        [5.8, 2.7, 3.9, 1.2],\n",
       "        [6. , 2.7, 5.1, 1.6],\n",
       "        [5.4, 3. , 4.5, 1.5],\n",
       "        [6. , 3.4, 4.5, 1.6],\n",
       "        [6.7, 3.1, 4.7, 1.5],\n",
       "        [6.3, 2.3, 4.4, 1.3],\n",
       "        [5.6, 3. , 4.1, 1.3],\n",
       "        [5.5, 2.5, 4. , 1.3],\n",
       "        [5.5, 2.6, 4.4, 1.2],\n",
       "        [6.1, 3. , 4.6, 1.4],\n",
       "        [5.8, 2.6, 4. , 1.2],\n",
       "        [5. , 2.3, 3.3, 1. ],\n",
       "        [5.6, 2.7, 4.2, 1.3],\n",
       "        [5.7, 3. , 4.2, 1.2],\n",
       "        [5.7, 2.9, 4.2, 1.3],\n",
       "        [6.2, 2.9, 4.3, 1.3],\n",
       "        [5.1, 2.5, 3. , 1.1],\n",
       "        [5.7, 2.8, 4.1, 1.3]]), 'virginica': array([[6.3, 3.3, 6. , 2.5],\n",
       "        [5.8, 2.7, 5.1, 1.9],\n",
       "        [7.1, 3. , 5.9, 2.1],\n",
       "        [6.3, 2.9, 5.6, 1.8],\n",
       "        [6.5, 3. , 5.8, 2.2],\n",
       "        [7.6, 3. , 6.6, 2.1],\n",
       "        [4.9, 2.5, 4.5, 1.7],\n",
       "        [7.3, 2.9, 6.3, 1.8],\n",
       "        [6.7, 2.5, 5.8, 1.8],\n",
       "        [7.2, 3.6, 6.1, 2.5],\n",
       "        [6.5, 3.2, 5.1, 2. ],\n",
       "        [6.4, 2.7, 5.3, 1.9],\n",
       "        [6.8, 3. , 5.5, 2.1],\n",
       "        [5.7, 2.5, 5. , 2. ],\n",
       "        [5.8, 2.8, 5.1, 2.4],\n",
       "        [6.4, 3.2, 5.3, 2.3],\n",
       "        [6.5, 3. , 5.5, 1.8],\n",
       "        [7.7, 3.8, 6.7, 2.2],\n",
       "        [7.7, 2.6, 6.9, 2.3],\n",
       "        [6. , 2.2, 5. , 1.5],\n",
       "        [6.9, 3.2, 5.7, 2.3],\n",
       "        [5.6, 2.8, 4.9, 2. ],\n",
       "        [7.7, 2.8, 6.7, 2. ],\n",
       "        [6.3, 2.7, 4.9, 1.8],\n",
       "        [6.7, 3.3, 5.7, 2.1],\n",
       "        [7.2, 3.2, 6. , 1.8],\n",
       "        [6.2, 2.8, 4.8, 1.8],\n",
       "        [6.1, 3. , 4.9, 1.8],\n",
       "        [6.4, 2.8, 5.6, 2.1],\n",
       "        [7.2, 3. , 5.8, 1.6],\n",
       "        [7.4, 2.8, 6.1, 1.9],\n",
       "        [7.9, 3.8, 6.4, 2. ],\n",
       "        [6.4, 2.8, 5.6, 2.2],\n",
       "        [6.3, 2.8, 5.1, 1.5],\n",
       "        [6.1, 2.6, 5.6, 1.4],\n",
       "        [7.7, 3. , 6.1, 2.3],\n",
       "        [6.3, 3.4, 5.6, 2.4],\n",
       "        [6.4, 3.1, 5.5, 1.8],\n",
       "        [6. , 3. , 4.8, 1.8],\n",
       "        [6.9, 3.1, 5.4, 2.1],\n",
       "        [6.7, 3.1, 5.6, 2.4],\n",
       "        [6.9, 3.1, 5.1, 2.3],\n",
       "        [5.8, 2.7, 5.1, 1.9],\n",
       "        [6.8, 3.2, 5.9, 2.3],\n",
       "        [6.7, 3.3, 5.7, 2.5],\n",
       "        [6.7, 3. , 5.2, 2.3],\n",
       "        [6.3, 2.5, 5. , 1.9],\n",
       "        [6.5, 3. , 5.2, 2. ],\n",
       "        [6.2, 3.4, 5.4, 2.3],\n",
       "        [5.9, 3. , 5.1, 1.8]])}"
      ]
     },
     "execution_count": 1,
     "metadata": {},
     "output_type": "execute_result"
    }
   ],
   "source": [
    "import tensorflow as tf\n",
    "from tensorflow.data import Dataset\n",
    "from tensorflow.keras.layers import Dense, Flatten, Conv2D\n",
    "from tensorflow.keras import Model\n",
    "from algorithms.iris.Reader import IrisReader\n",
    "from algorithms.tfAlgos.DataOps import IrisPrep\n",
    "from algorithms.tfAlgos.KNN import KNN\n",
    "from typing import Dict, Tuple, Callable, List\n",
    "import pandas as pd\n",
    "import numpy as np\n",
    "from functools import reduce\n",
    "\n",
    "iris_reader: IrisReader = IrisReader()\n",
    "iris_reader.load()\n",
    "raw_data: Dict[str, np.array] = iris_reader.data\n",
    "\n",
    "raw_data"
   ]
  },
  {
   "cell_type": "markdown",
   "metadata": {},
   "source": [
    "### Create Train and Test Sets"
   ]
  },
  {
   "cell_type": "code",
   "execution_count": 2,
   "metadata": {
    "scrolled": true
   },
   "outputs": [
    {
     "name": "stdout",
     "output_type": "stream",
     "text": [
      "(<tf.Tensor: shape=(50, 4), dtype=float64, numpy=\n",
      "array([[5.2, 2.7, 3.9, 1.4],\n",
      "       [5.8, 2.8, 5.1, 2.4],\n",
      "       [5.3, 3.7, 1.5, 0.2],\n",
      "       [5.7, 4.4, 1.5, 0.4],\n",
      "       [4.7, 3.2, 1.3, 0.2],\n",
      "       [7.7, 3. , 6.1, 2.3],\n",
      "       [6.5, 2.8, 4.6, 1.5],\n",
      "       [6.6, 3. , 4.4, 1.4],\n",
      "       [6.3, 2.7, 4.9, 1.8],\n",
      "       [5.6, 2.5, 3.9, 1.1],\n",
      "       [6.2, 2.8, 4.8, 1.8],\n",
      "       [5.7, 2.6, 3.5, 1. ],\n",
      "       [4.9, 3.6, 1.4, 0.1],\n",
      "       [5. , 2. , 3.5, 1. ],\n",
      "       [6.5, 3. , 5.2, 2. ],\n",
      "       [7. , 3.2, 4.7, 1.4],\n",
      "       [5.1, 3.5, 1.4, 0.2],\n",
      "       [6.3, 2.5, 5. , 1.9],\n",
      "       [6.1, 3. , 4.9, 1.8],\n",
      "       [5. , 3.6, 1.4, 0.2],\n",
      "       [5. , 3.2, 1.2, 0.2],\n",
      "       [5.8, 2.7, 4.1, 1. ],\n",
      "       [6.9, 3.1, 4.9, 1.5],\n",
      "       [7.2, 3. , 5.8, 1.6],\n",
      "       [6.2, 3.4, 5.4, 2.3],\n",
      "       [6.4, 2.7, 5.3, 1.9],\n",
      "       [5. , 3.4, 1.5, 0.2],\n",
      "       [7.4, 2.8, 6.1, 1.9],\n",
      "       [6.7, 3. , 5. , 1.7],\n",
      "       [6.3, 3.4, 5.6, 2.4],\n",
      "       [4.3, 3. , 1.1, 0.1],\n",
      "       [4.8, 3.1, 1.6, 0.2],\n",
      "       [4.5, 2.3, 1.3, 0.3],\n",
      "       [5.1, 3.4, 1.5, 0.2],\n",
      "       [6.3, 3.3, 6. , 2.5],\n",
      "       [5.2, 3.4, 1.4, 0.2],\n",
      "       [5. , 3. , 1.6, 0.2],\n",
      "       [4.9, 2.5, 4.5, 1.7],\n",
      "       [7.9, 3.8, 6.4, 2. ],\n",
      "       [6.3, 2.5, 4.9, 1.5],\n",
      "       [7.3, 2.9, 6.3, 1.8],\n",
      "       [6.7, 3.3, 5.7, 2.1],\n",
      "       [6.7, 2.5, 5.8, 1.8],\n",
      "       [6.5, 3.2, 5.1, 2. ],\n",
      "       [5.5, 2.5, 4. , 1.3],\n",
      "       [6.3, 3.3, 4.7, 1.6],\n",
      "       [6.7, 3.1, 4.4, 1.4],\n",
      "       [4.8, 3.4, 1.9, 0.2],\n",
      "       [5.7, 2.8, 4.5, 1.3],\n",
      "       [5.5, 4.2, 1.4, 0.2]])>, <tf.Tensor: shape=(50,), dtype=string, numpy=\n",
      "array([b'versicolor', b'virginica', b'setosa', b'setosa', b'setosa',\n",
      "       b'virginica', b'versicolor', b'versicolor', b'virginica',\n",
      "       b'versicolor', b'virginica', b'versicolor', b'setosa',\n",
      "       b'versicolor', b'virginica', b'versicolor', b'setosa',\n",
      "       b'virginica', b'virginica', b'setosa', b'setosa', b'versicolor',\n",
      "       b'versicolor', b'virginica', b'virginica', b'virginica', b'setosa',\n",
      "       b'virginica', b'versicolor', b'virginica', b'setosa', b'setosa',\n",
      "       b'setosa', b'setosa', b'virginica', b'setosa', b'setosa',\n",
      "       b'virginica', b'virginica', b'versicolor', b'virginica',\n",
      "       b'virginica', b'virginica', b'virginica', b'versicolor',\n",
      "       b'versicolor', b'versicolor', b'setosa', b'versicolor', b'setosa'],\n",
      "      dtype=object)>)\n"
     ]
    }
   ],
   "source": [
    "setosa_x: np.array = raw_data[\"setosa\"]\n",
    "setosa_y: np.array = np.repeat(\"setosa\", len(setosa_x))\n",
    "versicolor_x: np.array = raw_data[\"versicolor\"]\n",
    "versicolor_y: np.array = np.repeat(\"versicolor\", len(versicolor_x))\n",
    "\n",
    "data: tf.data.Dataset = IrisPrep.combine_data([\"setosa\", \"versicolor\", \"virginica\"], raw_data)\n",
    "train, test = IrisPrep.train_test_split(data, 50)\n",
    "\n",
    "for elem in test.take(10):\n",
    "    print(elem)"
   ]
  },
  {
   "cell_type": "markdown",
   "metadata": {},
   "source": [
    "# Identify Neighborhoods"
   ]
  },
  {
   "cell_type": "code",
   "execution_count": 3,
   "metadata": {},
   "outputs": [
    {
     "data": {
      "text/plain": [
       "array([5.2, 2.7, 3.9, 1.4])"
      ]
     },
     "execution_count": 3,
     "metadata": {},
     "output_type": "execute_result"
    }
   ],
   "source": [
    "# KNN.calc_distances_to_point(\n",
    "test0 = test.take(1).map(lambda x, y: x).as_numpy_iterator().next()[0]\n",
    "test0"
   ]
  },
  {
   "cell_type": "code",
   "execution_count": 5,
   "metadata": {},
   "outputs": [
    {
     "data": {
      "text/plain": [
       "<function algorithms.tfAlgos.KNN.KNN.calc_distance_to_point.<locals>.calc_distance(pn: tensorflow.python.framework.ops.Tensor, labels: tensorflow.python.framework.ops.Tensor)>"
      ]
     },
     "execution_count": 5,
     "metadata": {},
     "output_type": "execute_result"
    }
   ],
   "source": [
    "KNN.calc_distance_to_point(test0)"
   ]
  },
  {
   "cell_type": "code",
   "execution_count": 28,
   "metadata": {},
   "outputs": [
    {
     "data": {
      "text/plain": [
       "(array([0.38729833, 3.24037035, 0.58309519, 1.52643375, 1.00995049,\n",
       "        3.8249183 , 0.3       , 1.40712473, 1.27671453, 3.04466747,\n",
       "        2.2181073 , 3.05450487, 2.86006993, 1.24096736, 3.47275107,\n",
       "        1.9       , 1.78044938, 2.59229628, 3.08868904, 3.56510869,\n",
       "        0.3       , 2.03224014, 1.8       , 2.36854386, 2.9189039 ,\n",
       "        2.53179778, 1.23693169, 3.7013511 , 2.97657521, 2.96984848,\n",
       "        2.94278779, 2.93768616, 1.17898261, 1.91572441, 0.38729833,\n",
       "        2.9240383 , 1.6881943 , 3.37490741, 2.80713377, 2.12837967,\n",
       "        0.57445626, 2.79642629, 2.83196045, 2.98998328, 0.42426407,\n",
       "        2.02484567, 0.65574385, 2.06639783, 0.87749644, 2.98998328,\n",
       "        2.98998328, 3.15436206, 2.90344623, 0.43588989, 3.77624152,\n",
       "        1.93649167, 0.7       , 2.9866369 , 1.2922848 , 0.83666003,\n",
       "        1.36381817, 1.40356688, 2.28473193, 0.98994949, 3.10322413,\n",
       "        1.26095202, 2.84604989, 2.91547595, 1.17473401, 1.22065556,\n",
       "        0.37416574, 1.09544512, 3.01662063, 2.65894716, 1.70293864,\n",
       "        2.65706605, 1.30384048, 2.84077454, 3.05614136, 1.71464282,\n",
       "        1.31529464, 0.51961524, 1.78605711, 2.98496231, 2.73313007,\n",
       "        0.6164414 , 1.55884573, 2.51793566, 2.87576077, 3.29545141,\n",
       "        0.93273791, 2.70554985, 1.61245155, 3.02158899, 2.9       ,\n",
       "        1.18321596, 3.39705755, 2.22036033, 3.27261363, 3.15594677]),\n",
       " array([b'versicolor', b'virginica', b'versicolor', b'versicolor',\n",
       "        b'versicolor', b'virginica', b'versicolor', b'virginica',\n",
       "        b'versicolor', b'setosa', b'virginica', b'setosa', b'setosa',\n",
       "        b'versicolor', b'virginica', b'virginica', b'versicolor',\n",
       "        b'virginica', b'setosa', b'virginica', b'versicolor', b'virginica',\n",
       "        b'versicolor', b'virginica', b'setosa', b'virginica', b'virginica',\n",
       "        b'virginica', b'setosa', b'setosa', b'setosa', b'setosa',\n",
       "        b'virginica', b'virginica', b'versicolor', b'setosa',\n",
       "        b'versicolor', b'setosa', b'setosa', b'virginica', b'versicolor',\n",
       "        b'setosa', b'setosa', b'setosa', b'versicolor', b'virginica',\n",
       "        b'versicolor', b'virginica', b'virginica', b'setosa', b'virginica',\n",
       "        b'virginica', b'setosa', b'versicolor', b'virginica', b'virginica',\n",
       "        b'versicolor', b'setosa', b'virginica', b'versicolor',\n",
       "        b'versicolor', b'versicolor', b'virginica', b'versicolor',\n",
       "        b'setosa', b'versicolor', b'setosa', b'setosa', b'virginica',\n",
       "        b'versicolor', b'versicolor', b'versicolor', b'setosa', b'setosa',\n",
       "        b'virginica', b'virginica', b'virginica', b'setosa', b'setosa',\n",
       "        b'virginica', b'versicolor', b'versicolor', b'virginica',\n",
       "        b'setosa', b'setosa', b'versicolor', b'versicolor', b'virginica',\n",
       "        b'setosa', b'setosa', b'versicolor', b'setosa', b'virginica',\n",
       "        b'setosa', b'setosa', b'versicolor', b'setosa', b'virginica',\n",
       "        b'setosa', b'setosa'], dtype=object))"
      ]
     },
     "execution_count": 28,
     "metadata": {},
     "output_type": "execute_result"
    }
   ],
   "source": [
    "def calc_distance(pn: tf.Tensor, label: tf.Tensor):\n",
    "    return (tf.map_fn(lambda xval: tf.norm(test0 - xval, ord=\"euclidean\"), pn), label)\n",
    "train.map(lambda x, y: calc_distance(x, y)).as_numpy_iterator().next()"
   ]
  },
  {
   "cell_type": "code",
   "execution_count": 6,
   "metadata": {
    "scrolled": true
   },
   "outputs": [
    {
     "name": "stdout",
     "output_type": "stream",
     "text": [
      "([2.7294688127912359 0.68556546004010444 2.7166155414412247 ... 1.4560219778561034 1.2727922061357855 1.2369316876852985], [\"setosa\" \"versicolor\" \"setosa\" ... \"versicolor\" \"versicolor\" \"virginica\"])\n"
     ]
    }
   ],
   "source": [
    "def value_tuple(x: tf.Tensor, y: tf.Tensor):\n",
    "    return (x, y)\n",
    "for elem in KNN.calc_distances_to_point(test0, train):#.map(value_tuple):\n",
    "    tf.print(elem)"
   ]
  },
  {
   "cell_type": "code",
   "execution_count": 9,
   "metadata": {},
   "outputs": [
    {
     "name": "stdout",
     "output_type": "stream",
     "text": [
      "(<tf.Tensor: shape=(5,), dtype=float64, numpy=array([4.00874045, 3.99249296, 3.80263067, 3.69188299, 3.31963853])>, <tf.Tensor: shape=(5,), dtype=string, numpy=\n",
      "array([b'virginica', b'virginica', b'virginica', b'virginica', b'setosa'],\n",
      "      dtype=object)>)\n"
     ]
    }
   ],
   "source": [
    "max5 = KNN.get_max_k(KNN.calc_distances_to_point(test0, train), 5)\n",
    "for elem in max5:\n",
    "    print(elem)"
   ]
  },
  {
   "cell_type": "code",
   "execution_count": 10,
   "metadata": {},
   "outputs": [
    {
     "data": {
      "text/plain": [
       "<MapDataset shapes: ((5,), (5,)), types: (tf.float64, tf.string)>"
      ]
     },
     "execution_count": 10,
     "metadata": {},
     "output_type": "execute_result"
    }
   ],
   "source": [
    "max5.map(lambda x, y: (1/x, y)).reduce((tf.float64(0), ))\n",
    "# KNN.get_max_k(dists, 5)"
   ]
  },
  {
   "cell_type": "code",
   "execution_count": null,
   "metadata": {},
   "outputs": [],
   "source": [
    "x1: tf.Tensor = tf.constant([1.,3.,2.,0.], dtype=tf.float64)\n",
    "x2: tf.Tensor = tf.constant([\"a\",\"b\",\"c\",\"d\"])\n",
    "d = Dataset.from_tensors((x1, x2))\n",
    "d.map(lambda x, y: x).as_numpy_iterator().next()"
   ]
  },
  {
   "cell_type": "code",
   "execution_count": 36,
   "metadata": {},
   "outputs": [
    {
     "name": "stdout",
     "output_type": "stream",
     "text": [
      "(array([0.30123762, 0.        , 1.03376532]), array([b'setosa', b'versicolor', b'virginica'], dtype='|S10'))\n"
     ]
    },
    {
     "data": {
      "text/plain": [
       "b'virginica'"
      ]
     },
     "execution_count": 36,
     "metadata": {},
     "output_type": "execute_result"
    }
   ],
   "source": [
    "vals = np.array([4.00874045, 3.99249296, 3.80263067, 3.69188299, 3.31963853])\n",
    "labs = np.array([b'virginica', b'virginica', b'virginica', b'virginica', b'setosa'])\n",
    "cats = [b\"setosa\", b\"versicolor\", b\"virginica\"]\n",
    "out = (np.zeros(len(cats)), np.array(cats))\n",
    "for i, v in enumerate(vals):\n",
    "    out[0][np.argwhere(out[1] == labs[i])] += 1/v \n",
    "\n",
    "print(out)\n",
    "out[1][np.argmax(out[0])]"
   ]
  },
  {
   "cell_type": "code",
   "execution_count": 44,
   "metadata": {},
   "outputs": [
    {
     "ename": "AttributeError",
     "evalue": "'bytes' object has no attribute 'encode'",
     "output_type": "error",
     "traceback": [
      "\u001b[0;31m---------------------------------------------------------------------------\u001b[0m",
      "\u001b[0;31mAttributeError\u001b[0m                            Traceback (most recent call last)",
      "\u001b[0;32m<ipython-input-44-0b686d222217>\u001b[0m in \u001b[0;36m<module>\u001b[0;34m\u001b[0m\n\u001b[1;32m      1\u001b[0m \u001b[0mcats2\u001b[0m \u001b[0;34m=\u001b[0m \u001b[0mmap\u001b[0m\u001b[0;34m(\u001b[0m\u001b[0;32mlambda\u001b[0m \u001b[0mx\u001b[0m\u001b[0;34m:\u001b[0m \u001b[0mx\u001b[0m\u001b[0;34m.\u001b[0m\u001b[0mencode\u001b[0m\u001b[0;34m(\u001b[0m\u001b[0;34m'UTF-8'\u001b[0m\u001b[0;34m)\u001b[0m\u001b[0;34m,\u001b[0m \u001b[0;34m[\u001b[0m\u001b[0;34mb\"setosa\"\u001b[0m\u001b[0;34m,\u001b[0m \u001b[0;34mb\"versicolor\"\u001b[0m\u001b[0;34m,\u001b[0m \u001b[0;34mb\"virginica\"\u001b[0m\u001b[0;34m]\u001b[0m\u001b[0;34m)\u001b[0m\u001b[0;34m\u001b[0m\u001b[0;34m\u001b[0m\u001b[0m\n\u001b[0;32m----> 2\u001b[0;31m \u001b[0mlist\u001b[0m\u001b[0;34m(\u001b[0m\u001b[0mcats2\u001b[0m\u001b[0;34m)\u001b[0m\u001b[0;34m\u001b[0m\u001b[0;34m\u001b[0m\u001b[0m\n\u001b[0m",
      "\u001b[0;32m<ipython-input-44-0b686d222217>\u001b[0m in \u001b[0;36m<lambda>\u001b[0;34m(x)\u001b[0m\n\u001b[0;32m----> 1\u001b[0;31m \u001b[0mcats2\u001b[0m \u001b[0;34m=\u001b[0m \u001b[0mmap\u001b[0m\u001b[0;34m(\u001b[0m\u001b[0;32mlambda\u001b[0m \u001b[0mx\u001b[0m\u001b[0;34m:\u001b[0m \u001b[0mx\u001b[0m\u001b[0;34m.\u001b[0m\u001b[0mencode\u001b[0m\u001b[0;34m(\u001b[0m\u001b[0;34m'UTF-8'\u001b[0m\u001b[0;34m)\u001b[0m\u001b[0;34m,\u001b[0m \u001b[0;34m[\u001b[0m\u001b[0;34mb\"setosa\"\u001b[0m\u001b[0;34m,\u001b[0m \u001b[0;34mb\"versicolor\"\u001b[0m\u001b[0;34m,\u001b[0m \u001b[0;34mb\"virginica\"\u001b[0m\u001b[0;34m]\u001b[0m\u001b[0;34m)\u001b[0m\u001b[0;34m\u001b[0m\u001b[0;34m\u001b[0m\u001b[0m\n\u001b[0m\u001b[1;32m      2\u001b[0m \u001b[0mlist\u001b[0m\u001b[0;34m(\u001b[0m\u001b[0mcats2\u001b[0m\u001b[0;34m)\u001b[0m\u001b[0;34m\u001b[0m\u001b[0;34m\u001b[0m\u001b[0m\n",
      "\u001b[0;31mAttributeError\u001b[0m: 'bytes' object has no attribute 'encode'"
     ]
    }
   ],
   "source": [
    "cats2 = map(lambda x: x.encode('UTF-8'), [\"setosa\", \"versicolor\", \"virginica\"])\n",
    "list(cats2)"
   ]
  },
  {
   "cell_type": "code",
   "execution_count": 30,
   "metadata": {},
   "outputs": [
    {
     "data": {
      "text/plain": [
       "b'virginica'"
      ]
     },
     "execution_count": 30,
     "metadata": {},
     "output_type": "execute_result"
    }
   ],
   "source": [
    "b'virginica'"
   ]
  },
  {
   "cell_type": "code",
   "execution_count": null,
   "metadata": {},
   "outputs": [],
   "source": [
    "t = tf.constant(list(dataset.as_numpy_iterator()))\n",
    "tf.print(t)\n",
    "tk = tf.math.top_k(t, 10, sorted=True)\n",
    "vals, idxs = tf.math.top_k(t, 10, sorted=True)\n",
    "tf.print(tk)\n",
    "tf.gather(t, tk.indices)"
   ]
  }
 ],
 "metadata": {
  "kernelspec": {
   "display_name": "Python 3.8.0 64-bit ('ipy': conda)",
   "language": "python",
   "name": "python38064bitipyconda835fb490d1e04038aa80aa14f78d3b6f"
  },
  "language_info": {
   "codemirror_mode": {
    "name": "ipython",
    "version": 3
   },
   "file_extension": ".py",
   "mimetype": "text/x-python",
   "name": "python",
   "nbconvert_exporter": "python",
   "pygments_lexer": "ipython3",
   "version": "3.8.0"
  }
 },
 "nbformat": 4,
 "nbformat_minor": 2
}
