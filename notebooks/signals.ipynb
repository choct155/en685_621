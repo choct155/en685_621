{
 "cells": [
  {
   "cell_type": "markdown",
   "metadata": {},
   "source": [
    "# Signals\n",
    "\n",
    "This notebook is just a scratch space to see if we really could implement Signals a la [Functional Reactive Programming with Scala](https://www.coursera.org/learn/progfun2/lecture/5lWVa/lecture-4-3-a-simple-frp-implementation)."
   ]
  },
  {
   "cell_type": "code",
   "execution_count": 2,
   "metadata": {},
   "outputs": [],
   "source": [
    "from typing import Callable, List, TypeVar\n",
    "T = TypeVar(\"T\")\n",
    "\n",
    "class Signal:\n",
    "    \n",
    "    def __init__(self, expr: Callable[[], T]) -> None:\n",
    "        self.expr = expr\n",
    "        \n",
    "    def apply(self) -> T:\n",
    "        return self.expr()\n",
    "    \n",
    "class Var(Signal):\n",
    "    \n",
    "    def __init__(self, expr: Callable[[], T]) -> None:\n",
    "        self.expr = expr\n",
    "        \n",
    "    def update(self, expr: Callable[[], T]) -> None:\n",
    "        pass"
   ]
  },
  {
   "cell_type": "code",
   "execution_count": null,
   "metadata": {},
   "outputs": [],
   "source": []
  }
 ],
 "metadata": {
  "kernelspec": {
   "display_name": "Python 3.8.0 64-bit ('ipy': conda)",
   "language": "python",
   "name": "python38064bitipyconda835fb490d1e04038aa80aa14f78d3b6f"
  },
  "language_info": {
   "codemirror_mode": {
    "name": "ipython",
    "version": 3
   },
   "file_extension": ".py",
   "mimetype": "text/x-python",
   "name": "python",
   "nbconvert_exporter": "python",
   "pygments_lexer": "ipython3",
   "version": "3.8.0"
  }
 },
 "nbformat": 4,
 "nbformat_minor": 2
}
